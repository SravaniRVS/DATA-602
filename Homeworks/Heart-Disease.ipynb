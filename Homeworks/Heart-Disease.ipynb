{
 "cells": [
  {
   "cell_type": "markdown",
   "metadata": {},
   "source": [
    "# $\\color{ForestGreen}{\\text{Heart Disease Dataset}}$"
   ]
  },
  {
   "cell_type": "code",
   "execution_count": 1,
   "metadata": {},
   "outputs": [],
   "source": [
    "# Importing basic libraries\n",
    "\n",
    "import numpy as np\n",
    "import pandas as pd\n",
    "import matplotlib.pyplot as plt\n",
    "%matplotlib inline\n",
    "import seaborn as sns"
   ]
  },
  {
   "cell_type": "code",
   "execution_count": 2,
   "metadata": {},
   "outputs": [
    {
     "data": {
      "text/plain": [
       "(1025, 14)"
      ]
     },
     "execution_count": 2,
     "metadata": {},
     "output_type": "execute_result"
    }
   ],
   "source": [
    "# Loading the dataset\n",
    "\n",
    "heart_df = pd.read_csv('../Week-6/heart.csv')     # Reading the csv source file as a dataframe\n",
    "heart_df.shape"
   ]
  },
  {
   "cell_type": "code",
   "execution_count": 3,
   "metadata": {},
   "outputs": [
    {
     "data": {
      "text/html": [
       "<div>\n",
       "<style scoped>\n",
       "    .dataframe tbody tr th:only-of-type {\n",
       "        vertical-align: middle;\n",
       "    }\n",
       "\n",
       "    .dataframe tbody tr th {\n",
       "        vertical-align: top;\n",
       "    }\n",
       "\n",
       "    .dataframe thead th {\n",
       "        text-align: right;\n",
       "    }\n",
       "</style>\n",
       "<table border=\"1\" class=\"dataframe\">\n",
       "  <thead>\n",
       "    <tr style=\"text-align: right;\">\n",
       "      <th></th>\n",
       "      <th>age</th>\n",
       "      <th>sex</th>\n",
       "      <th>cp</th>\n",
       "      <th>trestbps</th>\n",
       "      <th>chol</th>\n",
       "      <th>fbs</th>\n",
       "      <th>restecg</th>\n",
       "      <th>thalach</th>\n",
       "      <th>exang</th>\n",
       "      <th>oldpeak</th>\n",
       "      <th>slope</th>\n",
       "      <th>ca</th>\n",
       "      <th>thal</th>\n",
       "      <th>target</th>\n",
       "    </tr>\n",
       "  </thead>\n",
       "  <tbody>\n",
       "    <tr>\n",
       "      <th>11</th>\n",
       "      <td>43</td>\n",
       "      <td>0</td>\n",
       "      <td>0</td>\n",
       "      <td>132</td>\n",
       "      <td>341</td>\n",
       "      <td>1</td>\n",
       "      <td>0</td>\n",
       "      <td>136</td>\n",
       "      <td>1</td>\n",
       "      <td>3.0</td>\n",
       "      <td>1</td>\n",
       "      <td>0</td>\n",
       "      <td>3</td>\n",
       "      <td>0</td>\n",
       "    </tr>\n",
       "    <tr>\n",
       "      <th>670</th>\n",
       "      <td>61</td>\n",
       "      <td>0</td>\n",
       "      <td>0</td>\n",
       "      <td>130</td>\n",
       "      <td>330</td>\n",
       "      <td>0</td>\n",
       "      <td>0</td>\n",
       "      <td>169</td>\n",
       "      <td>0</td>\n",
       "      <td>0.0</td>\n",
       "      <td>2</td>\n",
       "      <td>0</td>\n",
       "      <td>2</td>\n",
       "      <td>0</td>\n",
       "    </tr>\n",
       "    <tr>\n",
       "      <th>526</th>\n",
       "      <td>62</td>\n",
       "      <td>0</td>\n",
       "      <td>0</td>\n",
       "      <td>160</td>\n",
       "      <td>164</td>\n",
       "      <td>0</td>\n",
       "      <td>0</td>\n",
       "      <td>145</td>\n",
       "      <td>0</td>\n",
       "      <td>6.2</td>\n",
       "      <td>0</td>\n",
       "      <td>3</td>\n",
       "      <td>3</td>\n",
       "      <td>0</td>\n",
       "    </tr>\n",
       "    <tr>\n",
       "      <th>605</th>\n",
       "      <td>71</td>\n",
       "      <td>0</td>\n",
       "      <td>2</td>\n",
       "      <td>110</td>\n",
       "      <td>265</td>\n",
       "      <td>1</td>\n",
       "      <td>0</td>\n",
       "      <td>130</td>\n",
       "      <td>0</td>\n",
       "      <td>0.0</td>\n",
       "      <td>2</td>\n",
       "      <td>1</td>\n",
       "      <td>2</td>\n",
       "      <td>1</td>\n",
       "    </tr>\n",
       "    <tr>\n",
       "      <th>862</th>\n",
       "      <td>59</td>\n",
       "      <td>1</td>\n",
       "      <td>3</td>\n",
       "      <td>170</td>\n",
       "      <td>288</td>\n",
       "      <td>0</td>\n",
       "      <td>0</td>\n",
       "      <td>159</td>\n",
       "      <td>0</td>\n",
       "      <td>0.2</td>\n",
       "      <td>1</td>\n",
       "      <td>0</td>\n",
       "      <td>3</td>\n",
       "      <td>0</td>\n",
       "    </tr>\n",
       "  </tbody>\n",
       "</table>\n",
       "</div>"
      ],
      "text/plain": [
       "     age  sex  cp  trestbps  chol  fbs  restecg  thalach  exang  oldpeak  \\\n",
       "11    43    0   0       132   341    1        0      136      1      3.0   \n",
       "670   61    0   0       130   330    0        0      169      0      0.0   \n",
       "526   62    0   0       160   164    0        0      145      0      6.2   \n",
       "605   71    0   2       110   265    1        0      130      0      0.0   \n",
       "862   59    1   3       170   288    0        0      159      0      0.2   \n",
       "\n",
       "     slope  ca  thal  target  \n",
       "11       1   0     3       0  \n",
       "670      2   0     2       0  \n",
       "526      0   3     3       0  \n",
       "605      2   1     2       1  \n",
       "862      1   0     3       0  "
      ]
     },
     "execution_count": 3,
     "metadata": {},
     "output_type": "execute_result"
    }
   ],
   "source": [
    "# Displaying a sample of 5 rows \n",
    "\n",
    "heart_df.sample(5)"
   ]
  },
  {
   "cell_type": "code",
   "execution_count": 4,
   "metadata": {},
   "outputs": [
    {
     "name": "stdout",
     "output_type": "stream",
     "text": [
      "Size of class 0: 499\n",
      "Size of class 1: 526\n",
      "Size of the dataset: 1025\n"
     ]
    }
   ],
   "source": [
    "# Finding the size of each class\n",
    "\n",
    "print('Size of class 0:', len(heart_df[heart_df['target']==0]))\n",
    "print('Size of class 1:', len(heart_df[heart_df['target']==1]))\n",
    "print('Size of the dataset:', len(heart_df))"
   ]
  },
  {
   "cell_type": "code",
   "execution_count": 5,
   "metadata": {},
   "outputs": [],
   "source": [
    "# Breaking features to continuous and categorical ones\n",
    "\n",
    "cont_features = ['age', 'trestbps', 'chol', 'thalach', 'oldpeak']\n",
    "cat_features = ['sex', 'cp', 'fbs', 'restecg', 'exang', 'slope', 'ca', 'thal']"
   ]
  },
  {
   "cell_type": "markdown",
   "metadata": {},
   "source": [
    "## $\\color{ForestGreen}{\\text{LDA Classifier}}$"
   ]
  },
  {
   "cell_type": "code",
   "execution_count": 6,
   "metadata": {},
   "outputs": [],
   "source": [
    "# Defining the continuous features and the target of the model\n",
    "\n",
    "X = heart_df[cont_features].values     # Features\n",
    "y = heart_df['target'].values          # Target "
   ]
  },
  {
   "cell_type": "code",
   "execution_count": 7,
   "metadata": {},
   "outputs": [],
   "source": [
    "# Breaking the data into train and test subsets\n",
    "\n",
    "from sklearn.model_selection import train_test_split\n",
    "\n",
    "X_train, X_test, y_train, y_test = train_test_split(X, y, test_size=0.2, random_state=3)"
   ]
  },
  {
   "cell_type": "code",
   "execution_count": 8,
   "metadata": {},
   "outputs": [
    {
     "data": {
      "text/plain": [
       "LinearDiscriminantAnalysis()"
      ]
     },
     "execution_count": 8,
     "metadata": {},
     "output_type": "execute_result"
    }
   ],
   "source": [
    "# Loading 'LinearDiscriminantAnalysis' from 'discriminant_analysis' module\n",
    "\n",
    "from sklearn.discriminant_analysis import LinearDiscriminantAnalysis\n",
    "\n",
    "lda_clf = LinearDiscriminantAnalysis()     # Instantiating the lda classifier\n",
    "lda_clf.fit(X_train, y_train)              # Fitting the train data"
   ]
  },
  {
   "cell_type": "code",
   "execution_count": 9,
   "metadata": {},
   "outputs": [],
   "source": [
    "# Finding the predictions of the lda classifier for train and test subsets \n",
    "\n",
    "train_y_pred = lda_clf.predict(X_train)\n",
    "test_y_pred = lda_clf.predict(X_test)"
   ]
  },
  {
   "cell_type": "code",
   "execution_count": 10,
   "metadata": {},
   "outputs": [
    {
     "name": "stdout",
     "output_type": "stream",
     "text": [
      "LDA Train Classification Report: \n",
      "\n",
      "               precision    recall  f1-score   support\n",
      "\n",
      "           0       0.75      0.67      0.71       393\n",
      "           1       0.72      0.79      0.75       427\n",
      "\n",
      "    accuracy                           0.73       820\n",
      "   macro avg       0.73      0.73      0.73       820\n",
      "weighted avg       0.73      0.73      0.73       820\n",
      " \n",
      "\n",
      "\n",
      "LDA Test Classification Report: \n",
      "\n",
      "               precision    recall  f1-score   support\n",
      "\n",
      "           0       0.77      0.68      0.72       106\n",
      "           1       0.70      0.79      0.74        99\n",
      "\n",
      "    accuracy                           0.73       205\n",
      "   macro avg       0.74      0.73      0.73       205\n",
      "weighted avg       0.74      0.73      0.73       205\n",
      "\n"
     ]
    }
   ],
   "source": [
    "from sklearn import metrics\n",
    "from sklearn.metrics import confusion_matrix, classification_report\n",
    "\n",
    "train_score = metrics.accuracy_score(y_train, train_y_pred)   # Compute train accuracy\n",
    "test_score = metrics.accuracy_score(y_test, test_y_pred)      # Compute test accuracy\n",
    "train_report = classification_report(y_train, train_y_pred)   # Generate classification report for train data\n",
    "test_report = classification_report(y_test, test_y_pred)      # Generate classification report for test data\n",
    "\n",
    "print('LDA Train Classification Report: \\n\\n', train_report,'\\n\\n')\n",
    "print('LDA Test Classification Report: \\n\\n', test_report)"
   ]
  },
  {
   "cell_type": "code",
   "execution_count": 11,
   "metadata": {},
   "outputs": [
    {
     "data": {
      "image/png": "[encoded data removed]",
      "text/plain": [
       "<Figure size 288x288 with 2 Axes>"
      ]
     },
     "metadata": {
      "needs_background": "light"
     },
     "output_type": "display_data"
    }
   ],
   "source": [
    "# Computing lda confusion matrix\n",
    "\n",
    "lda_c_matrix = confusion_matrix(y_test, test_y_pred)\n",
    "\n",
    "plt.figure(figsize=(4,4))\n",
    "sns.heatmap(lda_c_matrix, annot=True, fmt=\".0f\", linewidths=.5, square = True, cmap = 'Pastel1');\n",
    "plt.ylabel('Actual label');\n",
    "plt.xlabel('Predicted label');\n",
    "all_sample_title = 'Accuracy Score: {0}'.format(round(test_score, 4))\n",
    "plt.title(all_sample_title, size = 15);\n",
    "plt.show()"
   ]
  },
  {
   "cell_type": "code",
   "execution_count": 12,
   "metadata": {},
   "outputs": [
    {
     "data": {
      "text/plain": [
       "array([[0.30021508, 0.69978492],\n",
       "       [0.93966887, 0.06033113],\n",
       "       [0.4298973 , 0.5701027 ],\n",
       "       [0.20552261, 0.79447739],\n",
       "       [0.96683158, 0.03316842],\n",
       "       [0.11631539, 0.88368461],\n",
       "       [0.94422695, 0.05577305],\n",
       "       [0.29751903, 0.70248097],\n",
       "       [0.15567848, 0.84432152],\n",
       "       [0.7987805 , 0.2012195 ]])"
      ]
     },
     "execution_count": 12,
     "metadata": {},
     "output_type": "execute_result"
    }
   ],
   "source": [
    "# Finding probabilities of test instances predicted by lda classifier\n",
    "\n",
    "lda_clf.predict_proba(X_test[:10])"
   ]
  },
  {
   "cell_type": "code",
   "execution_count": 13,
   "metadata": {},
   "outputs": [
    {
     "data": {
      "image/png": "[encoded data removed]",
      "text/plain": [
       "<Figure size 504x360 with 1 Axes>"
      ]
     },
     "metadata": {
      "needs_background": "light"
     },
     "output_type": "display_data"
    }
   ],
   "source": [
    "# Plotting the ROC curve for the test subset\n",
    "\n",
    "from sklearn.metrics import roc_curve, auc   # Importing 'roc_curve' and 'auc' from sklearn\n",
    "\n",
    "fpr, tpr, thresholds = roc_curve(test_y_pred, y_test)  # Computing ROC for the test subset\n",
    "auc(fpr, tpr)                                          # Computing AUC for the test subset \n",
    "\n",
    "plt.figure(figsize=(7, 5))\n",
    "plt.plot(fpr, tpr, color='red', label='LDA (AUC: %.2f)'\n",
    "% auc(fpr, tpr))\n",
    "plt.plot([0, 1], [0, 1], color='blue', linestyle='--')\n",
    "plt.xlim([0.0, 1.0])\n",
    "plt.ylim([0.0, 1.01])\n",
    "plt.title('ROC Curve for the Test Subset')\n",
    "plt.xlabel('False Positive Rate (FPR)')\n",
    "plt.ylabel('True Positive Rate (TPR)')\n",
    "plt.legend()\n",
    "plt.show()"
   ]
  },
  {
   "cell_type": "markdown",
   "metadata": {},
   "source": [
    "## $\\color{ForestGreen}{\\text{QDA Classifier}}$"
   ]
  },
  {
   "cell_type": "code",
   "execution_count": 14,
   "metadata": {},
   "outputs": [
    {
     "data": {
      "text/plain": [
       "QuadraticDiscriminantAnalysis()"
      ]
     },
     "execution_count": 14,
     "metadata": {},
     "output_type": "execute_result"
    }
   ],
   "source": [
    "# Loading 'QuadraticDiscriminantAnalysis' from 'discriminant_analysis' module\n",
    "\n",
    "from sklearn.discriminant_analysis import QuadraticDiscriminantAnalysis\n",
    "\n",
    "qda_clf = QuadraticDiscriminantAnalysis()      # Instantiating the QDA classifier\n",
    "qda_clf.fit(X_train, y_train)                  # Fitting the training data"
   ]
  },
  {
   "cell_type": "code",
   "execution_count": 15,
   "metadata": {},
   "outputs": [],
   "source": [
    "# Finding predictions of qda classifier for the train and test subsets\n",
    "\n",
    "train_y_pred = qda_clf.predict(X_train)\n",
    "test_y_pred = qda_clf.predict(X_test)"
   ]
  },
  {
   "cell_type": "code",
   "execution_count": 16,
   "metadata": {},
   "outputs": [
    {
     "name": "stdout",
     "output_type": "stream",
     "text": [
      "QDA Train Classification Report: \n",
      "\n",
      "               precision    recall  f1-score   support\n",
      "\n",
      "           0       0.77      0.62      0.69       393\n",
      "           1       0.70      0.82      0.76       427\n",
      "\n",
      "    accuracy                           0.73       820\n",
      "   macro avg       0.73      0.72      0.72       820\n",
      "weighted avg       0.73      0.73      0.72       820\n",
      " \n",
      "\n",
      "\n",
      "QDA Test Classification Report: \n",
      "\n",
      "               precision    recall  f1-score   support\n",
      "\n",
      "           0       0.82      0.64      0.72       106\n",
      "           1       0.69      0.85      0.76        99\n",
      "\n",
      "    accuracy                           0.74       205\n",
      "   macro avg       0.75      0.74      0.74       205\n",
      "weighted avg       0.76      0.74      0.74       205\n",
      "\n"
     ]
    }
   ],
   "source": [
    "train_score = metrics.accuracy_score(y_train, train_y_pred)   # Compute train accuracy\n",
    "test_score = metrics.accuracy_score(y_test, test_y_pred)      # Compute test accuracy\n",
    "train_report = classification_report(y_train, train_y_pred)   # Generate classification report for train data\n",
    "test_report = classification_report(y_test, test_y_pred)      # Generate classification report for test data\n",
    "\n",
    "print('QDA Train Classification Report: \\n\\n', train_report,'\\n\\n')\n",
    "print('QDA Test Classification Report: \\n\\n', test_report)"
   ]
  },
  {
   "cell_type": "code",
   "execution_count": 17,
   "metadata": {},
   "outputs": [
    {
     "data": {
      "image/png": "[encoded data removed]",
      "text/plain": [
       "<Figure size 288x288 with 2 Axes>"
      ]
     },
     "metadata": {
      "needs_background": "light"
     },
     "output_type": "display_data"
    }
   ],
   "source": [
    "# Computing qda confusion matrix\n",
    "\n",
    "qda_c_matrix = confusion_matrix(y_test, test_y_pred)\n",
    "\n",
    "plt.figure(figsize=(4,4))\n",
    "sns.heatmap(qda_c_matrix, annot=True, fmt=\".0f\", linewidths=.5, square = True, cmap = 'Pastel1');\n",
    "plt.ylabel('Actual label');\n",
    "plt.xlabel('Predicted label');\n",
    "all_sample_title = 'Accuracy Score: {0}'.format(round(test_score, 4))\n",
    "plt.title(all_sample_title, size = 15);\n",
    "plt.show()"
   ]
  },
  {
   "cell_type": "code",
   "execution_count": 18,
   "metadata": {},
   "outputs": [
    {
     "data": {
      "text/plain": [
       "array([[2.70666853e-01, 7.29333147e-01],\n",
       "       [9.97776264e-01, 2.22373646e-03],\n",
       "       [3.48804989e-01, 6.51195011e-01],\n",
       "       [2.54502320e-01, 7.45497680e-01],\n",
       "       [9.99937959e-01, 6.20405126e-05],\n",
       "       [1.68813082e-01, 8.31186918e-01],\n",
       "       [9.98154274e-01, 1.84572552e-03],\n",
       "       [3.89295184e-01, 6.10704816e-01],\n",
       "       [1.32045208e-01, 8.67954792e-01],\n",
       "       [6.51547154e-01, 3.48452846e-01]])"
      ]
     },
     "execution_count": 18,
     "metadata": {},
     "output_type": "execute_result"
    }
   ],
   "source": [
    "# Finding probabilities of test instances predicted by qda classifier\n",
    "\n",
    "qda_clf.predict_proba(X_test[:10])"
   ]
  },
  {
   "cell_type": "code",
   "execution_count": 19,
   "metadata": {},
   "outputs": [
    {
     "data": {
      "image/png": "[encoded data removed]",
      "text/plain": [
       "<Figure size 504x360 with 1 Axes>"
      ]
     },
     "metadata": {
      "needs_background": "light"
     },
     "output_type": "display_data"
    }
   ],
   "source": [
    "# Plotting the ROC curve for the test subset\n",
    "\n",
    "from sklearn.metrics import roc_curve, auc   # Importing 'roc_curve' and 'auc' from sklearn\n",
    "\n",
    "fpr, tpr, thresholds = roc_curve(test_y_pred, y_test)  # Computing ROC for the test subset\n",
    "auc(fpr, tpr)                                          # Computing AUC for the test subset \n",
    "\n",
    "plt.figure(figsize=(7, 5))\n",
    "plt.plot(fpr, tpr, color='red', label='QDA (AUC: %.2f)'\n",
    "% auc(fpr, tpr))\n",
    "plt.plot([0, 1], [0, 1], color='blue', linestyle='--')\n",
    "plt.xlim([0.0, 1.0])\n",
    "plt.ylim([0.0, 1.01])\n",
    "plt.title('ROC Curve for the Test Subset')\n",
    "plt.xlabel('False Positive Rate (FPR)')\n",
    "plt.ylabel('True Positive Rate (TPR)')\n",
    "plt.legend()\n",
    "plt.show()"
   ]
  },
  {
   "cell_type": "markdown",
   "metadata": {},
   "source": [
    "## $\\color{ForestGreen}{\\text{Logistic Regression}}$"
   ]
  },
  {
   "cell_type": "code",
   "execution_count": 20,
   "metadata": {},
   "outputs": [],
   "source": [
    "from sklearn.linear_model import LogisticRegression   # Importing Logistic Regression from sklearn\n",
    "\n",
    "logreg = LogisticRegression(penalty = 'none', max_iter = 10000) # Instantiating logistic regression \n",
    "\n",
    "logreg.fit(X_train, y_train)  # Fitting the train data to 'logreg'\n",
    "\n",
    "train_y_pred = logreg.predict_proba(X_train).argmax(axis=1)  # Predicting the class for train set\n",
    "test_y_pred = logreg.predict_proba(X_test).argmax(axis=1)    # Predicting the class for test set"
   ]
  },
  {
   "cell_type": "code",
   "execution_count": 21,
   "metadata": {},
   "outputs": [
    {
     "name": "stdout",
     "output_type": "stream",
     "text": [
      "Logistic Regression Train Classification Report: \n",
      "\n",
      "               precision    recall  f1-score   support\n",
      "\n",
      "           0       0.74      0.67      0.70       393\n",
      "           1       0.72      0.78      0.75       427\n",
      "\n",
      "    accuracy                           0.73       820\n",
      "   macro avg       0.73      0.73      0.73       820\n",
      "weighted avg       0.73      0.73      0.73       820\n",
      " \n",
      "\n",
      "\n",
      "Logistic Regression Test Classification Report: \n",
      "\n",
      "               precision    recall  f1-score   support\n",
      "\n",
      "           0       0.77      0.68      0.72       106\n",
      "           1       0.70      0.79      0.74        99\n",
      "\n",
      "    accuracy                           0.73       205\n",
      "   macro avg       0.74      0.73      0.73       205\n",
      "weighted avg       0.74      0.73      0.73       205\n",
      "\n"
     ]
    }
   ],
   "source": [
    "train_score = metrics.accuracy_score(y_train, train_y_pred)   # Compute train accuracy\n",
    "test_score = metrics.accuracy_score(y_test, test_y_pred)      # Compute test accuracy\n",
    "train_report = classification_report(y_train, train_y_pred)   # Generate classification report for train data\n",
    "test_report = classification_report(y_test, test_y_pred)      # Generate classification report for test data\n",
    "\n",
    "print('Logistic Regression Train Classification Report: \\n\\n', train_report,'\\n\\n')\n",
    "print('Logistic Regression Test Classification Report: \\n\\n', test_report)"
   ]
  },
  {
   "cell_type": "markdown",
   "metadata": {},
   "source": [
    "## $\\color{ForestGreen}{\\text{Gaussian Naive Bayes Classifier}}$"
   ]
  },
  {
   "cell_type": "code",
   "execution_count": 22,
   "metadata": {},
   "outputs": [
    {
     "data": {
      "text/plain": [
       "GaussianNB()"
      ]
     },
     "execution_count": 22,
     "metadata": {},
     "output_type": "execute_result"
    }
   ],
   "source": [
    "# Loading GaussianNB from naive_bayes module\n",
    "\n",
    "from sklearn.naive_bayes import GaussianNB\n",
    "\n",
    "gnb_clf = GaussianNB()            # Instantiating the gaussian naive Bayes classifier\n",
    "gnb_clf.fit(X_train, y_train)     # Fitting the training data"
   ]
  },
  {
   "cell_type": "code",
   "execution_count": 23,
   "metadata": {},
   "outputs": [],
   "source": [
    "# Finding the predictions of gaussian naive Bayes for train and test subsets\n",
    "\n",
    "train_y_pred = gnb_clf.predict(X_train)\n",
    "test_y_pred = gnb_clf.predict(X_test)"
   ]
  },
  {
   "cell_type": "code",
   "execution_count": 24,
   "metadata": {},
   "outputs": [
    {
     "name": "stdout",
     "output_type": "stream",
     "text": [
      "Gaussian NB Train Classification Report: \n",
      "\n",
      "               precision    recall  f1-score   support\n",
      "\n",
      "           0       0.75      0.65      0.70       393\n",
      "           1       0.71      0.80      0.75       427\n",
      "\n",
      "    accuracy                           0.73       820\n",
      "   macro avg       0.73      0.72      0.72       820\n",
      "weighted avg       0.73      0.73      0.73       820\n",
      " \n",
      "\n",
      "\n",
      "Gaussian NB Test Classification Report: \n",
      "\n",
      "               precision    recall  f1-score   support\n",
      "\n",
      "           0       0.79      0.67      0.72       106\n",
      "           1       0.70      0.81      0.75        99\n",
      "\n",
      "    accuracy                           0.74       205\n",
      "   macro avg       0.74      0.74      0.74       205\n",
      "weighted avg       0.74      0.74      0.74       205\n",
      "\n"
     ]
    }
   ],
   "source": [
    "train_score = metrics.accuracy_score(y_train, train_y_pred)   # Compute train accuracy\n",
    "test_score = metrics.accuracy_score(y_test, test_y_pred)      # Compute test accuracy\n",
    "train_report = classification_report(y_train, train_y_pred)   # Generate classification report for train data\n",
    "test_report = classification_report(y_test, test_y_pred)      # Generate classification report for test data\n",
    "\n",
    "print('Gaussian NB Train Classification Report: \\n\\n', train_report,'\\n\\n')\n",
    "print('Gaussian NB Test Classification Report: \\n\\n', test_report)"
   ]
  },
  {
   "cell_type": "markdown",
   "metadata": {},
   "source": [
    "## $\\color{ForestGreen}{\\text{Multinomial Naive Bayes Classifier}}$"
   ]
  },
  {
   "cell_type": "code",
   "execution_count": 25,
   "metadata": {},
   "outputs": [],
   "source": [
    "# Defining the features and the target of the model\n",
    "\n",
    "X = heart_df[cat_features].values     # Features\n",
    "y = heart_df['target'].values      # Target "
   ]
  },
  {
   "cell_type": "code",
   "execution_count": 26,
   "metadata": {},
   "outputs": [],
   "source": [
    "# Breaking the data into train and test subsets\n",
    "\n",
    "from sklearn.model_selection import train_test_split\n",
    "\n",
    "X_train, X_test, y_train, y_test = train_test_split(X, y, test_size=0.2, random_state=3)"
   ]
  },
  {
   "cell_type": "code",
   "execution_count": 27,
   "metadata": {},
   "outputs": [
    {
     "data": {
      "text/plain": [
       "MultinomialNB()"
      ]
     },
     "execution_count": 27,
     "metadata": {},
     "output_type": "execute_result"
    }
   ],
   "source": [
    "# Loading MultinomialNB from naive_bayes module\n",
    "\n",
    "from sklearn.naive_bayes import MultinomialNB\n",
    "\n",
    "mnb_clf = MultinomialNB()        # Instantiating the multinomial naive Bayes classifier\n",
    "mnb_clf.fit(X_train, y_train)    # Fitting the training data"
   ]
  },
  {
   "cell_type": "code",
   "execution_count": 28,
   "metadata": {},
   "outputs": [],
   "source": [
    "# Finding the predictions of multinomial naive Bayes for train and test subsets\n",
    "\n",
    "train_y_pred = mnb_clf.predict(X_train)\n",
    "test_y_pred = mnb_clf.predict(X_test)"
   ]
  },
  {
   "cell_type": "code",
   "execution_count": 29,
   "metadata": {},
   "outputs": [
    {
     "name": "stdout",
     "output_type": "stream",
     "text": [
      "Multinomial NB Train Classification Report: \n",
      "\n",
      "               precision    recall  f1-score   support\n",
      "\n",
      "           0       0.82      0.75      0.78       393\n",
      "           1       0.79      0.84      0.81       427\n",
      "\n",
      "    accuracy                           0.80       820\n",
      "   macro avg       0.80      0.80      0.80       820\n",
      "weighted avg       0.80      0.80      0.80       820\n",
      " \n",
      "\n",
      "\n",
      "Multinomial NB Test Classification Report: \n",
      "\n",
      "               precision    recall  f1-score   support\n",
      "\n",
      "           0       0.88      0.77      0.82       106\n",
      "           1       0.79      0.89      0.83        99\n",
      "\n",
      "    accuracy                           0.83       205\n",
      "   macro avg       0.83      0.83      0.83       205\n",
      "weighted avg       0.84      0.83      0.83       205\n",
      "\n"
     ]
    }
   ],
   "source": [
    "train_score = metrics.accuracy_score(y_train, train_y_pred)   # Compute train accuracy\n",
    "test_score = metrics.accuracy_score(y_test, test_y_pred)      # Compute test accuracy\n",
    "train_report = classification_report(y_train, train_y_pred)   # Generate classification report for train data\n",
    "test_report = classification_report(y_test, test_y_pred)      # Generate classification report for test data\n",
    "\n",
    "print('Multinomial NB Train Classification Report: \\n\\n', train_report,'\\n\\n')\n",
    "print('Multinomial NB Test Classification Report: \\n\\n', test_report)"
   ]
  },
  {
   "cell_type": "code",
   "execution_count": 30,
   "metadata": {},
   "outputs": [
    {
     "data": {
      "text/plain": [
       "array([[0.32915793, 0.67084207],\n",
       "       [0.9643044 , 0.0356956 ],\n",
       "       [0.45677321, 0.54322679],\n",
       "       [0.650121  , 0.349879  ],\n",
       "       [0.97859976, 0.02140024],\n",
       "       [0.17884102, 0.82115898],\n",
       "       [0.97097415, 0.02902585],\n",
       "       [0.05501977, 0.94498023],\n",
       "       [0.78371278, 0.21628722],\n",
       "       [0.25682063, 0.74317937]])"
      ]
     },
     "execution_count": 30,
     "metadata": {},
     "output_type": "execute_result"
    }
   ],
   "source": [
    "# Finding probabilities of test instances predicted by multinomial naive Bayes classifier\n",
    "\n",
    "mnb_clf.predict_proba(X_test[:10])"
   ]
  },
  {
   "cell_type": "code",
   "execution_count": 31,
   "metadata": {},
   "outputs": [
    {
     "data": {
      "image/png": "[encoded data removed]",
      "text/plain": [
       "<Figure size 288x288 with 2 Axes>"
      ]
     },
     "metadata": {
      "needs_background": "light"
     },
     "output_type": "display_data"
    }
   ],
   "source": [
    "# Computing multinomial naive Bayes confusion matrix\n",
    "\n",
    "mnb_c_matrix = confusion_matrix(y_test, test_y_pred)\n",
    "\n",
    "plt.figure(figsize=(4,4))\n",
    "sns.heatmap(mnb_c_matrix, annot=True, fmt=\".0f\", linewidths=.5, square = True, cmap = 'Pastel1');\n",
    "plt.ylabel('Actual label');\n",
    "plt.xlabel('Predicted label');\n",
    "all_sample_title = 'Accuracy Score: {0}'.format(round(test_score, 4))\n",
    "plt.title(all_sample_title, size = 15);\n",
    "plt.show()"
   ]
  },
  {
   "cell_type": "code",
   "execution_count": 32,
   "metadata": {},
   "outputs": [
    {
     "data": {
      "image/png": "[encoded data removed]",
      "text/plain": [
       "<Figure size 504x360 with 1 Axes>"
      ]
     },
     "metadata": {
      "needs_background": "light"
     },
     "output_type": "display_data"
    }
   ],
   "source": [
    "# Plotting the ROC curve for the test subset\n",
    "\n",
    "from sklearn.metrics import roc_curve, auc   # Importing 'roc_curve' and 'auc' from sklearn\n",
    "\n",
    "fpr, tpr, thresholds = roc_curve(test_y_pred, y_test)  # Computing ROC for the test subset\n",
    "auc(fpr, tpr)                                          # Computing AUC for the test subset \n",
    "\n",
    "plt.figure(figsize=(7, 5))\n",
    "plt.plot(fpr, tpr, color='red', label='Multinomial Naive Bayes (AUC: %.2f)'\n",
    "% auc(fpr, tpr))\n",
    "plt.plot([0, 1], [0, 1], color='blue', linestyle='--')\n",
    "plt.xlim([0.0, 1.0])\n",
    "plt.ylim([0.0, 1.01])\n",
    "plt.title('ROC Curve for the Test Subset')\n",
    "plt.xlabel('False Positive Rate (FPR)')\n",
    "plt.ylabel('True Positive Rate (TPR)')\n",
    "plt.legend()\n",
    "plt.show()"
   ]
  },
  {
   "cell_type": "code",
   "execution_count": null,
   "metadata": {},
   "outputs": [],
   "source": []
  }
 ],
 "metadata": {
  "kernelspec": {
   "display_name": "Python 3",
   "language": "python",
   "name": "python3"
  },
  "language_info": {
   "codemirror_mode": {
    "name": "ipython",
    "version": 3
   },
   "file_extension": ".py",
   "mimetype": "text/x-python",
   "name": "python",
   "nbconvert_exporter": "python",
   "pygments_lexer": "ipython3",
   "version": "3.9.1"
  }
 },
 "nbformat": 4,
 "nbformat_minor": 4
}
