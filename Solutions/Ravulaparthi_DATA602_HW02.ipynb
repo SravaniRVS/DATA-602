{
  "cells": [
    {
      "cell_type": "markdown",
      "id": "061e54d0",
      "metadata": {
        "id": "061e54d0"
      },
      "source": [
        "# Question 1"
      ]
    },
    {
      "cell_type": "markdown",
      "id": "127a1f1a",
      "metadata": {
        "id": "127a1f1a"
      },
      "source": [
        "### a. What actions on your dataset would you consider to take in order to improve the performance of the model?\n",
        "Data quality can be improved in order to enhance model's performance through:\n",
        "\n",
        "\n",
        "1.  Imputing Missing values.\n",
        "2.  Removing unnecessary variables.\n",
        "3.  Scalling of the data.\n",
        "4.  Vectorization of the textual data.\n",
        "5.  Removing of outliers in the data.\n",
        "\n",
        "\n",
        "\n",
        "\n",
        "\n",
        "\n",
        "\n",
        "\n",
        "\n",
        "\n",
        "\n",
        "\n"
      ]
    },
    {
      "cell_type": "markdown",
      "id": "9e0a1787",
      "metadata": {
        "id": "9e0a1787"
      },
      "source": [
        "### b. What would you consider to try for the existing algorithm to improve the performance of the model? Hint: Think about hyperparameters.\n",
        "\n",
        "\n",
        "<p align=\"justify\">\n",
        "The only way to improve an existing model it parameter tuning. Finding the best value for each parameter is the goal of parameter tuning in order to increase the model's accuracy. You must have a solid grasp of the significance of each parameter and how it affects the model individually in order to fine-tune it. This procedure may be repeated with several effective models.\n",
        "</p>\n",
        "\n"
      ]
    },
    {
      "cell_type": "markdown",
      "id": "9cdb830b",
      "metadata": {
        "id": "9cdb830b"
      },
      "source": [
        "### c. What other algorithms would you consider to try in this case? Why? Explain.\n",
        "\n",
        "\n",
        "<p align=\"justify\">\n",
        "I am also capable of doing the task of tuning the parameters of a decision tree. The scikit-learn algorithm, the CART algorithm, has a preferred range of min samples split values that varies from dataset to dataset. The min-samples-split method controls over-fitting. Values beyond this threshold prevent a model from discovering connections that are very specific to the training sample. You may play about with the min samples split values to find a happy medium between underfitting and overfitting. Underfitting may also occur at too high numbers.\n",
        "</p>"
      ]
    },
    {
      "cell_type": "markdown",
      "id": "fe3de3b6",
      "metadata": {
        "id": "fe3de3b6"
      },
      "source": [
        "# Question 2"
      ]
    },
    {
      "cell_type": "markdown",
      "id": "64d75d87",
      "metadata": {
        "id": "64d75d87"
      },
      "source": [
        "### a. Mixed Naive Bayes Classifier"
      ]
    },
    {
      "cell_type": "code",
      "execution_count": 66,
      "id": "39be1a2e",
      "metadata": {
        "colab": {
          "base_uri": "https://localhost:8080/",
          "height": 206
        },
        "id": "39be1a2e",
        "outputId": "15f9fb71-2295-4487-a076-505b3128828e"
      },
      "outputs": [
        {
          "output_type": "execute_result",
          "data": {
            "text/plain": [
              "   age  sex  cp  trestbps  chol  fbs  restecg  thalach  exang  oldpeak  slope  \\\n",
              "0   52    1   0       125   212    0        1      168      0      1.0      2   \n",
              "1   53    1   0       140   203    1        0      155      1      3.1      0   \n",
              "2   70    1   0       145   174    0        1      125      1      2.6      0   \n",
              "3   61    1   0       148   203    0        1      161      0      0.0      2   \n",
              "4   62    0   0       138   294    1        1      106      0      1.9      1   \n",
              "\n",
              "   ca  thal  target  \n",
              "0   2     3       0  \n",
              "1   0     3       0  \n",
              "2   0     3       0  \n",
              "3   1     3       0  \n",
              "4   3     2       0  "
            ],
            "text/html": [
              "\n",
              "  <div id=\"df-c638894b-90fa-4c4e-8bb0-98714f61669a\">\n",
              "    <div class=\"colab-df-container\">\n",
              "      <div>\n",
              "<style scoped>\n",
              "    .dataframe tbody tr th:only-of-type {\n",
              "        vertical-align: middle;\n",
              "    }\n",
              "\n",
              "    .dataframe tbody tr th {\n",
              "        vertical-align: top;\n",
              "    }\n",
              "\n",
              "    .dataframe thead th {\n",
              "        text-align: right;\n",
              "    }\n",
              "</style>\n",
              "<table border=\"1\" class=\"dataframe\">\n",
              "  <thead>\n",
              "    <tr style=\"text-align: right;\">\n",
              "      <th></th>\n",
              "      <th>age</th>\n",
              "      <th>sex</th>\n",
              "      <th>cp</th>\n",
              "      <th>trestbps</th>\n",
              "      <th>chol</th>\n",
              "      <th>fbs</th>\n",
              "      <th>restecg</th>\n",
              "      <th>thalach</th>\n",
              "      <th>exang</th>\n",
              "      <th>oldpeak</th>\n",
              "      <th>slope</th>\n",
              "      <th>ca</th>\n",
              "      <th>thal</th>\n",
              "      <th>target</th>\n",
              "    </tr>\n",
              "  </thead>\n",
              "  <tbody>\n",
              "    <tr>\n",
              "      <th>0</th>\n",
              "      <td>52</td>\n",
              "      <td>1</td>\n",
              "      <td>0</td>\n",
              "      <td>125</td>\n",
              "      <td>212</td>\n",
              "      <td>0</td>\n",
              "      <td>1</td>\n",
              "      <td>168</td>\n",
              "      <td>0</td>\n",
              "      <td>1.0</td>\n",
              "      <td>2</td>\n",
              "      <td>2</td>\n",
              "      <td>3</td>\n",
              "      <td>0</td>\n",
              "    </tr>\n",
              "    <tr>\n",
              "      <th>1</th>\n",
              "      <td>53</td>\n",
              "      <td>1</td>\n",
              "      <td>0</td>\n",
              "      <td>140</td>\n",
              "      <td>203</td>\n",
              "      <td>1</td>\n",
              "      <td>0</td>\n",
              "      <td>155</td>\n",
              "      <td>1</td>\n",
              "      <td>3.1</td>\n",
              "      <td>0</td>\n",
              "      <td>0</td>\n",
              "      <td>3</td>\n",
              "      <td>0</td>\n",
              "    </tr>\n",
              "    <tr>\n",
              "      <th>2</th>\n",
              "      <td>70</td>\n",
              "      <td>1</td>\n",
              "      <td>0</td>\n",
              "      <td>145</td>\n",
              "      <td>174</td>\n",
              "      <td>0</td>\n",
              "      <td>1</td>\n",
              "      <td>125</td>\n",
              "      <td>1</td>\n",
              "      <td>2.6</td>\n",
              "      <td>0</td>\n",
              "      <td>0</td>\n",
              "      <td>3</td>\n",
              "      <td>0</td>\n",
              "    </tr>\n",
              "    <tr>\n",
              "      <th>3</th>\n",
              "      <td>61</td>\n",
              "      <td>1</td>\n",
              "      <td>0</td>\n",
              "      <td>148</td>\n",
              "      <td>203</td>\n",
              "      <td>0</td>\n",
              "      <td>1</td>\n",
              "      <td>161</td>\n",
              "      <td>0</td>\n",
              "      <td>0.0</td>\n",
              "      <td>2</td>\n",
              "      <td>1</td>\n",
              "      <td>3</td>\n",
              "      <td>0</td>\n",
              "    </tr>\n",
              "    <tr>\n",
              "      <th>4</th>\n",
              "      <td>62</td>\n",
              "      <td>0</td>\n",
              "      <td>0</td>\n",
              "      <td>138</td>\n",
              "      <td>294</td>\n",
              "      <td>1</td>\n",
              "      <td>1</td>\n",
              "      <td>106</td>\n",
              "      <td>0</td>\n",
              "      <td>1.9</td>\n",
              "      <td>1</td>\n",
              "      <td>3</td>\n",
              "      <td>2</td>\n",
              "      <td>0</td>\n",
              "    </tr>\n",
              "  </tbody>\n",
              "</table>\n",
              "</div>\n",
              "      <button class=\"colab-df-convert\" onclick=\"convertToInteractive('df-c638894b-90fa-4c4e-8bb0-98714f61669a')\"\n",
              "              title=\"Convert this dataframe to an interactive table.\"\n",
              "              style=\"display:none;\">\n",
              "        \n",
              "  <svg xmlns=\"http://www.w3.org/2000/svg\" height=\"24px\"viewBox=\"0 0 24 24\"\n",
              "       width=\"24px\">\n",
              "    <path d=\"M0 0h24v24H0V0z\" fill=\"none\"/>\n",
              "    <path d=\"M18.56 5.44l.94 2.06.94-2.06 2.06-.94-2.06-.94-.94-2.06-.94 2.06-2.06.94zm-11 1L8.5 8.5l.94-2.06 2.06-.94-2.06-.94L8.5 2.5l-.94 2.06-2.06.94zm10 10l.94 2.06.94-2.06 2.06-.94-2.06-.94-.94-2.06-.94 2.06-2.06.94z\"/><path d=\"M17.41 7.96l-1.37-1.37c-.4-.4-.92-.59-1.43-.59-.52 0-1.04.2-1.43.59L10.3 9.45l-7.72 7.72c-.78.78-.78 2.05 0 2.83L4 21.41c.39.39.9.59 1.41.59.51 0 1.02-.2 1.41-.59l7.78-7.78 2.81-2.81c.8-.78.8-2.07 0-2.86zM5.41 20L4 18.59l7.72-7.72 1.47 1.35L5.41 20z\"/>\n",
              "  </svg>\n",
              "      </button>\n",
              "      \n",
              "  <style>\n",
              "    .colab-df-container {\n",
              "      display:flex;\n",
              "      flex-wrap:wrap;\n",
              "      gap: 12px;\n",
              "    }\n",
              "\n",
              "    .colab-df-convert {\n",
              "      background-color: #E8F0FE;\n",
              "      border: none;\n",
              "      border-radius: 50%;\n",
              "      cursor: pointer;\n",
              "      display: none;\n",
              "      fill: #1967D2;\n",
              "      height: 32px;\n",
              "      padding: 0 0 0 0;\n",
              "      width: 32px;\n",
              "    }\n",
              "\n",
              "    .colab-df-convert:hover {\n",
              "      background-color: #E2EBFA;\n",
              "      box-shadow: 0px 1px 2px rgba(60, 64, 67, 0.3), 0px 1px 3px 1px rgba(60, 64, 67, 0.15);\n",
              "      fill: #174EA6;\n",
              "    }\n",
              "\n",
              "    [theme=dark] .colab-df-convert {\n",
              "      background-color: #3B4455;\n",
              "      fill: #D2E3FC;\n",
              "    }\n",
              "\n",
              "    [theme=dark] .colab-df-convert:hover {\n",
              "      background-color: #434B5C;\n",
              "      box-shadow: 0px 1px 3px 1px rgba(0, 0, 0, 0.15);\n",
              "      filter: drop-shadow(0px 1px 2px rgba(0, 0, 0, 0.3));\n",
              "      fill: #FFFFFF;\n",
              "    }\n",
              "  </style>\n",
              "\n",
              "      <script>\n",
              "        const buttonEl =\n",
              "          document.querySelector('#df-c638894b-90fa-4c4e-8bb0-98714f61669a button.colab-df-convert');\n",
              "        buttonEl.style.display =\n",
              "          google.colab.kernel.accessAllowed ? 'block' : 'none';\n",
              "\n",
              "        async function convertToInteractive(key) {\n",
              "          const element = document.querySelector('#df-c638894b-90fa-4c4e-8bb0-98714f61669a');\n",
              "          const dataTable =\n",
              "            await google.colab.kernel.invokeFunction('convertToInteractive',\n",
              "                                                     [key], {});\n",
              "          if (!dataTable) return;\n",
              "\n",
              "          const docLinkHtml = 'Like what you see? Visit the ' +\n",
              "            '<a target=\"_blank\" href=https://colab.research.google.com/notebooks/data_table.ipynb>data table notebook</a>'\n",
              "            + ' to learn more about interactive tables.';\n",
              "          element.innerHTML = '';\n",
              "          dataTable['output_type'] = 'display_data';\n",
              "          await google.colab.output.renderOutput(dataTable, element);\n",
              "          const docLink = document.createElement('div');\n",
              "          docLink.innerHTML = docLinkHtml;\n",
              "          element.appendChild(docLink);\n",
              "        }\n",
              "      </script>\n",
              "    </div>\n",
              "  </div>\n",
              "  "
            ]
          },
          "metadata": {},
          "execution_count": 66
        }
      ],
      "source": [
        "import pandas as pd\n",
        "import numpy as np\n",
        "data_H= pd.read_csv('https://raw.githubusercontent.com/SravaniRVS/DATA602/main/Homeworks/heart.csv')\n",
        "data_H.head()"
      ]
    },
    {
      "cell_type": "code",
      "execution_count": 67,
      "id": "1144716b",
      "metadata": {
        "colab": {
          "base_uri": "https://localhost:8080/"
        },
        "id": "1144716b",
        "outputId": "1d3bc9b3-7b0b-4b13-d219-0b643d661adc"
      },
      "outputs": [
        {
          "output_type": "stream",
          "name": "stdout",
          "text": [
            "<class 'pandas.core.frame.DataFrame'>\n",
            "RangeIndex: 1025 entries, 0 to 1024\n",
            "Data columns (total 14 columns):\n",
            " #   Column    Non-Null Count  Dtype  \n",
            "---  ------    --------------  -----  \n",
            " 0   age       1025 non-null   int64  \n",
            " 1   sex       1025 non-null   int64  \n",
            " 2   cp        1025 non-null   int64  \n",
            " 3   trestbps  1025 non-null   int64  \n",
            " 4   chol      1025 non-null   int64  \n",
            " 5   fbs       1025 non-null   int64  \n",
            " 6   restecg   1025 non-null   int64  \n",
            " 7   thalach   1025 non-null   int64  \n",
            " 8   exang     1025 non-null   int64  \n",
            " 9   oldpeak   1025 non-null   float64\n",
            " 10  slope     1025 non-null   int64  \n",
            " 11  ca        1025 non-null   int64  \n",
            " 12  thal      1025 non-null   int64  \n",
            " 13  target    1025 non-null   int64  \n",
            "dtypes: float64(1), int64(13)\n",
            "memory usage: 112.2 KB\n"
          ]
        }
      ],
      "source": [
        "data_H.info()"
      ]
    },
    {
      "cell_type": "code",
      "source": [
        "!pip install mixed-naive-bayes\n"
      ],
      "metadata": {
        "colab": {
          "base_uri": "https://localhost:8080/"
        },
        "id": "PyHxuLLwpfxS",
        "outputId": "4d6595fd-ad49-4469-fa16-76f109339f8d"
      },
      "id": "PyHxuLLwpfxS",
      "execution_count": 68,
      "outputs": [
        {
          "output_type": "stream",
          "name": "stdout",
          "text": [
            "Looking in indexes: https://pypi.org/simple, https://us-python.pkg.dev/colab-wheels/public/simple/\n",
            "Requirement already satisfied: mixed-naive-bayes in /usr/local/lib/python3.7/dist-packages (0.0.2)\n",
            "Requirement already satisfied: scikit-learn>=0.20.2 in /usr/local/lib/python3.7/dist-packages (from mixed-naive-bayes) (1.0.2)\n",
            "Requirement already satisfied: numpy>=1.16.1 in /usr/local/lib/python3.7/dist-packages (from mixed-naive-bayes) (1.21.6)\n",
            "Requirement already satisfied: scipy>=1.1.0 in /usr/local/lib/python3.7/dist-packages (from scikit-learn>=0.20.2->mixed-naive-bayes) (1.7.3)\n",
            "Requirement already satisfied: threadpoolctl>=2.0.0 in /usr/local/lib/python3.7/dist-packages (from scikit-learn>=0.20.2->mixed-naive-bayes) (3.1.0)\n",
            "Requirement already satisfied: joblib>=0.11 in /usr/local/lib/python3.7/dist-packages (from scikit-learn>=0.20.2->mixed-naive-bayes) (1.2.0)\n"
          ]
        }
      ]
    },
    {
      "cell_type": "code",
      "execution_count": 69,
      "id": "afe4c452",
      "metadata": {
        "id": "afe4c452"
      },
      "outputs": [],
      "source": [
        "from mixed_naive_bayes import MixedNB\n",
        "from sklearn.preprocessing import LabelEncoder\n",
        "   \n",
        "cat= ['sex','cp','fbs','restecg','exang','slope','ca','thal']\n",
        "for i in cat:\n",
        "    label_encoder = LabelEncoder()\n",
        "    data_H[i] = label_encoder.fit_transform(data_H[i])"
      ]
    },
    {
      "cell_type": "code",
      "execution_count": 70,
      "id": "cb5e5f6e",
      "metadata": {
        "id": "cb5e5f6e"
      },
      "outputs": [],
      "source": [
        "from sklearn.model_selection import train_test_split\n",
        "\n",
        "X= data_H.drop(columns= ['target'])\n",
        "y= data_H.target\n",
        "\n",
        "X_train, X_test, y_train, y_test = train_test_split(X, y, test_size=0.2, random_state=42)"
      ]
    },
    {
      "cell_type": "code",
      "execution_count": 71,
      "id": "0e472cc5",
      "metadata": {
        "colab": {
          "base_uri": "https://localhost:8080/"
        },
        "id": "0e472cc5",
        "outputId": "3721906a-6b22-411d-fd98-f2fa4c512cbb"
      },
      "outputs": [
        {
          "output_type": "stream",
          "name": "stdout",
          "text": [
            "Train Classification report:\n",
            "               precision    recall  f1-score   support\n",
            "\n",
            "           0       0.87      0.85      0.86       397\n",
            "           1       0.86      0.88      0.87       423\n",
            "\n",
            "    accuracy                           0.86       820\n",
            "   macro avg       0.86      0.86      0.86       820\n",
            "weighted avg       0.86      0.86      0.86       820\n",
            "\n",
            "Test Classification report:\n",
            "               precision    recall  f1-score   support\n",
            "\n",
            "           0       0.88      0.75      0.81       102\n",
            "           1       0.79      0.89      0.84       103\n",
            "\n",
            "    accuracy                           0.82       205\n",
            "   macro avg       0.83      0.82      0.82       205\n",
            "weighted avg       0.83      0.82      0.82       205\n",
            "\n"
          ]
        }
      ],
      "source": [
        "from sklearn.metrics import classification_report\n",
        "\n",
        "model = MixedNB(categorical_features=[1,2,5,6,8,10, 11,12])\n",
        "model.fit(X_train,y_train)\n",
        "\n",
        "y_pred_test= model.predict(X_test)\n",
        "y_pred_train= model.predict(X_train)\n",
        "\n",
        "## get accuracy score, and other validation metrics\n",
        "print(\"Train Classification report:\\n\", classification_report(y_train,y_pred_train))\n",
        "\n",
        "print(\"Test Classification report:\\n\", classification_report(y_test,y_pred_test))\n"
      ]
    },
    {
      "cell_type": "markdown",
      "source": [
        "### b.\n",
        "\n"
      ],
      "metadata": {
        "id": "4FqSERmnDB7G"
      },
      "id": "4FqSERmnDB7G"
    },
    {
      "cell_type": "markdown",
      "source": [
        "<p align=\"justify\">\n",
        "In terms of preformance, the mixed naive bayes classifier above performed way above average. It has the accuracy of 82% which is good for any classification model. However, its performance is below that of Gaussian Naibe Bayes classifier.\n",
        "</p>"
      ],
      "metadata": {
        "id": "PuYl_YvwDSyv"
      },
      "id": "PuYl_YvwDSyv"
    },
    {
      "cell_type": "markdown",
      "source": [
        "###c."
      ],
      "metadata": {
        "id": "-arsKuOaDNA5"
      },
      "id": "-arsKuOaDNA5"
    },
    {
      "cell_type": "markdown",
      "source": [
        "<p align=\"justify\">\n",
        "Data that is produced using both artificial intelligence (synthetic data) and actual occurrences is known as hybrid data.\n",
        "\n",
        "LDA/GDA has no straightforward generalization because they work well when supplied tabula data. \n",
        "</p>"
      ],
      "metadata": {
        "id": "oULAhmtXDLwu"
      },
      "id": "oULAhmtXDLwu"
    },
    {
      "cell_type": "markdown",
      "id": "0fd95672",
      "metadata": {
        "id": "0fd95672"
      },
      "source": [
        "# Question 3"
      ]
    },
    {
      "cell_type": "markdown",
      "id": "201792ea",
      "metadata": {
        "id": "201792ea"
      },
      "source": [
        "### a. Spliting the dataset"
      ]
    },
    {
      "cell_type": "code",
      "execution_count": 72,
      "id": "6a18d1b6",
      "metadata": {
        "id": "6a18d1b6"
      },
      "outputs": [],
      "source": [
        "LDA_QDA_Toy_Data= pd.read_csv('https://raw.githubusercontent.com/SravaniRVS/DATA602/main/Homeworks/LDA-QDA-Toy-Data.csv', index_col=0)\n",
        "\n",
        "cat= ['$x_1$', '$x_2$','$y$']\n",
        "for x in cat:\n",
        "    label_encoder = LabelEncoder()\n",
        "    LDA_QDA_Toy_Data[x] = label_encoder.fit_transform(LDA_QDA_Toy_Data[x])\n",
        "    \n",
        "\n",
        "X1= LDA_QDA_Toy_Data.drop(columns= ['$y$'])\n",
        "y1= LDA_QDA_Toy_Data['$y$']\n",
        "\n",
        "X1_train, X1_test, y1_train, y1_test = train_test_split(X1, y1, test_size=0.25, random_state=42)\n"
      ]
    },
    {
      "cell_type": "markdown",
      "id": "8c4767d4",
      "metadata": {
        "id": "8c4767d4"
      },
      "source": [
        "### b. Training and prediction"
      ]
    },
    {
      "cell_type": "code",
      "execution_count": null,
      "id": "e8a895b8",
      "metadata": {
        "id": "e8a895b8"
      },
      "outputs": [],
      "source": [
        "from sklearn.discriminant_analysis import LinearDiscriminantAnalysis\n",
        "lda = LinearDiscriminantAnalysis()\n",
        "lda.fit(X1_train, y1_train)\n",
        "\n",
        "test1_y_pred= lda.predict(X1_test)\n",
        "test1_y_pred"
      ]
    },
    {
      "cell_type": "code",
      "execution_count": null,
      "id": "72c37b16",
      "metadata": {
        "id": "72c37b16"
      },
      "outputs": [],
      "source": [
        "from sklearn.discriminant_analysis import QuadraticDiscriminantAnalysis \n",
        "\n",
        "QDA_Model= QuadraticDiscriminantAnalysis()\n",
        "\n",
        "QDA_Model.fit(X1_train,y1_train)\n",
        "\n",
        "test2_y_pred= QDA_Model.predict(X1_test)\n",
        "test2_y_pred"
      ]
    },
    {
      "cell_type": "markdown",
      "source": [
        "### c. Calculate the relevant accuracy metrics by presenting the classi cation report for both train and test subsets. Assess the two classi ers and contrast their performances."
      ],
      "metadata": {
        "id": "8c-ihjHmlxCn"
      },
      "id": "8c-ihjHmlxCn"
    },
    {
      "cell_type": "code",
      "execution_count": 108,
      "id": "5fe7770f",
      "metadata": {
        "scrolled": true,
        "colab": {
          "base_uri": "https://localhost:8080/"
        },
        "id": "5fe7770f",
        "outputId": "801576f9-02bc-4429-c848-0a4be53620ba"
      },
      "outputs": [
        {
          "output_type": "stream",
          "name": "stdout",
          "text": [
            "LDA Accuracy: 0.564 \n",
            "\n",
            "LDA Classification report:\n",
            "               precision    recall  f1-score   support\n",
            "\n",
            "           0       0.60      0.65      0.63       422\n",
            "           1       0.50      0.45      0.48       328\n",
            "\n",
            "    accuracy                           0.56       750\n",
            "   macro avg       0.55      0.55      0.55       750\n",
            "weighted avg       0.56      0.56      0.56       750\n",
            "\n",
            "QDA Accuracy: 0.9546666666666667 \n",
            "\n",
            "QDA Classification report:\n",
            "               precision    recall  f1-score   support\n",
            "\n",
            "           0       0.94      0.98      0.96       422\n",
            "           1       0.97      0.93      0.95       328\n",
            "\n",
            "    accuracy                           0.95       750\n",
            "   macro avg       0.96      0.95      0.95       750\n",
            "weighted avg       0.96      0.95      0.95       750\n",
            "\n"
          ]
        }
      ],
      "source": [
        "## get accuracy score, and other validation metrics\n",
        "print(\"LDA Accuracy:\", metrics.accuracy_score(y1_test, test1_y_pred),'\\n')\n",
        "print(\"LDA Classification report:\\n\", classification_report(y1_test,test1_y_pred))\n",
        "\n",
        "print(\"QDA Accuracy:\", metrics.accuracy_score(y1_test, test2_y_pred),'\\n')\n",
        "print(\"QDA Classification report:\\n\", classification_report(y1_test,test2_y_pred))\n"
      ]
    },
    {
      "cell_type": "markdown",
      "source": [
        "**Accessing the output of classifiers-**\n",
        "\n",
        "1. From above two models lda and qda the best performing model on the given dataset is QDA model. The overall accuracy of QDA model is **95.4%** whereas the LDA model has **56.4%** which is very bad.\n",
        "2. The LDA model is not able to predict the output class label 1 generating **48%** f1 score. As compared to this QDA model has performed well generating output class label 1 f1 score to **95%**."
      ],
      "metadata": {
        "id": "C_VmWqG134U1"
      },
      "id": "C_VmWqG134U1"
    },
    {
      "cell_type": "markdown",
      "source": [
        "### d. Use plot decision regions from the plotting module of the mlxtend library to plot the decision regions for the two classi ers in the two dimensional feature space formed by x1 and x2"
      ],
      "metadata": {
        "id": "47HJHzwNl6J9"
      },
      "id": "47HJHzwNl6J9"
    },
    {
      "cell_type": "code",
      "execution_count": 76,
      "id": "a52f3546",
      "metadata": {
        "colab": {
          "base_uri": "https://localhost:8080/",
          "height": 378
        },
        "id": "a52f3546",
        "outputId": "a3af1530-2193-4577-f10b-306bc4d7a4c3"
      },
      "outputs": [
        {
          "output_type": "stream",
          "name": "stderr",
          "text": [
            "/usr/local/lib/python3.7/dist-packages/sklearn/base.py:451: UserWarning: X does not have valid feature names, but LinearDiscriminantAnalysis was fitted with feature names\n",
            "  \"X does not have valid feature names, but\"\n",
            "/usr/local/lib/python3.7/dist-packages/mlxtend/plotting/decision_regions.py:244: MatplotlibDeprecationWarning: Passing unsupported keyword arguments to axis() will raise a TypeError in 3.3.\n",
            "  ax.axis(xmin=xx.min(), xmax=xx.max(), y_min=yy.min(), y_max=yy.max())\n"
          ]
        },
        {
          "output_type": "execute_result",
          "data": {
            "text/plain": [
              "<matplotlib.axes._subplots.AxesSubplot at 0x7f1a56bb4ed0>"
            ]
          },
          "metadata": {},
          "execution_count": 76
        },
        {
          "output_type": "display_data",
          "data": {
            "text/plain": [
              "<Figure size 432x288 with 1 Axes>"
            ],
            "image/png": "[encoded data removed]"
          },
          "metadata": {
            "needs_background": "light"
          }
        }
      ],
      "source": [
        "from mlxtend.plotting import plot_decision_regions\n",
        "\n",
        "X1_train=X1_train.to_numpy()\n",
        "y1_train=y1_train.to_numpy()\n",
        "\n",
        "plot_decision_regions(X1_train, y1_train, clf=lda, legend=2)\n"
      ]
    },
    {
      "cell_type": "code",
      "execution_count": 77,
      "id": "b43e3dbc",
      "metadata": {
        "colab": {
          "base_uri": "https://localhost:8080/",
          "height": 378
        },
        "id": "b43e3dbc",
        "outputId": "ce757237-9744-4245-f155-a8aa1b112c43"
      },
      "outputs": [
        {
          "output_type": "stream",
          "name": "stderr",
          "text": [
            "/usr/local/lib/python3.7/dist-packages/sklearn/base.py:451: UserWarning: X does not have valid feature names, but QuadraticDiscriminantAnalysis was fitted with feature names\n",
            "  \"X does not have valid feature names, but\"\n",
            "/usr/local/lib/python3.7/dist-packages/mlxtend/plotting/decision_regions.py:244: MatplotlibDeprecationWarning: Passing unsupported keyword arguments to axis() will raise a TypeError in 3.3.\n",
            "  ax.axis(xmin=xx.min(), xmax=xx.max(), y_min=yy.min(), y_max=yy.max())\n"
          ]
        },
        {
          "output_type": "execute_result",
          "data": {
            "text/plain": [
              "<matplotlib.axes._subplots.AxesSubplot at 0x7f1a56b03c90>"
            ]
          },
          "metadata": {},
          "execution_count": 77
        },
        {
          "output_type": "display_data",
          "data": {
            "text/plain": [
              "<Figure size 432x288 with 1 Axes>"
            ],
            "image/png": "[encoded data removed]"
          },
          "metadata": {
            "needs_background": "light"
          }
        }
      ],
      "source": [
        "plot_decision_regions(X1_train, y1_train, clf=QDA_Model, legend=2)\n"
      ]
    },
    {
      "cell_type": "markdown",
      "source": [
        "###e. Based on your findings in part (c) and part (d) and your literature search, explain in what situations it would be more appropriate to use QDA classifier. In what situations is the LDA classifier the more appopriate choice of classifier."
      ],
      "metadata": {
        "id": "d73Ugpk-DfrG"
      },
      "id": "d73Ugpk-DfrG"
    },
    {
      "cell_type": "markdown",
      "source": [
        "<p align=\"justify\">\n",
        "A modification of LDA known as QDA involves calculating an individual covariance matrix for each class of observations. QDA was developed from LDA. When there is prior knowledge that individual classes exhibit distinct covariances, qualitative data analysis (QDA) is particularly useful. The inability to use QDA as a technique for dimensionality reduction is one of the limitations of this analysis method.\n",
        "</p>"
      ],
      "metadata": {
        "id": "3g6ohIR4DeoE"
      },
      "id": "3g6ohIR4DeoE"
    },
    {
      "cell_type": "markdown",
      "id": "a2aa48d7",
      "metadata": {
        "id": "a2aa48d7"
      },
      "source": [
        "# Question 4"
      ]
    },
    {
      "cell_type": "markdown",
      "id": "9d6e776d",
      "metadata": {
        "id": "9d6e776d"
      },
      "source": [
        "### a. Internal Structures of the algorithms\n"
      ]
    },
    {
      "cell_type": "markdown",
      "source": [
        "<p align=\"justify\">\n",
        "Multiple decision trees are combined to form a more accurate classification or regression model using the Random Forest approach. Random Forest attempts to circumvent overfitting by constructing a forest of decision trees. The result of all the trees is then used to arrive at a conclusion. The term \"bagging\" is rather misleading, given that it is used to generate several datasets from a single source (by sampling with replacement). In addition, each tree is only trained with a subset of the total training data. That way, the algorithm has a better chance of avoiding overfitting since each tree is distinct from the others.\n",
        "</p>\n",
        "<p align=\"justify\">\n",
        "In order to construct a robust model for either classification or regression, the gradient boosting algorithm, like the random forest algorithm, uses a collection of weak learners, in this case decision trees. Random forest uses a parallel processing strategy for its trees, whereas gradient boosting uses a sequential one. Unlike the random forest technique, which samples with replacement and offers equal probability to picking each observation, the boosting strategy adds higher weights to observations that are more difficult to predict, passing this information along to the next tree in the sequence. It is via this process that the sequential method is developed, which is repeated many times to reduce the prediction error.\n",
        "</p>"
      ],
      "metadata": {
        "id": "lxb5fYkOnEC9"
      },
      "id": "lxb5fYkOnEC9"
    },
    {
      "cell_type": "markdown",
      "id": "d484ba9a",
      "metadata": {
        "id": "d484ba9a"
      },
      "source": [
        "### b. being prone to overfitting\n",
        "<p align=\"justify\">\n",
        "The presence of noise in the data makes GBMs more susceptible to overfitting. On the other hand, Random Forest is more resistant to overfitting than GBM is.\n",
        "</p>"
      ]
    },
    {
      "cell_type": "markdown",
      "id": "de9711de",
      "metadata": {
        "id": "de9711de"
      },
      "source": [
        "### c. Tuning Hyperparameters\n",
        "<p align=\"justify\">\n",
        "In reality, Random Forest is easy to implement, especially in terms of hyperparameter tuning. Blindly using RF may provide reasonable performance with a minor chance of overfitting, but GBM is useless without cross validation. There is a high degree of care needed for GBM establishment. Similarly to GM, we may tune the hyperparameters—such as the number of trees, the depth of the forest, and the learning rate—to improve prediction and performance.\n",
        "\n",
        "</p>"
      ]
    },
    {
      "cell_type": "markdown",
      "id": "e0e0a26a",
      "metadata": {
        "id": "e0e0a26a"
      },
      "source": [
        "### d. Execution time to train\n",
        "<p align=\"justify\">\n",
        "When using Random Forest, it is necessary to generate, process, and analyze all of the trees in the forest. The longer the operation (which might last many hours or even days) the more options you will have access to. Limiting the number of characteristics may greatly accelerate the procedure. This means that the gradient boosting algorithm is faster than Random Forest.\n",
        "</p>"
      ]
    },
    {
      "cell_type": "markdown",
      "id": "e5d7a09b",
      "metadata": {
        "id": "e5d7a09b"
      },
      "source": [
        "# Question 5"
      ]
    },
    {
      "cell_type": "code",
      "execution_count": 78,
      "id": "ef2ca0b9",
      "metadata": {
        "colab": {
          "base_uri": "https://localhost:8080/",
          "height": 250
        },
        "id": "ef2ca0b9",
        "outputId": "f854d20e-79a2-4fd8-f7f5-f5823514eaf3"
      },
      "outputs": [
        {
          "output_type": "execute_result",
          "data": {
            "text/plain": [
              "   % On-TimeGateArrivals  AverageBlockDelay  AverageTaxiInDelay  \\\n",
              "0                  90.00               7.70                9.47   \n",
              "1                  72.73               0.91                2.55   \n",
              "2                  75.00               1.00                0.91   \n",
              "3                  83.33               1.50                1.13   \n",
              "4                  90.91               0.64                1.38   \n",
              "\n",
              "   AverageAirborneDelay  AverageAirportDepartureDelay  \\\n",
              "0                  0.60                         13.67   \n",
              "1                  0.00                         13.17   \n",
              "2                  0.00                         25.50   \n",
              "3                  3.00                         26.75   \n",
              "4                  1.27                         15.00   \n",
              "\n",
              "   AverageGateDepartureDelay  Delay_Class  \n",
              "0                       6.67            0  \n",
              "1                       5.33            0  \n",
              "2                      14.00            0  \n",
              "3                      17.50            0  \n",
              "4                      12.50            0  "
            ],
            "text/html": [
              "\n",
              "  <div id=\"df-5dd62af4-5203-41c9-b98f-b58e6177cfcf\">\n",
              "    <div class=\"colab-df-container\">\n",
              "      <div>\n",
              "<style scoped>\n",
              "    .dataframe tbody tr th:only-of-type {\n",
              "        vertical-align: middle;\n",
              "    }\n",
              "\n",
              "    .dataframe tbody tr th {\n",
              "        vertical-align: top;\n",
              "    }\n",
              "\n",
              "    .dataframe thead th {\n",
              "        text-align: right;\n",
              "    }\n",
              "</style>\n",
              "<table border=\"1\" class=\"dataframe\">\n",
              "  <thead>\n",
              "    <tr style=\"text-align: right;\">\n",
              "      <th></th>\n",
              "      <th>% On-TimeGateArrivals</th>\n",
              "      <th>AverageBlockDelay</th>\n",
              "      <th>AverageTaxiInDelay</th>\n",
              "      <th>AverageAirborneDelay</th>\n",
              "      <th>AverageAirportDepartureDelay</th>\n",
              "      <th>AverageGateDepartureDelay</th>\n",
              "      <th>Delay_Class</th>\n",
              "    </tr>\n",
              "  </thead>\n",
              "  <tbody>\n",
              "    <tr>\n",
              "      <th>0</th>\n",
              "      <td>90.00</td>\n",
              "      <td>7.70</td>\n",
              "      <td>9.47</td>\n",
              "      <td>0.60</td>\n",
              "      <td>13.67</td>\n",
              "      <td>6.67</td>\n",
              "      <td>0</td>\n",
              "    </tr>\n",
              "    <tr>\n",
              "      <th>1</th>\n",
              "      <td>72.73</td>\n",
              "      <td>0.91</td>\n",
              "      <td>2.55</td>\n",
              "      <td>0.00</td>\n",
              "      <td>13.17</td>\n",
              "      <td>5.33</td>\n",
              "      <td>0</td>\n",
              "    </tr>\n",
              "    <tr>\n",
              "      <th>2</th>\n",
              "      <td>75.00</td>\n",
              "      <td>1.00</td>\n",
              "      <td>0.91</td>\n",
              "      <td>0.00</td>\n",
              "      <td>25.50</td>\n",
              "      <td>14.00</td>\n",
              "      <td>0</td>\n",
              "    </tr>\n",
              "    <tr>\n",
              "      <th>3</th>\n",
              "      <td>83.33</td>\n",
              "      <td>1.50</td>\n",
              "      <td>1.13</td>\n",
              "      <td>3.00</td>\n",
              "      <td>26.75</td>\n",
              "      <td>17.50</td>\n",
              "      <td>0</td>\n",
              "    </tr>\n",
              "    <tr>\n",
              "      <th>4</th>\n",
              "      <td>90.91</td>\n",
              "      <td>0.64</td>\n",
              "      <td>1.38</td>\n",
              "      <td>1.27</td>\n",
              "      <td>15.00</td>\n",
              "      <td>12.50</td>\n",
              "      <td>0</td>\n",
              "    </tr>\n",
              "  </tbody>\n",
              "</table>\n",
              "</div>\n",
              "      <button class=\"colab-df-convert\" onclick=\"convertToInteractive('df-5dd62af4-5203-41c9-b98f-b58e6177cfcf')\"\n",
              "              title=\"Convert this dataframe to an interactive table.\"\n",
              "              style=\"display:none;\">\n",
              "        \n",
              "  <svg xmlns=\"http://www.w3.org/2000/svg\" height=\"24px\"viewBox=\"0 0 24 24\"\n",
              "       width=\"24px\">\n",
              "    <path d=\"M0 0h24v24H0V0z\" fill=\"none\"/>\n",
              "    <path d=\"M18.56 5.44l.94 2.06.94-2.06 2.06-.94-2.06-.94-.94-2.06-.94 2.06-2.06.94zm-11 1L8.5 8.5l.94-2.06 2.06-.94-2.06-.94L8.5 2.5l-.94 2.06-2.06.94zm10 10l.94 2.06.94-2.06 2.06-.94-2.06-.94-.94-2.06-.94 2.06-2.06.94z\"/><path d=\"M17.41 7.96l-1.37-1.37c-.4-.4-.92-.59-1.43-.59-.52 0-1.04.2-1.43.59L10.3 9.45l-7.72 7.72c-.78.78-.78 2.05 0 2.83L4 21.41c.39.39.9.59 1.41.59.51 0 1.02-.2 1.41-.59l7.78-7.78 2.81-2.81c.8-.78.8-2.07 0-2.86zM5.41 20L4 18.59l7.72-7.72 1.47 1.35L5.41 20z\"/>\n",
              "  </svg>\n",
              "      </button>\n",
              "      \n",
              "  <style>\n",
              "    .colab-df-container {\n",
              "      display:flex;\n",
              "      flex-wrap:wrap;\n",
              "      gap: 12px;\n",
              "    }\n",
              "\n",
              "    .colab-df-convert {\n",
              "      background-color: #E8F0FE;\n",
              "      border: none;\n",
              "      border-radius: 50%;\n",
              "      cursor: pointer;\n",
              "      display: none;\n",
              "      fill: #1967D2;\n",
              "      height: 32px;\n",
              "      padding: 0 0 0 0;\n",
              "      width: 32px;\n",
              "    }\n",
              "\n",
              "    .colab-df-convert:hover {\n",
              "      background-color: #E2EBFA;\n",
              "      box-shadow: 0px 1px 2px rgba(60, 64, 67, 0.3), 0px 1px 3px 1px rgba(60, 64, 67, 0.15);\n",
              "      fill: #174EA6;\n",
              "    }\n",
              "\n",
              "    [theme=dark] .colab-df-convert {\n",
              "      background-color: #3B4455;\n",
              "      fill: #D2E3FC;\n",
              "    }\n",
              "\n",
              "    [theme=dark] .colab-df-convert:hover {\n",
              "      background-color: #434B5C;\n",
              "      box-shadow: 0px 1px 3px 1px rgba(0, 0, 0, 0.15);\n",
              "      filter: drop-shadow(0px 1px 2px rgba(0, 0, 0, 0.3));\n",
              "      fill: #FFFFFF;\n",
              "    }\n",
              "  </style>\n",
              "\n",
              "      <script>\n",
              "        const buttonEl =\n",
              "          document.querySelector('#df-5dd62af4-5203-41c9-b98f-b58e6177cfcf button.colab-df-convert');\n",
              "        buttonEl.style.display =\n",
              "          google.colab.kernel.accessAllowed ? 'block' : 'none';\n",
              "\n",
              "        async function convertToInteractive(key) {\n",
              "          const element = document.querySelector('#df-5dd62af4-5203-41c9-b98f-b58e6177cfcf');\n",
              "          const dataTable =\n",
              "            await google.colab.kernel.invokeFunction('convertToInteractive',\n",
              "                                                     [key], {});\n",
              "          if (!dataTable) return;\n",
              "\n",
              "          const docLinkHtml = 'Like what you see? Visit the ' +\n",
              "            '<a target=\"_blank\" href=https://colab.research.google.com/notebooks/data_table.ipynb>data table notebook</a>'\n",
              "            + ' to learn more about interactive tables.';\n",
              "          element.innerHTML = '';\n",
              "          dataTable['output_type'] = 'display_data';\n",
              "          await google.colab.output.renderOutput(dataTable, element);\n",
              "          const docLink = document.createElement('div');\n",
              "          docLink.innerHTML = docLinkHtml;\n",
              "          element.appendChild(docLink);\n",
              "        }\n",
              "      </script>\n",
              "    </div>\n",
              "  </div>\n",
              "  "
            ]
          },
          "metadata": {},
          "execution_count": 78
        }
      ],
      "source": [
        "DAD_data= pd.read_csv('https://raw.githubusercontent.com/SravaniRVS/DATA602/main/Homeworks/GateArrivalDelay-Classification.csv', index_col= 0).drop(columns=['Date_Time'])\n",
        "DAD_data.head()"
      ]
    },
    {
      "cell_type": "code",
      "execution_count": 79,
      "id": "aadcf0d0",
      "metadata": {
        "colab": {
          "base_uri": "https://localhost:8080/",
          "height": 283
        },
        "id": "aadcf0d0",
        "outputId": "32e95e1d-e396-44ae-c696-d52284321b98"
      },
      "outputs": [
        {
          "output_type": "execute_result",
          "data": {
            "text/plain": [
              "<matplotlib.axes._subplots.AxesSubplot at 0x7f1a56a075d0>"
            ]
          },
          "metadata": {},
          "execution_count": 79
        },
        {
          "output_type": "display_data",
          "data": {
            "text/plain": [
              "<Figure size 432x288 with 1 Axes>"
            ],
            "image/png": "[encoded data removed]"
          },
          "metadata": {
            "needs_background": "light"
          }
        }
      ],
      "source": [
        "DAD_data.plot.hist(bins=12, alpha=0.5)"
      ]
    },
    {
      "cell_type": "markdown",
      "id": "d594dafb",
      "metadata": {
        "id": "d594dafb"
      },
      "source": [
        "### a. Determine the nature of the classification problem. Is the current classification problem closer to a balanced classification or an unbalanced classification problem?\n",
        "\n"
      ]
    },
    {
      "cell_type": "code",
      "source": [
        "data1 = DAD_data['Delay_Class'].value_counts().to_dict()\n",
        "plt.figure(figsize=(5,5))\n",
        "plt.pie(data1.values(), labels = ['No_Delay', 'Delay'], wedgeprops={'edgecolor': 'black'}, colors = ['#ffde59', '#ff1616'], autopct='%.0f%%', shadow=True)\n",
        "plt.title(\"Delay Class\", fontsize=25)\n",
        "plt.show()"
      ],
      "metadata": {
        "colab": {
          "base_uri": "https://localhost:8080/",
          "height": 328
        },
        "id": "YtDDNgX42_pc",
        "outputId": "fa219509-c7c9-4761-cd50-9e65d17f08fb"
      },
      "id": "YtDDNgX42_pc",
      "execution_count": 110,
      "outputs": [
        {
          "output_type": "display_data",
          "data": {
            "text/plain": [
              "<Figure size 360x360 with 1 Axes>"
            ],
            "image/png": "[encoded data removed]"
          },
          "metadata": {}
        }
      ]
    },
    {
      "cell_type": "markdown",
      "source": [
        "**This is unbalanced classification problem because variables are unevenly distributed.**"
      ],
      "metadata": {
        "id": "2pmvYmSx3mSo"
      },
      "id": "2pmvYmSx3mSo"
    },
    {
      "cell_type": "markdown",
      "id": "46afa3c5",
      "metadata": {
        "id": "46afa3c5"
      },
      "source": [
        "### b. Construct a random forest classi er for the target Class in the presence of all 6 features. Calculate the relative feature importance from the constructed forest and identify the two most signi cant features. "
      ]
    },
    {
      "cell_type": "code",
      "execution_count": 80,
      "id": "90665d31",
      "metadata": {
        "colab": {
          "base_uri": "https://localhost:8080/"
        },
        "id": "90665d31",
        "outputId": "be275f65-e043-4e22-9bb9-1b9dbc41ce47"
      },
      "outputs": [
        {
          "output_type": "execute_result",
          "data": {
            "text/plain": [
              "% On-TimeGateArrivals           0\n",
              "AverageBlockDelay               0\n",
              "AverageTaxiInDelay              0\n",
              "AverageAirborneDelay            0\n",
              "AverageAirportDepartureDelay    0\n",
              "AverageGateDepartureDelay       0\n",
              "Delay_Class                     0\n",
              "dtype: int64"
            ]
          },
          "metadata": {},
          "execution_count": 80
        }
      ],
      "source": [
        "DAD_data.isna().sum()"
      ]
    },
    {
      "cell_type": "code",
      "execution_count": 81,
      "id": "52c3ba6f",
      "metadata": {
        "id": "52c3ba6f"
      },
      "outputs": [],
      "source": [
        "X2= DAD_data.drop(columns=['Delay_Class'])\n",
        "y2= DAD_data['Delay_Class']\n",
        "\n",
        "# Split dataset into training set and test set\n",
        "X2_train, X2_test, y2_train, y2_test = train_test_split(X2, y2, test_size=0.3) "
      ]
    },
    {
      "cell_type": "code",
      "execution_count": 82,
      "id": "2ae37582",
      "metadata": {
        "colab": {
          "base_uri": "https://localhost:8080/",
          "height": 283
        },
        "id": "2ae37582",
        "outputId": "52a05a09-9e36-43eb-a0f4-9f1ad7a17e9b"
      },
      "outputs": [
        {
          "output_type": "execute_result",
          "data": {
            "text/plain": [
              "<BarContainer object of 6 artists>"
            ]
          },
          "metadata": {},
          "execution_count": 82
        },
        {
          "output_type": "display_data",
          "data": {
            "text/plain": [
              "<Figure size 432x288 with 1 Axes>"
            ],
            "image/png": "[encoded data removed]"
          },
          "metadata": {
            "needs_background": "light"
          }
        }
      ],
      "source": [
        "from sklearn.ensemble import RandomForestClassifier\n",
        "\n",
        "clf=RandomForestClassifier()\n",
        "clf.fit(X2_train,y2_train)\n",
        "\n",
        "#feature importance\n",
        "import matplotlib.pyplot as plt\n",
        "\n",
        "plt.barh(X2.columns, clf.feature_importances_)"
      ]
    },
    {
      "cell_type": "code",
      "execution_count": 82,
      "id": "802a5d96",
      "metadata": {
        "id": "802a5d96"
      },
      "outputs": [],
      "source": []
    },
    {
      "cell_type": "markdown",
      "id": "ee92ef4a",
      "metadata": {
        "id": "ee92ef4a"
      },
      "source": [
        "### c. \n",
        "<p align=\"justify\">\n",
        "Construct a logistic regression classifier for the classification problem. Calculate the relevant accuracy metrics, and assess the performance of your constructed classifier. What is the AUC of the corresponding ROC curve for this binary classifier? Plot decision regions in the feature space.\n",
        "</p>"
      ]
    },
    {
      "cell_type": "code",
      "execution_count": 83,
      "id": "add0c10e",
      "metadata": {
        "colab": {
          "base_uri": "https://localhost:8080/"
        },
        "id": "add0c10e",
        "outputId": "cd1eeeaa-89db-47a7-ff55-1daedc1655bc"
      },
      "outputs": [
        {
          "output_type": "execute_result",
          "data": {
            "text/plain": [
              "LogisticRegression()"
            ]
          },
          "metadata": {},
          "execution_count": 83
        }
      ],
      "source": [
        "from sklearn.linear_model import LogisticRegression\n",
        "\n",
        "X3= DAD_data[['% On-TimeGateArrivals', 'AverageBlockDelay']]\n",
        "y3= DAD_data['Delay_Class']\n",
        "\n",
        "# Split dataset into training set and test set\n",
        "X3_train, X3_test, y3_train, y3_test = train_test_split(X3, y3, test_size=0.3) \n",
        "\n",
        "## train logistic regression model\n",
        "logreg_clf = LogisticRegression()\n",
        "logreg_clf.fit(X3_train, y3_train)"
      ]
    },
    {
      "cell_type": "code",
      "execution_count": 84,
      "id": "e3c7418f",
      "metadata": {
        "id": "e3c7418f"
      },
      "outputs": [],
      "source": [
        "## getting prediction\n",
        "y3_pred = logreg_clf.predict(X3_test)\n"
      ]
    },
    {
      "cell_type": "code",
      "execution_count": 85,
      "id": "2d104d3a",
      "metadata": {
        "colab": {
          "base_uri": "https://localhost:8080/"
        },
        "id": "2d104d3a",
        "outputId": "e5da5cf2-c6b8-4df3-aa65-2598c8d6bbfb"
      },
      "outputs": [
        {
          "output_type": "stream",
          "name": "stdout",
          "text": [
            "AUC Score is:  0.7509340497880023 \n",
            "\n",
            "Classification Report:\n",
            "               precision    recall  f1-score   support\n",
            "\n",
            "           0       0.93      0.99      0.96       581\n",
            "           1       0.88      0.51      0.65        82\n",
            "\n",
            "    accuracy                           0.93       663\n",
            "   macro avg       0.90      0.75      0.80       663\n",
            "weighted avg       0.93      0.93      0.92       663\n",
            "\n"
          ]
        }
      ],
      "source": [
        "from sklearn.metrics import roc_auc_score\n",
        "\n",
        "auc_score = roc_auc_score(y3_test, y3_pred)\n",
        "\n",
        "print(\"AUC Score is: \",auc_score,\"\\n\")\n",
        "print(\"Classification Report:\\n\",metrics.classification_report(y3_test, y3_pred))\n"
      ]
    },
    {
      "cell_type": "code",
      "execution_count": 86,
      "id": "17b8fef3",
      "metadata": {
        "colab": {
          "base_uri": "https://localhost:8080/",
          "height": 374
        },
        "id": "17b8fef3",
        "outputId": "a3efbb0c-e47d-44bb-9020-26adbe1767ec"
      },
      "outputs": [
        {
          "output_type": "stream",
          "name": "stderr",
          "text": [
            "/usr/local/lib/python3.7/dist-packages/sklearn/base.py:451: UserWarning: X does not have valid feature names, but LogisticRegression was fitted with feature names\n",
            "  \"X does not have valid feature names, but\"\n",
            "/usr/local/lib/python3.7/dist-packages/mlxtend/plotting/decision_regions.py:244: MatplotlibDeprecationWarning: Passing unsupported keyword arguments to axis() will raise a TypeError in 3.3.\n",
            "  ax.axis(xmin=xx.min(), xmax=xx.max(), y_min=yy.min(), y_max=yy.max())\n"
          ]
        },
        {
          "output_type": "execute_result",
          "data": {
            "text/plain": [
              "<matplotlib.axes._subplots.AxesSubplot at 0x7f1a56b7c190>"
            ]
          },
          "metadata": {},
          "execution_count": 86
        },
        {
          "output_type": "display_data",
          "data": {
            "text/plain": [
              "<Figure size 432x288 with 1 Axes>"
            ],
            "image/png": "[encoded data removed]"
          },
          "metadata": {
            "needs_background": "light"
          }
        }
      ],
      "source": [
        "XX_train=X3_train.to_numpy()\n",
        "yy_train=y3_train.to_numpy()\n",
        "plot_decision_regions(XX_train, yy_train, clf=logreg_clf, legend=2)\n"
      ]
    },
    {
      "cell_type": "markdown",
      "source": [
        "**Explanation:**\n",
        "- The overall accuracy is 77% whereas the f1 score is 68%. It means the imbalance class performance of the model is poor.\n",
        "- Model is not overfitting.\n",
        "- The minority class label 1 has an overall f1 socre of 68% which is very less as compared to the overall performance."
      ],
      "metadata": {
        "id": "pMybSXsyxN0G"
      },
      "id": "pMybSXsyxN0G"
    },
    {
      "cell_type": "markdown",
      "id": "bfcb3dc4",
      "metadata": {
        "id": "bfcb3dc4"
      },
      "source": [
        "### d. SVC"
      ]
    },
    {
      "cell_type": "code",
      "execution_count": 87,
      "id": "df508952",
      "metadata": {
        "colab": {
          "base_uri": "https://localhost:8080/"
        },
        "id": "df508952",
        "outputId": "1a0211d5-91fb-4c48-85b4-20dc350d1066"
      },
      "outputs": [
        {
          "output_type": "stream",
          "name": "stdout",
          "text": [
            "Accuracy of linear kernel: 0.9260935143288085\n",
            "Accuracy of rbf kernel: 0.9577677224736049\n",
            "Accuracy of sigmoid kernel: 0.8763197586726998\n"
          ]
        }
      ],
      "source": [
        "from sklearn import svm\n",
        "from sklearn import metrics\n",
        "\n",
        "#models\n",
        "clf_svc1 = svm.SVC(kernel='linear', C=2, gamma=0.1)\n",
        "clf_svc2 = svm.SVC(kernel='rbf',C=2, gamma=0.1)\n",
        "clf_svc3 = svm.SVC(kernel='sigmoid', C=2, gamma=0.1)\n",
        "\n",
        "#Fittings\n",
        "clf_svc1.fit(X3_train, y3_train)\n",
        "clf_svc2.fit(X3_train, y3_train)\n",
        "clf_svc3.fit(X3_train, y3_train)\n",
        "\n",
        "#predictions\n",
        "y_pred_SVC1 = clf_svc1.predict(X3_test)\n",
        "y_pred_SVC2 = clf_svc2.predict(X3_test)\n",
        "y_pred_SVC3 = clf_svc3.predict(X3_test)\n",
        "\n",
        "#Accuracies\n",
        "print(\"Accuracy of linear kernel:\",metrics.accuracy_score(y3_test, y_pred_SVC1))\n",
        "print(\"Accuracy of rbf kernel:\",metrics.accuracy_score(y3_test, y_pred_SVC2))\n",
        "print(\"Accuracy of sigmoid kernel:\",metrics.accuracy_score(y3_test, y_pred_SVC3))"
      ]
    },
    {
      "cell_type": "code",
      "execution_count": 88,
      "id": "6e0194cb",
      "metadata": {
        "colab": {
          "base_uri": "https://localhost:8080/"
        },
        "id": "6e0194cb",
        "outputId": "8c2284a9-f8e2-48be-d69d-94c0039c7473"
      },
      "outputs": [
        {
          "output_type": "stream",
          "name": "stdout",
          "text": [
            "Fitting 5 folds for each of 36 candidates, totalling 180 fits\n",
            "[CV 1/5] END .....C=0.1, gamma=1, kernel=linear;, score=0.913 total time=   0.0s\n",
            "[CV 2/5] END .....C=0.1, gamma=1, kernel=linear;, score=0.945 total time=   0.0s\n",
            "[CV 3/5] END .....C=0.1, gamma=1, kernel=linear;, score=0.929 total time=   0.1s\n",
            "[CV 4/5] END .....C=0.1, gamma=1, kernel=linear;, score=0.922 total time=   0.1s\n",
            "[CV 5/5] END .....C=0.1, gamma=1, kernel=linear;, score=0.938 total time=   0.1s\n",
            "[CV 1/5] END ........C=0.1, gamma=1, kernel=rbf;, score=0.874 total time=   0.1s\n",
            "[CV 2/5] END ........C=0.1, gamma=1, kernel=rbf;, score=0.874 total time=   0.0s\n",
            "[CV 3/5] END ........C=0.1, gamma=1, kernel=rbf;, score=0.874 total time=   0.0s\n",
            "[CV 4/5] END ........C=0.1, gamma=1, kernel=rbf;, score=0.874 total time=   0.0s\n",
            "[CV 5/5] END ........C=0.1, gamma=1, kernel=rbf;, score=0.873 total time=   0.0s\n",
            "[CV 1/5] END ....C=0.1, gamma=1, kernel=sigmoid;, score=0.874 total time=   0.0s\n",
            "[CV 2/5] END ....C=0.1, gamma=1, kernel=sigmoid;, score=0.874 total time=   0.0s\n",
            "[CV 3/5] END ....C=0.1, gamma=1, kernel=sigmoid;, score=0.874 total time=   0.0s\n",
            "[CV 4/5] END ....C=0.1, gamma=1, kernel=sigmoid;, score=0.874 total time=   0.0s\n",
            "[CV 5/5] END ....C=0.1, gamma=1, kernel=sigmoid;, score=0.873 total time=   0.0s\n",
            "[CV 1/5] END ...C=0.1, gamma=0.1, kernel=linear;, score=0.913 total time=   0.0s\n",
            "[CV 2/5] END ...C=0.1, gamma=0.1, kernel=linear;, score=0.945 total time=   0.0s\n",
            "[CV 3/5] END ...C=0.1, gamma=0.1, kernel=linear;, score=0.929 total time=   0.1s\n",
            "[CV 4/5] END ...C=0.1, gamma=0.1, kernel=linear;, score=0.922 total time=   0.0s\n",
            "[CV 5/5] END ...C=0.1, gamma=0.1, kernel=linear;, score=0.938 total time=   0.0s\n",
            "[CV 1/5] END ......C=0.1, gamma=0.1, kernel=rbf;, score=0.890 total time=   0.0s\n",
            "[CV 2/5] END ......C=0.1, gamma=0.1, kernel=rbf;, score=0.893 total time=   0.0s\n",
            "[CV 3/5] END ......C=0.1, gamma=0.1, kernel=rbf;, score=0.880 total time=   0.0s\n",
            "[CV 4/5] END ......C=0.1, gamma=0.1, kernel=rbf;, score=0.896 total time=   0.0s\n",
            "[CV 5/5] END ......C=0.1, gamma=0.1, kernel=rbf;, score=0.896 total time=   0.0s\n",
            "[CV 1/5] END ..C=0.1, gamma=0.1, kernel=sigmoid;, score=0.874 total time=   0.0s\n",
            "[CV 2/5] END ..C=0.1, gamma=0.1, kernel=sigmoid;, score=0.874 total time=   0.0s\n",
            "[CV 3/5] END ..C=0.1, gamma=0.1, kernel=sigmoid;, score=0.874 total time=   0.0s\n",
            "[CV 4/5] END ..C=0.1, gamma=0.1, kernel=sigmoid;, score=0.874 total time=   0.0s\n",
            "[CV 5/5] END ..C=0.1, gamma=0.1, kernel=sigmoid;, score=0.877 total time=   0.0s\n",
            "[CV 1/5] END .C=0.1, gamma=0.001, kernel=linear;, score=0.913 total time=   0.0s\n",
            "[CV 2/5] END .C=0.1, gamma=0.001, kernel=linear;, score=0.945 total time=   0.0s\n",
            "[CV 3/5] END .C=0.1, gamma=0.001, kernel=linear;, score=0.929 total time=   0.1s\n",
            "[CV 4/5] END .C=0.1, gamma=0.001, kernel=linear;, score=0.922 total time=   0.1s\n",
            "[CV 5/5] END .C=0.1, gamma=0.001, kernel=linear;, score=0.938 total time=   0.1s\n",
            "[CV 1/5] END ....C=0.1, gamma=0.001, kernel=rbf;, score=0.919 total time=   0.0s\n",
            "[CV 2/5] END ....C=0.1, gamma=0.001, kernel=rbf;, score=0.939 total time=   0.0s\n",
            "[CV 3/5] END ....C=0.1, gamma=0.001, kernel=rbf;, score=0.948 total time=   0.0s\n",
            "[CV 4/5] END ....C=0.1, gamma=0.001, kernel=rbf;, score=0.932 total time=   0.0s\n",
            "[CV 5/5] END ....C=0.1, gamma=0.001, kernel=rbf;, score=0.948 total time=   0.0s\n",
            "[CV 1/5] END C=0.1, gamma=0.001, kernel=sigmoid;, score=0.877 total time=   0.0s\n",
            "[CV 2/5] END C=0.1, gamma=0.001, kernel=sigmoid;, score=0.880 total time=   0.0s\n",
            "[CV 3/5] END C=0.1, gamma=0.001, kernel=sigmoid;, score=0.874 total time=   0.0s\n",
            "[CV 4/5] END C=0.1, gamma=0.001, kernel=sigmoid;, score=0.883 total time=   0.0s\n",
            "[CV 5/5] END C=0.1, gamma=0.001, kernel=sigmoid;, score=0.880 total time=   0.0s\n",
            "[CV 1/5] END C=0.1, gamma=0.0001, kernel=linear;, score=0.913 total time=   0.1s\n",
            "[CV 2/5] END C=0.1, gamma=0.0001, kernel=linear;, score=0.945 total time=   0.1s\n",
            "[CV 3/5] END C=0.1, gamma=0.0001, kernel=linear;, score=0.929 total time=   0.1s\n",
            "[CV 4/5] END C=0.1, gamma=0.0001, kernel=linear;, score=0.922 total time=   0.0s\n",
            "[CV 5/5] END C=0.1, gamma=0.0001, kernel=linear;, score=0.938 total time=   0.1s\n",
            "[CV 1/5] END ...C=0.1, gamma=0.0001, kernel=rbf;, score=0.906 total time=   0.0s\n",
            "[CV 2/5] END ...C=0.1, gamma=0.0001, kernel=rbf;, score=0.874 total time=   0.0s\n",
            "[CV 3/5] END ...C=0.1, gamma=0.0001, kernel=rbf;, score=0.919 total time=   0.0s\n",
            "[CV 4/5] END ...C=0.1, gamma=0.0001, kernel=rbf;, score=0.874 total time=   0.0s\n",
            "[CV 5/5] END ...C=0.1, gamma=0.0001, kernel=rbf;, score=0.886 total time=   0.0s\n",
            "[CV 1/5] END C=0.1, gamma=0.0001, kernel=sigmoid;, score=0.877 total time=   0.0s\n",
            "[CV 2/5] END C=0.1, gamma=0.0001, kernel=sigmoid;, score=0.887 total time=   0.0s\n",
            "[CV 3/5] END C=0.1, gamma=0.0001, kernel=sigmoid;, score=0.874 total time=   0.0s\n",
            "[CV 4/5] END C=0.1, gamma=0.0001, kernel=sigmoid;, score=0.883 total time=   0.0s\n",
            "[CV 5/5] END C=0.1, gamma=0.0001, kernel=sigmoid;, score=0.890 total time=   0.0s\n",
            "[CV 1/5] END .......C=1, gamma=1, kernel=linear;, score=0.913 total time=   0.6s\n",
            "[CV 2/5] END .......C=1, gamma=1, kernel=linear;, score=0.945 total time=   0.4s\n",
            "[CV 3/5] END .......C=1, gamma=1, kernel=linear;, score=0.929 total time=   0.4s\n",
            "[CV 4/5] END .......C=1, gamma=1, kernel=linear;, score=0.922 total time=   0.4s\n",
            "[CV 5/5] END .......C=1, gamma=1, kernel=linear;, score=0.938 total time=   0.4s\n",
            "[CV 1/5] END ..........C=1, gamma=1, kernel=rbf;, score=0.932 total time=   0.1s\n",
            "[CV 2/5] END ..........C=1, gamma=1, kernel=rbf;, score=0.913 total time=   0.1s\n",
            "[CV 3/5] END ..........C=1, gamma=1, kernel=rbf;, score=0.906 total time=   0.1s\n",
            "[CV 4/5] END ..........C=1, gamma=1, kernel=rbf;, score=0.932 total time=   0.1s\n",
            "[CV 5/5] END ..........C=1, gamma=1, kernel=rbf;, score=0.906 total time=   0.1s\n",
            "[CV 1/5] END ......C=1, gamma=1, kernel=sigmoid;, score=0.874 total time=   0.0s\n",
            "[CV 2/5] END ......C=1, gamma=1, kernel=sigmoid;, score=0.874 total time=   0.0s\n",
            "[CV 3/5] END ......C=1, gamma=1, kernel=sigmoid;, score=0.874 total time=   0.0s\n",
            "[CV 4/5] END ......C=1, gamma=1, kernel=sigmoid;, score=0.874 total time=   0.0s\n",
            "[CV 5/5] END ......C=1, gamma=1, kernel=sigmoid;, score=0.873 total time=   0.0s\n",
            "[CV 1/5] END .....C=1, gamma=0.1, kernel=linear;, score=0.913 total time=   0.6s\n",
            "[CV 2/5] END .....C=1, gamma=0.1, kernel=linear;, score=0.945 total time=   0.4s\n",
            "[CV 3/5] END .....C=1, gamma=0.1, kernel=linear;, score=0.929 total time=   0.4s\n",
            "[CV 4/5] END .....C=1, gamma=0.1, kernel=linear;, score=0.922 total time=   0.3s\n",
            "[CV 5/5] END .....C=1, gamma=0.1, kernel=linear;, score=0.938 total time=   0.4s\n",
            "[CV 1/5] END ........C=1, gamma=0.1, kernel=rbf;, score=0.935 total time=   0.1s\n",
            "[CV 2/5] END ........C=1, gamma=0.1, kernel=rbf;, score=0.968 total time=   0.0s\n",
            "[CV 3/5] END ........C=1, gamma=0.1, kernel=rbf;, score=0.945 total time=   0.1s\n",
            "[CV 4/5] END ........C=1, gamma=0.1, kernel=rbf;, score=0.939 total time=   0.1s\n",
            "[CV 5/5] END ........C=1, gamma=0.1, kernel=rbf;, score=0.951 total time=   0.0s\n",
            "[CV 1/5] END ....C=1, gamma=0.1, kernel=sigmoid;, score=0.874 total time=   0.0s\n",
            "[CV 2/5] END ....C=1, gamma=0.1, kernel=sigmoid;, score=0.874 total time=   0.0s\n",
            "[CV 3/5] END ....C=1, gamma=0.1, kernel=sigmoid;, score=0.874 total time=   0.1s\n",
            "[CV 4/5] END ....C=1, gamma=0.1, kernel=sigmoid;, score=0.874 total time=   0.1s\n",
            "[CV 5/5] END ....C=1, gamma=0.1, kernel=sigmoid;, score=0.877 total time=   0.0s\n",
            "[CV 1/5] END ...C=1, gamma=0.001, kernel=linear;, score=0.913 total time=   1.1s\n",
            "[CV 2/5] END ...C=1, gamma=0.001, kernel=linear;, score=0.945 total time=   0.5s\n",
            "[CV 3/5] END ...C=1, gamma=0.001, kernel=linear;, score=0.929 total time=   0.6s\n",
            "[CV 4/5] END ...C=1, gamma=0.001, kernel=linear;, score=0.922 total time=   0.4s\n",
            "[CV 5/5] END ...C=1, gamma=0.001, kernel=linear;, score=0.938 total time=   0.4s\n",
            "[CV 1/5] END ......C=1, gamma=0.001, kernel=rbf;, score=0.929 total time=   0.0s\n",
            "[CV 2/5] END ......C=1, gamma=0.001, kernel=rbf;, score=0.964 total time=   0.0s\n",
            "[CV 3/5] END ......C=1, gamma=0.001, kernel=rbf;, score=0.958 total time=   0.0s\n",
            "[CV 4/5] END ......C=1, gamma=0.001, kernel=rbf;, score=0.939 total time=   0.0s\n",
            "[CV 5/5] END ......C=1, gamma=0.001, kernel=rbf;, score=0.968 total time=   0.0s\n",
            "[CV 1/5] END ..C=1, gamma=0.001, kernel=sigmoid;, score=0.880 total time=   0.1s\n",
            "[CV 2/5] END ..C=1, gamma=0.001, kernel=sigmoid;, score=0.887 total time=   0.1s\n",
            "[CV 3/5] END ..C=1, gamma=0.001, kernel=sigmoid;, score=0.877 total time=   0.1s\n",
            "[CV 4/5] END ..C=1, gamma=0.001, kernel=sigmoid;, score=0.890 total time=   0.0s\n",
            "[CV 5/5] END ..C=1, gamma=0.001, kernel=sigmoid;, score=0.890 total time=   0.1s\n",
            "[CV 1/5] END ..C=1, gamma=0.0001, kernel=linear;, score=0.913 total time=   0.6s\n",
            "[CV 2/5] END ..C=1, gamma=0.0001, kernel=linear;, score=0.945 total time=   0.3s\n",
            "[CV 3/5] END ..C=1, gamma=0.0001, kernel=linear;, score=0.929 total time=   0.4s\n",
            "[CV 4/5] END ..C=1, gamma=0.0001, kernel=linear;, score=0.922 total time=   0.3s\n",
            "[CV 5/5] END ..C=1, gamma=0.0001, kernel=linear;, score=0.938 total time=   0.4s\n",
            "[CV 1/5] END .....C=1, gamma=0.0001, kernel=rbf;, score=0.926 total time=   0.0s\n",
            "[CV 2/5] END .....C=1, gamma=0.0001, kernel=rbf;, score=0.958 total time=   0.0s\n",
            "[CV 3/5] END .....C=1, gamma=0.0001, kernel=rbf;, score=0.945 total time=   0.0s\n",
            "[CV 4/5] END .....C=1, gamma=0.0001, kernel=rbf;, score=0.929 total time=   0.0s\n",
            "[CV 5/5] END .....C=1, gamma=0.0001, kernel=rbf;, score=0.955 total time=   0.0s\n",
            "[CV 1/5] END .C=1, gamma=0.0001, kernel=sigmoid;, score=0.845 total time=   0.0s\n",
            "[CV 2/5] END .C=1, gamma=0.0001, kernel=sigmoid;, score=0.854 total time=   0.0s\n",
            "[CV 3/5] END .C=1, gamma=0.0001, kernel=sigmoid;, score=0.851 total time=   0.0s\n",
            "[CV 4/5] END .C=1, gamma=0.0001, kernel=sigmoid;, score=0.861 total time=   0.0s\n",
            "[CV 5/5] END .C=1, gamma=0.0001, kernel=sigmoid;, score=0.854 total time=   0.0s\n",
            "[CV 1/5] END ......C=10, gamma=1, kernel=linear;, score=0.913 total time=   3.1s\n",
            "[CV 2/5] END ......C=10, gamma=1, kernel=linear;, score=0.942 total time=   1.9s\n",
            "[CV 3/5] END ......C=10, gamma=1, kernel=linear;, score=0.929 total time=   1.7s\n",
            "[CV 4/5] END ......C=10, gamma=1, kernel=linear;, score=0.922 total time=   1.1s\n",
            "[CV 5/5] END ......C=10, gamma=1, kernel=linear;, score=0.938 total time=   1.7s\n",
            "[CV 1/5] END .........C=10, gamma=1, kernel=rbf;, score=0.939 total time=   0.0s\n",
            "[CV 2/5] END .........C=10, gamma=1, kernel=rbf;, score=0.909 total time=   0.0s\n",
            "[CV 3/5] END .........C=10, gamma=1, kernel=rbf;, score=0.909 total time=   0.0s\n",
            "[CV 4/5] END .........C=10, gamma=1, kernel=rbf;, score=0.939 total time=   0.0s\n",
            "[CV 5/5] END .........C=10, gamma=1, kernel=rbf;, score=0.909 total time=   0.0s\n",
            "[CV 1/5] END .....C=10, gamma=1, kernel=sigmoid;, score=0.874 total time=   0.0s\n",
            "[CV 2/5] END .....C=10, gamma=1, kernel=sigmoid;, score=0.874 total time=   0.0s\n",
            "[CV 3/5] END .....C=10, gamma=1, kernel=sigmoid;, score=0.874 total time=   0.0s\n",
            "[CV 4/5] END .....C=10, gamma=1, kernel=sigmoid;, score=0.874 total time=   0.0s\n",
            "[CV 5/5] END .....C=10, gamma=1, kernel=sigmoid;, score=0.873 total time=   0.0s\n",
            "[CV 1/5] END ....C=10, gamma=0.1, kernel=linear;, score=0.913 total time=   1.2s\n",
            "[CV 2/5] END ....C=10, gamma=0.1, kernel=linear;, score=0.942 total time=   1.2s\n",
            "[CV 3/5] END ....C=10, gamma=0.1, kernel=linear;, score=0.929 total time=   1.7s\n",
            "[CV 4/5] END ....C=10, gamma=0.1, kernel=linear;, score=0.922 total time=   1.1s\n",
            "[CV 5/5] END ....C=10, gamma=0.1, kernel=linear;, score=0.938 total time=   1.7s\n",
            "[CV 1/5] END .......C=10, gamma=0.1, kernel=rbf;, score=0.939 total time=   0.0s\n",
            "[CV 2/5] END .......C=10, gamma=0.1, kernel=rbf;, score=0.964 total time=   0.0s\n",
            "[CV 3/5] END .......C=10, gamma=0.1, kernel=rbf;, score=0.945 total time=   0.0s\n",
            "[CV 4/5] END .......C=10, gamma=0.1, kernel=rbf;, score=0.935 total time=   0.0s\n",
            "[CV 5/5] END .......C=10, gamma=0.1, kernel=rbf;, score=0.951 total time=   0.0s\n",
            "[CV 1/5] END ...C=10, gamma=0.1, kernel=sigmoid;, score=0.883 total time=   0.0s\n",
            "[CV 2/5] END ...C=10, gamma=0.1, kernel=sigmoid;, score=0.903 total time=   0.0s\n",
            "[CV 3/5] END ...C=10, gamma=0.1, kernel=sigmoid;, score=0.909 total time=   0.0s\n",
            "[CV 4/5] END ...C=10, gamma=0.1, kernel=sigmoid;, score=0.903 total time=   0.0s\n",
            "[CV 5/5] END ...C=10, gamma=0.1, kernel=sigmoid;, score=0.903 total time=   0.0s\n",
            "[CV 1/5] END ..C=10, gamma=0.001, kernel=linear;, score=0.913 total time=   1.2s\n",
            "[CV 2/5] END ..C=10, gamma=0.001, kernel=linear;, score=0.942 total time=   1.2s\n",
            "[CV 3/5] END ..C=10, gamma=0.001, kernel=linear;, score=0.929 total time=   1.7s\n",
            "[CV 4/5] END ..C=10, gamma=0.001, kernel=linear;, score=0.922 total time=   1.1s\n",
            "[CV 5/5] END ..C=10, gamma=0.001, kernel=linear;, score=0.938 total time=   1.7s\n",
            "[CV 1/5] END .....C=10, gamma=0.001, kernel=rbf;, score=0.929 total time=   0.0s\n",
            "[CV 2/5] END .....C=10, gamma=0.001, kernel=rbf;, score=0.968 total time=   0.0s\n",
            "[CV 3/5] END .....C=10, gamma=0.001, kernel=rbf;, score=0.955 total time=   0.0s\n",
            "[CV 4/5] END .....C=10, gamma=0.001, kernel=rbf;, score=0.939 total time=   0.0s\n",
            "[CV 5/5] END .....C=10, gamma=0.001, kernel=rbf;, score=0.968 total time=   0.0s\n",
            "[CV 1/5] END .C=10, gamma=0.001, kernel=sigmoid;, score=0.861 total time=   0.0s\n",
            "[CV 2/5] END .C=10, gamma=0.001, kernel=sigmoid;, score=0.861 total time=   0.0s\n",
            "[CV 3/5] END .C=10, gamma=0.001, kernel=sigmoid;, score=0.864 total time=   0.0s\n",
            "[CV 4/5] END .C=10, gamma=0.001, kernel=sigmoid;, score=0.867 total time=   0.0s\n",
            "[CV 5/5] END .C=10, gamma=0.001, kernel=sigmoid;, score=0.867 total time=   0.0s\n",
            "[CV 1/5] END .C=10, gamma=0.0001, kernel=linear;, score=0.913 total time=   1.2s\n",
            "[CV 2/5] END .C=10, gamma=0.0001, kernel=linear;, score=0.942 total time=   1.2s\n",
            "[CV 3/5] END .C=10, gamma=0.0001, kernel=linear;, score=0.929 total time=   1.7s\n",
            "[CV 4/5] END .C=10, gamma=0.0001, kernel=linear;, score=0.922 total time=   1.1s\n",
            "[CV 5/5] END .C=10, gamma=0.0001, kernel=linear;, score=0.938 total time=   1.7s\n",
            "[CV 1/5] END ....C=10, gamma=0.0001, kernel=rbf;, score=0.919 total time=   0.0s\n",
            "[CV 2/5] END ....C=10, gamma=0.0001, kernel=rbf;, score=0.968 total time=   0.0s\n",
            "[CV 3/5] END ....C=10, gamma=0.0001, kernel=rbf;, score=0.955 total time=   0.0s\n",
            "[CV 4/5] END ....C=10, gamma=0.0001, kernel=rbf;, score=0.942 total time=   0.0s\n",
            "[CV 5/5] END ....C=10, gamma=0.0001, kernel=rbf;, score=0.964 total time=   0.0s\n",
            "[CV 1/5] END C=10, gamma=0.0001, kernel=sigmoid;, score=0.822 total time=   0.0s\n",
            "[CV 2/5] END C=10, gamma=0.0001, kernel=sigmoid;, score=0.822 total time=   0.0s\n",
            "[CV 3/5] END C=10, gamma=0.0001, kernel=sigmoid;, score=0.825 total time=   0.0s\n",
            "[CV 4/5] END C=10, gamma=0.0001, kernel=sigmoid;, score=0.858 total time=   0.0s\n",
            "[CV 5/5] END C=10, gamma=0.0001, kernel=sigmoid;, score=0.831 total time=   0.0s\n"
          ]
        },
        {
          "output_type": "execute_result",
          "data": {
            "text/plain": [
              "GridSearchCV(estimator=SVC(),\n",
              "             param_grid={'C': [0.1, 1, 10], 'gamma': [1, 0.1, 0.001, 0.0001],\n",
              "                         'kernel': ['linear', 'rbf', 'sigmoid']},\n",
              "             verbose=3)"
            ]
          },
          "metadata": {},
          "execution_count": 88
        }
      ],
      "source": [
        "from sklearn.model_selection import GridSearchCV\n",
        "  \n",
        "param_grid = {'C': [0.1, 1, 10], \n",
        "              'gamma': [1, 0.1, 0.001, 0.0001],\n",
        "              'kernel': ['linear', 'rbf', 'sigmoid']} \n",
        "  \n",
        "grid = GridSearchCV(svm.SVC(), param_grid, refit = True, verbose = 3)\n",
        "  \n",
        "grid.fit(X3_train, y3_train)"
      ]
    },
    {
      "cell_type": "code",
      "execution_count": 89,
      "id": "eaf47086",
      "metadata": {
        "colab": {
          "base_uri": "https://localhost:8080/"
        },
        "id": "eaf47086",
        "outputId": "b9dee201-e1c1-42ff-a8bf-1291a7d32793"
      },
      "outputs": [
        {
          "output_type": "stream",
          "name": "stdout",
          "text": [
            "SVC(C=1, gamma=0.001)\n"
          ]
        }
      ],
      "source": [
        "print(grid.best_estimator_)\n"
      ]
    },
    {
      "cell_type": "code",
      "execution_count": 90,
      "id": "06b10188",
      "metadata": {
        "colab": {
          "base_uri": "https://localhost:8080/"
        },
        "id": "06b10188",
        "outputId": "b1ea93a0-542f-4c4c-f42c-6745d53a8a29"
      },
      "outputs": [
        {
          "output_type": "stream",
          "name": "stdout",
          "text": [
            "Accuracy of linear kernel: 0.9260935143288085\n",
            "Accuracy of rbf kernel: 0.9502262443438914\n",
            "Accuracy of sigmoid kernel: 0.8642533936651584 \n",
            "\n",
            "Classification Report:\n",
            "               precision    recall  f1-score   support\n",
            "\n",
            "           0       0.93      0.99      0.96       581\n",
            "           1       0.87      0.48      0.61        82\n",
            "\n",
            "    accuracy                           0.93       663\n",
            "   macro avg       0.90      0.73      0.79       663\n",
            "weighted avg       0.92      0.93      0.92       663\n",
            " \n",
            "\n",
            "Classification Report:\n",
            "               precision    recall  f1-score   support\n",
            "\n",
            "           0       0.96      0.99      0.97       581\n",
            "           1       0.90      0.67      0.77        82\n",
            "\n",
            "    accuracy                           0.95       663\n",
            "   macro avg       0.93      0.83      0.87       663\n",
            "weighted avg       0.95      0.95      0.95       663\n",
            " \n",
            "\n",
            "Classification Report:\n",
            "               precision    recall  f1-score   support\n",
            "\n",
            "           0       0.89      0.97      0.93       581\n",
            "           1       0.36      0.12      0.18        82\n",
            "\n",
            "    accuracy                           0.86       663\n",
            "   macro avg       0.62      0.55      0.55       663\n",
            "weighted avg       0.82      0.86      0.83       663\n",
            " \n",
            "\n"
          ]
        }
      ],
      "source": [
        "clf_svc1 = svm.SVC(kernel='linear', C=10, gamma=0.001)\n",
        "clf_svc2 = svm.SVC(kernel='rbf',C=10, gamma=0.001)\n",
        "clf_svc3 = svm.SVC(kernel='sigmoid', C=10, gamma=0.001)\n",
        "\n",
        "#Fittings\n",
        "clf_svc1.fit(X3_train, y3_train)\n",
        "clf_svc2.fit(X3_train, y3_train)\n",
        "clf_svc3.fit(X3_train, y3_train)\n",
        "\n",
        "#predictions\n",
        "y_pred_SVC1 = clf_svc1.predict(X3_test)\n",
        "y_pred_SVC2 = clf_svc2.predict(X3_test)\n",
        "y_pred_SVC3 = clf_svc3.predict(X3_test)\n",
        "\n",
        "#Accuracies\n",
        "print(\"Accuracy of linear kernel:\",metrics.accuracy_score(y3_test, y_pred_SVC1))\n",
        "print(\"Accuracy of rbf kernel:\",metrics.accuracy_score(y3_test, y_pred_SVC2))\n",
        "print(\"Accuracy of sigmoid kernel:\",metrics.accuracy_score(y3_test, y_pred_SVC3),\"\\n\")\n",
        "\n",
        "#Classification Reports\n",
        "print(\"Classification Report:\\n\",metrics.classification_report(y3_test, y_pred_SVC1),\"\\n\")\n",
        "print(\"Classification Report:\\n\",metrics.classification_report(y3_test, y_pred_SVC2),\"\\n\")\n",
        "print(\"Classification Report:\\n\",metrics.classification_report(y3_test, y_pred_SVC3),\"\\n\")"
      ]
    },
    {
      "cell_type": "markdown",
      "id": "15ed94f2",
      "metadata": {
        "id": "15ed94f2"
      },
      "source": [
        "### e. Naive Bayes Classifier"
      ]
    },
    {
      "cell_type": "code",
      "execution_count": 91,
      "id": "85cbd146",
      "metadata": {
        "colab": {
          "base_uri": "https://localhost:8080/",
          "height": 606
        },
        "id": "85cbd146",
        "outputId": "c4f1a05b-badf-42b4-a8ed-e651487e0864"
      },
      "outputs": [
        {
          "output_type": "stream",
          "name": "stdout",
          "text": [
            "Accuracy of naive_bayes is:  0.8959276018099548 \n",
            "\n",
            "Classification Report:\n",
            "               precision    recall  f1-score   support\n",
            "\n",
            "           0       0.94      0.94      0.94       581\n",
            "           1       0.58      0.59      0.58        82\n",
            "\n",
            "    accuracy                           0.90       663\n",
            "   macro avg       0.76      0.76      0.76       663\n",
            "weighted avg       0.90      0.90      0.90       663\n",
            " \n",
            "\n"
          ]
        },
        {
          "output_type": "stream",
          "name": "stderr",
          "text": [
            "/usr/local/lib/python3.7/dist-packages/sklearn/base.py:451: UserWarning: X does not have valid feature names, but GaussianNB was fitted with feature names\n",
            "  \"X does not have valid feature names, but\"\n",
            "/usr/local/lib/python3.7/dist-packages/mlxtend/plotting/decision_regions.py:244: MatplotlibDeprecationWarning: Passing unsupported keyword arguments to axis() will raise a TypeError in 3.3.\n",
            "  ax.axis(xmin=xx.min(), xmax=xx.max(), y_min=yy.min(), y_max=yy.max())\n"
          ]
        },
        {
          "output_type": "execute_result",
          "data": {
            "text/plain": [
              "<matplotlib.axes._subplots.AxesSubplot at 0x7f1a57fd8c90>"
            ]
          },
          "metadata": {},
          "execution_count": 91
        },
        {
          "output_type": "display_data",
          "data": {
            "text/plain": [
              "<Figure size 432x288 with 1 Axes>"
            ],
            "image/png": "[encoded data removed]"
          },
          "metadata": {
            "needs_background": "light"
          }
        }
      ],
      "source": [
        "from sklearn.naive_bayes import GaussianNB\n",
        "\n",
        "gnb = GaussianNB()\n",
        "\n",
        "gnb.fit(X3_train, y3_train)\n",
        "\n",
        "y_pred_gnb = gnb.predict(X3_test) \n",
        "\n",
        "print(\"Accuracy of naive_bayes is: \",metrics.accuracy_score(y3_test, y_pred_gnb),\"\\n\")\n",
        "print(\"Classification Report:\\n\",metrics.classification_report(y3_test, y_pred_gnb),\"\\n\")\n",
        "\n",
        "plot_decision_regions(XX_train, yy_train, clf=gnb, legend=2)\n"
      ]
    },
    {
      "cell_type": "markdown",
      "source": [
        "**Explanation:**\n",
        "- As we can see the input features are skewed and doesn't follow normality. \n",
        "- The assumption of gaussian naive bayes is all input features must follow \n",
        "gaussian distribution. \n",
        "- The 2nd point is dataset is imbalancedd, and the class 1 labels are more sparse as compared to class 0 labels.\n",
        "- If we consider both the points then the results generated by gaussian naive bayes which is **58%** is acceptable. Because our input features doesnt follow the assumption. So model won't be able to perform ideally. As dataset is imbalance as well the decision boundry we see here is more sparse, but small for class 1. \n",
        "- Overall the results are acceptable as compared to model assumptions but output is poor."
      ],
      "metadata": {
        "id": "BvmJQVRs1fZO"
      },
      "id": "BvmJQVRs1fZO"
    },
    {
      "cell_type": "markdown",
      "id": "5f4e0f4c",
      "metadata": {
        "id": "5f4e0f4c"
      },
      "source": [
        "### f. Construct an LDA classi er and carefully assess its performance. Plot the decision regions in the feature space."
      ]
    },
    {
      "cell_type": "code",
      "execution_count": 92,
      "id": "9d91293d",
      "metadata": {
        "colab": {
          "base_uri": "https://localhost:8080/",
          "height": 606
        },
        "id": "9d91293d",
        "outputId": "34c487d6-b6c2-4a39-9507-46ef5b45fe7e"
      },
      "outputs": [
        {
          "output_type": "stream",
          "name": "stdout",
          "text": [
            "Accuracy of LDA is:  0.8959276018099548 \n",
            "\n",
            "Classification Report:\n",
            "               precision    recall  f1-score   support\n",
            "\n",
            "           0       0.93      0.95      0.94       581\n",
            "           1       0.59      0.50      0.54        82\n",
            "\n",
            "    accuracy                           0.90       663\n",
            "   macro avg       0.76      0.73      0.74       663\n",
            "weighted avg       0.89      0.90      0.89       663\n",
            " \n",
            "\n"
          ]
        },
        {
          "output_type": "stream",
          "name": "stderr",
          "text": [
            "/usr/local/lib/python3.7/dist-packages/sklearn/base.py:451: UserWarning: X does not have valid feature names, but LinearDiscriminantAnalysis was fitted with feature names\n",
            "  \"X does not have valid feature names, but\"\n",
            "/usr/local/lib/python3.7/dist-packages/mlxtend/plotting/decision_regions.py:244: MatplotlibDeprecationWarning: Passing unsupported keyword arguments to axis() will raise a TypeError in 3.3.\n",
            "  ax.axis(xmin=xx.min(), xmax=xx.max(), y_min=yy.min(), y_max=yy.max())\n"
          ]
        },
        {
          "output_type": "execute_result",
          "data": {
            "text/plain": [
              "<matplotlib.axes._subplots.AxesSubplot at 0x7f1a56774310>"
            ]
          },
          "metadata": {},
          "execution_count": 92
        },
        {
          "output_type": "display_data",
          "data": {
            "text/plain": [
              "<Figure size 432x288 with 1 Axes>"
            ],
            "image/png": "[encoded data removed]"
          },
          "metadata": {
            "needs_background": "light"
          }
        }
      ],
      "source": [
        "LDA_clf = LinearDiscriminantAnalysis()\n",
        "model= LDA_clf.fit(X3_train, y3_train)\n",
        "\n",
        "y_pred_LDA = model.predict(X3_test) \n",
        "\n",
        "print(\"Accuracy of LDA is: \",metrics.accuracy_score(y3_test, y_pred_LDA),\"\\n\")\n",
        "print(\"Classification Report:\\n\",metrics.classification_report(y3_test, y_pred_LDA),\"\\n\")\n",
        "\n",
        "plot_decision_regions(XX_train, yy_train, clf=model, legend=2)\n"
      ]
    },
    {
      "cell_type": "markdown",
      "source": [
        "**Explanation:**\n",
        "1. The performance of LDA is not good as compared to output class, as the dataset is not linearly separable.\n",
        "2. The overall f1 score is 53% which is very less."
      ],
      "metadata": {
        "id": "biB0akzX1RVP"
      },
      "id": "biB0akzX1RVP"
    },
    {
      "cell_type": "markdown",
      "id": "7f7daa76",
      "metadata": {
        "id": "7f7daa76"
      },
      "source": [
        "### g. Decision Tree Classifier"
      ]
    },
    {
      "cell_type": "code",
      "execution_count": 93,
      "id": "b94d96ef",
      "metadata": {
        "colab": {
          "base_uri": "https://localhost:8080/"
        },
        "id": "b94d96ef",
        "outputId": "5491cce5-0caf-4d38-83a3-b42ae5da205f"
      },
      "outputs": [
        {
          "output_type": "stream",
          "name": "stdout",
          "text": [
            "Accuracy of Decision Tree Classifier is  0.9502262443438914 \n",
            "\n",
            "Classification Report:\n",
            "               precision    recall  f1-score   support\n",
            "\n",
            "           0       0.97      0.97      0.97       581\n",
            "           1       0.81      0.78      0.80        82\n",
            "\n",
            "    accuracy                           0.95       663\n",
            "   macro avg       0.89      0.88      0.88       663\n",
            "weighted avg       0.95      0.95      0.95       663\n",
            " \n",
            "\n"
          ]
        }
      ],
      "source": [
        "from sklearn.tree import DecisionTreeClassifier\n",
        "Tree_clf = DecisionTreeClassifier(criterion ='entropy', max_leaf_nodes= 20)\n",
        "\n",
        "Tree_clf = Tree_clf.fit(X3_train,y3_train)\n",
        "\n",
        "y_pred_tree = Tree_clf.predict(X3_test)\n",
        "\n",
        "print(\"Accuracy of Decision Tree Classifier is \",metrics.accuracy_score(y3_test, y_pred_tree),\"\\n\")\n",
        "print(\"Classification Report:\\n\",metrics.classification_report(y3_test, y_pred_tree),\"\\n\")\n"
      ]
    },
    {
      "cell_type": "code",
      "execution_count": null,
      "id": "ed2ecee9",
      "metadata": {
        "scrolled": true,
        "id": "ed2ecee9"
      },
      "outputs": [],
      "source": [
        "from sklearn.model_selection import GridSearchCV\n",
        "param_grid1 = {'criterion' :['gini', 'entropy'],'max_leaf_nodes': list(range(2, 100)), 'min_samples_split': [2, 3, 4]}\n",
        "  \n",
        "grid_tree = GridSearchCV(DecisionTreeClassifier(), param_grid1, refit = True, verbose = 3)\n",
        "  \n",
        "grid_tree.fit(X3_train, y3_train)"
      ]
    },
    {
      "cell_type": "code",
      "execution_count": 95,
      "id": "65234fcb",
      "metadata": {
        "colab": {
          "base_uri": "https://localhost:8080/"
        },
        "id": "65234fcb",
        "outputId": "3b75d20e-493c-4f5b-c835-f7801ee9d535"
      },
      "outputs": [
        {
          "output_type": "execute_result",
          "data": {
            "text/plain": [
              "DecisionTreeClassifier(criterion='entropy', max_leaf_nodes=8)"
            ]
          },
          "metadata": {},
          "execution_count": 95
        }
      ],
      "source": [
        "grid_tree.best_estimator_\n"
      ]
    },
    {
      "cell_type": "code",
      "execution_count": 96,
      "id": "8940b58c",
      "metadata": {
        "colab": {
          "base_uri": "https://localhost:8080/"
        },
        "id": "8940b58c",
        "outputId": "f25c3c1d-12a4-45f0-a6c6-5db19812672f"
      },
      "outputs": [
        {
          "output_type": "stream",
          "name": "stdout",
          "text": [
            "Accuracy of Decision Tree Classifier is  0.9532428355957768 \n",
            "\n",
            "Classification Report:\n",
            "               precision    recall  f1-score   support\n",
            "\n",
            "           0       0.96      0.99      0.97       581\n",
            "           1       0.92      0.68      0.78        82\n",
            "\n",
            "    accuracy                           0.95       663\n",
            "   macro avg       0.94      0.84      0.88       663\n",
            "weighted avg       0.95      0.95      0.95       663\n",
            " \n",
            "\n"
          ]
        }
      ],
      "source": [
        "final_tree= DecisionTreeClassifier(max_leaf_nodes=6)\n",
        "\n",
        "final_tree = final_tree.fit(X3_train,y3_train)\n",
        "\n",
        "y_pred_tree1 = final_tree.predict(X3_test)\n",
        "\n",
        "print(\"Accuracy of Decision Tree Classifier is \",metrics.accuracy_score(y3_test, y_pred_tree1),\"\\n\")\n",
        "print(\"Classification Report:\\n\",metrics.classification_report(y3_test, y_pred_tree1),\"\\n\")\n"
      ]
    },
    {
      "cell_type": "markdown",
      "source": [
        "**Explanation:**\n",
        "1. Without hyperparameter tuning **Decision Tree model** is highly overfitting and affected by high variance present in the dataset, mostly due to minority class.\n",
        "2. After hyperpatameter tuning model is not overfitting much generating a close auc score for both train and test dataset.\n",
        "3. Hyperparameter tuning is able to control the overfitting."
      ],
      "metadata": {
        "id": "vJv1hZpu00Pv"
      },
      "id": "vJv1hZpu00Pv"
    },
    {
      "cell_type": "markdown",
      "id": "fa3df454",
      "metadata": {
        "id": "fa3df454"
      },
      "source": [
        "### h. (i)"
      ]
    },
    {
      "cell_type": "code",
      "execution_count": 97,
      "id": "2102fb5a",
      "metadata": {
        "colab": {
          "base_uri": "https://localhost:8080/"
        },
        "id": "2102fb5a",
        "outputId": "42f81ca3-fdc3-4290-df22-6e347a61402a"
      },
      "outputs": [
        {
          "output_type": "stream",
          "name": "stdout",
          "text": [
            "Accuracy of Random Forest Classifier is  0.951734539969834\n",
            "\n",
            "               precision    recall  f1-score   support\n",
            "\n",
            "           0       0.97      0.98      0.97       581\n",
            "           1       0.84      0.76      0.79        82\n",
            "\n",
            "    accuracy                           0.95       663\n",
            "   macro avg       0.90      0.87      0.88       663\n",
            "weighted avg       0.95      0.95      0.95       663\n",
            "\n"
          ]
        }
      ],
      "source": [
        "clf_forest=RandomForestClassifier()\n",
        "clf_forest.fit(X3_train,y3_train)\n",
        "y_pred_forest = clf_forest.predict(X3_test)\n",
        "print(\"Accuracy of Random Forest Classifier is \",metrics.accuracy_score(y3_test, y_pred_forest))\n",
        "print(\"\\n\",metrics.classification_report(y3_test, y_pred_forest))"
      ]
    },
    {
      "cell_type": "markdown",
      "id": "624ce609",
      "metadata": {
        "id": "624ce609"
      },
      "source": [
        "### h. (ii)"
      ]
    },
    {
      "cell_type": "code",
      "execution_count": 98,
      "id": "32e13431",
      "metadata": {
        "colab": {
          "base_uri": "https://localhost:8080/"
        },
        "id": "32e13431",
        "outputId": "29981b50-b3da-4f5c-c48c-3c0246fd94b8"
      },
      "outputs": [
        {
          "output_type": "stream",
          "name": "stdout",
          "text": [
            "Accuracy of Random Forest Classifier is  0.9532428355957768\n",
            "\n",
            "               precision    recall  f1-score   support\n",
            "\n",
            "           0       0.96      0.99      0.97       581\n",
            "           1       0.89      0.71      0.79        82\n",
            "\n",
            "    accuracy                           0.95       663\n",
            "   macro avg       0.93      0.85      0.88       663\n",
            "weighted avg       0.95      0.95      0.95       663\n",
            "\n"
          ]
        }
      ],
      "source": [
        "from sklearn.ensemble import GradientBoostingClassifier\n",
        "gb_clf = GradientBoostingClassifier(n_estimators=20, max_features=2, max_depth=2, random_state=0)\n",
        "gb_clf.fit(X3_train, y3_train)\n",
        "y_pred_gb = gb_clf.predict(X3_test)\n",
        "print(\"Accuracy of Random Forest Classifier is \",metrics.accuracy_score(y3_test, y_pred_gb))\n",
        "print(\"\\n\",metrics.classification_report(y3_test, y_pred_gb))"
      ]
    },
    {
      "cell_type": "markdown",
      "source": [
        "### h(iii)"
      ],
      "metadata": {
        "id": "MWZuFc1xEA2d"
      },
      "id": "MWZuFc1xEA2d"
    },
    {
      "cell_type": "code",
      "source": [
        "from sklearn.ensemble import StackingClassifier\n",
        "\n",
        "lr = LogisticRegression()  \n",
        "\n",
        "estimators = [\n",
        "     ('rf', RandomForestClassifier(max_depth= 100, max_features= 2, min_samples_leaf= 3, min_samples_split= 10, n_estimators= 100) ),\n",
        "     ('DT', DecisionTreeClassifier(max_leaf_nodes=6)),\n",
        "     ('GB', GradientBoostingClassifier(n_estimators=20, max_features=2, max_depth=2, random_state=0) )]\n",
        "      \n",
        "clf_Stack = StackingClassifier(estimators=estimators, final_estimator=LogisticRegression())\n",
        "clf_Stack.fit(X3_train, y3_train)\n",
        "y_pred = clf_Stack.predict(X3_test)\n",
        "print(\"Accuracy : \",clf_Stack.fit(X3_train, y3_train).score(X3_test, y3_test))\n",
        "print(\"\\n\",metrics.classification_report(y3_test, y_pred))"
      ],
      "metadata": {
        "colab": {
          "base_uri": "https://localhost:8080/"
        },
        "id": "YTB4t7BhEEIl",
        "outputId": "514f49e6-74cf-4a69-f873-5c8749e4ddc7"
      },
      "id": "YTB4t7BhEEIl",
      "execution_count": 99,
      "outputs": [
        {
          "output_type": "stream",
          "name": "stdout",
          "text": [
            "Accuracy :  0.9502262443438914\n",
            "\n",
            "               precision    recall  f1-score   support\n",
            "\n",
            "           0       0.96      0.98      0.97       581\n",
            "           1       0.86      0.72      0.78        82\n",
            "\n",
            "    accuracy                           0.95       663\n",
            "   macro avg       0.91      0.85      0.88       663\n",
            "weighted avg       0.95      0.95      0.95       663\n",
            "\n"
          ]
        }
      ]
    },
    {
      "cell_type": "code",
      "source": [],
      "metadata": {
        "id": "iDNdjx_5lL0G"
      },
      "id": "iDNdjx_5lL0G",
      "execution_count": 99,
      "outputs": []
    },
    {
      "cell_type": "markdown",
      "source": [
        "### i. In this problem, if you focus is on the y == 1 class (i.e. delayed gate arrivals), which classifier among all classifiers you constructed in previous parts gives you the highest f1-score for this class?"
      ],
      "metadata": {
        "id": "hdJwvJT8kzdL"
      },
      "id": "hdJwvJT8kzdL"
    },
    {
      "cell_type": "markdown",
      "source": [
        "**Answer:**\n",
        "\n",
        "1. We can see here that the best model to generate high f1 score is **Random Forest Classifier** with 81% f1 score for y==1.\n",
        "2. And the model with least f1 score is **svc sigmoid** model with 13% for y==1."
      ],
      "metadata": {
        "id": "s5Vlr2lwk1qH"
      },
      "id": "s5Vlr2lwk1qH"
    },
    {
      "cell_type": "markdown",
      "id": "c641abed",
      "metadata": {
        "id": "c641abed"
      },
      "source": [
        "# Question 6\n",
        "Ensemble Methods Applied to Regression Problems: Consider the same dataset (GateArrivalDelay.csv) in problem 4 of HW 1. Use one of the ensemble learning methods for regression to construct a model whose accuracy (R2-Score) beats the highest accuracy you could acheive in HW1. Make sure the model you constuct in the problem is not suffering from a severe high variance problem."
      ]
    },
    {
      "cell_type": "code",
      "source": [
        "from sklearn.ensemble import RandomForestClassifier, RandomForestRegressor\n",
        "from sklearn.metrics import r2_score\n"
      ],
      "metadata": {
        "id": "JBU583ylhq1n"
      },
      "id": "JBU583ylhq1n",
      "execution_count": 100,
      "outputs": []
    },
    {
      "cell_type": "code",
      "source": [
        "df_1 = pd.read_csv('https://raw.githubusercontent.com/SravaniRVS/DATA602/main/Homeworks/GateArrivalDelay.csv')\n",
        "df_1.head()"
      ],
      "metadata": {
        "colab": {
          "base_uri": "https://localhost:8080/",
          "height": 374
        },
        "id": "xYb1RVXEfOUP",
        "outputId": "6e3af714-330b-421b-ea7d-cd82a69fe65c"
      },
      "id": "xYb1RVXEfOUP",
      "execution_count": 102,
      "outputs": [
        {
          "output_type": "execute_result",
          "data": {
            "text/plain": [
              "             Date_Time  % On-TimeGateArrivals  AverageBlockDelay  \\\n",
              "0  2019-03-01 00:00:00                  90.00               7.70   \n",
              "1  2019-03-02 00:00:00                  72.73               0.91   \n",
              "2  2019-03-03 00:00:00                  75.00               1.00   \n",
              "3  2019-03-04 00:00:00                  83.33               1.50   \n",
              "4  2019-03-05 00:00:00                  90.91               0.64   \n",
              "\n",
              "   AverageTaxiInDelay  AverageAirborneDelay  AverageAirportDepartureDelay  \\\n",
              "0                9.47                  0.60                         13.67   \n",
              "1                2.55                  0.00                         13.17   \n",
              "2                0.91                  0.00                         25.50   \n",
              "3                1.13                  3.00                         26.75   \n",
              "4                1.38                  1.27                         15.00   \n",
              "\n",
              "   AverageGateDepartureDelay  AverageGateArrivalDelay  \n",
              "0                       6.67                     4.70  \n",
              "1                       5.33                    14.73  \n",
              "2                      14.00                    11.38  \n",
              "3                      17.50                     7.08  \n",
              "4                      12.50                     4.09  "
            ],
            "text/html": [
              "\n",
              "  <div id=\"df-ceffd4c3-24c3-42cc-ba7d-739a407da8af\">\n",
              "    <div class=\"colab-df-container\">\n",
              "      <div>\n",
              "<style scoped>\n",
              "    .dataframe tbody tr th:only-of-type {\n",
              "        vertical-align: middle;\n",
              "    }\n",
              "\n",
              "    .dataframe tbody tr th {\n",
              "        vertical-align: top;\n",
              "    }\n",
              "\n",
              "    .dataframe thead th {\n",
              "        text-align: right;\n",
              "    }\n",
              "</style>\n",
              "<table border=\"1\" class=\"dataframe\">\n",
              "  <thead>\n",
              "    <tr style=\"text-align: right;\">\n",
              "      <th></th>\n",
              "      <th>Date_Time</th>\n",
              "      <th>% On-TimeGateArrivals</th>\n",
              "      <th>AverageBlockDelay</th>\n",
              "      <th>AverageTaxiInDelay</th>\n",
              "      <th>AverageAirborneDelay</th>\n",
              "      <th>AverageAirportDepartureDelay</th>\n",
              "      <th>AverageGateDepartureDelay</th>\n",
              "      <th>AverageGateArrivalDelay</th>\n",
              "    </tr>\n",
              "  </thead>\n",
              "  <tbody>\n",
              "    <tr>\n",
              "      <th>0</th>\n",
              "      <td>2019-03-01 00:00:00</td>\n",
              "      <td>90.00</td>\n",
              "      <td>7.70</td>\n",
              "      <td>9.47</td>\n",
              "      <td>0.60</td>\n",
              "      <td>13.67</td>\n",
              "      <td>6.67</td>\n",
              "      <td>4.70</td>\n",
              "    </tr>\n",
              "    <tr>\n",
              "      <th>1</th>\n",
              "      <td>2019-03-02 00:00:00</td>\n",
              "      <td>72.73</td>\n",
              "      <td>0.91</td>\n",
              "      <td>2.55</td>\n",
              "      <td>0.00</td>\n",
              "      <td>13.17</td>\n",
              "      <td>5.33</td>\n",
              "      <td>14.73</td>\n",
              "    </tr>\n",
              "    <tr>\n",
              "      <th>2</th>\n",
              "      <td>2019-03-03 00:00:00</td>\n",
              "      <td>75.00</td>\n",
              "      <td>1.00</td>\n",
              "      <td>0.91</td>\n",
              "      <td>0.00</td>\n",
              "      <td>25.50</td>\n",
              "      <td>14.00</td>\n",
              "      <td>11.38</td>\n",
              "    </tr>\n",
              "    <tr>\n",
              "      <th>3</th>\n",
              "      <td>2019-03-04 00:00:00</td>\n",
              "      <td>83.33</td>\n",
              "      <td>1.50</td>\n",
              "      <td>1.13</td>\n",
              "      <td>3.00</td>\n",
              "      <td>26.75</td>\n",
              "      <td>17.50</td>\n",
              "      <td>7.08</td>\n",
              "    </tr>\n",
              "    <tr>\n",
              "      <th>4</th>\n",
              "      <td>2019-03-05 00:00:00</td>\n",
              "      <td>90.91</td>\n",
              "      <td>0.64</td>\n",
              "      <td>1.38</td>\n",
              "      <td>1.27</td>\n",
              "      <td>15.00</td>\n",
              "      <td>12.50</td>\n",
              "      <td>4.09</td>\n",
              "    </tr>\n",
              "  </tbody>\n",
              "</table>\n",
              "</div>\n",
              "      <button class=\"colab-df-convert\" onclick=\"convertToInteractive('df-ceffd4c3-24c3-42cc-ba7d-739a407da8af')\"\n",
              "              title=\"Convert this dataframe to an interactive table.\"\n",
              "              style=\"display:none;\">\n",
              "        \n",
              "  <svg xmlns=\"http://www.w3.org/2000/svg\" height=\"24px\"viewBox=\"0 0 24 24\"\n",
              "       width=\"24px\">\n",
              "    <path d=\"M0 0h24v24H0V0z\" fill=\"none\"/>\n",
              "    <path d=\"M18.56 5.44l.94 2.06.94-2.06 2.06-.94-2.06-.94-.94-2.06-.94 2.06-2.06.94zm-11 1L8.5 8.5l.94-2.06 2.06-.94-2.06-.94L8.5 2.5l-.94 2.06-2.06.94zm10 10l.94 2.06.94-2.06 2.06-.94-2.06-.94-.94-2.06-.94 2.06-2.06.94z\"/><path d=\"M17.41 7.96l-1.37-1.37c-.4-.4-.92-.59-1.43-.59-.52 0-1.04.2-1.43.59L10.3 9.45l-7.72 7.72c-.78.78-.78 2.05 0 2.83L4 21.41c.39.39.9.59 1.41.59.51 0 1.02-.2 1.41-.59l7.78-7.78 2.81-2.81c.8-.78.8-2.07 0-2.86zM5.41 20L4 18.59l7.72-7.72 1.47 1.35L5.41 20z\"/>\n",
              "  </svg>\n",
              "      </button>\n",
              "      \n",
              "  <style>\n",
              "    .colab-df-container {\n",
              "      display:flex;\n",
              "      flex-wrap:wrap;\n",
              "      gap: 12px;\n",
              "    }\n",
              "\n",
              "    .colab-df-convert {\n",
              "      background-color: #E8F0FE;\n",
              "      border: none;\n",
              "      border-radius: 50%;\n",
              "      cursor: pointer;\n",
              "      display: none;\n",
              "      fill: #1967D2;\n",
              "      height: 32px;\n",
              "      padding: 0 0 0 0;\n",
              "      width: 32px;\n",
              "    }\n",
              "\n",
              "    .colab-df-convert:hover {\n",
              "      background-color: #E2EBFA;\n",
              "      box-shadow: 0px 1px 2px rgba(60, 64, 67, 0.3), 0px 1px 3px 1px rgba(60, 64, 67, 0.15);\n",
              "      fill: #174EA6;\n",
              "    }\n",
              "\n",
              "    [theme=dark] .colab-df-convert {\n",
              "      background-color: #3B4455;\n",
              "      fill: #D2E3FC;\n",
              "    }\n",
              "\n",
              "    [theme=dark] .colab-df-convert:hover {\n",
              "      background-color: #434B5C;\n",
              "      box-shadow: 0px 1px 3px 1px rgba(0, 0, 0, 0.15);\n",
              "      filter: drop-shadow(0px 1px 2px rgba(0, 0, 0, 0.3));\n",
              "      fill: #FFFFFF;\n",
              "    }\n",
              "  </style>\n",
              "\n",
              "      <script>\n",
              "        const buttonEl =\n",
              "          document.querySelector('#df-ceffd4c3-24c3-42cc-ba7d-739a407da8af button.colab-df-convert');\n",
              "        buttonEl.style.display =\n",
              "          google.colab.kernel.accessAllowed ? 'block' : 'none';\n",
              "\n",
              "        async function convertToInteractive(key) {\n",
              "          const element = document.querySelector('#df-ceffd4c3-24c3-42cc-ba7d-739a407da8af');\n",
              "          const dataTable =\n",
              "            await google.colab.kernel.invokeFunction('convertToInteractive',\n",
              "                                                     [key], {});\n",
              "          if (!dataTable) return;\n",
              "\n",
              "          const docLinkHtml = 'Like what you see? Visit the ' +\n",
              "            '<a target=\"_blank\" href=https://colab.research.google.com/notebooks/data_table.ipynb>data table notebook</a>'\n",
              "            + ' to learn more about interactive tables.';\n",
              "          element.innerHTML = '';\n",
              "          dataTable['output_type'] = 'display_data';\n",
              "          await google.colab.output.renderOutput(dataTable, element);\n",
              "          const docLink = document.createElement('div');\n",
              "          docLink.innerHTML = docLinkHtml;\n",
              "          element.appendChild(docLink);\n",
              "        }\n",
              "      </script>\n",
              "    </div>\n",
              "  </div>\n",
              "  "
            ]
          },
          "metadata": {},
          "execution_count": 102
        }
      ]
    },
    {
      "cell_type": "code",
      "source": [
        "X = df_1.drop(columns = ['Date_Time', 'AverageGateArrivalDelay'])\n",
        "y = df_1['AverageGateArrivalDelay']\n",
        "\n",
        "## split the dataset using train test split\n",
        "X_train, X_test, Y_train, Y_test = train_test_split(X, y, test_size=0.20, random_state = 42)\n",
        "X_train.shape, X_test.shape, Y_train.shape, Y_test.shape"
      ],
      "metadata": {
        "colab": {
          "base_uri": "https://localhost:8080/"
        },
        "id": "0PnQrvQufORp",
        "outputId": "87e3330f-55d5-4682-e760-c45b518111b9"
      },
      "id": "0PnQrvQufORp",
      "execution_count": 103,
      "outputs": [
        {
          "output_type": "execute_result",
          "data": {
            "text/plain": [
              "((1765, 6), (442, 6), (1765,), (442,))"
            ]
          },
          "metadata": {},
          "execution_count": 103
        }
      ]
    },
    {
      "cell_type": "code",
      "source": [
        "parameters =  {'n_estimators': [100, 300, 500],\n",
        "               'max_depth': [60, 6, 7, 8, 9 ,10],\n",
        "               'min_samples_split': [2, 5, 10], \n",
        "               'min_samples_leaf': [1, 2, 3],\n",
        "               'random_state':[1]}\n",
        "\n",
        "forest_model = RandomForestRegressor()\n",
        "\n",
        "#fitting the model\n",
        "clf2 = GridSearchCV(forest_model, parameters, cv=8, scoring='r2', verbose=1, n_jobs=-1)\n",
        "clf2.fit(X_train, Y_train)\n",
        "\n",
        "randon_forest = clf2.best_estimator_\n",
        "randon_forest.fit(X_train, Y_train)\n",
        "\n",
        "## getting prediction\n",
        "y_pred_train = randon_forest.predict(X_train)\n",
        "y_pred = randon_forest.predict(X_test)\n",
        "\n",
        "acc_train = metrics.r2_score(Y_train, y_pred_train)\n",
        "acc_test = metrics.r2_score(Y_test, y_pred)\n"
      ],
      "metadata": {
        "id": "Ke1NPuzAfOOw"
      },
      "id": "Ke1NPuzAfOOw",
      "execution_count": null,
      "outputs": []
    },
    {
      "cell_type": "code",
      "source": [
        "print(f\"Accuracy Score of Train Data: {acc_train : .4f} \\nAccuracy Score of Test Data :{acc_test : .4f}\\n\")\n"
      ],
      "metadata": {
        "colab": {
          "base_uri": "https://localhost:8080/"
        },
        "id": "FUkd4hvvgVkp",
        "outputId": "ba176ced-46e6-4671-b43c-f5ff88093a9e"
      },
      "id": "FUkd4hvvgVkp",
      "execution_count": 114,
      "outputs": [
        {
          "output_type": "stream",
          "name": "stdout",
          "text": [
            "Accuracy Score of Train Data:  0.9448 \n",
            "Accuracy Score of Test Data : 0.7811\n",
            "\n"
          ]
        }
      ]
    },
    {
      "cell_type": "markdown",
      "source": [
        "**Explanation:**\n",
        "\n",
        "- The highest accuracy score I achieved in HW1 is **70.27%**. As we can see here this model's accuracy score has surpassed that comfortably."
      ],
      "metadata": {
        "id": "SjJPJqH09OmR"
      },
      "id": "SjJPJqH09OmR"
    }
  ],
  "metadata": {
    "kernelspec": {
      "display_name": "Python 3 (ipykernel)",
      "language": "python",
      "name": "python3"
    },
    "language_info": {
      "codemirror_mode": {
        "name": "ipython",
        "version": 3
      },
      "file_extension": ".py",
      "mimetype": "text/x-python",
      "name": "python",
      "nbconvert_exporter": "python",
      "pygments_lexer": "ipython3",
      "version": "3.9.12"
    },
    "colab": {
      "provenance": [],
      "collapsed_sections": [
        "9cdb830b",
        "0fd95672",
        "a2aa48d7",
        "e0e0a26a",
        "e5d7a09b"
      ]
    }
  },
  "nbformat": 4,
  "nbformat_minor": 5
}