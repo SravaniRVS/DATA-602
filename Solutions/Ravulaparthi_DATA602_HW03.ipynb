{
  "cells": [
    {
      "cell_type": "markdown",
      "metadata": {
        "id": "5AIiag5ga_I8"
      },
      "source": [
        "# Question 1: Breast Cancer Data using Classification Model"
      ]
    },
    {
      "cell_type": "code",
      "execution_count": 333,
      "metadata": {
        "id": "kPos0F4ra_I-"
      },
      "outputs": [],
      "source": [
        "import pandas as pd\n",
        "import numpy as np\n",
        "\n",
        "from sklearn.datasets import load_breast_cancer\n",
        "\n",
        "breast_cancer_dataset = load_breast_cancer() #loading the dataset"
      ]
    },
    {
      "cell_type": "code",
      "execution_count": 334,
      "metadata": {
        "colab": {
          "base_uri": "https://localhost:8080/"
        },
        "id": "1GxREkeNBdlP",
        "outputId": "cdbccdc7-c268-453a-eb52-b6ba6cf74153"
      },
      "outputs": [
        {
          "output_type": "stream",
          "name": "stdout",
          "text": [
            ".. _breast_cancer_dataset:\n",
            "\n",
            "Breast cancer wisconsin (diagnostic) dataset\n",
            "--------------------------------------------\n",
            "\n",
            "**Data Set Characteristics:**\n",
            "\n",
            "    :Number of Instances: 569\n",
            "\n",
            "    :Number of Attributes: 30 numeric, predictive attributes and the class\n",
            "\n",
            "    :Attribute Information:\n",
            "        - radius (mean of distances from center to points on the perimeter)\n",
            "        - texture (standard deviation of gray-scale values)\n",
            "        - perimeter\n",
            "        - area\n",
            "        - smoothness (local variation in radius lengths)\n",
            "        - compactness (perimeter^2 / area - 1.0)\n",
            "        - concavity (severity of concave portions of the contour)\n",
            "        - concave points (number of concave portions of the contour)\n",
            "        - symmetry\n",
            "        - fractal dimension (\"coastline approximation\" - 1)\n",
            "\n",
            "        The mean, standard error, and \"worst\" or largest (mean of the three\n",
            "        worst/largest values) of these features were computed for each image,\n",
            "        resulting in 30 features.  For instance, field 0 is Mean Radius, field\n",
            "        10 is Radius SE, field 20 is Worst Radius.\n",
            "\n",
            "        - class:\n",
            "                - WDBC-Malignant\n",
            "                - WDBC-Benign\n",
            "\n",
            "    :Summary Statistics:\n",
            "\n",
            "    ===================================== ====== ======\n",
            "                                           Min    Max\n",
            "    ===================================== ====== ======\n",
            "    radius (mean):                        6.981  28.11\n",
            "    texture (mean):                       9.71   39.28\n",
            "    perimeter (mean):                     43.79  188.5\n",
            "    area (mean):                          143.5  2501.0\n",
            "    smoothness (mean):                    0.053  0.163\n",
            "    compactness (mean):                   0.019  0.345\n",
            "    concavity (mean):                     0.0    0.427\n",
            "    concave points (mean):                0.0    0.201\n",
            "    symmetry (mean):                      0.106  0.304\n",
            "    fractal dimension (mean):             0.05   0.097\n",
            "    radius (standard error):              0.112  2.873\n",
            "    texture (standard error):             0.36   4.885\n",
            "    perimeter (standard error):           0.757  21.98\n",
            "    area (standard error):                6.802  542.2\n",
            "    smoothness (standard error):          0.002  0.031\n",
            "    compactness (standard error):         0.002  0.135\n",
            "    concavity (standard error):           0.0    0.396\n",
            "    concave points (standard error):      0.0    0.053\n",
            "    symmetry (standard error):            0.008  0.079\n",
            "    fractal dimension (standard error):   0.001  0.03\n",
            "    radius (worst):                       7.93   36.04\n",
            "    texture (worst):                      12.02  49.54\n",
            "    perimeter (worst):                    50.41  251.2\n",
            "    area (worst):                         185.2  4254.0\n",
            "    smoothness (worst):                   0.071  0.223\n",
            "    compactness (worst):                  0.027  1.058\n",
            "    concavity (worst):                    0.0    1.252\n",
            "    concave points (worst):               0.0    0.291\n",
            "    symmetry (worst):                     0.156  0.664\n",
            "    fractal dimension (worst):            0.055  0.208\n",
            "    ===================================== ====== ======\n",
            "\n",
            "    :Missing Attribute Values: None\n",
            "\n",
            "    :Class Distribution: 212 - Malignant, 357 - Benign\n",
            "\n",
            "    :Creator:  Dr. William H. Wolberg, W. Nick Street, Olvi L. Mangasarian\n",
            "\n",
            "    :Donor: Nick Street\n",
            "\n",
            "    :Date: November, 1995\n",
            "\n",
            "This is a copy of UCI ML Breast Cancer Wisconsin (Diagnostic) datasets.\n",
            "https://goo.gl/U2Uwz2\n",
            "\n",
            "Features are computed from a digitized image of a fine needle\n",
            "aspirate (FNA) of a breast mass.  They describe\n",
            "characteristics of the cell nuclei present in the image.\n",
            "\n",
            "Separating plane described above was obtained using\n",
            "Multisurface Method-Tree (MSM-T) [K. P. Bennett, \"Decision Tree\n",
            "Construction Via Linear Programming.\" Proceedings of the 4th\n",
            "Midwest Artificial Intelligence and Cognitive Science Society,\n",
            "pp. 97-101, 1992], a classification method which uses linear\n",
            "programming to construct a decision tree.  Relevant features\n",
            "were selected using an exhaustive search in the space of 1-4\n",
            "features and 1-3 separating planes.\n",
            "\n",
            "The actual linear program used to obtain the separating plane\n",
            "in the 3-dimensional space is that described in:\n",
            "[K. P. Bennett and O. L. Mangasarian: \"Robust Linear\n",
            "Programming Discrimination of Two Linearly Inseparable Sets\",\n",
            "Optimization Methods and Software 1, 1992, 23-34].\n",
            "\n",
            "This database is also available through the UW CS ftp server:\n",
            "\n",
            "ftp ftp.cs.wisc.edu\n",
            "cd math-prog/cpo-dataset/machine-learn/WDBC/\n",
            "\n",
            ".. topic:: References\n",
            "\n",
            "   - W.N. Street, W.H. Wolberg and O.L. Mangasarian. Nuclear feature extraction \n",
            "     for breast tumor diagnosis. IS&T/SPIE 1993 International Symposium on \n",
            "     Electronic Imaging: Science and Technology, volume 1905, pages 861-870,\n",
            "     San Jose, CA, 1993.\n",
            "   - O.L. Mangasarian, W.N. Street and W.H. Wolberg. Breast cancer diagnosis and \n",
            "     prognosis via linear programming. Operations Research, 43(4), pages 570-577, \n",
            "     July-August 1995.\n",
            "   - W.H. Wolberg, W.N. Street, and O.L. Mangasarian. Machine learning techniques\n",
            "     to diagnose breast cancer from fine-needle aspirates. Cancer Letters 77 (1994) \n",
            "     163-171.\n"
          ]
        }
      ],
      "source": [
        "print(breast_cancer_dataset.DESCR) "
      ]
    },
    {
      "cell_type": "code",
      "execution_count": 335,
      "metadata": {
        "colab": {
          "base_uri": "https://localhost:8080/"
        },
        "id": "zneqbFFAa_I_",
        "outputId": "6ebd96c7-c1cd-4f72-c5f0-7dbb33914cee"
      },
      "outputs": [
        {
          "output_type": "execute_result",
          "data": {
            "text/plain": [
              "dict_keys(['data', 'target', 'frame', 'target_names', 'DESCR', 'feature_names', 'filename', 'data_module'])"
            ]
          },
          "metadata": {},
          "execution_count": 335
        }
      ],
      "source": [
        "breast_cancer_dataset.keys()"
      ]
    },
    {
      "cell_type": "code",
      "execution_count": 335,
      "metadata": {
        "id": "BjedDJRfa_I_"
      },
      "outputs": [],
      "source": []
    },
    {
      "cell_type": "code",
      "execution_count": 336,
      "metadata": {
        "id": "iGo9SGIo9LvB"
      },
      "outputs": [],
      "source": [
        "target_data = breast_cancer_dataset.target\n",
        "#target_data"
      ]
    },
    {
      "cell_type": "code",
      "execution_count": 337,
      "metadata": {
        "colab": {
          "base_uri": "https://localhost:8080/"
        },
        "id": "T0jOzosua_JA",
        "outputId": "3007f75d-4d8b-4e3f-e09d-064a80ab90be"
      },
      "outputs": [
        {
          "output_type": "execute_result",
          "data": {
            "text/plain": [
              "(569, 30)"
            ]
          },
          "metadata": {},
          "execution_count": 337
        }
      ],
      "source": [
        "breast_cancer_dataset.data.shape  #loading the shape of the dataframe"
      ]
    },
    {
      "cell_type": "markdown",
      "metadata": {
        "id": "qs4ClQ7ma_JB"
      },
      "source": [
        "### a) How many features does the breast cancer dataset possess? Specify the nature of the classification problem (i.e. binary vs. multinomial, and balanced vs. unbalanced)."
      ]
    },
    {
      "cell_type": "code",
      "execution_count": 338,
      "metadata": {
        "colab": {
          "base_uri": "https://localhost:8080/"
        },
        "id": "5CKNxkhha_JB",
        "outputId": "edc80a60-2780-46f2-d98e-5c6709597452"
      },
      "outputs": [
        {
          "output_type": "execute_result",
          "data": {
            "text/plain": [
              "array(['mean radius', 'mean texture', 'mean perimeter', 'mean area',\n",
              "       'mean smoothness', 'mean compactness', 'mean concavity',\n",
              "       'mean concave points', 'mean symmetry', 'mean fractal dimension',\n",
              "       'radius error', 'texture error', 'perimeter error', 'area error',\n",
              "       'smoothness error', 'compactness error', 'concavity error',\n",
              "       'concave points error', 'symmetry error',\n",
              "       'fractal dimension error', 'worst radius', 'worst texture',\n",
              "       'worst perimeter', 'worst area', 'worst smoothness',\n",
              "       'worst compactness', 'worst concavity', 'worst concave points',\n",
              "       'worst symmetry', 'worst fractal dimension'], dtype='<U23')"
            ]
          },
          "metadata": {},
          "execution_count": 338
        }
      ],
      "source": [
        "column_names = breast_cancer_dataset.feature_names #loading the feature names\n",
        "column_names"
      ]
    },
    {
      "cell_type": "code",
      "execution_count": 339,
      "metadata": {
        "colab": {
          "base_uri": "https://localhost:8080/"
        },
        "id": "-VEJ6Fx-NM51",
        "outputId": "f1a53812-17e3-4a2e-df1c-f43465ca3ad9"
      },
      "outputs": [
        {
          "output_type": "stream",
          "name": "stdout",
          "text": [
            "Total number of features in the breast cancer dataset:  30\n"
          ]
        }
      ],
      "source": [
        "print(\"Total number of features in the breast cancer dataset: \", len(column_names))"
      ]
    },
    {
      "cell_type": "code",
      "execution_count": 340,
      "metadata": {
        "colab": {
          "base_uri": "https://localhost:8080/"
        },
        "id": "rnEpK3C7_f46",
        "outputId": "37ffba84-6889-421e-e13c-d2cc9c8b9cb1"
      },
      "outputs": [
        {
          "output_type": "execute_result",
          "data": {
            "text/plain": [
              "array(['malignant', 'benign'], dtype='<U9')"
            ]
          },
          "metadata": {},
          "execution_count": 340
        }
      ],
      "source": [
        "target_names = breast_cancer_dataset.target_names  #loading the target names\n",
        "target_names"
      ]
    },
    {
      "cell_type": "markdown",
      "metadata": {
        "id": "ZfnXX-cfAf_2"
      },
      "source": [
        "As we can clearly see here, Target has two variables: malignant and bengin. Which makes it a classic binary classification."
      ]
    },
    {
      "cell_type": "code",
      "execution_count": 341,
      "metadata": {
        "colab": {
          "base_uri": "https://localhost:8080/",
          "height": 283
        },
        "id": "0iSX8cd7Av-Z",
        "outputId": "5111d451-ede1-4e79-9024-f35102ced2a9"
      },
      "outputs": [
        {
          "output_type": "execute_result",
          "data": {
            "text/plain": [
              "<matplotlib.axes._subplots.AxesSubplot at 0x7f84dd7593a0>"
            ]
          },
          "metadata": {},
          "execution_count": 341
        },
        {
          "output_type": "display_data",
          "data": {
            "text/plain": [
              "<Figure size 432x288 with 1 Axes>"
            ],
            "image/png": "[encoded data removed]"
          },
          "metadata": {
            "needs_background": "light"
          }
        }
      ],
      "source": [
        "import seaborn as sns\n",
        "\n",
        "sns.countplot(x=breast_cancer_dataset[\"target\"])\n"
      ]
    },
    {
      "cell_type": "markdown",
      "metadata": {
        "id": "iz-aQViJa_JB"
      },
      "source": [
        "In this dataset we learn from it's description that in 'target' 0 - malignant and 1 - bengin. From the countplot above we can see that there are around 200 malignant and around 350 are bengin. Which clearly means it is an unbalanced dataset. \n",
        "\n"
      ]
    },
    {
      "cell_type": "markdown",
      "metadata": {
        "id": "chhdr4wia_JD"
      },
      "source": [
        "### b) Implement a random forest classiffier on the whole dataset and identify the 10 most relevant features. For the rest of the problem, focus on these 10 features.\n",
        "\n",
        "\n"
      ]
    },
    {
      "cell_type": "code",
      "execution_count": 342,
      "metadata": {
        "colab": {
          "base_uri": "https://localhost:8080/"
        },
        "id": "aswZUjdaC3aY",
        "outputId": "be3704fa-841c-448d-b915-f1fd193f5c9b"
      },
      "outputs": [
        {
          "output_type": "execute_result",
          "data": {
            "text/plain": [
              "array([[1.799e+01, 1.038e+01, 1.228e+02, ..., 2.654e-01, 4.601e-01,\n",
              "        1.189e-01],\n",
              "       [2.057e+01, 1.777e+01, 1.329e+02, ..., 1.860e-01, 2.750e-01,\n",
              "        8.902e-02],\n",
              "       [1.969e+01, 2.125e+01, 1.300e+02, ..., 2.430e-01, 3.613e-01,\n",
              "        8.758e-02],\n",
              "       ...,\n",
              "       [1.660e+01, 2.808e+01, 1.083e+02, ..., 1.418e-01, 2.218e-01,\n",
              "        7.820e-02],\n",
              "       [2.060e+01, 2.933e+01, 1.401e+02, ..., 2.650e-01, 4.087e-01,\n",
              "        1.240e-01],\n",
              "       [7.760e+00, 2.454e+01, 4.792e+01, ..., 0.000e+00, 2.871e-01,\n",
              "        7.039e-02]])"
            ]
          },
          "metadata": {},
          "execution_count": 342
        }
      ],
      "source": [
        "columns_data = breast_cancer_dataset.data\n",
        "columns_data"
      ]
    },
    {
      "cell_type": "markdown",
      "metadata": {
        "id": "7QzriFD2jdaz"
      },
      "source": [
        "**Split Data into a trainning and testing sets**"
      ]
    },
    {
      "cell_type": "code",
      "execution_count": 343,
      "metadata": {
        "id": "X12UNnbWjXx2"
      },
      "outputs": [],
      "source": [
        "from sklearn.model_selection import train_test_split\n",
        "\n",
        "#spliting the dataset\n",
        "X_train, X_test, y_train, y_test = train_test_split(columns_data, target_data, test_size = 0.2, random_state = 34)"
      ]
    },
    {
      "cell_type": "code",
      "execution_count": 344,
      "metadata": {
        "colab": {
          "base_uri": "https://localhost:8080/"
        },
        "id": "4MTQhW-Oa_JD",
        "outputId": "3575fc28-748e-44b6-a9e4-159786e6c0d4"
      },
      "outputs": [
        {
          "output_type": "stream",
          "name": "stdout",
          "text": [
            "Accuracy Score of Random Forest is : 0.956140350877193\n",
            "Classification Report : \n",
            "              precision    recall  f1-score   support\n",
            "\n",
            "           0       0.95      0.92      0.93        38\n",
            "           1       0.96      0.97      0.97        76\n",
            "\n",
            "    accuracy                           0.96       114\n",
            "   macro avg       0.95      0.95      0.95       114\n",
            "weighted avg       0.96      0.96      0.96       114\n",
            "\n"
          ]
        }
      ],
      "source": [
        "from sklearn.ensemble import RandomForestClassifier\n",
        "from sklearn.metrics import classification_report, accuracy_score,confusion_matrix\n",
        "import warnings\n",
        "warnings.filterwarnings('ignore')\n",
        "rd = RandomForestClassifier(n_estimators=300, max_depth = 5,  min_samples_split = 3) #Implimenting the random forest model\n",
        "rd.fit(X_train,y_train)#fiting the model\n",
        "rd_pred = rd.predict(X_test)\n",
        "\n",
        "rd_acc = accuracy_score(y_test, rd_pred)\n",
        "clf_rd = classification_report(y_test, rd_pred)\n",
        "print(f\"Accuracy Score of Random Forest is : {rd_acc}\")\n",
        "print(f\"Classification Report : \\n{clf_rd}\")"
      ]
    },
    {
      "cell_type": "code",
      "execution_count": 345,
      "metadata": {
        "colab": {
          "base_uri": "https://localhost:8080/"
        },
        "id": "csZOdrJ4gOwn",
        "outputId": "849b1fc6-d0d2-4a5c-8f36-1181040dc9f4"
      },
      "outputs": [
        {
          "output_type": "stream",
          "name": "stdout",
          "text": [
            "           Feature_Names  Importance\n",
            "23            worst area    0.136974\n",
            "22       worst perimeter    0.128080\n",
            "27  worst concave points    0.121523\n",
            "7    mean concave points    0.103737\n",
            "20          worst radius    0.089648\n",
            "6         mean concavity    0.060605\n",
            "3              mean area    0.056774\n",
            "2         mean perimeter    0.051247\n",
            "26       worst concavity    0.038936\n",
            "0            mean radius    0.036262\n"
          ]
        }
      ],
      "source": [
        "#identifying the ten most relevant features\n",
        "important = list(rd.feature_importances_)\n",
        "names = list(column_names)\n",
        "df = {'Feature_Names': names,'Importance': important}\n",
        "df = pd.DataFrame(df)  \n",
        "\n",
        "df_sort = df.sort_values(by='Importance',ascending=False) #sorting the dataframe\n",
        "print(df_sort[:10]) #printing the 10 relevant features"
      ]
    },
    {
      "cell_type": "code",
      "execution_count": 346,
      "metadata": {
        "colab": {
          "base_uri": "https://localhost:8080/"
        },
        "id": "sNfXwbz4RnhX",
        "outputId": "0e63a839-77ea-4c01-e0d1-34e9aebd33bc"
      },
      "outputs": [
        {
          "output_type": "execute_result",
          "data": {
            "text/plain": [
              "Int64Index([23, 22, 27, 7, 20, 6, 3, 2, 26, 0], dtype='int64')"
            ]
          },
          "metadata": {},
          "execution_count": 346
        }
      ],
      "source": [
        "p = df_sort.index[:10]\n",
        "p"
      ]
    },
    {
      "cell_type": "markdown",
      "metadata": {
        "id": "C1LknPQMNgjH"
      },
      "source": [
        "### c) Split the data into train and test with the test size being 0:2 of the size of the whole dataset."
      ]
    },
    {
      "cell_type": "code",
      "execution_count": 347,
      "metadata": {
        "id": "EzwiAdOLP0eH"
      },
      "outputs": [],
      "source": [
        "columns_data = np.array(columns_data)[:, p] #selecting the top 10 important features\n",
        "column_names = list(df_sort.copy().Feature_Names[:10])#geting feature names"
      ]
    },
    {
      "cell_type": "code",
      "execution_count": 348,
      "metadata": {
        "id": "t-lWwRxVNMvJ"
      },
      "outputs": [],
      "source": [
        "from sklearn.preprocessing import OneHotEncoder\n",
        "def encode(y):\n",
        "  enc = OneHotEncoder(handle_unknown='ignore')\n",
        "  x = np.array(y)\n",
        "  x = x.reshape(-1, 1)\n",
        "  y = enc.fit_transform(x).toarray()\n",
        "  return y\n",
        "y = encode(target_data) #calling the function to encute the one-hot-encoding"
      ]
    },
    {
      "cell_type": "code",
      "execution_count": 349,
      "metadata": {
        "id": "scwmDXRHNMrf"
      },
      "outputs": [],
      "source": [
        "#spliting the dataset\n",
        "X_train, X_test, y_train, y_test = train_test_split(columns_data, target_data, test_size = 0.2, random_state = 38)"
      ]
    },
    {
      "cell_type": "markdown",
      "metadata": {
        "id": "a0cGH8YGa_JD"
      },
      "source": [
        "### d) Build a Neural Network Model"
      ]
    },
    {
      "cell_type": "code",
      "execution_count": 350,
      "metadata": {
        "id": "UUIbv26ZQ3vU"
      },
      "outputs": [],
      "source": [
        "#!pip install tensorflow"
      ]
    },
    {
      "cell_type": "code",
      "execution_count": 351,
      "metadata": {
        "id": "tQCg8dF7a_JD"
      },
      "outputs": [],
      "source": [
        "#Import Required Packages\n",
        "from sklearn.metrics import  mean_squared_error, mean_absolute_error, r2_score , mean_absolute_percentage_error\n",
        "import matplotlib.pyplot as plt\n",
        "import tensorflow \n",
        "from tensorflow.keras import Model\n",
        "from tensorflow.keras import Sequential\n",
        "from tensorflow.keras.optimizers import Adam\n",
        "from sklearn.preprocessing import StandardScaler\n",
        "from sklearn.preprocessing import MinMaxScaler\n",
        "from tensorflow.keras.layers import Dense, Dropout\n",
        "from sklearn.model_selection import train_test_split\n",
        "from tensorflow.keras.losses import MeanSquaredLogarithmicError\n",
        "from sklearn.metrics import mean_absolute_error,mean_squared_error,mean_absolute_percentage_error\n",
        "from tensorflow.python.keras import regularizers"
      ]
    },
    {
      "cell_type": "code",
      "execution_count": 352,
      "metadata": {
        "id": "JfQN65j5a_JD"
      },
      "outputs": [],
      "source": [
        "# ANN Model Layers\n",
        "model = Sequential()\n",
        "model.add(Dense(520, input_shape=(X_train.shape[1],)))\n",
        "model.add(Dropout(0.2))\n",
        "model.add(Dense(250, activation=\"relu\"))\n",
        "model.add(Dense(80, activation=\"relu\", kernel_regularizer=regularizers.l2(0.0001) ))\n",
        "model.add(Dense(80, activation=\"relu\"))\n",
        "model.add(Dropout(0.2))\n",
        "model.add(Dense(80, activation=\"relu\", kernel_regularizer=regularizers.l2(0.0001) ))\n",
        "model.add(Dense(80, activation=\"relu\"))\n",
        "model.add(Dropout(0.1))\n",
        "model.add(Dense(20, activation=\"sigmoid\"))\n",
        "model.add(Dense(1, activation=\"sigmoid\",name= 'Classification_Layer'))"
      ]
    },
    {
      "cell_type": "code",
      "execution_count": 353,
      "metadata": {
        "colab": {
          "base_uri": "https://localhost:8080/"
        },
        "id": "JA4QJ4Yma_JD",
        "outputId": "3f0c8f01-27ae-4b7a-f107-b8cf23f4c6e8"
      },
      "outputs": [
        {
          "output_type": "stream",
          "name": "stdout",
          "text": [
            "Epoch 1/30\n",
            "6/6 [==============================] - 1s 44ms/step - loss: 0.7266 - accuracy: 0.5407 - val_loss: 0.6441 - val_accuracy: 0.6842\n",
            "Epoch 2/30\n",
            "6/6 [==============================] - 0s 9ms/step - loss: 0.7005 - accuracy: 0.6088 - val_loss: 0.6465 - val_accuracy: 0.6842\n",
            "Epoch 3/30\n",
            "6/6 [==============================] - 0s 8ms/step - loss: 0.7133 - accuracy: 0.6110 - val_loss: 0.6464 - val_accuracy: 0.6842\n",
            "Epoch 4/30\n",
            "6/6 [==============================] - 0s 8ms/step - loss: 0.7040 - accuracy: 0.6044 - val_loss: 0.6497 - val_accuracy: 0.6842\n",
            "Epoch 5/30\n",
            "6/6 [==============================] - 0s 8ms/step - loss: 0.6879 - accuracy: 0.6110 - val_loss: 0.6506 - val_accuracy: 0.6842\n",
            "Epoch 6/30\n",
            "6/6 [==============================] - 0s 8ms/step - loss: 0.6838 - accuracy: 0.6022 - val_loss: 0.6430 - val_accuracy: 0.6842\n",
            "Epoch 7/30\n",
            "6/6 [==============================] - 0s 8ms/step - loss: 0.6800 - accuracy: 0.6000 - val_loss: 0.6124 - val_accuracy: 0.7719\n",
            "Epoch 8/30\n",
            "6/6 [==============================] - 0s 8ms/step - loss: 0.6955 - accuracy: 0.5934 - val_loss: 0.7028 - val_accuracy: 0.6842\n",
            "Epoch 9/30\n",
            "6/6 [==============================] - 0s 8ms/step - loss: 0.6959 - accuracy: 0.5956 - val_loss: 0.6984 - val_accuracy: 0.6842\n",
            "Epoch 10/30\n",
            "6/6 [==============================] - 0s 7ms/step - loss: 0.6983 - accuracy: 0.5824 - val_loss: 0.6903 - val_accuracy: 0.6842\n",
            "Epoch 11/30\n",
            "6/6 [==============================] - 0s 10ms/step - loss: 0.7059 - accuracy: 0.5516 - val_loss: 0.5937 - val_accuracy: 0.6842\n",
            "Epoch 12/30\n",
            "6/6 [==============================] - 0s 8ms/step - loss: 0.6877 - accuracy: 0.5846 - val_loss: 0.6580 - val_accuracy: 0.6842\n",
            "Epoch 13/30\n",
            "6/6 [==============================] - 0s 8ms/step - loss: 0.6697 - accuracy: 0.6242 - val_loss: 0.6540 - val_accuracy: 0.6842\n",
            "Epoch 14/30\n",
            "6/6 [==============================] - 0s 8ms/step - loss: 0.6765 - accuracy: 0.6088 - val_loss: 0.6514 - val_accuracy: 0.6842\n",
            "Epoch 15/30\n",
            "6/6 [==============================] - 0s 13ms/step - loss: 0.6828 - accuracy: 0.6022 - val_loss: 0.6291 - val_accuracy: 0.6842\n",
            "Epoch 16/30\n",
            "6/6 [==============================] - 0s 8ms/step - loss: 0.6809 - accuracy: 0.6154 - val_loss: 0.6403 - val_accuracy: 0.6842\n",
            "Epoch 17/30\n",
            "6/6 [==============================] - 0s 8ms/step - loss: 0.6849 - accuracy: 0.6044 - val_loss: 0.5923 - val_accuracy: 0.6842\n",
            "Epoch 18/30\n",
            "6/6 [==============================] - 0s 8ms/step - loss: 0.6780 - accuracy: 0.6000 - val_loss: 0.6534 - val_accuracy: 0.6842\n",
            "Epoch 19/30\n",
            "6/6 [==============================] - 0s 8ms/step - loss: 0.6771 - accuracy: 0.6176 - val_loss: 0.7223 - val_accuracy: 0.3684\n",
            "Epoch 20/30\n",
            "6/6 [==============================] - 0s 8ms/step - loss: 0.6756 - accuracy: 0.6066 - val_loss: 0.6330 - val_accuracy: 0.7544\n",
            "Epoch 21/30\n",
            "6/6 [==============================] - 0s 9ms/step - loss: 0.6746 - accuracy: 0.6132 - val_loss: 0.6226 - val_accuracy: 0.7807\n",
            "Epoch 22/30\n",
            "6/6 [==============================] - 0s 11ms/step - loss: 0.6653 - accuracy: 0.6484 - val_loss: 0.6489 - val_accuracy: 0.6842\n",
            "Epoch 23/30\n",
            "6/6 [==============================] - 0s 9ms/step - loss: 0.6744 - accuracy: 0.6418 - val_loss: 0.6485 - val_accuracy: 0.6842\n",
            "Epoch 24/30\n",
            "6/6 [==============================] - 0s 10ms/step - loss: 0.6779 - accuracy: 0.6242 - val_loss: 0.6440 - val_accuracy: 0.6842\n",
            "Epoch 25/30\n",
            "6/6 [==============================] - 0s 8ms/step - loss: 0.6787 - accuracy: 0.6066 - val_loss: 0.6444 - val_accuracy: 0.6842\n",
            "Epoch 26/30\n",
            "6/6 [==============================] - 0s 8ms/step - loss: 0.6760 - accuracy: 0.6198 - val_loss: 0.6464 - val_accuracy: 0.6842\n",
            "Epoch 27/30\n",
            "6/6 [==============================] - 0s 8ms/step - loss: 0.6777 - accuracy: 0.6176 - val_loss: 0.6470 - val_accuracy: 0.6842\n",
            "Epoch 28/30\n",
            "6/6 [==============================] - 0s 9ms/step - loss: 0.6721 - accuracy: 0.6154 - val_loss: 0.6482 - val_accuracy: 0.6842\n",
            "Epoch 29/30\n",
            "6/6 [==============================] - 0s 8ms/step - loss: 0.6666 - accuracy: 0.6330 - val_loss: 0.6176 - val_accuracy: 0.7807\n",
            "Epoch 30/30\n",
            "6/6 [==============================] - 0s 8ms/step - loss: 0.6518 - accuracy: 0.6681 - val_loss: 0.6457 - val_accuracy: 0.6842\n"
          ]
        }
      ],
      "source": [
        "# Model Metric & Optimizer\n",
        "model.compile(loss='binary_crossentropy', optimizer='adam', metrics=['accuracy'])\n",
        "\n",
        "# Trainning \n",
        "history = model.fit(X_train, y_train, epochs=30, batch_size=80, validation_data=(X_test, y_test), verbose=1)"
      ]
    },
    {
      "cell_type": "code",
      "execution_count": 354,
      "metadata": {
        "colab": {
          "base_uri": "https://localhost:8080/"
        },
        "id": "8tm0WAiua_JD",
        "outputId": "71445a35-d7b8-4a88-8a4d-36f67aa84e50"
      },
      "outputs": [
        {
          "output_type": "stream",
          "name": "stdout",
          "text": [
            "4/4 [==============================] - 0s 4ms/step - loss: 0.6457 - accuracy: 0.6842\n",
            "\n",
            "Accuracy of the model 0.6842105388641357\n"
          ]
        }
      ],
      "source": [
        "# Accuracy\n",
        "test_loss, test_acc = model.evaluate(X_test, y_test)\n",
        "print('\\nAccuracy of the model',test_acc)"
      ]
    },
    {
      "cell_type": "code",
      "execution_count": 355,
      "metadata": {
        "colab": {
          "base_uri": "https://localhost:8080/"
        },
        "id": "y6N4g_jka_JE",
        "outputId": "3fde96ef-b57b-4412-e3bd-160e94ff6f28"
      },
      "outputs": [
        {
          "output_type": "stream",
          "name": "stdout",
          "text": [
            "4/4 [==============================] - 0s 3ms/step\n"
          ]
        }
      ],
      "source": [
        "##PREDICTION\n",
        "from sklearn.metrics import classification_report,confusion_matrix\n",
        "prediction = model.predict(X_test)\n",
        "#prediction"
      ]
    },
    {
      "cell_type": "code",
      "execution_count": 356,
      "metadata": {
        "colab": {
          "base_uri": "https://localhost:8080/"
        },
        "id": "4gyR4id0a_JE",
        "outputId": "f1218cda-2457-4baf-b1a5-79759e06fc74"
      },
      "outputs": [
        {
          "output_type": "stream",
          "name": "stdout",
          "text": [
            "              precision    recall  f1-score   support\n",
            "\n",
            "           0       0.00      0.00      0.00        36\n",
            "           1       0.68      1.00      0.81        78\n",
            "\n",
            "    accuracy                           0.68       114\n",
            "   macro avg       0.34      0.50      0.41       114\n",
            "weighted avg       0.47      0.68      0.56       114\n",
            "\n"
          ]
        }
      ],
      "source": [
        "print(classification_report(y_test,prediction.round()))"
      ]
    },
    {
      "cell_type": "code",
      "execution_count": 357,
      "metadata": {
        "colab": {
          "base_uri": "https://localhost:8080/",
          "height": 283
        },
        "id": "z887L-cja_JE",
        "outputId": "65d3ecfd-18f9-4531-d58b-202d929d1d6a"
      },
      "outputs": [
        {
          "output_type": "execute_result",
          "data": {
            "text/plain": [
              "<matplotlib.axes._subplots.AxesSubplot at 0x7f84ee1c94f0>"
            ]
          },
          "metadata": {},
          "execution_count": 357
        },
        {
          "output_type": "display_data",
          "data": {
            "text/plain": [
              "<Figure size 432x288 with 1 Axes>"
            ],
            "image/png": "[encoded data removed]"
          },
          "metadata": {
            "needs_background": "light"
          }
        }
      ],
      "source": [
        "matrix= confusion_matrix(y_test , prediction.round())\n",
        "sns.heatmap(matrix,cbar=False, annot=True)"
      ]
    },
    {
      "cell_type": "code",
      "execution_count": 358,
      "metadata": {
        "colab": {
          "base_uri": "https://localhost:8080/",
          "height": 295
        },
        "id": "VlyFsK2jTxnl",
        "outputId": "7def9577-37fb-4d9b-94f2-e4cffba47349"
      },
      "outputs": [
        {
          "output_type": "display_data",
          "data": {
            "text/plain": [
              "<Figure size 432x288 with 1 Axes>"
            ],
            "image/png": "[encoded data removed]"
          },
          "metadata": {
            "needs_background": "light"
          }
        }
      ],
      "source": [
        "## Plot for loss per epochs\n",
        "loss = history.history['loss']\n",
        "val_loss = history.history['val_loss']\n",
        "epochs = range(1,31)\n",
        "plt.plot(epochs, loss, 'g', label='train loss')\n",
        "plt.plot(epochs, val_loss, 'b', label='val_loss')\n",
        "plt.title('Training and Validation Loss', fontweight='bold')\n",
        "plt.xlabel('Epochs', fontweight='bold')\n",
        "plt.ylabel('Cross Entropy Loss', fontweight='bold')\n",
        "plt.legend()\n",
        "plt.show()"
      ]
    },
    {
      "cell_type": "code",
      "execution_count": 359,
      "metadata": {
        "colab": {
          "base_uri": "https://localhost:8080/",
          "height": 295
        },
        "id": "SK12wO4XUOHS",
        "outputId": "fdeed9db-e9b4-461f-dc13-98452ed3302d"
      },
      "outputs": [
        {
          "output_type": "display_data",
          "data": {
            "text/plain": [
              "<Figure size 432x288 with 1 Axes>"
            ],
            "image/png": "[encoded data removed]"
          },
          "metadata": {
            "needs_background": "light"
          }
        }
      ],
      "source": [
        "## Plot for accuracy per epochs\n",
        "\n",
        "acc = history.history['accuracy']\n",
        "val_acc = history.history['val_accuracy']\n",
        "epochs = range(1,31)\n",
        "plt.plot(epochs, acc, label='train accuracy')\n",
        "plt.plot(epochs, val_acc, label='val accuracy')\n",
        "plt.title('Training and Validation Accuracy', fontweight='bold')\n",
        "plt.xlabel('Epochs', fontweight='bold')\n",
        "plt.ylabel(\"Accuracy\", fontweight='bold')\n",
        "plt.legend()\n",
        "plt.show()\n"
      ]
    },
    {
      "cell_type": "markdown",
      "metadata": {
        "id": "Um9RYi2Na_JE"
      },
      "source": [
        "### e) Employ the logistic regression for the same classiffcation problem. Carefully assess the performance of logistic regression on this dataset."
      ]
    },
    {
      "cell_type": "markdown",
      "metadata": {
        "id": "UBxdRvBxa_JE"
      },
      "source": [
        "In logistic Regression, we are using two parameters such as,\n",
        "Solver = Libliner\n",
        "Maximum Iteration is 1000.\n",
        "The created logistic regression, as demonstrated below."
      ]
    },
    {
      "cell_type": "code",
      "execution_count": 360,
      "metadata": {
        "colab": {
          "base_uri": "https://localhost:8080/"
        },
        "id": "BaXNXRGMa_JE",
        "outputId": "32927141-4e7c-4f16-f74d-0be91f7bd24c"
      },
      "outputs": [
        {
          "output_type": "stream",
          "name": "stdout",
          "text": [
            "Accuracy Score of Logistic Regression is : 0.9473684210526315\n",
            "\n",
            "Classification Report : \n",
            "              precision    recall  f1-score   support\n",
            "\n",
            "           0       0.94      0.89      0.91        36\n",
            "           1       0.95      0.97      0.96        78\n",
            "\n",
            "    accuracy                           0.95       114\n",
            "   macro avg       0.95      0.93      0.94       114\n",
            "weighted avg       0.95      0.95      0.95       114\n",
            "\n"
          ]
        }
      ],
      "source": [
        "# LogisticRegression\n",
        "from sklearn.linear_model import LogisticRegression\n",
        "log = LogisticRegression(solver='liblinear',max_iter=1000)\n",
        "log.fit(X_train,y_train)\n",
        "\n",
        "y_pred_log = log.predict(X_test)\n",
        "\n",
        "clf_report = classification_report(y_test, y_pred_log)\n",
        "acc_log = accuracy_score(y_test, y_pred_log)\n",
        "print(f\"Accuracy Score of Logistic Regression is : {acc_log}\")\n",
        "print(f\"\\nClassification Report : \\n{clf_report}\")"
      ]
    },
    {
      "cell_type": "markdown",
      "metadata": {
        "id": "_A0XM3VJa_JE"
      },
      "source": [
        "According to the result, the created logistic regression model has around 95% accuracy for prediciting the breast cancer. \n",
        "\n",
        "Logistic Regression model has acheived better accuracy than the previous Neural Network model. I believe overfitting is the reason why neural network's accuracy is effected. LR model predicts bengin tumors marginally better than malignant tumors as we can see from their respective f1-scores in the classification report.\n",
        "\n",
        "I think it will be best to use LR model for this classification task."
      ]
    },
    {
      "cell_type": "markdown",
      "metadata": {
        "id": "DePSjGaCa_JE"
      },
      "source": [
        "# Question 2: MNIST Data using CNN Model"
      ]
    },
    {
      "cell_type": "code",
      "execution_count": 361,
      "metadata": {
        "id": "QT7Qagffa_JE"
      },
      "outputs": [],
      "source": [
        "import numpy as np\n",
        "import keras\n",
        "from keras.datasets import mnist\n",
        "from keras.models import Model\n",
        "from keras.layers import Dense, Input\n",
        "from keras.layers import Conv2D, MaxPooling2D, Dropout, Flatten\n",
        "from keras import backend as k"
      ]
    },
    {
      "cell_type": "code",
      "execution_count": 362,
      "metadata": {
        "id": "apWpca5Ca_JE",
        "colab": {
          "base_uri": "https://localhost:8080/"
        },
        "outputId": "43e09ee1-acec-41f4-f0cb-3816dc79001d"
      },
      "outputs": [
        {
          "output_type": "stream",
          "name": "stdout",
          "text": [
            "Downloading data from https://storage.googleapis.com/tensorflow/tf-keras-datasets/mnist.npz\n",
            "11490434/11490434 [==============================] - 1s 0us/step\n"
          ]
        }
      ],
      "source": [
        "\n",
        "(x_train, y_train), (x_test, y_test) = mnist.load_data()\n"
      ]
    },
    {
      "cell_type": "code",
      "execution_count": 363,
      "metadata": {
        "id": "56avvRuza_JE"
      },
      "outputs": [],
      "source": [
        "# building the input vector from the 28x28 pixels\n",
        "img_rows, img_cols=28, 28\n",
        " \n",
        "if k.image_data_format() == 'channels_first':\n",
        "   x_train = x_train.reshape(x_train.shape[0], 1, img_rows, img_cols)\n",
        "   x_test = x_test.reshape(x_test.shape[0], 1, img_rows, img_cols)\n",
        "   inpx = (1, img_rows, img_cols)\n",
        " \n",
        "else:\n",
        "   x_train = x_train.reshape(x_train.shape[0], img_rows, img_cols, 1)\n",
        "   x_test = x_test.reshape(x_test.shape[0], img_rows, img_cols, 1)\n",
        "   inpx = (img_rows, img_cols, 1)\n",
        " \n",
        "x_train = x_train.astype('float32')\n",
        "x_test = x_test.astype('float32')\n",
        "\n",
        "# normalizing the data to help with the training\n",
        "x_train /= 255\n",
        "x_test /= 255\n"
      ]
    },
    {
      "cell_type": "code",
      "execution_count": 364,
      "metadata": {
        "id": "ddUkhGmza_JE"
      },
      "outputs": [],
      "source": [
        "y_train = keras.utils.to_categorical(y_train)\n",
        "y_test = keras.utils.to_categorical(y_test)"
      ]
    },
    {
      "cell_type": "code",
      "execution_count": 365,
      "metadata": {
        "id": "1zaI7Flua_JE"
      },
      "outputs": [],
      "source": [
        "inpx = Input(shape=inpx)\n",
        "layer1 = Conv2D(32, kernel_size=(3, 3), activation='relu')(inpx)\n",
        "layer2 = Conv2D(64, (3, 3), activation='relu')(layer1)\n",
        "layer3 = MaxPooling2D(pool_size=(3, 3))(layer2)\n",
        "layer4 = Dropout(0.5)(layer3)\n",
        "layer5 = Flatten()(layer4)# flatten output of conv\n",
        "layer6 = Dense(250, activation='sigmoid')(layer5)\n",
        "layer7 = Dense(10, activation='softmax')(layer6)"
      ]
    },
    {
      "cell_type": "code",
      "execution_count": 366,
      "metadata": {
        "colab": {
          "base_uri": "https://localhost:8080/"
        },
        "id": "FDFbB05ba_JE",
        "outputId": "91e0a6d6-fdce-45a2-cd17-4b0c564ae179"
      },
      "outputs": [
        {
          "output_type": "stream",
          "name": "stdout",
          "text": [
            "Epoch 1/30\n",
            "2000/2000 [==============================] - 14s 4ms/step - loss: 2.3461 - accuracy: 0.1237\n",
            "Epoch 2/30\n",
            "2000/2000 [==============================] - 7s 3ms/step - loss: 2.2775 - accuracy: 0.2459\n",
            "Epoch 3/30\n",
            "2000/2000 [==============================] - 7s 3ms/step - loss: 2.2084 - accuracy: 0.4288\n",
            "Epoch 4/30\n",
            "2000/2000 [==============================] - 7s 3ms/step - loss: 2.1112 - accuracy: 0.5904\n",
            "Epoch 5/30\n",
            "2000/2000 [==============================] - 7s 3ms/step - loss: 1.9561 - accuracy: 0.6417\n",
            "Epoch 6/30\n",
            "2000/2000 [==============================] - 7s 3ms/step - loss: 1.7230 - accuracy: 0.6866\n",
            "Epoch 7/30\n",
            "2000/2000 [==============================] - 7s 4ms/step - loss: 1.4487 - accuracy: 0.7161\n",
            "Epoch 8/30\n",
            "2000/2000 [==============================] - 7s 4ms/step - loss: 1.2069 - accuracy: 0.7361\n",
            "Epoch 9/30\n",
            "2000/2000 [==============================] - 7s 4ms/step - loss: 1.0333 - accuracy: 0.7560\n",
            "Epoch 10/30\n",
            "2000/2000 [==============================] - 7s 4ms/step - loss: 0.9179 - accuracy: 0.7721\n",
            "Epoch 11/30\n",
            "2000/2000 [==============================] - 8s 4ms/step - loss: 0.8358 - accuracy: 0.7868\n",
            "Epoch 12/30\n",
            "2000/2000 [==============================] - 7s 4ms/step - loss: 0.7763 - accuracy: 0.7955\n",
            "Epoch 13/30\n",
            "2000/2000 [==============================] - 7s 4ms/step - loss: 0.7302 - accuracy: 0.8060\n",
            "Epoch 14/30\n",
            "2000/2000 [==============================] - 7s 4ms/step - loss: 0.6941 - accuracy: 0.8134\n",
            "Epoch 15/30\n",
            "2000/2000 [==============================] - 7s 4ms/step - loss: 0.6623 - accuracy: 0.8197\n",
            "Epoch 16/30\n",
            "2000/2000 [==============================] - 7s 4ms/step - loss: 0.6400 - accuracy: 0.8249\n",
            "Epoch 17/30\n",
            "2000/2000 [==============================] - 7s 4ms/step - loss: 0.6172 - accuracy: 0.8309\n",
            "Epoch 18/30\n",
            "2000/2000 [==============================] - 7s 4ms/step - loss: 0.6001 - accuracy: 0.8356\n",
            "Epoch 19/30\n",
            "2000/2000 [==============================] - 7s 4ms/step - loss: 0.5837 - accuracy: 0.8394\n",
            "Epoch 20/30\n",
            "2000/2000 [==============================] - 7s 4ms/step - loss: 0.5678 - accuracy: 0.8423\n",
            "Epoch 21/30\n",
            "2000/2000 [==============================] - 7s 4ms/step - loss: 0.5546 - accuracy: 0.8450\n",
            "Epoch 22/30\n",
            "2000/2000 [==============================] - 7s 4ms/step - loss: 0.5440 - accuracy: 0.8495\n",
            "Epoch 23/30\n",
            "2000/2000 [==============================] - 7s 3ms/step - loss: 0.5326 - accuracy: 0.8521\n",
            "Epoch 24/30\n",
            "2000/2000 [==============================] - 7s 3ms/step - loss: 0.5259 - accuracy: 0.8529\n",
            "Epoch 25/30\n",
            "2000/2000 [==============================] - 7s 4ms/step - loss: 0.5142 - accuracy: 0.8574\n",
            "Epoch 26/30\n",
            "2000/2000 [==============================] - 7s 4ms/step - loss: 0.5065 - accuracy: 0.8580\n",
            "Epoch 27/30\n",
            "2000/2000 [==============================] - 7s 4ms/step - loss: 0.4971 - accuracy: 0.8618\n",
            "Epoch 28/30\n",
            "2000/2000 [==============================] - 7s 4ms/step - loss: 0.4909 - accuracy: 0.8630\n",
            "Epoch 29/30\n",
            "2000/2000 [==============================] - 7s 4ms/step - loss: 0.4830 - accuracy: 0.8639\n",
            "Epoch 30/30\n",
            "2000/2000 [==============================] - 7s 4ms/step - loss: 0.4760 - accuracy: 0.8679\n"
          ]
        }
      ],
      "source": [
        "model = Model([inpx], layer7)\n",
        "# compiling the model\n",
        "model.compile(optimizer=keras.optimizers.Adadelta(),\n",
        "              loss=keras.losses.categorical_crossentropy,\n",
        "              metrics=['accuracy'])\n",
        "\n",
        "# training the model for 30 epochs\n",
        "model_history = model.fit(x_train, y_train, epochs=30, batch_size=30) "
      ]
    },
    {
      "cell_type": "code",
      "execution_count": 367,
      "metadata": {
        "colab": {
          "base_uri": "https://localhost:8080/"
        },
        "id": "r-OXn7t9a_JF",
        "outputId": "a2376ece-8a14-4c8b-fb4d-49e20e714b72"
      },
      "outputs": [
        {
          "output_type": "stream",
          "name": "stdout",
          "text": [
            "loss= 0.36905503273010254\n",
            "accuracy= 0.8963000178337097\n"
          ]
        }
      ],
      "source": [
        "score = model.evaluate(x_test, y_test, verbose=0)\n",
        "print('loss=', score[0])\n",
        "print('accuracy=', score[1])"
      ]
    },
    {
      "cell_type": "code",
      "execution_count": 368,
      "metadata": {
        "colab": {
          "base_uri": "https://localhost:8080/"
        },
        "id": "u5pPd_ALa_JF",
        "outputId": "a0757bb3-0072-40dc-f2b5-1f01abf129a0"
      },
      "outputs": [
        {
          "output_type": "stream",
          "name": "stdout",
          "text": [
            "313/313 [==============================] - 1s 2ms/step\n"
          ]
        },
        {
          "output_type": "execute_result",
          "data": {
            "text/plain": [
              "array([[2.11763327e-04, 6.01070424e-05, 2.26220727e-04, ...,\n",
              "        9.96277750e-01, 7.83265510e-04, 1.28353573e-03],\n",
              "       [1.24002416e-02, 1.87928416e-02, 8.50612700e-01, ...,\n",
              "        1.14603121e-04, 1.94185078e-02, 1.45402591e-04],\n",
              "       [1.56614784e-04, 9.79030669e-01, 5.20691415e-03, ...,\n",
              "        2.30313581e-03, 5.91649348e-03, 1.04857096e-03],\n",
              "       ...,\n",
              "       [1.72341039e-04, 9.92224319e-04, 2.82556372e-04, ...,\n",
              "        3.19954306e-02, 3.50011215e-02, 3.23782802e-01],\n",
              "       [2.44902894e-02, 8.99507850e-03, 1.29313255e-03, ...,\n",
              "        1.18780965e-02, 4.70512420e-01, 1.08194398e-02],\n",
              "       [9.57726408e-03, 1.81192110e-04, 1.03322985e-02, ...,\n",
              "        5.73350735e-05, 5.02333161e-04, 3.12147051e-04]], dtype=float32)"
            ]
          },
          "metadata": {},
          "execution_count": 368
        }
      ],
      "source": [
        "from sklearn.metrics import classification_report,confusion_matrix\n",
        "import warnings\n",
        "warnings.filterwarnings('ignore')\n",
        "prediction = model.predict(x_test)\n",
        "prediction"
      ]
    },
    {
      "cell_type": "code",
      "execution_count": 369,
      "metadata": {
        "colab": {
          "base_uri": "https://localhost:8080/",
          "height": 295
        },
        "id": "cW-z7HnBcIiU",
        "outputId": "42be4f5d-c2af-493b-caea-93919ae6ed6b"
      },
      "outputs": [
        {
          "output_type": "display_data",
          "data": {
            "text/plain": [
              "<Figure size 432x288 with 1 Axes>"
            ],
            "image/png": "[encoded data removed]"
          },
          "metadata": {
            "needs_background": "light"
          }
        }
      ],
      "source": [
        "## Plot for loss and accuracy per epochs\n",
        "loss = history.history['loss']\n",
        "accu = history.history['accuracy']\n",
        "epochs = range(1,31)\n",
        "plt.plot(epochs, loss, 'r', label='train loss')\n",
        "plt.plot(epochs, accu, 'y', label='train accuracy')\n",
        "plt.title('Training and Validation Loss', fontweight='bold')\n",
        "plt.xlabel('Epochs', fontweight='bold')\n",
        "plt.ylabel('Cross Entropy Loss', fontweight='bold')\n",
        "plt.legend()\n",
        "plt.show()"
      ]
    },
    {
      "cell_type": "code",
      "execution_count": 370,
      "metadata": {
        "id": "HbwTkRlW15x8",
        "colab": {
          "base_uri": "https://localhost:8080/",
          "height": 483
        },
        "outputId": "7b5cf958-556e-43f3-8daa-067fbe1efd0f"
      },
      "outputs": [
        {
          "output_type": "display_data",
          "data": {
            "text/plain": [
              "<Figure size 720x576 with 2 Axes>"
            ],
            "image/png": "[encoded data removed]"
          },
          "metadata": {
            "needs_background": "light"
          }
        }
      ],
      "source": [
        "#Displaying Confusion Matrix\n",
        "import seaborn as sns\n",
        "from sklearn.metrics import plot_confusion_matrix\n",
        "plt.figure(figsize=(10,8))\n",
        "ax= plt.subplot()\n",
        "matrix= confusion_matrix(np.asarray(y_test).argmax(axis=1), np.asarray(prediction).argmax(axis=1))\n",
        "sns.heatmap(matrix,cbar=True, annot=True, ax=ax, fmt='g')\n",
        "plt.show()"
      ]
    },
    {
      "cell_type": "code",
      "execution_count": 371,
      "metadata": {
        "id": "5uVHWqAVa_JF",
        "colab": {
          "base_uri": "https://localhost:8080/"
        },
        "outputId": "b5913c05-219e-4793-990f-507fd823c6a8"
      },
      "outputs": [
        {
          "output_type": "stream",
          "name": "stdout",
          "text": [
            "              precision    recall  f1-score   support\n",
            "\n",
            "           0       0.95      0.96      0.96       980\n",
            "           1       0.98      0.96      0.97      1135\n",
            "           2       0.94      0.83      0.88      1032\n",
            "           3       0.90      0.85      0.87      1010\n",
            "           4       0.94      0.84      0.89       982\n",
            "           5       0.94      0.68      0.79       892\n",
            "           6       0.92      0.93      0.93       958\n",
            "           7       0.94      0.85      0.90      1028\n",
            "           8       0.89      0.80      0.84       974\n",
            "           9       0.87      0.86      0.86      1009\n",
            "\n",
            "   micro avg       0.93      0.86      0.89     10000\n",
            "   macro avg       0.93      0.86      0.89     10000\n",
            "weighted avg       0.93      0.86      0.89     10000\n",
            " samples avg       0.86      0.86      0.86     10000\n",
            "\n"
          ]
        }
      ],
      "source": [
        "print(classification_report(y_test,prediction.round()))"
      ]
    },
    {
      "cell_type": "markdown",
      "metadata": {
        "id": "GAU5uvooazhS"
      },
      "source": [
        "As per the result, the created CNN model has 89.6% of accuracy for classifying the selected random images.\n",
        "\n",
        "\n",
        "As this model has an accuracy of almost 90%, we can interpret that the model is less overfitting and has low bias. Since accuracy metrics doesn't provide information regarding false positive rate and false negative rate, we can't solely rely upon them. "
      ]
    },
    {
      "cell_type": "markdown",
      "metadata": {
        "id": "e3EM_TOsa_JF"
      },
      "source": [
        "# Question 3:  Tesla Data using RNN Model"
      ]
    },
    {
      "cell_type": "code",
      "execution_count": 372,
      "metadata": {
        "id": "MY2TzAeza_JF"
      },
      "outputs": [],
      "source": [
        "import numpy as np\n",
        "import pandas as pd\n",
        "import plotly.express as px\n",
        "import plotly.graph_objects as go\n",
        "from sklearn.metrics import mean_squared_error\n",
        "from sklearn.metrics import r2_score"
      ]
    },
    {
      "cell_type": "code",
      "execution_count": 373,
      "metadata": {
        "id": "O0zZMmOMa_JF",
        "colab": {
          "base_uri": "https://localhost:8080/",
          "height": 206
        },
        "outputId": "15f4b206-fb87-4a0d-e778-5d74d13f0b9e"
      },
      "outputs": [
        {
          "output_type": "execute_result",
          "data": {
            "text/plain": [
              "         Date   Open   High    Low  Close  Adj Close    Volume\n",
              "0  2010-06-29  19.00  25.00  17.54  23.89      23.89  18766300\n",
              "1  2010-06-30  25.79  30.42  23.30  23.83      23.83  17187100\n",
              "2  2010-07-01  25.00  25.92  20.27  21.96      21.96   8218800\n",
              "3  2010-07-02  23.00  23.10  18.71  19.20      19.20   5139800\n",
              "4  2010-07-06  20.00  20.00  15.83  16.11      16.11   6866900"
            ],
            "text/html": [
              "\n",
              "  <div id=\"df-1c9c4c25-db8f-42c9-a0c8-8f9af420ff2f\">\n",
              "    <div class=\"colab-df-container\">\n",
              "      <div>\n",
              "<style scoped>\n",
              "    .dataframe tbody tr th:only-of-type {\n",
              "        vertical-align: middle;\n",
              "    }\n",
              "\n",
              "    .dataframe tbody tr th {\n",
              "        vertical-align: top;\n",
              "    }\n",
              "\n",
              "    .dataframe thead th {\n",
              "        text-align: right;\n",
              "    }\n",
              "</style>\n",
              "<table border=\"1\" class=\"dataframe\">\n",
              "  <thead>\n",
              "    <tr style=\"text-align: right;\">\n",
              "      <th></th>\n",
              "      <th>Date</th>\n",
              "      <th>Open</th>\n",
              "      <th>High</th>\n",
              "      <th>Low</th>\n",
              "      <th>Close</th>\n",
              "      <th>Adj Close</th>\n",
              "      <th>Volume</th>\n",
              "    </tr>\n",
              "  </thead>\n",
              "  <tbody>\n",
              "    <tr>\n",
              "      <th>0</th>\n",
              "      <td>2010-06-29</td>\n",
              "      <td>19.00</td>\n",
              "      <td>25.00</td>\n",
              "      <td>17.54</td>\n",
              "      <td>23.89</td>\n",
              "      <td>23.89</td>\n",
              "      <td>18766300</td>\n",
              "    </tr>\n",
              "    <tr>\n",
              "      <th>1</th>\n",
              "      <td>2010-06-30</td>\n",
              "      <td>25.79</td>\n",
              "      <td>30.42</td>\n",
              "      <td>23.30</td>\n",
              "      <td>23.83</td>\n",
              "      <td>23.83</td>\n",
              "      <td>17187100</td>\n",
              "    </tr>\n",
              "    <tr>\n",
              "      <th>2</th>\n",
              "      <td>2010-07-01</td>\n",
              "      <td>25.00</td>\n",
              "      <td>25.92</td>\n",
              "      <td>20.27</td>\n",
              "      <td>21.96</td>\n",
              "      <td>21.96</td>\n",
              "      <td>8218800</td>\n",
              "    </tr>\n",
              "    <tr>\n",
              "      <th>3</th>\n",
              "      <td>2010-07-02</td>\n",
              "      <td>23.00</td>\n",
              "      <td>23.10</td>\n",
              "      <td>18.71</td>\n",
              "      <td>19.20</td>\n",
              "      <td>19.20</td>\n",
              "      <td>5139800</td>\n",
              "    </tr>\n",
              "    <tr>\n",
              "      <th>4</th>\n",
              "      <td>2010-07-06</td>\n",
              "      <td>20.00</td>\n",
              "      <td>20.00</td>\n",
              "      <td>15.83</td>\n",
              "      <td>16.11</td>\n",
              "      <td>16.11</td>\n",
              "      <td>6866900</td>\n",
              "    </tr>\n",
              "  </tbody>\n",
              "</table>\n",
              "</div>\n",
              "      <button class=\"colab-df-convert\" onclick=\"convertToInteractive('df-1c9c4c25-db8f-42c9-a0c8-8f9af420ff2f')\"\n",
              "              title=\"Convert this dataframe to an interactive table.\"\n",
              "              style=\"display:none;\">\n",
              "        \n",
              "  <svg xmlns=\"http://www.w3.org/2000/svg\" height=\"24px\"viewBox=\"0 0 24 24\"\n",
              "       width=\"24px\">\n",
              "    <path d=\"M0 0h24v24H0V0z\" fill=\"none\"/>\n",
              "    <path d=\"M18.56 5.44l.94 2.06.94-2.06 2.06-.94-2.06-.94-.94-2.06-.94 2.06-2.06.94zm-11 1L8.5 8.5l.94-2.06 2.06-.94-2.06-.94L8.5 2.5l-.94 2.06-2.06.94zm10 10l.94 2.06.94-2.06 2.06-.94-2.06-.94-.94-2.06-.94 2.06-2.06.94z\"/><path d=\"M17.41 7.96l-1.37-1.37c-.4-.4-.92-.59-1.43-.59-.52 0-1.04.2-1.43.59L10.3 9.45l-7.72 7.72c-.78.78-.78 2.05 0 2.83L4 21.41c.39.39.9.59 1.41.59.51 0 1.02-.2 1.41-.59l7.78-7.78 2.81-2.81c.8-.78.8-2.07 0-2.86zM5.41 20L4 18.59l7.72-7.72 1.47 1.35L5.41 20z\"/>\n",
              "  </svg>\n",
              "      </button>\n",
              "      \n",
              "  <style>\n",
              "    .colab-df-container {\n",
              "      display:flex;\n",
              "      flex-wrap:wrap;\n",
              "      gap: 12px;\n",
              "    }\n",
              "\n",
              "    .colab-df-convert {\n",
              "      background-color: #E8F0FE;\n",
              "      border: none;\n",
              "      border-radius: 50%;\n",
              "      cursor: pointer;\n",
              "      display: none;\n",
              "      fill: #1967D2;\n",
              "      height: 32px;\n",
              "      padding: 0 0 0 0;\n",
              "      width: 32px;\n",
              "    }\n",
              "\n",
              "    .colab-df-convert:hover {\n",
              "      background-color: #E2EBFA;\n",
              "      box-shadow: 0px 1px 2px rgba(60, 64, 67, 0.3), 0px 1px 3px 1px rgba(60, 64, 67, 0.15);\n",
              "      fill: #174EA6;\n",
              "    }\n",
              "\n",
              "    [theme=dark] .colab-df-convert {\n",
              "      background-color: #3B4455;\n",
              "      fill: #D2E3FC;\n",
              "    }\n",
              "\n",
              "    [theme=dark] .colab-df-convert:hover {\n",
              "      background-color: #434B5C;\n",
              "      box-shadow: 0px 1px 3px 1px rgba(0, 0, 0, 0.15);\n",
              "      filter: drop-shadow(0px 1px 2px rgba(0, 0, 0, 0.3));\n",
              "      fill: #FFFFFF;\n",
              "    }\n",
              "  </style>\n",
              "\n",
              "      <script>\n",
              "        const buttonEl =\n",
              "          document.querySelector('#df-1c9c4c25-db8f-42c9-a0c8-8f9af420ff2f button.colab-df-convert');\n",
              "        buttonEl.style.display =\n",
              "          google.colab.kernel.accessAllowed ? 'block' : 'none';\n",
              "\n",
              "        async function convertToInteractive(key) {\n",
              "          const element = document.querySelector('#df-1c9c4c25-db8f-42c9-a0c8-8f9af420ff2f');\n",
              "          const dataTable =\n",
              "            await google.colab.kernel.invokeFunction('convertToInteractive',\n",
              "                                                     [key], {});\n",
              "          if (!dataTable) return;\n",
              "\n",
              "          const docLinkHtml = 'Like what you see? Visit the ' +\n",
              "            '<a target=\"_blank\" href=https://colab.research.google.com/notebooks/data_table.ipynb>data table notebook</a>'\n",
              "            + ' to learn more about interactive tables.';\n",
              "          element.innerHTML = '';\n",
              "          dataTable['output_type'] = 'display_data';\n",
              "          await google.colab.output.renderOutput(dataTable, element);\n",
              "          const docLink = document.createElement('div');\n",
              "          docLink.innerHTML = docLinkHtml;\n",
              "          element.appendChild(docLink);\n",
              "        }\n",
              "      </script>\n",
              "    </div>\n",
              "  </div>\n",
              "  "
            ]
          },
          "metadata": {},
          "execution_count": 373
        }
      ],
      "source": [
        "data = pd.read_csv(\"https://raw.githubusercontent.com/SravaniRVS/DATA602/main/Homeworks/Tesla-Stocks.csv\")\n",
        "data = data.round(3)\n",
        "data.head()"
      ]
    },
    {
      "cell_type": "code",
      "execution_count": 374,
      "metadata": {
        "id": "sDce9Toya_JF",
        "colab": {
          "base_uri": "https://localhost:8080/",
          "height": 542
        },
        "outputId": "e8c1cd7d-eaca-471f-a6ef-7eaa465e1d94"
      },
      "outputs": [
        {
          "output_type": "display_data",
          "data": {
            "text/html": [
              "<html>\n",
              "<head><meta charset=\"utf-8\" /></head>\n",
              "<body>\n",
              "    <div>            <script src=\"https://cdnjs.cloudflare.com/ajax/libs/mathjax/2.7.5/MathJax.js?config=TeX-AMS-MML_SVG\"></script><script type=\"text/javascript\">if (window.MathJax) {MathJax.Hub.Config({SVG: {font: \"STIX-Web\"}});}</script>                <script type=\"text/javascript\">window.PlotlyConfig = {MathJaxConfig: 'local'};</script>\n",
              "        <script src=\"https://cdn.plot.ly/plotly-2.8.3.min.js\"></script>                <div id=\"159ee26d-9c6d-4044-8e85-0e872d03f186\" class=\"plotly-graph-div\" style=\"height:525px; width:100%;\"></div>            <script type=\"text/javascript\">                                    window.PLOTLYENV=window.PLOTLYENV || {};                                    if (document.getElementById(\"159ee26d-9c6d-4044-8e85-0e872d03f186\")) {                    Plotly.newPlot(                        \"159ee26d-9c6d-4044-8e85-0e872d03f186\",                        [{\"hovertemplate\":\"Date=%{x}<br>Close=%{y}<extra></extra>\",\"legendgroup\":\"\",\"line\":{\"color\":\"#636efa\",\"dash\":\"solid\"},\"marker\":{\"symbol\":\"circle\"},\"mode\":\"lines\",\"name\":\"\",\"showlegend\":false,\"x\":[\"2010-06-29\",\"2010-06-30\",\"2010-07-01\",\"2010-07-02\",\"2010-07-06\",\"2010-07-07\",\"2010-07-08\",\"2010-07-09\",\"2010-07-12\",\"2010-07-13\",\"2010-07-14\",\"2010-07-15\",\"2010-07-16\",\"2010-07-19\",\"2010-07-20\",\"2010-07-21\",\"2010-07-22\",\"2010-07-23\",\"2010-07-26\",\"2010-07-27\",\"2010-07-28\",\"2010-07-29\",\"2010-07-30\",\"2010-08-02\",\"2010-08-03\",\"2010-08-04\",\"2010-08-05\",\"2010-08-06\",\"2010-08-09\",\"2010-08-10\",\"2010-08-11\",\"2010-08-12\",\"2010-08-13\",\"2010-08-16\",\"2010-08-17\",\"2010-08-18\",\"2010-08-19\",\"2010-08-20\",\"2010-08-23\",\"2010-08-24\",\"2010-08-25\",\"2010-08-26\",\"2010-08-27\",\"2010-08-30\",\"2010-08-31\",\"2010-09-01\",\"2010-09-02\",\"2010-09-03\",\"2010-09-07\",\"2010-09-08\",\"2010-09-09\",\"2010-09-10\",\"2010-09-13\",\"2010-09-14\",\"2010-09-15\",\"2010-09-16\",\"2010-09-17\",\"2010-09-20\",\"2010-09-21\",\"2010-09-22\",\"2010-09-23\",\"2010-09-24\",\"2010-09-27\",\"2010-09-28\",\"2010-09-29\",\"2010-09-30\",\"2010-10-01\",\"2010-10-04\",\"2010-10-05\",\"2010-10-06\",\"2010-10-07\",\"2010-10-08\",\"2010-10-11\",\"2010-10-12\",\"2010-10-13\",\"2010-10-14\",\"2010-10-15\",\"2010-10-18\",\"2010-10-19\",\"2010-10-20\",\"2010-10-21\",\"2010-10-22\",\"2010-10-25\",\"2010-10-26\",\"2010-10-27\",\"2010-10-28\",\"2010-10-29\",\"2010-11-01\",\"2010-11-02\",\"2010-11-03\",\"2010-11-04\",\"2010-11-05\",\"2010-11-08\",\"2010-11-09\",\"2010-11-10\",\"2010-11-11\",\"2010-11-12\",\"2010-11-15\",\"2010-11-16\",\"2010-11-17\",\"2010-11-18\",\"2010-11-19\",\"2010-11-22\",\"2010-11-23\",\"2010-11-24\",\"2010-11-26\",\"2010-11-29\",\"2010-11-30\",\"2010-12-01\",\"2010-12-02\",\"2010-12-03\",\"2010-12-06\",\"2010-12-07\",\"2010-12-08\",\"2010-12-09\",\"2010-12-10\",\"2010-12-13\",\"2010-12-14\",\"2010-12-15\",\"2010-12-16\",\"2010-12-17\",\"2010-12-20\",\"2010-12-21\",\"2010-12-22\",\"2010-12-23\",\"2010-12-27\",\"2010-12-28\",\"2010-12-29\",\"2010-12-30\",\"2010-12-31\",\"2011-01-03\",\"2011-01-04\",\"2011-01-05\",\"2011-01-06\",\"2011-01-07\",\"2011-01-10\",\"2011-01-11\",\"2011-01-12\",\"2011-01-13\",\"2011-01-14\",\"2011-01-18\",\"2011-01-19\",\"2011-01-20\",\"2011-01-21\",\"2011-01-24\",\"2011-01-25\",\"2011-01-26\",\"2011-01-27\",\"2011-01-28\",\"2011-01-31\",\"2011-02-01\",\"2011-02-02\",\"2011-02-03\",\"2011-02-04\",\"2011-02-07\",\"2011-02-08\",\"2011-02-09\",\"2011-02-10\",\"2011-02-11\",\"2011-02-14\",\"2011-02-15\",\"2011-02-16\",\"2011-02-17\",\"2011-02-18\",\"2011-02-22\",\"2011-02-23\",\"2011-02-24\",\"2011-02-25\",\"2011-02-28\",\"2011-03-01\",\"2011-03-02\",\"2011-03-03\",\"2011-03-04\",\"2011-03-07\",\"2011-03-08\",\"2011-03-09\",\"2011-03-10\",\"2011-03-11\",\"2011-03-14\",\"2011-03-15\",\"2011-03-16\",\"2011-03-17\",\"2011-03-18\",\"2011-03-21\",\"2011-03-22\",\"2011-03-23\",\"2011-03-24\",\"2011-03-25\",\"2011-03-28\",\"2011-03-29\",\"2011-03-30\",\"2011-03-31\",\"2011-04-01\",\"2011-04-04\",\"2011-04-05\",\"2011-04-06\",\"2011-04-07\",\"2011-04-08\",\"2011-04-11\",\"2011-04-12\",\"2011-04-13\",\"2011-04-14\",\"2011-04-15\",\"2011-04-18\",\"2011-04-19\",\"2011-04-20\",\"2011-04-21\",\"2011-04-25\",\"2011-04-26\",\"2011-04-27\",\"2011-04-28\",\"2011-04-29\",\"2011-05-02\",\"2011-05-03\",\"2011-05-04\",\"2011-05-05\",\"2011-05-06\",\"2011-05-09\",\"2011-05-10\",\"2011-05-11\",\"2011-05-12\",\"2011-05-13\",\"2011-05-16\",\"2011-05-17\",\"2011-05-18\",\"2011-05-19\",\"2011-05-20\",\"2011-05-23\",\"2011-05-24\",\"2011-05-25\",\"2011-05-26\",\"2011-05-27\",\"2011-05-31\",\"2011-06-01\",\"2011-06-02\",\"2011-06-03\",\"2011-06-06\",\"2011-06-07\",\"2011-06-08\",\"2011-06-09\",\"2011-06-10\",\"2011-06-13\",\"2011-06-14\",\"2011-06-15\",\"2011-06-16\",\"2011-06-17\",\"2011-06-20\",\"2011-06-21\",\"2011-06-22\",\"2011-06-23\",\"2011-06-24\",\"2011-06-27\",\"2011-06-28\",\"2011-06-29\",\"2011-06-30\",\"2011-07-01\",\"2011-07-05\",\"2011-07-06\",\"2011-07-07\",\"2011-07-08\",\"2011-07-11\",\"2011-07-12\",\"2011-07-13\",\"2011-07-14\",\"2011-07-15\",\"2011-07-18\",\"2011-07-19\",\"2011-07-20\",\"2011-07-21\",\"2011-07-22\",\"2011-07-25\",\"2011-07-26\",\"2011-07-27\",\"2011-07-28\",\"2011-07-29\",\"2011-08-01\",\"2011-08-02\",\"2011-08-03\",\"2011-08-04\",\"2011-08-05\",\"2011-08-08\",\"2011-08-09\",\"2011-08-10\",\"2011-08-11\",\"2011-08-12\",\"2011-08-15\",\"2011-08-16\",\"2011-08-17\",\"2011-08-18\",\"2011-08-19\",\"2011-08-22\",\"2011-08-23\",\"2011-08-24\",\"2011-08-25\",\"2011-08-26\",\"2011-08-29\",\"2011-08-30\",\"2011-08-31\",\"2011-09-01\",\"2011-09-02\",\"2011-09-06\",\"2011-09-07\",\"2011-09-08\",\"2011-09-09\",\"2011-09-12\",\"2011-09-13\",\"2011-09-14\",\"2011-09-15\",\"2011-09-16\",\"2011-09-19\",\"2011-09-20\",\"2011-09-21\",\"2011-09-22\",\"2011-09-23\",\"2011-09-26\",\"2011-09-27\",\"2011-09-28\",\"2011-09-29\",\"2011-09-30\",\"2011-10-03\",\"2011-10-04\",\"2011-10-05\",\"2011-10-06\",\"2011-10-07\",\"2011-10-10\",\"2011-10-11\",\"2011-10-12\",\"2011-10-13\",\"2011-10-14\",\"2011-10-17\",\"2011-10-18\",\"2011-10-19\",\"2011-10-20\",\"2011-10-21\",\"2011-10-24\",\"2011-10-25\",\"2011-10-26\",\"2011-10-27\",\"2011-10-28\",\"2011-10-31\",\"2011-11-01\",\"2011-11-02\",\"2011-11-03\",\"2011-11-04\",\"2011-11-07\",\"2011-11-08\",\"2011-11-09\",\"2011-11-10\",\"2011-11-11\",\"2011-11-14\",\"2011-11-15\",\"2011-11-16\",\"2011-11-17\",\"2011-11-18\",\"2011-11-21\",\"2011-11-22\",\"2011-11-23\",\"2011-11-25\",\"2011-11-28\",\"2011-11-29\",\"2011-11-30\",\"2011-12-01\",\"2011-12-02\",\"2011-12-05\",\"2011-12-06\",\"2011-12-07\",\"2011-12-08\",\"2011-12-09\",\"2011-12-12\",\"2011-12-13\",\"2011-12-14\",\"2011-12-15\",\"2011-12-16\",\"2011-12-19\",\"2011-12-20\",\"2011-12-21\",\"2011-12-22\",\"2011-12-23\",\"2011-12-27\",\"2011-12-28\",\"2011-12-29\",\"2011-12-30\",\"2012-01-03\",\"2012-01-04\",\"2012-01-05\",\"2012-01-06\",\"2012-01-09\",\"2012-01-10\",\"2012-01-11\",\"2012-01-12\",\"2012-01-13\",\"2012-01-17\",\"2012-01-18\",\"2012-01-19\",\"2012-01-20\",\"2012-01-23\",\"2012-01-24\",\"2012-01-25\",\"2012-01-26\",\"2012-01-27\",\"2012-01-30\",\"2012-01-31\",\"2012-02-01\",\"2012-02-02\",\"2012-02-03\",\"2012-02-06\",\"2012-02-07\",\"2012-02-08\",\"2012-02-09\",\"2012-02-10\",\"2012-02-13\",\"2012-02-14\",\"2012-02-15\",\"2012-02-16\",\"2012-02-17\",\"2012-02-21\",\"2012-02-22\",\"2012-02-23\",\"2012-02-24\",\"2012-02-27\",\"2012-02-28\",\"2012-02-29\",\"2012-03-01\",\"2012-03-02\",\"2012-03-05\",\"2012-03-06\",\"2012-03-07\",\"2012-03-08\",\"2012-03-09\",\"2012-03-12\",\"2012-03-13\",\"2012-03-14\",\"2012-03-15\",\"2012-03-16\",\"2012-03-19\",\"2012-03-20\",\"2012-03-21\",\"2012-03-22\",\"2012-03-23\",\"2012-03-26\",\"2012-03-27\",\"2012-03-28\",\"2012-03-29\",\"2012-03-30\",\"2012-04-02\",\"2012-04-03\",\"2012-04-04\",\"2012-04-05\",\"2012-04-09\",\"2012-04-10\",\"2012-04-11\",\"2012-04-12\",\"2012-04-13\",\"2012-04-16\",\"2012-04-17\",\"2012-04-18\",\"2012-04-19\",\"2012-04-20\",\"2012-04-23\",\"2012-04-24\",\"2012-04-25\",\"2012-04-26\",\"2012-04-27\",\"2012-04-30\",\"2012-05-01\",\"2012-05-02\",\"2012-05-03\",\"2012-05-04\",\"2012-05-07\",\"2012-05-08\",\"2012-05-09\",\"2012-05-10\",\"2012-05-11\",\"2012-05-14\",\"2012-05-15\",\"2012-05-16\",\"2012-05-17\",\"2012-05-18\",\"2012-05-21\",\"2012-05-22\",\"2012-05-23\",\"2012-05-24\",\"2012-05-25\",\"2012-05-29\",\"2012-05-30\",\"2012-05-31\",\"2012-06-01\",\"2012-06-04\",\"2012-06-05\",\"2012-06-06\",\"2012-06-07\",\"2012-06-08\",\"2012-06-11\",\"2012-06-12\",\"2012-06-13\",\"2012-06-14\",\"2012-06-15\",\"2012-06-18\",\"2012-06-19\",\"2012-06-20\",\"2012-06-21\",\"2012-06-22\",\"2012-06-25\",\"2012-06-26\",\"2012-06-27\",\"2012-06-28\",\"2012-06-29\",\"2012-07-02\",\"2012-07-03\",\"2012-07-05\",\"2012-07-06\",\"2012-07-09\",\"2012-07-10\",\"2012-07-11\",\"2012-07-12\",\"2012-07-13\",\"2012-07-16\",\"2012-07-17\",\"2012-07-18\",\"2012-07-19\",\"2012-07-20\",\"2012-07-23\",\"2012-07-24\",\"2012-07-25\",\"2012-07-26\",\"2012-07-27\",\"2012-07-30\",\"2012-07-31\",\"2012-08-01\",\"2012-08-02\",\"2012-08-03\",\"2012-08-06\",\"2012-08-07\",\"2012-08-08\",\"2012-08-09\",\"2012-08-10\",\"2012-08-13\",\"2012-08-14\",\"2012-08-15\",\"2012-08-16\",\"2012-08-17\",\"2012-08-20\",\"2012-08-21\",\"2012-08-22\",\"2012-08-23\",\"2012-08-24\",\"2012-08-27\",\"2012-08-28\",\"2012-08-29\",\"2012-08-30\",\"2012-08-31\",\"2012-09-04\",\"2012-09-05\",\"2012-09-06\",\"2012-09-07\",\"2012-09-10\",\"2012-09-11\",\"2012-09-12\",\"2012-09-13\",\"2012-09-14\",\"2012-09-17\",\"2012-09-18\",\"2012-09-19\",\"2012-09-20\",\"2012-09-21\",\"2012-09-24\",\"2012-09-25\",\"2012-09-26\",\"2012-09-27\",\"2012-09-28\",\"2012-10-01\",\"2012-10-02\",\"2012-10-03\",\"2012-10-04\",\"2012-10-05\",\"2012-10-08\",\"2012-10-09\",\"2012-10-10\",\"2012-10-11\",\"2012-10-12\",\"2012-10-15\",\"2012-10-16\",\"2012-10-17\",\"2012-10-18\",\"2012-10-19\",\"2012-10-22\",\"2012-10-23\",\"2012-10-24\",\"2012-10-25\",\"2012-10-26\",\"2012-10-31\",\"2012-11-01\",\"2012-11-02\",\"2012-11-05\",\"2012-11-06\",\"2012-11-07\",\"2012-11-08\",\"2012-11-09\",\"2012-11-12\",\"2012-11-13\",\"2012-11-14\",\"2012-11-15\",\"2012-11-16\",\"2012-11-19\",\"2012-11-20\",\"2012-11-21\",\"2012-11-23\",\"2012-11-26\",\"2012-11-27\",\"2012-11-28\",\"2012-11-29\",\"2012-11-30\",\"2012-12-03\",\"2012-12-04\",\"2012-12-05\",\"2012-12-06\",\"2012-12-07\",\"2012-12-10\",\"2012-12-11\",\"2012-12-12\",\"2012-12-13\",\"2012-12-14\",\"2012-12-17\",\"2012-12-18\",\"2012-12-19\",\"2012-12-20\",\"2012-12-21\",\"2012-12-24\",\"2012-12-26\",\"2012-12-27\",\"2012-12-28\",\"2012-12-31\",\"2013-01-02\",\"2013-01-03\",\"2013-01-04\",\"2013-01-07\",\"2013-01-08\",\"2013-01-09\",\"2013-01-10\",\"2013-01-11\",\"2013-01-14\",\"2013-01-15\",\"2013-01-16\",\"2013-01-17\",\"2013-01-18\",\"2013-01-22\",\"2013-01-23\",\"2013-01-24\",\"2013-01-25\",\"2013-01-28\",\"2013-01-29\",\"2013-01-30\",\"2013-01-31\",\"2013-02-01\",\"2013-02-04\",\"2013-02-05\",\"2013-02-06\",\"2013-02-07\",\"2013-02-08\",\"2013-02-11\",\"2013-02-12\",\"2013-02-13\",\"2013-02-14\",\"2013-02-15\",\"2013-02-19\",\"2013-02-20\",\"2013-02-21\",\"2013-02-22\",\"2013-02-25\",\"2013-02-26\",\"2013-02-27\",\"2013-02-28\",\"2013-03-01\",\"2013-03-04\",\"2013-03-05\",\"2013-03-06\",\"2013-03-07\",\"2013-03-08\",\"2013-03-11\",\"2013-03-12\",\"2013-03-13\",\"2013-03-14\",\"2013-03-15\",\"2013-03-18\",\"2013-03-19\",\"2013-03-20\",\"2013-03-21\",\"2013-03-22\",\"2013-03-25\",\"2013-03-26\",\"2013-03-27\",\"2013-03-28\",\"2013-04-01\",\"2013-04-02\",\"2013-04-03\",\"2013-04-04\",\"2013-04-05\",\"2013-04-08\",\"2013-04-09\",\"2013-04-10\",\"2013-04-11\",\"2013-04-12\",\"2013-04-15\",\"2013-04-16\",\"2013-04-17\",\"2013-04-18\",\"2013-04-19\",\"2013-04-22\",\"2013-04-23\",\"2013-04-24\",\"2013-04-25\",\"2013-04-26\",\"2013-04-29\",\"2013-04-30\",\"2013-05-01\",\"2013-05-02\",\"2013-05-03\",\"2013-05-06\",\"2013-05-07\",\"2013-05-08\",\"2013-05-09\",\"2013-05-10\",\"2013-05-13\",\"2013-05-14\",\"2013-05-15\",\"2013-05-16\",\"2013-05-17\",\"2013-05-20\",\"2013-05-21\",\"2013-05-22\",\"2013-05-23\",\"2013-05-24\",\"2013-05-28\",\"2013-05-29\",\"2013-05-30\",\"2013-05-31\",\"2013-06-03\",\"2013-06-04\",\"2013-06-05\",\"2013-06-06\",\"2013-06-07\",\"2013-06-10\",\"2013-06-11\",\"2013-06-12\",\"2013-06-13\",\"2013-06-14\",\"2013-06-17\",\"2013-06-18\",\"2013-06-19\",\"2013-06-20\",\"2013-06-21\",\"2013-06-24\",\"2013-06-25\",\"2013-06-26\",\"2013-06-27\",\"2013-06-28\",\"2013-07-01\",\"2013-07-02\",\"2013-07-03\",\"2013-07-05\",\"2013-07-08\",\"2013-07-09\",\"2013-07-10\",\"2013-07-11\",\"2013-07-12\",\"2013-07-15\",\"2013-07-16\",\"2013-07-17\",\"2013-07-18\",\"2013-07-19\",\"2013-07-22\",\"2013-07-23\",\"2013-07-24\",\"2013-07-25\",\"2013-07-26\",\"2013-07-29\",\"2013-07-30\",\"2013-07-31\",\"2013-08-01\",\"2013-08-02\",\"2013-08-05\",\"2013-08-06\",\"2013-08-07\",\"2013-08-08\",\"2013-08-09\",\"2013-08-12\",\"2013-08-13\",\"2013-08-14\",\"2013-08-15\",\"2013-08-16\",\"2013-08-19\",\"2013-08-20\",\"2013-08-21\",\"2013-08-22\",\"2013-08-23\",\"2013-08-26\",\"2013-08-27\",\"2013-08-28\",\"2013-08-29\",\"2013-08-30\",\"2013-09-03\",\"2013-09-04\",\"2013-09-05\",\"2013-09-06\",\"2013-09-09\",\"2013-09-10\",\"2013-09-11\",\"2013-09-12\",\"2013-09-13\",\"2013-09-16\",\"2013-09-17\",\"2013-09-18\",\"2013-09-19\",\"2013-09-20\",\"2013-09-23\",\"2013-09-24\",\"2013-09-25\",\"2013-09-26\",\"2013-09-27\",\"2013-09-30\",\"2013-10-01\",\"2013-10-02\",\"2013-10-03\",\"2013-10-04\",\"2013-10-07\",\"2013-10-08\",\"2013-10-09\",\"2013-10-10\",\"2013-10-11\",\"2013-10-14\",\"2013-10-15\",\"2013-10-16\",\"2013-10-17\",\"2013-10-18\",\"2013-10-21\",\"2013-10-22\",\"2013-10-23\",\"2013-10-24\",\"2013-10-25\",\"2013-10-28\",\"2013-10-29\",\"2013-10-30\",\"2013-10-31\",\"2013-11-01\",\"2013-11-04\",\"2013-11-05\",\"2013-11-06\",\"2013-11-07\",\"2013-11-08\",\"2013-11-11\",\"2013-11-12\",\"2013-11-13\",\"2013-11-14\",\"2013-11-15\",\"2013-11-18\",\"2013-11-19\",\"2013-11-20\",\"2013-11-21\",\"2013-11-22\",\"2013-11-25\",\"2013-11-26\",\"2013-11-27\",\"2013-11-29\",\"2013-12-02\",\"2013-12-03\",\"2013-12-04\",\"2013-12-05\",\"2013-12-06\",\"2013-12-09\",\"2013-12-10\",\"2013-12-11\",\"2013-12-12\",\"2013-12-13\",\"2013-12-16\",\"2013-12-17\",\"2013-12-18\",\"2013-12-19\",\"2013-12-20\",\"2013-12-23\",\"2013-12-24\",\"2013-12-26\",\"2013-12-27\",\"2013-12-30\",\"2013-12-31\",\"2014-01-02\",\"2014-01-03\",\"2014-01-06\",\"2014-01-07\",\"2014-01-08\",\"2014-01-09\",\"2014-01-10\",\"2014-01-13\",\"2014-01-14\",\"2014-01-15\",\"2014-01-16\",\"2014-01-17\",\"2014-01-21\",\"2014-01-22\",\"2014-01-23\",\"2014-01-24\",\"2014-01-27\",\"2014-01-28\",\"2014-01-29\",\"2014-01-30\",\"2014-01-31\",\"2014-02-03\",\"2014-02-04\",\"2014-02-05\",\"2014-02-06\",\"2014-02-07\",\"2014-02-10\",\"2014-02-11\",\"2014-02-12\",\"2014-02-13\",\"2014-02-14\",\"2014-02-18\",\"2014-02-19\",\"2014-02-20\",\"2014-02-21\",\"2014-02-24\",\"2014-02-25\",\"2014-02-26\",\"2014-02-27\",\"2014-02-28\",\"2014-03-03\",\"2014-03-04\",\"2014-03-05\",\"2014-03-06\",\"2014-03-07\",\"2014-03-10\",\"2014-03-11\",\"2014-03-12\",\"2014-03-13\",\"2014-03-14\",\"2014-03-17\",\"2014-03-18\",\"2014-03-19\",\"2014-03-20\",\"2014-03-21\",\"2014-03-24\",\"2014-03-25\",\"2014-03-26\",\"2014-03-27\",\"2014-03-28\",\"2014-03-31\",\"2014-04-01\",\"2014-04-02\",\"2014-04-03\",\"2014-04-04\",\"2014-04-07\",\"2014-04-08\",\"2014-04-09\",\"2014-04-10\",\"2014-04-11\",\"2014-04-14\",\"2014-04-15\",\"2014-04-16\",\"2014-04-17\",\"2014-04-21\",\"2014-04-22\",\"2014-04-23\",\"2014-04-24\",\"2014-04-25\",\"2014-04-28\",\"2014-04-29\",\"2014-04-30\",\"2014-05-01\",\"2014-05-02\",\"2014-05-05\",\"2014-05-06\",\"2014-05-07\",\"2014-05-08\",\"2014-05-09\",\"2014-05-12\",\"2014-05-13\",\"2014-05-14\",\"2014-05-15\",\"2014-05-16\",\"2014-05-19\",\"2014-05-20\",\"2014-05-21\",\"2014-05-22\",\"2014-05-23\",\"2014-05-27\",\"2014-05-28\",\"2014-05-29\",\"2014-05-30\",\"2014-06-02\",\"2014-06-03\",\"2014-06-04\",\"2014-06-05\",\"2014-06-06\",\"2014-06-09\",\"2014-06-10\",\"2014-06-11\",\"2014-06-12\",\"2014-06-13\",\"2014-06-16\",\"2014-06-17\",\"2014-06-18\",\"2014-06-19\",\"2014-06-20\",\"2014-06-23\",\"2014-06-24\",\"2014-06-25\",\"2014-06-26\",\"2014-06-27\",\"2014-06-30\",\"2014-07-01\",\"2014-07-02\",\"2014-07-03\",\"2014-07-07\",\"2014-07-08\",\"2014-07-09\",\"2014-07-10\",\"2014-07-11\",\"2014-07-14\",\"2014-07-15\",\"2014-07-16\",\"2014-07-17\",\"2014-07-18\",\"2014-07-21\",\"2014-07-22\",\"2014-07-23\",\"2014-07-24\",\"2014-07-25\",\"2014-07-28\",\"2014-07-29\",\"2014-07-30\",\"2014-07-31\",\"2014-08-01\",\"2014-08-04\",\"2014-08-05\",\"2014-08-06\",\"2014-08-07\",\"2014-08-08\",\"2014-08-11\",\"2014-08-12\",\"2014-08-13\",\"2014-08-14\",\"2014-08-15\",\"2014-08-18\",\"2014-08-19\",\"2014-08-20\",\"2014-08-21\",\"2014-08-22\",\"2014-08-25\",\"2014-08-26\",\"2014-08-27\",\"2014-08-28\",\"2014-08-29\",\"2014-09-02\",\"2014-09-03\",\"2014-09-04\",\"2014-09-05\",\"2014-09-08\",\"2014-09-09\",\"2014-09-10\",\"2014-09-11\",\"2014-09-12\",\"2014-09-15\",\"2014-09-16\",\"2014-09-17\",\"2014-09-18\",\"2014-09-19\",\"2014-09-22\",\"2014-09-23\",\"2014-09-24\",\"2014-09-25\",\"2014-09-26\",\"2014-09-29\",\"2014-09-30\",\"2014-10-01\",\"2014-10-02\",\"2014-10-03\",\"2014-10-06\",\"2014-10-07\",\"2014-10-08\",\"2014-10-09\",\"2014-10-10\",\"2014-10-13\",\"2014-10-14\",\"2014-10-15\",\"2014-10-16\",\"2014-10-17\",\"2014-10-20\",\"2014-10-21\",\"2014-10-22\",\"2014-10-23\",\"2014-10-24\",\"2014-10-27\",\"2014-10-28\",\"2014-10-29\",\"2014-10-30\",\"2014-10-31\",\"2014-11-03\",\"2014-11-04\",\"2014-11-05\",\"2014-11-06\",\"2014-11-07\",\"2014-11-10\",\"2014-11-11\",\"2014-11-12\",\"2014-11-13\",\"2014-11-14\",\"2014-11-17\",\"2014-11-18\",\"2014-11-19\",\"2014-11-20\",\"2014-11-21\",\"2014-11-24\",\"2014-11-25\",\"2014-11-26\",\"2014-11-28\",\"2014-12-01\",\"2014-12-02\",\"2014-12-03\",\"2014-12-04\",\"2014-12-05\",\"2014-12-08\",\"2014-12-09\",\"2014-12-10\",\"2014-12-11\",\"2014-12-12\",\"2014-12-15\",\"2014-12-16\",\"2014-12-17\",\"2014-12-18\",\"2014-12-19\",\"2014-12-22\",\"2014-12-23\",\"2014-12-24\",\"2014-12-26\",\"2014-12-29\",\"2014-12-30\",\"2014-12-31\",\"2015-01-02\",\"2015-01-05\",\"2015-01-06\",\"2015-01-07\",\"2015-01-08\",\"2015-01-09\",\"2015-01-12\",\"2015-01-13\",\"2015-01-14\",\"2015-01-15\",\"2015-01-16\",\"2015-01-20\",\"2015-01-21\",\"2015-01-22\",\"2015-01-23\",\"2015-01-26\",\"2015-01-27\",\"2015-01-28\",\"2015-01-29\",\"2015-01-30\",\"2015-02-02\",\"2015-02-03\",\"2015-02-04\",\"2015-02-05\",\"2015-02-06\",\"2015-02-09\",\"2015-02-10\",\"2015-02-11\",\"2015-02-12\",\"2015-02-13\",\"2015-02-17\",\"2015-02-18\",\"2015-02-19\",\"2015-02-20\",\"2015-02-23\",\"2015-02-24\",\"2015-02-25\",\"2015-02-26\",\"2015-02-27\",\"2015-03-02\",\"2015-03-03\",\"2015-03-04\",\"2015-03-05\",\"2015-03-06\",\"2015-03-09\",\"2015-03-10\",\"2015-03-11\",\"2015-03-12\",\"2015-03-13\",\"2015-03-16\",\"2015-03-17\",\"2015-03-18\",\"2015-03-19\",\"2015-03-20\",\"2015-03-23\",\"2015-03-24\",\"2015-03-25\",\"2015-03-26\",\"2015-03-27\",\"2015-03-30\",\"2015-03-31\",\"2015-04-01\",\"2015-04-02\",\"2015-04-06\",\"2015-04-07\",\"2015-04-08\",\"2015-04-09\",\"2015-04-10\",\"2015-04-13\",\"2015-04-14\",\"2015-04-15\",\"2015-04-16\",\"2015-04-17\",\"2015-04-20\",\"2015-04-21\",\"2015-04-22\",\"2015-04-23\",\"2015-04-24\",\"2015-04-27\",\"2015-04-28\",\"2015-04-29\",\"2015-04-30\",\"2015-05-01\",\"2015-05-04\",\"2015-05-05\",\"2015-05-06\",\"2015-05-07\",\"2015-05-08\",\"2015-05-11\",\"2015-05-12\",\"2015-05-13\",\"2015-05-14\",\"2015-05-15\",\"2015-05-18\",\"2015-05-19\",\"2015-05-20\",\"2015-05-21\",\"2015-05-22\",\"2015-05-26\",\"2015-05-27\",\"2015-05-28\",\"2015-05-29\",\"2015-06-01\",\"2015-06-02\",\"2015-06-03\",\"2015-06-04\",\"2015-06-05\",\"2015-06-08\",\"2015-06-09\",\"2015-06-10\",\"2015-06-11\",\"2015-06-12\",\"2015-06-15\",\"2015-06-16\",\"2015-06-17\",\"2015-06-18\",\"2015-06-19\",\"2015-06-22\",\"2015-06-23\",\"2015-06-24\",\"2015-06-25\",\"2015-06-26\",\"2015-06-29\",\"2015-06-30\",\"2015-07-01\",\"2015-07-02\",\"2015-07-06\",\"2015-07-07\",\"2015-07-08\",\"2015-07-09\",\"2015-07-10\",\"2015-07-13\",\"2015-07-14\",\"2015-07-15\",\"2015-07-16\",\"2015-07-17\",\"2015-07-20\",\"2015-07-21\",\"2015-07-22\",\"2015-07-23\",\"2015-07-24\",\"2015-07-27\",\"2015-07-28\",\"2015-07-29\",\"2015-07-30\",\"2015-07-31\",\"2015-08-03\",\"2015-08-04\",\"2015-08-05\",\"2015-08-06\",\"2015-08-07\",\"2015-08-10\",\"2015-08-11\",\"2015-08-12\",\"2015-08-13\",\"2015-08-14\",\"2015-08-17\",\"2015-08-18\",\"2015-08-19\",\"2015-08-20\",\"2015-08-21\",\"2015-08-24\",\"2015-08-25\",\"2015-08-26\",\"2015-08-27\",\"2015-08-28\",\"2015-08-31\",\"2015-09-01\",\"2015-09-02\",\"2015-09-03\",\"2015-09-04\",\"2015-09-08\",\"2015-09-09\",\"2015-09-10\",\"2015-09-11\",\"2015-09-14\",\"2015-09-15\",\"2015-09-16\",\"2015-09-17\",\"2015-09-18\",\"2015-09-21\",\"2015-09-22\",\"2015-09-23\",\"2015-09-24\",\"2015-09-25\",\"2015-09-28\",\"2015-09-29\",\"2015-09-30\",\"2015-10-01\",\"2015-10-02\",\"2015-10-05\",\"2015-10-06\",\"2015-10-07\",\"2015-10-08\",\"2015-10-09\",\"2015-10-12\",\"2015-10-13\",\"2015-10-14\",\"2015-10-15\",\"2015-10-16\",\"2015-10-19\",\"2015-10-20\",\"2015-10-21\",\"2015-10-22\",\"2015-10-23\",\"2015-10-26\",\"2015-10-27\",\"2015-10-28\",\"2015-10-29\",\"2015-10-30\",\"2015-11-02\",\"2015-11-03\",\"2015-11-04\",\"2015-11-05\",\"2015-11-06\",\"2015-11-09\",\"2015-11-10\",\"2015-11-11\",\"2015-11-12\",\"2015-11-13\",\"2015-11-16\",\"2015-11-17\",\"2015-11-18\",\"2015-11-19\",\"2015-11-20\",\"2015-11-23\",\"2015-11-24\",\"2015-11-25\",\"2015-11-27\",\"2015-11-30\",\"2015-12-01\",\"2015-12-02\",\"2015-12-03\",\"2015-12-04\",\"2015-12-07\",\"2015-12-08\",\"2015-12-09\",\"2015-12-10\",\"2015-12-11\",\"2015-12-14\",\"2015-12-15\",\"2015-12-16\",\"2015-12-17\",\"2015-12-18\",\"2015-12-21\",\"2015-12-22\",\"2015-12-23\",\"2015-12-24\",\"2015-12-28\",\"2015-12-29\",\"2015-12-30\",\"2015-12-31\",\"2016-01-04\",\"2016-01-05\",\"2016-01-06\",\"2016-01-07\",\"2016-01-08\",\"2016-01-11\",\"2016-01-12\",\"2016-01-13\",\"2016-01-14\",\"2016-01-15\",\"2016-01-19\",\"2016-01-20\",\"2016-01-21\",\"2016-01-22\",\"2016-01-25\",\"2016-01-26\",\"2016-01-27\",\"2016-01-28\",\"2016-01-29\",\"2016-02-01\",\"2016-02-02\",\"2016-02-03\",\"2016-02-04\",\"2016-02-05\",\"2016-02-08\",\"2016-02-09\",\"2016-02-10\",\"2016-02-11\",\"2016-02-12\",\"2016-02-16\",\"2016-02-17\",\"2016-02-18\",\"2016-02-19\",\"2016-02-22\",\"2016-02-23\",\"2016-02-24\",\"2016-02-25\",\"2016-02-26\",\"2016-02-29\",\"2016-03-01\",\"2016-03-02\",\"2016-03-03\",\"2016-03-04\",\"2016-03-07\",\"2016-03-08\",\"2016-03-09\",\"2016-03-10\",\"2016-03-11\",\"2016-03-14\",\"2016-03-15\",\"2016-03-16\",\"2016-03-17\",\"2016-03-18\",\"2016-03-21\",\"2016-03-22\",\"2016-03-23\",\"2016-03-24\",\"2016-03-28\",\"2016-03-29\",\"2016-03-30\",\"2016-03-31\",\"2016-04-01\",\"2016-04-04\",\"2016-04-05\",\"2016-04-06\",\"2016-04-07\",\"2016-04-08\",\"2016-04-11\",\"2016-04-12\",\"2016-04-13\",\"2016-04-14\",\"2016-04-15\",\"2016-04-18\",\"2016-04-19\",\"2016-04-20\",\"2016-04-21\",\"2016-04-22\",\"2016-04-25\",\"2016-04-26\",\"2016-04-27\",\"2016-04-28\",\"2016-04-29\",\"2016-05-02\",\"2016-05-03\",\"2016-05-04\",\"2016-05-05\",\"2016-05-06\",\"2016-05-09\",\"2016-05-10\",\"2016-05-11\",\"2016-05-12\",\"2016-05-13\",\"2016-05-16\",\"2016-05-17\",\"2016-05-18\",\"2016-05-19\",\"2016-05-20\",\"2016-05-23\",\"2016-05-24\",\"2016-05-25\",\"2016-05-26\",\"2016-05-27\",\"2016-05-31\",\"2016-06-01\",\"2016-06-02\",\"2016-06-03\",\"2016-06-06\",\"2016-06-07\",\"2016-06-08\",\"2016-06-09\",\"2016-06-10\",\"2016-06-13\",\"2016-06-14\",\"2016-06-15\",\"2016-06-16\",\"2016-06-17\",\"2016-06-20\",\"2016-06-21\",\"2016-06-22\",\"2016-06-23\",\"2016-06-24\",\"2016-06-27\",\"2016-06-28\",\"2016-06-29\",\"2016-06-30\",\"2016-07-01\",\"2016-07-05\",\"2016-07-06\",\"2016-07-07\",\"2016-07-08\",\"2016-07-11\",\"2016-07-12\",\"2016-07-13\",\"2016-07-14\",\"2016-07-15\",\"2016-07-18\",\"2016-07-19\",\"2016-07-20\",\"2016-07-21\",\"2016-07-22\",\"2016-07-25\",\"2016-07-26\",\"2016-07-27\",\"2016-07-28\",\"2016-07-29\",\"2016-08-01\",\"2016-08-02\",\"2016-08-03\",\"2016-08-04\",\"2016-08-05\",\"2016-08-08\",\"2016-08-09\",\"2016-08-10\",\"2016-08-11\",\"2016-08-12\",\"2016-08-15\",\"2016-08-16\",\"2016-08-17\",\"2016-08-18\",\"2016-08-19\",\"2016-08-22\",\"2016-08-23\",\"2016-08-24\",\"2016-08-25\",\"2016-08-26\",\"2016-08-29\",\"2016-08-30\",\"2016-08-31\",\"2016-09-01\",\"2016-09-02\",\"2016-09-06\",\"2016-09-07\",\"2016-09-08\",\"2016-09-09\",\"2016-09-12\",\"2016-09-13\",\"2016-09-14\",\"2016-09-15\",\"2016-09-16\",\"2016-09-19\",\"2016-09-20\",\"2016-09-21\",\"2016-09-22\",\"2016-09-23\",\"2016-09-26\",\"2016-09-27\",\"2016-09-28\",\"2016-09-29\",\"2016-09-30\",\"2016-10-03\",\"2016-10-04\",\"2016-10-05\",\"2016-10-06\",\"2016-10-07\",\"2016-10-10\",\"2016-10-11\",\"2016-10-12\",\"2016-10-13\",\"2016-10-14\",\"2016-10-17\",\"2016-10-18\",\"2016-10-19\",\"2016-10-20\",\"2016-10-21\",\"2016-10-24\",\"2016-10-25\",\"2016-10-26\",\"2016-10-27\",\"2016-10-28\",\"2016-10-31\",\"2016-11-01\",\"2016-11-02\",\"2016-11-03\",\"2016-11-04\",\"2016-11-07\",\"2016-11-08\",\"2016-11-09\",\"2016-11-10\",\"2016-11-11\",\"2016-11-14\",\"2016-11-15\",\"2016-11-16\",\"2016-11-17\",\"2016-11-18\",\"2016-11-21\",\"2016-11-22\",\"2016-11-23\",\"2016-11-25\",\"2016-11-28\",\"2016-11-29\",\"2016-11-30\",\"2016-12-01\",\"2016-12-02\",\"2016-12-05\",\"2016-12-06\",\"2016-12-07\",\"2016-12-08\",\"2016-12-09\",\"2016-12-12\",\"2016-12-13\",\"2016-12-14\",\"2016-12-15\",\"2016-12-16\",\"2016-12-19\",\"2016-12-20\",\"2016-12-21\",\"2016-12-22\",\"2016-12-23\",\"2016-12-27\",\"2016-12-28\",\"2016-12-29\",\"2016-12-30\",\"2017-01-03\",\"2017-01-04\",\"2017-01-05\",\"2017-01-06\",\"2017-01-09\",\"2017-01-10\",\"2017-01-11\",\"2017-01-12\",\"2017-01-13\",\"2017-01-17\",\"2017-01-18\",\"2017-01-19\",\"2017-01-20\",\"2017-01-23\",\"2017-01-24\",\"2017-01-25\",\"2017-01-26\",\"2017-01-27\",\"2017-01-30\",\"2017-01-31\",\"2017-02-01\",\"2017-02-02\",\"2017-02-03\",\"2017-02-06\",\"2017-02-07\",\"2017-02-08\",\"2017-02-09\",\"2017-02-10\",\"2017-02-13\",\"2017-02-14\",\"2017-02-15\",\"2017-02-16\",\"2017-02-17\",\"2017-02-21\",\"2017-02-22\",\"2017-02-23\",\"2017-02-24\",\"2017-02-27\",\"2017-02-28\",\"2017-03-01\",\"2017-03-02\",\"2017-03-03\",\"2017-03-06\",\"2017-03-07\",\"2017-03-08\",\"2017-03-09\",\"2017-03-10\",\"2017-03-13\",\"2017-03-14\",\"2017-03-15\",\"2017-03-16\",\"2017-03-17\",\"2017-03-20\",\"2017-03-21\",\"2017-03-22\",\"2017-03-23\",\"2017-03-24\",\"2017-03-27\",\"2017-03-28\",\"2017-03-29\",\"2017-03-30\",\"2017-03-31\",\"2017-04-03\",\"2017-04-04\",\"2017-04-05\",\"2017-04-06\",\"2017-04-07\",\"2017-04-10\",\"2017-04-11\",\"2017-04-12\",\"2017-04-13\",\"2017-04-17\",\"2017-04-18\",\"2017-04-19\",\"2017-04-20\",\"2017-04-21\",\"2017-04-24\",\"2017-04-25\",\"2017-04-26\",\"2017-04-27\",\"2017-04-28\",\"2017-05-01\",\"2017-05-02\",\"2017-05-03\",\"2017-05-04\",\"2017-05-05\",\"2017-05-08\",\"2017-05-09\",\"2017-05-10\",\"2017-05-11\",\"2017-05-12\",\"2017-05-15\",\"2017-05-16\",\"2017-05-17\",\"2017-05-18\",\"2017-05-19\",\"2017-05-22\",\"2017-05-23\",\"2017-05-24\",\"2017-05-25\",\"2017-05-26\",\"2017-05-30\",\"2017-05-31\",\"2017-06-01\",\"2017-06-02\",\"2017-06-05\",\"2017-06-06\",\"2017-06-07\",\"2017-06-08\",\"2017-06-09\",\"2017-06-12\",\"2017-06-13\",\"2017-06-14\",\"2017-06-15\",\"2017-06-16\",\"2017-06-19\",\"2017-06-20\",\"2017-06-21\",\"2017-06-22\",\"2017-06-23\",\"2017-06-26\",\"2017-06-27\",\"2017-06-28\",\"2017-06-29\",\"2017-06-30\",\"2017-07-03\",\"2017-07-05\",\"2017-07-06\",\"2017-07-07\",\"2017-07-10\",\"2017-07-11\",\"2017-07-12\",\"2017-07-13\",\"2017-07-14\",\"2017-07-17\",\"2017-07-18\",\"2017-07-19\",\"2017-07-20\",\"2017-07-21\",\"2017-07-24\",\"2017-07-25\",\"2017-07-26\",\"2017-07-27\",\"2017-07-28\",\"2017-07-31\",\"2017-08-01\",\"2017-08-02\",\"2017-08-03\",\"2017-08-04\",\"2017-08-07\",\"2017-08-08\",\"2017-08-09\",\"2017-08-10\",\"2017-08-11\",\"2017-08-14\",\"2017-08-15\",\"2017-08-16\",\"2017-08-17\",\"2017-08-18\",\"2017-08-21\",\"2017-08-22\",\"2017-08-23\",\"2017-08-24\",\"2017-08-25\",\"2017-08-28\",\"2017-08-29\",\"2017-08-30\",\"2017-08-31\",\"2017-09-01\",\"2017-09-05\",\"2017-09-06\",\"2017-09-07\",\"2017-09-08\",\"2017-09-11\",\"2017-09-12\",\"2017-09-13\",\"2017-09-14\",\"2017-09-15\",\"2017-09-18\",\"2017-09-19\",\"2017-09-20\",\"2017-09-21\",\"2017-09-22\",\"2017-09-25\",\"2017-09-26\",\"2017-09-27\",\"2017-09-28\",\"2017-09-29\",\"2017-10-02\",\"2017-10-03\",\"2017-10-04\",\"2017-10-05\",\"2017-10-06\",\"2017-10-09\",\"2017-10-10\",\"2017-10-11\",\"2017-10-12\",\"2017-10-13\",\"2017-10-16\",\"2017-10-17\",\"2017-10-18\",\"2017-10-19\",\"2017-10-20\",\"2017-10-23\",\"2017-10-24\",\"2017-10-25\",\"2017-10-26\",\"2017-10-27\",\"2017-10-30\",\"2017-10-31\",\"2017-11-01\",\"2017-11-02\",\"2017-11-03\",\"2017-11-06\",\"2017-11-07\",\"2017-11-08\",\"2017-11-09\",\"2017-11-10\",\"2017-11-13\",\"2017-11-14\",\"2017-11-15\",\"2017-11-16\",\"2017-11-17\",\"2017-11-20\",\"2017-11-21\",\"2017-11-22\",\"2017-11-24\",\"2017-11-27\",\"2017-11-28\",\"2017-11-29\",\"2017-11-30\",\"2017-12-01\",\"2017-12-04\",\"2017-12-05\",\"2017-12-06\",\"2017-12-07\",\"2017-12-08\",\"2017-12-11\",\"2017-12-12\",\"2017-12-13\",\"2017-12-14\",\"2017-12-15\",\"2017-12-18\",\"2017-12-19\",\"2017-12-20\",\"2017-12-21\",\"2017-12-22\",\"2017-12-26\",\"2017-12-27\",\"2017-12-28\",\"2017-12-29\",\"2018-01-02\",\"2018-01-03\",\"2018-01-04\",\"2018-01-05\",\"2018-01-08\",\"2018-01-09\",\"2018-01-10\",\"2018-01-11\",\"2018-01-12\",\"2018-01-16\",\"2018-01-17\",\"2018-01-18\",\"2018-01-19\",\"2018-01-22\",\"2018-01-23\",\"2018-01-24\",\"2018-01-25\",\"2018-01-26\",\"2018-01-29\",\"2018-01-30\",\"2018-01-31\",\"2018-02-01\",\"2018-02-02\",\"2018-02-05\",\"2018-02-06\",\"2018-02-07\",\"2018-02-08\",\"2018-02-09\",\"2018-02-12\",\"2018-02-13\",\"2018-02-14\",\"2018-02-15\",\"2018-02-16\",\"2018-02-20\",\"2018-02-21\",\"2018-02-22\",\"2018-02-23\",\"2018-02-26\",\"2018-02-27\",\"2018-02-28\",\"2018-03-01\",\"2018-03-02\",\"2018-03-05\",\"2018-03-06\",\"2018-03-07\",\"2018-03-08\",\"2018-03-09\",\"2018-03-12\",\"2018-03-13\",\"2018-03-14\",\"2018-03-15\",\"2018-03-16\",\"2018-03-19\",\"2018-03-20\",\"2018-03-21\",\"2018-03-22\",\"2018-03-23\",\"2018-03-26\",\"2018-03-27\",\"2018-03-28\",\"2018-03-29\",\"2018-04-02\",\"2018-04-03\",\"2018-04-04\",\"2018-04-05\",\"2018-04-06\",\"2018-04-09\",\"2018-04-10\",\"2018-04-11\",\"2018-04-12\",\"2018-04-13\",\"2018-04-16\",\"2018-04-17\",\"2018-04-18\",\"2018-04-19\",\"2018-04-20\",\"2018-04-23\",\"2018-04-24\",\"2018-04-25\",\"2018-04-26\",\"2018-04-27\",\"2018-04-30\",\"2018-05-01\",\"2018-05-02\",\"2018-05-03\",\"2018-05-04\",\"2018-05-07\",\"2018-05-08\",\"2018-05-09\",\"2018-05-10\",\"2018-05-11\",\"2018-05-14\",\"2018-05-15\",\"2018-05-16\",\"2018-05-17\",\"2018-05-18\",\"2018-05-21\",\"2018-05-22\",\"2018-05-23\",\"2018-05-24\",\"2018-05-25\",\"2018-05-29\",\"2018-05-30\",\"2018-05-31\",\"2018-06-01\",\"2018-06-04\",\"2018-06-05\",\"2018-06-06\",\"2018-06-07\",\"2018-06-08\",\"2018-06-11\",\"2018-06-12\",\"2018-06-13\",\"2018-06-14\",\"2018-06-15\",\"2018-06-18\",\"2018-06-19\",\"2018-06-20\",\"2018-06-21\",\"2018-06-22\",\"2018-06-25\",\"2018-06-26\",\"2018-06-27\",\"2018-06-28\",\"2018-06-29\",\"2018-07-02\",\"2018-07-03\",\"2018-07-05\",\"2018-07-06\",\"2018-07-09\",\"2018-07-10\",\"2018-07-11\",\"2018-07-12\",\"2018-07-13\",\"2018-07-16\",\"2018-07-17\",\"2018-07-18\",\"2018-07-19\",\"2018-07-20\",\"2018-07-23\",\"2018-07-24\",\"2018-07-25\",\"2018-07-26\",\"2018-07-27\",\"2018-07-30\",\"2018-07-31\",\"2018-08-01\",\"2018-08-02\",\"2018-08-03\",\"2018-08-06\",\"2018-08-07\",\"2018-08-08\",\"2018-08-09\",\"2018-08-10\",\"2018-08-13\",\"2018-08-14\",\"2018-08-15\",\"2018-08-16\",\"2018-08-17\",\"2018-08-20\",\"2018-08-21\",\"2018-08-22\",\"2018-08-23\",\"2018-08-24\",\"2018-08-27\",\"2018-08-28\",\"2018-08-29\",\"2018-08-30\",\"2018-08-31\",\"2018-09-04\",\"2018-09-05\",\"2018-09-06\",\"2018-09-07\",\"2018-09-10\",\"2018-09-11\",\"2018-09-12\",\"2018-09-13\",\"2018-09-14\",\"2018-09-17\",\"2018-09-18\",\"2018-09-19\",\"2018-09-20\",\"2018-09-21\",\"2018-09-24\",\"2018-09-25\",\"2018-09-26\",\"2018-09-27\",\"2018-09-28\",\"2018-10-01\",\"2018-10-02\",\"2018-10-03\",\"2018-10-04\",\"2018-10-05\",\"2018-10-08\",\"2018-10-09\",\"2018-10-10\",\"2018-10-11\",\"2018-10-12\",\"2018-10-15\",\"2018-10-16\",\"2018-10-17\",\"2018-10-18\",\"2018-10-19\",\"2018-10-22\",\"2018-10-23\",\"2018-10-24\",\"2018-10-25\",\"2018-10-26\",\"2018-10-29\",\"2018-10-30\",\"2018-10-31\",\"2018-11-01\",\"2018-11-02\",\"2018-11-05\",\"2018-11-06\",\"2018-11-07\",\"2018-11-08\",\"2018-11-09\",\"2018-11-12\",\"2018-11-13\",\"2018-11-14\",\"2018-11-15\",\"2018-11-16\",\"2018-11-19\",\"2018-11-20\",\"2018-11-21\",\"2018-11-23\",\"2018-11-26\",\"2018-11-27\",\"2018-11-28\",\"2018-11-29\",\"2018-11-30\",\"2018-12-03\",\"2018-12-04\",\"2018-12-06\",\"2018-12-07\",\"2018-12-10\",\"2018-12-11\",\"2018-12-12\",\"2018-12-13\",\"2018-12-14\",\"2018-12-17\",\"2018-12-18\",\"2018-12-19\",\"2018-12-20\",\"2018-12-21\",\"2018-12-24\",\"2018-12-26\",\"2018-12-27\",\"2018-12-28\",\"2018-12-31\",\"2019-01-02\",\"2019-01-03\",\"2019-01-04\",\"2019-01-07\",\"2019-01-08\",\"2019-01-09\",\"2019-01-10\",\"2019-01-11\",\"2019-01-14\",\"2019-01-15\",\"2019-01-16\",\"2019-01-17\",\"2019-01-18\",\"2019-01-22\",\"2019-01-23\",\"2019-01-24\",\"2019-01-25\",\"2019-01-28\",\"2019-01-29\",\"2019-01-30\",\"2019-01-31\",\"2019-02-01\",\"2019-02-04\",\"2019-02-05\",\"2019-02-06\",\"2019-02-07\",\"2019-02-08\",\"2019-02-11\",\"2019-02-12\",\"2019-02-13\",\"2019-02-14\",\"2019-02-15\",\"2019-02-19\",\"2019-02-20\",\"2019-02-21\",\"2019-02-22\",\"2019-02-25\",\"2019-02-26\",\"2019-02-27\",\"2019-02-28\",\"2019-03-01\",\"2019-03-04\",\"2019-03-05\",\"2019-03-06\",\"2019-03-07\",\"2019-03-08\",\"2019-03-11\",\"2019-03-12\",\"2019-03-13\",\"2019-03-14\",\"2019-03-15\",\"2019-03-18\",\"2019-03-19\",\"2019-03-20\",\"2019-03-21\",\"2019-03-22\",\"2019-03-25\",\"2019-03-26\",\"2019-03-27\",\"2019-03-28\",\"2019-03-29\",\"2019-04-01\",\"2019-04-02\",\"2019-04-03\",\"2019-04-04\",\"2019-04-05\",\"2019-04-08\",\"2019-04-09\",\"2019-04-10\",\"2019-04-11\",\"2019-04-12\",\"2019-04-15\",\"2019-04-16\",\"2019-04-17\",\"2019-04-18\",\"2019-04-22\",\"2019-04-23\",\"2019-04-24\",\"2019-04-25\",\"2019-04-26\",\"2019-04-29\",\"2019-04-30\",\"2019-05-01\",\"2019-05-02\",\"2019-05-03\",\"2019-05-06\",\"2019-05-07\",\"2019-05-08\",\"2019-05-09\",\"2019-05-10\",\"2019-05-13\",\"2019-05-14\",\"2019-05-15\",\"2019-05-16\",\"2019-05-17\",\"2019-05-20\",\"2019-05-21\",\"2019-05-22\",\"2019-05-23\",\"2019-05-24\",\"2019-05-28\",\"2019-05-29\",\"2019-05-30\",\"2019-05-31\",\"2019-06-03\",\"2019-06-04\",\"2019-06-05\",\"2019-06-06\",\"2019-06-07\",\"2019-06-10\",\"2019-06-11\",\"2019-06-12\",\"2019-06-13\",\"2019-06-14\",\"2019-06-17\",\"2019-06-18\",\"2019-06-19\",\"2019-06-20\",\"2019-06-21\",\"2019-06-24\",\"2019-06-25\",\"2019-06-26\",\"2019-06-27\",\"2019-06-28\",\"2019-07-01\",\"2019-07-02\",\"2019-07-03\",\"2019-07-05\",\"2019-07-08\",\"2019-07-09\",\"2019-07-10\",\"2019-07-11\",\"2019-07-12\",\"2019-07-15\",\"2019-07-16\",\"2019-07-17\",\"2019-07-18\",\"2019-07-19\",\"2019-07-22\",\"2019-07-23\",\"2019-07-24\",\"2019-07-25\",\"2019-07-26\",\"2019-07-29\",\"2019-07-30\",\"2019-07-31\",\"2019-08-01\",\"2019-08-02\",\"2019-08-05\",\"2019-08-06\",\"2019-08-07\",\"2019-08-08\",\"2019-08-09\",\"2019-08-12\",\"2019-08-13\",\"2019-08-14\",\"2019-08-15\",\"2019-08-16\",\"2019-08-19\",\"2019-08-20\",\"2019-08-21\",\"2019-08-22\",\"2019-08-23\",\"2019-08-26\",\"2019-08-27\",\"2019-08-28\",\"2019-08-29\",\"2019-08-30\",\"2019-09-03\",\"2019-09-04\",\"2019-09-05\",\"2019-09-06\",\"2019-09-09\",\"2019-09-10\",\"2019-09-11\",\"2019-09-12\",\"2019-09-13\",\"2019-09-16\",\"2019-09-17\",\"2019-09-18\",\"2019-09-19\",\"2019-09-20\",\"2019-09-23\",\"2019-09-24\",\"2019-09-25\",\"2019-09-26\",\"2019-09-27\",\"2019-09-30\",\"2019-10-01\",\"2019-10-02\",\"2019-10-03\",\"2019-10-04\",\"2019-10-07\",\"2019-10-08\",\"2019-10-09\",\"2019-10-10\",\"2019-10-11\",\"2019-10-14\",\"2019-10-15\",\"2019-10-16\",\"2019-10-17\",\"2019-10-18\",\"2019-10-21\",\"2019-10-22\",\"2019-10-23\",\"2019-10-24\",\"2019-10-25\",\"2019-10-28\",\"2019-10-29\",\"2019-10-30\",\"2019-10-31\",\"2019-11-01\",\"2019-11-04\",\"2019-11-05\",\"2019-11-06\",\"2019-11-07\",\"2019-11-08\",\"2019-11-11\",\"2019-11-12\",\"2019-11-13\",\"2019-11-14\",\"2019-11-15\",\"2019-11-18\",\"2019-11-19\",\"2019-11-20\",\"2019-11-21\",\"2019-11-22\",\"2019-11-25\",\"2019-11-26\",\"2019-11-27\",\"2019-11-29\",\"2019-12-02\",\"2019-12-03\",\"2019-12-04\",\"2019-12-05\",\"2019-12-06\",\"2019-12-09\",\"2019-12-10\",\"2019-12-11\",\"2019-12-12\",\"2019-12-13\",\"2019-12-16\",\"2019-12-17\",\"2019-12-18\",\"2019-12-19\",\"2019-12-20\",\"2019-12-23\",\"2019-12-24\",\"2019-12-26\",\"2019-12-27\",\"2019-12-30\",\"2019-12-31\",\"2020-01-02\",\"2020-01-03\",\"2020-01-06\",\"2020-01-07\",\"2020-01-08\",\"2020-01-09\",\"2020-01-10\",\"2020-01-13\",\"2020-01-14\",\"2020-01-15\",\"2020-01-16\",\"2020-01-17\",\"2020-01-21\",\"2020-01-22\",\"2020-01-23\",\"2020-01-24\",\"2020-01-27\",\"2020-01-28\",\"2020-01-29\",\"2020-01-30\",\"2020-01-31\",\"2020-02-03\"],\"xaxis\":\"x\",\"y\":[23.89,23.83,21.96,19.2,16.11,15.8,17.46,17.4,17.05,18.14,19.84,19.89,20.64,21.91,20.3,20.22,21.0,21.29,20.95,20.55,20.72,20.35,19.94,20.92,21.95,21.26,20.45,19.59,19.6,19.03,17.9,17.6,18.32,18.78,19.15,18.77,18.79,19.1,20.13,19.2,19.9,19.75,19.7,19.87,19.48,20.45,21.06,21.05,20.54,20.9,20.71,20.17,20.72,21.12,21.98,20.94,20.23,21.06,20.77,19.87,19.56,20.1,20.53,21.4,21.98,20.41,20.6,20.99,21.12,20.46,20.43,20.43,20.24,20.24,20.54,20.75,20.54,20.23,20.05,20.65,20.75,20.72,20.85,21.36,21.0,21.19,21.84,21.41,21.25,21.77,24.9,24.44,24.98,24.63,29.36,28.04,29.84,30.8,29.67,29.49,29.89,30.99,33.4,34.57,35.47,35.32,34.33,35.33,34.35,32.35,31.49,30.31,31.56,32.37,32.05,31.52,30.55,28.53,29.6,30.81,31.36,31.7,32.26,32.63,30.09,25.55,26.41,27.73,26.5,26.63,26.62,26.67,26.83,27.88,28.24,28.45,26.96,26.96,26.22,25.75,25.64,24.03,22.62,23.04,24.49,24.68,24.75,24.92,24.01,24.1,23.91,23.94,23.63,23.46,23.07,24.49,23.21,23.22,23.25,23.08,22.84,24.73,23.6,23.18,21.87,21.83,22.53,23.61,23.89,23.94,24.02,24.36,24.95,24.94,24.66,24.72,24.01,24.07,23.25,22.95,22.82,22.81,22.96,22.73,22.19,22.21,22.33,22.75,23.25,23.92,23.71,27.75,26.66,25.83,26.7,26.49,27.24,26.49,25.27,24.65,24.93,25.14,25.58,25.03,25.16,25.75,26.74,26.39,26.93,27.08,27.66,27.6,27.45,26.87,26.69,26.44,27.12,27.91,28.33,27.07,27.67,27.55,26.6,25.96,26.35,28.2,27.97,26.82,26.72,28.98,29.48,29.55,30.14,28.52,28.76,30.13,28.7,28.37,27.12,27.62,27.86,28.43,28.6,27.32,26.5,26.5,26.01,27.53,27.21,27.71,27.57,27.46,28.11,28.29,29.13,29.02,29.14,28.96,29.73,28.81,28.35,28.17,28.64,27.61,27.58,27.23,27.89,28.69,28.7,29.29,28.49,28.0,27.64,28.17,28.17,28.77,27.34,27.2,24.75,24.24,23.64,25.06,23.82,25.3,26.31,26.23,26.1,25.83,24.26,22.3,21.95,22.96,23.87,23.11,23.73,24.71,24.63,24.74,24.0,23.07,22.94,23.84,23.61,22.97,22.88,24.08,24.34,24.82,25.8,25.77,26.01,25.85,25.63,26.38,25.52,26.19,24.59,24.12,24.39,23.73,23.66,25.37,26.96,26.99,27.88,27.61,27.8,27.94,28.05,27.42,28.34,27.57,27.34,28.03,28.55,28.25,27.98,28.76,29.87,29.37,28.88,28.71,32.46,32.31,31.27,31.84,30.88,31.33,33.64,33.22,33.93,34.94,33.68,32.6,31.76,32.07,31.45,31.66,32.56,31.75,32.74,32.6,33.3,34.42,34.87,34.19,30.89,31.04,30.41,29.45,28.53,28.62,28.0,27.75,27.9,27.57,27.77,27.9,28.57,28.51,28.73,28.56,28.08,27.71,27.12,26.91,27.25,27.62,28.23,28.25,22.79,26.6,26.81,26.76,26.6,26.77,27.42,27.97,28.94,29.33,29.57,29.07,29.58,30.25,31.15,31.8,31.6,31.93,32.58,31.1,31.49,33.17,33.6,34.18,34.97,34.5,34.22,34.53,33.75,33.62,33.81,33.41,34.41,34.04,33.77,33.11,33.12,33.07,34.74,36.01,36.09,35.29,35.0,35.32,34.98,34.96,35.15,34.4,34.08,37.4,37.94,37.85,37.33,37.24,36.58,38.01,35.0,34.48,33.15,32.46,33.09,33.44,33.59,32.25,32.24,32.66,33.16,33.16,31.94,31.82,32.91,33.49,33.34,33.13,33.78,33.94,32.46,31.83,32.47,30.19,30.06,32.96,32.25,30.06,29.43,29.18,28.57,27.56,28.77,30.8,31.02,30.28,29.81,31.69,30.41,29.5,28.15,27.88,27.91,29.22,28.93,30.08,29.12,29.66,29.77,29.39,29.91,31.84,32.09,33.78,32.19,33.79,33.11,31.61,31.96,31.41,31.29,30.4,30.66,31.23,30.99,31.49,31.27,31.51,32.7,34.25,35.96,33.35,32.15,32.27,31.79,30.66,29.84,28.95,28.13,29.51,27.35,27.42,26.25,26.1,27.27,28.27,30.25,29.09,29.41,29.94,31.17,29.42,29.4,30.3,30.01,29.51,29.11,29.95,30.73,29.5,28.32,28.69,28.41,28.41,28.52,28.14,27.94,28.55,29.35,27.37,27.8,28.28,29.48,30.39,32.54,31.34,31.05,30.9,30.02,30.66,27.66,27.54,28.49,29.28,29.16,29.8,29.3,29.4,28.89,29.25,28.37,28.4,28.32,27.64,27.33,28.06,28.82,28.04,27.74,27.85,28.39,27.42,27.52,27.38,28.13,29.25,28.92,31.5,31.15,31.54,31.31,30.32,31.07,31.61,31.38,30.82,31.84,32.92,33.0,32.47,32.13,32.27,32.15,33.23,33.69,33.82,34.62,33.9,33.71,33.9,34.17,34.57,35.28,35.26,33.61,33.81,34.4,34.59,34.61,34.43,34.0,34.28,33.59,33.69,33.22,33.87,35.36,34.77,34.4,34.34,33.68,33.64,33.53,32.91,33.26,33.9,34.1,34.38,34.52,35.19,36.0,36.99,36.98,38.03,37.95,37.52,37.51,38.3,37.74,38.13,39.17,39.48,39.24,38.42,37.89,38.45,38.27,37.04,39.28,38.54,35.16,36.11,34.38,34.43,35.1,34.83,34.65,35.58,36.65,37.69,38.23,38.47,39.1,39.12,38.98,36.85,35.29,35.15,35.08,35.95,36.01,36.62,37.53,37.86,38.16,37.89,43.93,44.34,41.1,42.01,41.37,41.83,40.5,41.86,43.59,43.75,43.3,45.59,45.45,46.97,47.83,50.19,51.01,50.43,52.0,51.2,54.94,53.99,53.28,54.11,54.55,59.5,55.51,55.79,69.4,76.76,87.8,83.24,84.84,92.25,91.5,89.94,87.59,87.24,92.73,97.08,110.33,104.63,104.95,97.76,92.59,94.84,95.37,97.35,102.04,100.05,94.47,97.73,98.18,100.3,102.2,103.39,104.68,100.65,99.55,101.49,102.4,105.72,109.25,107.36,117.18,117.82,115.24,120.09,121.61,123.45,122.27,125.61,129.9,127.26,109.05,120.25,119.03,119.68,122.43,122.74,121.7,124.07,129.39,134.62,131.74,134.28,135.55,138.0,144.68,142.15,134.23,153.48,153.0,147.38,145.43,139.36,139.67,142.0,144.9,149.58,147.86,157.1,161.84,164.22,167.01,166.45,166.06,169.0,168.94,170.62,169.93,166.97,160.7,166.37,163.52,164.93,165.54,166.58,166.23,166.22,177.92,183.39,181.11,182.33,185.24,188.64,190.9,193.37,193.0,180.95,173.31,180.98,183.07,174.73,168.78,172.93,178.7,179.72,183.94,183.56,182.8,183.4,172.6,171.54,164.5,173.15,169.66,162.86,164.47,159.22,159.94,162.17,175.2,176.81,151.16,139.77,137.95,144.7,137.8,138.7,137.6,135.45,121.58,126.09,121.11,122.1,121.38,120.84,120.5,126.94,127.28,124.17,144.7,138.95,140.48,137.36,141.6,142.19,139.65,147.47,147.65,147.94,152.46,147.98,140.72,143.24,143.55,151.41,155.5,151.12,152.44,150.43,150.1,149.56,147.0,149.36,151.28,147.53,145.72,139.34,161.27,164.13,170.97,170.01,176.68,178.56,181.5,174.6,169.62,178.38,175.23,182.84,181.41,177.11,178.73,174.42,178.38,186.53,196.56,196.62,195.32,199.63,198.23,203.7,193.64,209.97,209.6,217.65,248.0,253.0,252.54,244.81,250.56,254.84,252.66,252.94,246.21,238.84,234.41,241.49,237.79,230.97,233.98,240.04,235.84,234.91,228.89,220.17,220.44,212.96,207.32,212.37,208.45,216.97,230.29,225.4,212.23,207.52,215.46,216.93,204.19,203.78,198.09,193.91,199.11,198.12,204.38,218.64,207.99,207.86,199.85,198.51,206.92,207.89,207.73,210.91,216.61,207.28,201.35,178.59,182.26,184.67,190.16,190.62,188.59,191.56,196.09,195.3,199.45,204.88,207.3,211.56,210.24,210.24,207.77,204.7,204.94,203.99,206.9,208.17,205.31,202.3,204.47,203.52,206.42,224.61,231.67,227.12,227.79,229.59,237.22,232.5,236.89,235.6,239.06,240.06,239.72,229.43,229.25,222.66,219.07,223.06,219.46,218.13,226.7,219.58,217.16,215.4,220.02,220.54,219.58,222.49,223.54,223.57,224.82,225.01,228.92,223.3,233.27,238.52,238.49,248.93,252.39,248.13,259.32,259.96,260.31,261.38,262.01,259.94,256.76,255.71,254.34,256.78,262.55,261.74,263.25,263.86,269.7,284.12,281.19,286.04,277.39,282.11,278.48,281.1,280.31,279.2,253.86,260.74,261.38,263.82,259.32,250.03,250.41,252.14,246.95,246.6,245.26,242.68,240.24,251.42,255.21,260.62,259.57,259.28,257.01,236.91,224.59,227.06,229.7,226.35,227.48,230.47,235.34,231.1,235.29,235.24,221.67,242.77,238.1,238.66,241.7,242.59,238.93,230.97,241.22,240.2,241.93,251.08,249.1,251.7,258.68,253.98,257.7,247.74,248.71,242.78,246.72,248.09,248.44,244.52,231.64,231.43,229.3,228.28,223.71,214.36,216.89,209.84,208.88,207.0,204.04,197.81,205.82,218.26,219.29,222.6,220.97,222.26,227.82,225.71,222.23,222.41,219.31,210.09,211.28,210.95,210.62,206.66,202.21,204.25,192.69,191.87,193.07,191.93,196.57,201.62,201.29,206.55,205.98,199.37,205.2,203.6,210.94,218.36,218.55,220.99,217.36,217.48,216.29,212.8,202.88,203.77,204.35,204.46,211.71,217.11,207.34,204.11,203.76,207.19,203.34,197.33,199.56,202.44,200.63,193.88,190.88,190.32,193.74,191.07,188.68,195.7,194.73,200.71,195.65,198.08,199.63,201.72,194.3,190.41,185.0,190.57,188.77,187.59,191.0,203.1,203.25,207.67,210.09,210.9,209.78,207.46,207.83,206.7,206.79,205.27,209.41,219.44,218.6,218.43,231.55,230.48,232.45,226.05,226.03,230.51,232.95,230.43,236.8,236.61,239.49,244.74,243.18,244.1,248.84,248.75,247.14,244.35,245.62,247.73,247.46,247.43,251.45,250.8,249.45,248.35,248.99,245.92,249.14,256.29,256.0,250.7,251.41,250.69,250.38,253.12,260.41,261.89,262.51,259.79,267.67,265.17,268.79,267.09,262.02,268.26,269.15,280.02,279.72,267.88,254.96,257.92,259.15,262.16,265.65,263.14,266.68,274.66,282.26,266.77,267.87,267.2,265.41,253.01,264.82,263.82,266.79,266.15,259.99,266.28,270.13,246.13,242.51,241.14,237.37,238.17,242.51,243.15,254.99,260.72,255.25,242.18,230.77,218.87,220.03,224.84,242.99,248.48,249.06,238.63,247.69,245.57,241.93,248.17,248.91,248.48,250.24,253.19,253.57,262.25,262.07,260.62,264.2,260.94,261.06,263.12,256.91,248.43,246.65,248.4,239.88,247.57,246.15,241.46,231.96,226.72,220.69,215.58,219.25,216.88,221.31,227.01,228.1,213.03,210.09,211.72,209.09,215.26,210.35,212.96,211.63,206.93,213.79,208.35,231.63,231.77,232.36,225.33,216.5,219.08,212.94,207.19,214.31,214.0,221.07,221.8,220.01,217.75,218.25,229.64,231.61,230.26,237.19,231.99,232.71,230.38,231.13,226.72,224.52,227.07,217.02,218.58,221.09,234.51,233.39,230.46,232.56,229.95,229.7,230.57,228.95,237.19,238.09,240.01,223.41,223.43,219.04,215.65,211.0,207.85,209.97,200.31,206.18,204.99,204.72,198.7,199.97,202.55,196.38,193.56,188.07,189.7,191.2,196.94,182.78,173.48,175.33,162.6,147.99,148.25,143.67,150.47,151.04,155.17,168.68,166.77,166.58,177.74,177.21,179.0,187.43,190.34,191.93,186.35,188.34,195.74,201.04,205.29,202.6,208.72,205.18,207.5,215.15,218.34,221.93,226.38,232.74,238.32,234.24,222.58,227.75,230.26,230.13,226.89,229.77,237.59,246.99,255.47,265.42,257.2,250.07,249.92,247.82,254.53,251.86,254.51,253.88,247.37,249.97,248.29,253.75,251.82,253.74,251.47,247.71,240.76,241.8,232.32,222.56,211.53,214.93,208.92,208.69,208.96,207.28,207.61,208.29,204.66,211.17,215.21,220.28,216.22,217.91,219.58,225.12,223.04,223.23,219.56,218.96,218.99,220.68,232.34,235.52,229.36,218.79,217.87,214.96,217.7,217.93,215.47,219.7,219.61,196.66,196.4,193.15,198.55,201.79,210.19,212.28,216.5,213.98,214.44,215.94,216.78,224.78,224.65,222.53,221.53,220.4,226.25,225.26,228.36,220.5,222.27,230.01,229.51,228.49,230.61,234.79,230.01,227.2,225.79,230.61,230.03,226.16,229.08,225.65,224.91,225.61,225.59,223.61,223.24,223.51,225.0,222.93,224.84,222.62,220.96,219.99,215.2,211.34,212.01,200.77,197.78,202.83,201.71,197.36,194.47,198.3,196.05,196.41,200.42,205.4,206.34,204.64,205.22,206.43,207.45,208.99,205.81,206.27,200.7,204.03,213.7,211.41,208.46,201.0,196.61,200.95,200.1,201.51,200.24,196.51,193.96,199.1,203.56,199.1,200.09,202.76,202.34,202.24,204.01,199.97,197.73,190.79,188.02,187.42,190.56,193.21,194.94,190.06,185.35,188.56,181.45,183.77,183.93,188.66,185.02,184.52,191.17,193.14,196.65,196.12,189.57,189.4,181.88,181.47,186.8,185.85,193.15,192.29,192.18,192.43,198.15,198.69,197.58,202.49,202.73,208.79,207.7,208.45,213.34,219.53,219.74,214.68,213.69,216.99,226.99,226.75,229.01,231.28,229.87,229.73,229.59,237.75,235.58,238.36,243.76,244.73,248.92,254.61,254.47,252.51,252.95,250.63,251.93,249.24,251.55,251.33,257.77,257.48,262.08,269.2,269.23,280.6,280.98,279.76,268.95,272.23,277.39,273.51,255.99,257.0,246.23,249.99,250.02,250.48,251.57,251.21,248.59,246.87,244.9,243.69,246.17,258.0,255.73,262.05,261.5,261.92,250.68,255.01,254.78,263.16,270.22,277.45,277.38,277.92,278.3,298.52,303.7,295.0,298.7,302.54,312.39,308.71,296.84,304.0,301.44,300.25,305.52,302.51,305.6,308.03,313.79,310.17,308.63,314.07,322.83,318.89,311.02,295.46,308.35,307.19,321.26,325.22,323.1,324.81,315.88,317.01,306.11,313.06,310.83,310.35,303.86,310.22,316.83,325.14,335.1,341.01,340.37,339.85,347.32,352.85,359.65,370.0,357.32,359.01,375.95,380.66,375.34,371.4,369.8,372.24,376.4,382.61,383.45,377.49,362.37,371.24,360.75,361.61,352.62,327.09,308.83,313.22,316.05,327.22,329.52,323.41,327.78,319.57,328.24,325.26,329.92,328.4,342.52,339.6,343.85,334.46,335.07,323.47,319.57,325.89,347.09,356.91,355.17,365.22,363.53,355.4,357.87,363.8,362.33,362.91,351.92,347.46,337.86,341.35,352.77,352.93,348.05,345.66,347.36,353.18,355.9,355.4,349.59,344.53,350.61,343.4,363.69,362.75,366.23,377.64,379.81,385.0,375.1,373.91,366.48,351.09,344.99,345.25,340.97,339.6,341.1,341.53,348.14,355.01,355.33,356.88,342.94,355.59,354.6,355.68,355.57,350.6,355.75,359.65,351.81,345.1,337.02,337.34,325.84,326.17,320.87,320.08,331.53,321.08,299.26,306.09,302.78,306.05,304.39,302.99,302.99,315.4,308.7,311.3,312.5,315.05,308.74,317.81,312.6,315.55,316.81,317.55,307.54,308.85,306.53,305.2,303.7,313.26,311.24,315.13,328.91,341.03,339.03,337.89,343.45,338.87,331.1,328.98,331.66,325.2,317.29,311.64,315.36,311.35,320.53,317.25,314.62,316.58,336.41,333.69,334.8,337.95,336.22,340.06,347.16,344.57,350.02,351.56,352.79,345.89,337.64,342.85,349.53,345.82,354.31,349.25,343.75,333.13,333.97,345.0,315.23,310.42,315.73,323.66,322.31,334.07,335.49,334.77,333.3,346.17,352.05,357.42,350.99,343.06,330.93,335.12,333.35,328.2,332.3,329.1,327.17,345.51,341.84,326.63,325.6,321.35,313.56,310.55,316.53,309.1,301.54,304.18,279.18,257.78,266.13,252.48,267.53,286.94,305.72,299.3,289.66,304.7,300.93,294.08,300.34,291.21,287.69,293.35,300.08,290.24,283.37,283.46,280.69,285.48,294.08,293.9,299.92,301.15,284.45,294.09,302.77,301.97,306.85,305.02,301.06,291.97,284.18,286.48,284.54,276.82,284.49,275.01,279.07,277.85,278.85,283.76,291.72,284.73,291.82,296.74,291.13,319.5,316.09,317.66,332.1,342.77,344.78,357.72,358.17,370.83,352.55,362.22,347.51,333.63,333.01,342.0,344.5,349.93,342.95,335.07,310.86,309.16,308.9,318.51,322.47,318.96,316.71,318.87,310.1,322.69,323.85,320.23,313.58,303.2,297.43,308.74,306.65,297.18,290.17,298.14,300.84,349.54,348.17,341.99,379.57,370.34,352.45,355.49,356.41,347.64,338.69,335.45,305.5,308.44,321.9,321.64,320.1,322.82,319.27,311.86,305.01,303.15,301.66,288.95,280.74,280.95,263.24,285.5,279.44,290.54,289.46,295.2,294.84,284.96,299.02,298.33,299.1,299.68,300.99,309.58,307.52,264.77,310.7,301.02,294.8,281.83,261.95,250.56,262.8,256.88,252.23,258.78,259.59,276.59,271.78,263.91,260.0,260.95,294.14,288.5,314.86,330.9,334.85,329.9,337.32,344.28,346.41,341.4,341.06,348.16,351.4,350.51,331.28,338.73,344.0,348.44,354.31,353.47,347.49,338.19,325.83,346.0,343.92,347.87,341.17,350.48,358.49,359.7,363.06,357.97,365.15,366.76,366.6,376.79,365.71,348.42,337.03,332.97,315.38,319.77,295.39,326.09,316.13,333.87,332.8,310.12,300.36,317.69,334.96,335.35,338.53,344.97,347.26,334.4,344.43,346.05,347.31,302.26,298.92,287.59,291.51,297.04,296.38,297.46,308.77,307.02,312.21,312.89,321.35,317.22,307.51,305.8,312.84,311.81,308.17,303.77,307.88,305.64,302.56,291.23,294.71,298.77,297.86,314.74,319.88,294.79,285.36,276.54,276.24,276.59,284.14,290.92,283.36,288.96,289.96,275.43,269.49,267.47,273.6,274.02,264.53,260.42,267.77,274.83,278.62,279.86,289.18,285.88,291.81,267.78,274.96,273.2,272.31,276.06,268.42,267.7,266.38,273.36,271.23,273.26,262.75,263.9,258.66,247.63,235.14,241.47,238.69,234.01,244.1,255.03,255.34,247.06,244.84,241.98,239.52,227.01,232.31,231.95,228.33,211.03,205.36,205.08,192.73,195.49,190.63,188.7,189.86,188.22,185.16,178.97,193.6,196.59,205.95,204.5,212.88,217.1,209.26,213.91,214.92,225.03,224.74,226.43,219.62,221.86,223.64,219.76,219.27,222.84,223.46,227.17,224.55,234.9,233.1,230.34,230.06,238.92,238.6,245.08,253.5,252.38,254.86,253.54,258.18,255.68,260.17,264.88,228.82,228.04,235.77,242.26,241.61,233.85,234.34,228.32,230.75,233.42,238.3,235.01,229.01,235.0,219.62,215.64,219.94,226.83,225.86,220.83,222.15,211.4,215.0,214.08,215.59,221.71,225.61,225.01,220.68,229.58,227.45,231.79,235.54,247.1,245.87,245.2,242.81,244.79,243.49,246.6,240.62,241.23,223.21,228.7,242.56,242.13,240.87,244.69,243.13,233.03,231.43,237.72,240.05,244.53,244.74,247.89,256.96,257.89,259.75,261.97,256.95,253.5,255.58,254.68,299.68,328.13,327.71,316.22,315.01,314.92,313.31,317.47,317.22,326.58,335.54,337.14,345.09,349.93,346.11,349.35,352.17,349.99,359.52,352.22,354.83,333.04,336.34,328.92,331.29,329.94,334.87,336.2,333.03,330.37,335.89,339.53,348.84,352.7,359.68,358.39,381.5,378.99,393.15,404.04,405.59,419.22,425.25,430.94,430.38,414.7,418.33,430.26,443.01,451.54,469.06,492.14,481.34,478.15,524.86,537.92,518.5,513.49,510.5,547.2,569.56,572.2,564.82,558.02,566.9,580.99,640.81,650.57,780.0],\"yaxis\":\"y\",\"type\":\"scattergl\"}],                        {\"template\":{\"data\":{\"bar\":[{\"error_x\":{\"color\":\"#2a3f5f\"},\"error_y\":{\"color\":\"#2a3f5f\"},\"marker\":{\"line\":{\"color\":\"#E5ECF6\",\"width\":0.5},\"pattern\":{\"fillmode\":\"overlay\",\"size\":10,\"solidity\":0.2}},\"type\":\"bar\"}],\"barpolar\":[{\"marker\":{\"line\":{\"color\":\"#E5ECF6\",\"width\":0.5},\"pattern\":{\"fillmode\":\"overlay\",\"size\":10,\"solidity\":0.2}},\"type\":\"barpolar\"}],\"carpet\":[{\"aaxis\":{\"endlinecolor\":\"#2a3f5f\",\"gridcolor\":\"white\",\"linecolor\":\"white\",\"minorgridcolor\":\"white\",\"startlinecolor\":\"#2a3f5f\"},\"baxis\":{\"endlinecolor\":\"#2a3f5f\",\"gridcolor\":\"white\",\"linecolor\":\"white\",\"minorgridcolor\":\"white\",\"startlinecolor\":\"#2a3f5f\"},\"type\":\"carpet\"}],\"choropleth\":[{\"colorbar\":{\"outlinewidth\":0,\"ticks\":\"\"},\"type\":\"choropleth\"}],\"contour\":[{\"colorbar\":{\"outlinewidth\":0,\"ticks\":\"\"},\"colorscale\":[[0.0,\"#0d0887\"],[0.1111111111111111,\"#46039f\"],[0.2222222222222222,\"#7201a8\"],[0.3333333333333333,\"#9c179e\"],[0.4444444444444444,\"#bd3786\"],[0.5555555555555556,\"#d8576b\"],[0.6666666666666666,\"#ed7953\"],[0.7777777777777778,\"#fb9f3a\"],[0.8888888888888888,\"#fdca26\"],[1.0,\"#f0f921\"]],\"type\":\"contour\"}],\"contourcarpet\":[{\"colorbar\":{\"outlinewidth\":0,\"ticks\":\"\"},\"type\":\"contourcarpet\"}],\"heatmap\":[{\"colorbar\":{\"outlinewidth\":0,\"ticks\":\"\"},\"colorscale\":[[0.0,\"#0d0887\"],[0.1111111111111111,\"#46039f\"],[0.2222222222222222,\"#7201a8\"],[0.3333333333333333,\"#9c179e\"],[0.4444444444444444,\"#bd3786\"],[0.5555555555555556,\"#d8576b\"],[0.6666666666666666,\"#ed7953\"],[0.7777777777777778,\"#fb9f3a\"],[0.8888888888888888,\"#fdca26\"],[1.0,\"#f0f921\"]],\"type\":\"heatmap\"}],\"heatmapgl\":[{\"colorbar\":{\"outlinewidth\":0,\"ticks\":\"\"},\"colorscale\":[[0.0,\"#0d0887\"],[0.1111111111111111,\"#46039f\"],[0.2222222222222222,\"#7201a8\"],[0.3333333333333333,\"#9c179e\"],[0.4444444444444444,\"#bd3786\"],[0.5555555555555556,\"#d8576b\"],[0.6666666666666666,\"#ed7953\"],[0.7777777777777778,\"#fb9f3a\"],[0.8888888888888888,\"#fdca26\"],[1.0,\"#f0f921\"]],\"type\":\"heatmapgl\"}],\"histogram\":[{\"marker\":{\"pattern\":{\"fillmode\":\"overlay\",\"size\":10,\"solidity\":0.2}},\"type\":\"histogram\"}],\"histogram2d\":[{\"colorbar\":{\"outlinewidth\":0,\"ticks\":\"\"},\"colorscale\":[[0.0,\"#0d0887\"],[0.1111111111111111,\"#46039f\"],[0.2222222222222222,\"#7201a8\"],[0.3333333333333333,\"#9c179e\"],[0.4444444444444444,\"#bd3786\"],[0.5555555555555556,\"#d8576b\"],[0.6666666666666666,\"#ed7953\"],[0.7777777777777778,\"#fb9f3a\"],[0.8888888888888888,\"#fdca26\"],[1.0,\"#f0f921\"]],\"type\":\"histogram2d\"}],\"histogram2dcontour\":[{\"colorbar\":{\"outlinewidth\":0,\"ticks\":\"\"},\"colorscale\":[[0.0,\"#0d0887\"],[0.1111111111111111,\"#46039f\"],[0.2222222222222222,\"#7201a8\"],[0.3333333333333333,\"#9c179e\"],[0.4444444444444444,\"#bd3786\"],[0.5555555555555556,\"#d8576b\"],[0.6666666666666666,\"#ed7953\"],[0.7777777777777778,\"#fb9f3a\"],[0.8888888888888888,\"#fdca26\"],[1.0,\"#f0f921\"]],\"type\":\"histogram2dcontour\"}],\"mesh3d\":[{\"colorbar\":{\"outlinewidth\":0,\"ticks\":\"\"},\"type\":\"mesh3d\"}],\"parcoords\":[{\"line\":{\"colorbar\":{\"outlinewidth\":0,\"ticks\":\"\"}},\"type\":\"parcoords\"}],\"pie\":[{\"automargin\":true,\"type\":\"pie\"}],\"scatter\":[{\"marker\":{\"colorbar\":{\"outlinewidth\":0,\"ticks\":\"\"}},\"type\":\"scatter\"}],\"scatter3d\":[{\"line\":{\"colorbar\":{\"outlinewidth\":0,\"ticks\":\"\"}},\"marker\":{\"colorbar\":{\"outlinewidth\":0,\"ticks\":\"\"}},\"type\":\"scatter3d\"}],\"scattercarpet\":[{\"marker\":{\"colorbar\":{\"outlinewidth\":0,\"ticks\":\"\"}},\"type\":\"scattercarpet\"}],\"scattergeo\":[{\"marker\":{\"colorbar\":{\"outlinewidth\":0,\"ticks\":\"\"}},\"type\":\"scattergeo\"}],\"scattergl\":[{\"marker\":{\"colorbar\":{\"outlinewidth\":0,\"ticks\":\"\"}},\"type\":\"scattergl\"}],\"scattermapbox\":[{\"marker\":{\"colorbar\":{\"outlinewidth\":0,\"ticks\":\"\"}},\"type\":\"scattermapbox\"}],\"scatterpolar\":[{\"marker\":{\"colorbar\":{\"outlinewidth\":0,\"ticks\":\"\"}},\"type\":\"scatterpolar\"}],\"scatterpolargl\":[{\"marker\":{\"colorbar\":{\"outlinewidth\":0,\"ticks\":\"\"}},\"type\":\"scatterpolargl\"}],\"scatterternary\":[{\"marker\":{\"colorbar\":{\"outlinewidth\":0,\"ticks\":\"\"}},\"type\":\"scatterternary\"}],\"surface\":[{\"colorbar\":{\"outlinewidth\":0,\"ticks\":\"\"},\"colorscale\":[[0.0,\"#0d0887\"],[0.1111111111111111,\"#46039f\"],[0.2222222222222222,\"#7201a8\"],[0.3333333333333333,\"#9c179e\"],[0.4444444444444444,\"#bd3786\"],[0.5555555555555556,\"#d8576b\"],[0.6666666666666666,\"#ed7953\"],[0.7777777777777778,\"#fb9f3a\"],[0.8888888888888888,\"#fdca26\"],[1.0,\"#f0f921\"]],\"type\":\"surface\"}],\"table\":[{\"cells\":{\"fill\":{\"color\":\"#EBF0F8\"},\"line\":{\"color\":\"white\"}},\"header\":{\"fill\":{\"color\":\"#C8D4E3\"},\"line\":{\"color\":\"white\"}},\"type\":\"table\"}]},\"layout\":{\"annotationdefaults\":{\"arrowcolor\":\"#2a3f5f\",\"arrowhead\":0,\"arrowwidth\":1},\"autotypenumbers\":\"strict\",\"coloraxis\":{\"colorbar\":{\"outlinewidth\":0,\"ticks\":\"\"}},\"colorscale\":{\"diverging\":[[0,\"#8e0152\"],[0.1,\"#c51b7d\"],[0.2,\"#de77ae\"],[0.3,\"#f1b6da\"],[0.4,\"#fde0ef\"],[0.5,\"#f7f7f7\"],[0.6,\"#e6f5d0\"],[0.7,\"#b8e186\"],[0.8,\"#7fbc41\"],[0.9,\"#4d9221\"],[1,\"#276419\"]],\"sequential\":[[0.0,\"#0d0887\"],[0.1111111111111111,\"#46039f\"],[0.2222222222222222,\"#7201a8\"],[0.3333333333333333,\"#9c179e\"],[0.4444444444444444,\"#bd3786\"],[0.5555555555555556,\"#d8576b\"],[0.6666666666666666,\"#ed7953\"],[0.7777777777777778,\"#fb9f3a\"],[0.8888888888888888,\"#fdca26\"],[1.0,\"#f0f921\"]],\"sequentialminus\":[[0.0,\"#0d0887\"],[0.1111111111111111,\"#46039f\"],[0.2222222222222222,\"#7201a8\"],[0.3333333333333333,\"#9c179e\"],[0.4444444444444444,\"#bd3786\"],[0.5555555555555556,\"#d8576b\"],[0.6666666666666666,\"#ed7953\"],[0.7777777777777778,\"#fb9f3a\"],[0.8888888888888888,\"#fdca26\"],[1.0,\"#f0f921\"]]},\"colorway\":[\"#636efa\",\"#EF553B\",\"#00cc96\",\"#ab63fa\",\"#FFA15A\",\"#19d3f3\",\"#FF6692\",\"#B6E880\",\"#FF97FF\",\"#FECB52\"],\"font\":{\"color\":\"#2a3f5f\"},\"geo\":{\"bgcolor\":\"white\",\"lakecolor\":\"white\",\"landcolor\":\"#E5ECF6\",\"showlakes\":true,\"showland\":true,\"subunitcolor\":\"white\"},\"hoverlabel\":{\"align\":\"left\"},\"hovermode\":\"closest\",\"mapbox\":{\"style\":\"light\"},\"paper_bgcolor\":\"white\",\"plot_bgcolor\":\"#E5ECF6\",\"polar\":{\"angularaxis\":{\"gridcolor\":\"white\",\"linecolor\":\"white\",\"ticks\":\"\"},\"bgcolor\":\"#E5ECF6\",\"radialaxis\":{\"gridcolor\":\"white\",\"linecolor\":\"white\",\"ticks\":\"\"}},\"scene\":{\"xaxis\":{\"backgroundcolor\":\"#E5ECF6\",\"gridcolor\":\"white\",\"gridwidth\":2,\"linecolor\":\"white\",\"showbackground\":true,\"ticks\":\"\",\"zerolinecolor\":\"white\"},\"yaxis\":{\"backgroundcolor\":\"#E5ECF6\",\"gridcolor\":\"white\",\"gridwidth\":2,\"linecolor\":\"white\",\"showbackground\":true,\"ticks\":\"\",\"zerolinecolor\":\"white\"},\"zaxis\":{\"backgroundcolor\":\"#E5ECF6\",\"gridcolor\":\"white\",\"gridwidth\":2,\"linecolor\":\"white\",\"showbackground\":true,\"ticks\":\"\",\"zerolinecolor\":\"white\"}},\"shapedefaults\":{\"line\":{\"color\":\"#2a3f5f\"}},\"ternary\":{\"aaxis\":{\"gridcolor\":\"white\",\"linecolor\":\"white\",\"ticks\":\"\"},\"baxis\":{\"gridcolor\":\"white\",\"linecolor\":\"white\",\"ticks\":\"\"},\"bgcolor\":\"#E5ECF6\",\"caxis\":{\"gridcolor\":\"white\",\"linecolor\":\"white\",\"ticks\":\"\"}},\"title\":{\"x\":0.05},\"xaxis\":{\"automargin\":true,\"gridcolor\":\"white\",\"linecolor\":\"white\",\"ticks\":\"\",\"title\":{\"standoff\":15},\"zerolinecolor\":\"white\",\"zerolinewidth\":2},\"yaxis\":{\"automargin\":true,\"gridcolor\":\"white\",\"linecolor\":\"white\",\"ticks\":\"\",\"title\":{\"standoff\":15},\"zerolinecolor\":\"white\",\"zerolinewidth\":2}}},\"xaxis\":{\"anchor\":\"y\",\"domain\":[0.0,1.0],\"title\":{\"text\":\"Date\"},\"rangeslider\":{\"visible\":true}},\"yaxis\":{\"anchor\":\"x\",\"domain\":[0.0,1.0],\"title\":{\"text\":\"Close\"}},\"legend\":{\"tracegroupgap\":0},\"title\":{\"text\":\"Tesla Stock Price - Close\"}},                        {\"responsive\": true}                    ).then(function(){\n",
              "                            \n",
              "var gd = document.getElementById('159ee26d-9c6d-4044-8e85-0e872d03f186');\n",
              "var x = new MutationObserver(function (mutations, observer) {{\n",
              "        var display = window.getComputedStyle(gd).display;\n",
              "        if (!display || display === 'none') {{\n",
              "            console.log([gd, 'removed!']);\n",
              "            Plotly.purge(gd);\n",
              "            observer.disconnect();\n",
              "        }}\n",
              "}});\n",
              "\n",
              "// Listen for the removal of the full notebook cells\n",
              "var notebookContainer = gd.closest('#notebook-container');\n",
              "if (notebookContainer) {{\n",
              "    x.observe(notebookContainer, {childList: true});\n",
              "}}\n",
              "\n",
              "// Listen for the clearing of the current output cell\n",
              "var outputEl = gd.closest('.output');\n",
              "if (outputEl) {{\n",
              "    x.observe(outputEl, {childList: true});\n",
              "}}\n",
              "\n",
              "                        })                };                            </script>        </div>\n",
              "</body>\n",
              "</html>"
            ]
          },
          "metadata": {}
        }
      ],
      "source": [
        "fig = px.line(\n",
        "    data.reset_index(), x=\"Date\", y=\"Close\", title=\"Tesla Stock Price - Close\"\n",
        ")\n",
        "fig.update_xaxes(rangeslider_visible=True)\n",
        "fig.show()"
      ]
    },
    {
      "cell_type": "code",
      "execution_count": 375,
      "metadata": {
        "id": "9_nOrh47a_JF",
        "colab": {
          "base_uri": "https://localhost:8080/",
          "height": 424
        },
        "outputId": "e4f73e55-ff92-46d2-e0da-6802cac0fc50"
      },
      "outputs": [
        {
          "output_type": "execute_result",
          "data": {
            "text/plain": [
              "           0       1       2       3       4       5       6       7       8  \\\n",
              "0      23.89   23.83   21.96   19.20   16.11   15.80   17.46   17.40   17.05   \n",
              "1      23.83   21.96   19.20   16.11   15.80   17.46   17.40   17.05   18.14   \n",
              "2      21.96   19.20   16.11   15.80   17.46   17.40   17.05   18.14   19.84   \n",
              "3      19.20   16.11   15.80   17.46   17.40   17.05   18.14   19.84   19.89   \n",
              "4      16.11   15.80   17.46   17.40   17.05   18.14   19.84   19.89   20.64   \n",
              "...      ...     ...     ...     ...     ...     ...     ...     ...     ...   \n",
              "2351  315.01  314.92  313.31  317.47  317.22  326.58  335.54  337.14  345.09   \n",
              "2352  314.92  313.31  317.47  317.22  326.58  335.54  337.14  345.09  349.93   \n",
              "2353  313.31  317.47  317.22  326.58  335.54  337.14  345.09  349.93  346.11   \n",
              "2354  317.47  317.22  326.58  335.54  337.14  345.09  349.93  346.11  349.35   \n",
              "2355  317.22  326.58  335.54  337.14  345.09  349.93  346.11  349.35  352.17   \n",
              "\n",
              "           9  ...      51      52      53      54      55      56      57  \\\n",
              "0      18.14  ...   20.17   20.72   21.12   21.98   20.94   20.23   21.06   \n",
              "1      19.84  ...   20.72   21.12   21.98   20.94   20.23   21.06   20.77   \n",
              "2      19.89  ...   21.12   21.98   20.94   20.23   21.06   20.77   19.87   \n",
              "3      20.64  ...   21.98   20.94   20.23   21.06   20.77   19.87   19.56   \n",
              "4      21.91  ...   20.94   20.23   21.06   20.77   19.87   19.56   20.10   \n",
              "...      ...  ...     ...     ...     ...     ...     ...     ...     ...   \n",
              "2351  349.93  ...  537.92  518.50  513.49  510.50  547.20  569.56  572.20   \n",
              "2352  346.11  ...  518.50  513.49  510.50  547.20  569.56  572.20  564.82   \n",
              "2353  349.35  ...  513.49  510.50  547.20  569.56  572.20  564.82  558.02   \n",
              "2354  352.17  ...  510.50  547.20  569.56  572.20  564.82  558.02  566.90   \n",
              "2355  349.99  ...  547.20  569.56  572.20  564.82  558.02  566.90  580.99   \n",
              "\n",
              "          58      59  Target  \n",
              "0      20.77   19.87   19.56  \n",
              "1      19.87   19.56   20.10  \n",
              "2      19.56   20.10   20.53  \n",
              "3      20.10   20.53   21.40  \n",
              "4      20.53   21.40   21.98  \n",
              "...      ...     ...     ...  \n",
              "2351  564.82  558.02  566.90  \n",
              "2352  558.02  566.90  580.99  \n",
              "2353  566.90  580.99  640.81  \n",
              "2354  580.99  640.81  650.57  \n",
              "2355  640.81  650.57  780.00  \n",
              "\n",
              "[2356 rows x 61 columns]"
            ],
            "text/html": [
              "\n",
              "  <div id=\"df-2d46f21d-1eca-4727-8c82-e45fcc11d842\">\n",
              "    <div class=\"colab-df-container\">\n",
              "      <div>\n",
              "<style scoped>\n",
              "    .dataframe tbody tr th:only-of-type {\n",
              "        vertical-align: middle;\n",
              "    }\n",
              "\n",
              "    .dataframe tbody tr th {\n",
              "        vertical-align: top;\n",
              "    }\n",
              "\n",
              "    .dataframe thead th {\n",
              "        text-align: right;\n",
              "    }\n",
              "</style>\n",
              "<table border=\"1\" class=\"dataframe\">\n",
              "  <thead>\n",
              "    <tr style=\"text-align: right;\">\n",
              "      <th></th>\n",
              "      <th>0</th>\n",
              "      <th>1</th>\n",
              "      <th>2</th>\n",
              "      <th>3</th>\n",
              "      <th>4</th>\n",
              "      <th>5</th>\n",
              "      <th>6</th>\n",
              "      <th>7</th>\n",
              "      <th>8</th>\n",
              "      <th>9</th>\n",
              "      <th>...</th>\n",
              "      <th>51</th>\n",
              "      <th>52</th>\n",
              "      <th>53</th>\n",
              "      <th>54</th>\n",
              "      <th>55</th>\n",
              "      <th>56</th>\n",
              "      <th>57</th>\n",
              "      <th>58</th>\n",
              "      <th>59</th>\n",
              "      <th>Target</th>\n",
              "    </tr>\n",
              "  </thead>\n",
              "  <tbody>\n",
              "    <tr>\n",
              "      <th>0</th>\n",
              "      <td>23.89</td>\n",
              "      <td>23.83</td>\n",
              "      <td>21.96</td>\n",
              "      <td>19.20</td>\n",
              "      <td>16.11</td>\n",
              "      <td>15.80</td>\n",
              "      <td>17.46</td>\n",
              "      <td>17.40</td>\n",
              "      <td>17.05</td>\n",
              "      <td>18.14</td>\n",
              "      <td>...</td>\n",
              "      <td>20.17</td>\n",
              "      <td>20.72</td>\n",
              "      <td>21.12</td>\n",
              "      <td>21.98</td>\n",
              "      <td>20.94</td>\n",
              "      <td>20.23</td>\n",
              "      <td>21.06</td>\n",
              "      <td>20.77</td>\n",
              "      <td>19.87</td>\n",
              "      <td>19.56</td>\n",
              "    </tr>\n",
              "    <tr>\n",
              "      <th>1</th>\n",
              "      <td>23.83</td>\n",
              "      <td>21.96</td>\n",
              "      <td>19.20</td>\n",
              "      <td>16.11</td>\n",
              "      <td>15.80</td>\n",
              "      <td>17.46</td>\n",
              "      <td>17.40</td>\n",
              "      <td>17.05</td>\n",
              "      <td>18.14</td>\n",
              "      <td>19.84</td>\n",
              "      <td>...</td>\n",
              "      <td>20.72</td>\n",
              "      <td>21.12</td>\n",
              "      <td>21.98</td>\n",
              "      <td>20.94</td>\n",
              "      <td>20.23</td>\n",
              "      <td>21.06</td>\n",
              "      <td>20.77</td>\n",
              "      <td>19.87</td>\n",
              "      <td>19.56</td>\n",
              "      <td>20.10</td>\n",
              "    </tr>\n",
              "    <tr>\n",
              "      <th>2</th>\n",
              "      <td>21.96</td>\n",
              "      <td>19.20</td>\n",
              "      <td>16.11</td>\n",
              "      <td>15.80</td>\n",
              "      <td>17.46</td>\n",
              "      <td>17.40</td>\n",
              "      <td>17.05</td>\n",
              "      <td>18.14</td>\n",
              "      <td>19.84</td>\n",
              "      <td>19.89</td>\n",
              "      <td>...</td>\n",
              "      <td>21.12</td>\n",
              "      <td>21.98</td>\n",
              "      <td>20.94</td>\n",
              "      <td>20.23</td>\n",
              "      <td>21.06</td>\n",
              "      <td>20.77</td>\n",
              "      <td>19.87</td>\n",
              "      <td>19.56</td>\n",
              "      <td>20.10</td>\n",
              "      <td>20.53</td>\n",
              "    </tr>\n",
              "    <tr>\n",
              "      <th>3</th>\n",
              "      <td>19.20</td>\n",
              "      <td>16.11</td>\n",
              "      <td>15.80</td>\n",
              "      <td>17.46</td>\n",
              "      <td>17.40</td>\n",
              "      <td>17.05</td>\n",
              "      <td>18.14</td>\n",
              "      <td>19.84</td>\n",
              "      <td>19.89</td>\n",
              "      <td>20.64</td>\n",
              "      <td>...</td>\n",
              "      <td>21.98</td>\n",
              "      <td>20.94</td>\n",
              "      <td>20.23</td>\n",
              "      <td>21.06</td>\n",
              "      <td>20.77</td>\n",
              "      <td>19.87</td>\n",
              "      <td>19.56</td>\n",
              "      <td>20.10</td>\n",
              "      <td>20.53</td>\n",
              "      <td>21.40</td>\n",
              "    </tr>\n",
              "    <tr>\n",
              "      <th>4</th>\n",
              "      <td>16.11</td>\n",
              "      <td>15.80</td>\n",
              "      <td>17.46</td>\n",
              "      <td>17.40</td>\n",
              "      <td>17.05</td>\n",
              "      <td>18.14</td>\n",
              "      <td>19.84</td>\n",
              "      <td>19.89</td>\n",
              "      <td>20.64</td>\n",
              "      <td>21.91</td>\n",
              "      <td>...</td>\n",
              "      <td>20.94</td>\n",
              "      <td>20.23</td>\n",
              "      <td>21.06</td>\n",
              "      <td>20.77</td>\n",
              "      <td>19.87</td>\n",
              "      <td>19.56</td>\n",
              "      <td>20.10</td>\n",
              "      <td>20.53</td>\n",
              "      <td>21.40</td>\n",
              "      <td>21.98</td>\n",
              "    </tr>\n",
              "    <tr>\n",
              "      <th>...</th>\n",
              "      <td>...</td>\n",
              "      <td>...</td>\n",
              "      <td>...</td>\n",
              "      <td>...</td>\n",
              "      <td>...</td>\n",
              "      <td>...</td>\n",
              "      <td>...</td>\n",
              "      <td>...</td>\n",
              "      <td>...</td>\n",
              "      <td>...</td>\n",
              "      <td>...</td>\n",
              "      <td>...</td>\n",
              "      <td>...</td>\n",
              "      <td>...</td>\n",
              "      <td>...</td>\n",
              "      <td>...</td>\n",
              "      <td>...</td>\n",
              "      <td>...</td>\n",
              "      <td>...</td>\n",
              "      <td>...</td>\n",
              "      <td>...</td>\n",
              "    </tr>\n",
              "    <tr>\n",
              "      <th>2351</th>\n",
              "      <td>315.01</td>\n",
              "      <td>314.92</td>\n",
              "      <td>313.31</td>\n",
              "      <td>317.47</td>\n",
              "      <td>317.22</td>\n",
              "      <td>326.58</td>\n",
              "      <td>335.54</td>\n",
              "      <td>337.14</td>\n",
              "      <td>345.09</td>\n",
              "      <td>349.93</td>\n",
              "      <td>...</td>\n",
              "      <td>537.92</td>\n",
              "      <td>518.50</td>\n",
              "      <td>513.49</td>\n",
              "      <td>510.50</td>\n",
              "      <td>547.20</td>\n",
              "      <td>569.56</td>\n",
              "      <td>572.20</td>\n",
              "      <td>564.82</td>\n",
              "      <td>558.02</td>\n",
              "      <td>566.90</td>\n",
              "    </tr>\n",
              "    <tr>\n",
              "      <th>2352</th>\n",
              "      <td>314.92</td>\n",
              "      <td>313.31</td>\n",
              "      <td>317.47</td>\n",
              "      <td>317.22</td>\n",
              "      <td>326.58</td>\n",
              "      <td>335.54</td>\n",
              "      <td>337.14</td>\n",
              "      <td>345.09</td>\n",
              "      <td>349.93</td>\n",
              "      <td>346.11</td>\n",
              "      <td>...</td>\n",
              "      <td>518.50</td>\n",
              "      <td>513.49</td>\n",
              "      <td>510.50</td>\n",
              "      <td>547.20</td>\n",
              "      <td>569.56</td>\n",
              "      <td>572.20</td>\n",
              "      <td>564.82</td>\n",
              "      <td>558.02</td>\n",
              "      <td>566.90</td>\n",
              "      <td>580.99</td>\n",
              "    </tr>\n",
              "    <tr>\n",
              "      <th>2353</th>\n",
              "      <td>313.31</td>\n",
              "      <td>317.47</td>\n",
              "      <td>317.22</td>\n",
              "      <td>326.58</td>\n",
              "      <td>335.54</td>\n",
              "      <td>337.14</td>\n",
              "      <td>345.09</td>\n",
              "      <td>349.93</td>\n",
              "      <td>346.11</td>\n",
              "      <td>349.35</td>\n",
              "      <td>...</td>\n",
              "      <td>513.49</td>\n",
              "      <td>510.50</td>\n",
              "      <td>547.20</td>\n",
              "      <td>569.56</td>\n",
              "      <td>572.20</td>\n",
              "      <td>564.82</td>\n",
              "      <td>558.02</td>\n",
              "      <td>566.90</td>\n",
              "      <td>580.99</td>\n",
              "      <td>640.81</td>\n",
              "    </tr>\n",
              "    <tr>\n",
              "      <th>2354</th>\n",
              "      <td>317.47</td>\n",
              "      <td>317.22</td>\n",
              "      <td>326.58</td>\n",
              "      <td>335.54</td>\n",
              "      <td>337.14</td>\n",
              "      <td>345.09</td>\n",
              "      <td>349.93</td>\n",
              "      <td>346.11</td>\n",
              "      <td>349.35</td>\n",
              "      <td>352.17</td>\n",
              "      <td>...</td>\n",
              "      <td>510.50</td>\n",
              "      <td>547.20</td>\n",
              "      <td>569.56</td>\n",
              "      <td>572.20</td>\n",
              "      <td>564.82</td>\n",
              "      <td>558.02</td>\n",
              "      <td>566.90</td>\n",
              "      <td>580.99</td>\n",
              "      <td>640.81</td>\n",
              "      <td>650.57</td>\n",
              "    </tr>\n",
              "    <tr>\n",
              "      <th>2355</th>\n",
              "      <td>317.22</td>\n",
              "      <td>326.58</td>\n",
              "      <td>335.54</td>\n",
              "      <td>337.14</td>\n",
              "      <td>345.09</td>\n",
              "      <td>349.93</td>\n",
              "      <td>346.11</td>\n",
              "      <td>349.35</td>\n",
              "      <td>352.17</td>\n",
              "      <td>349.99</td>\n",
              "      <td>...</td>\n",
              "      <td>547.20</td>\n",
              "      <td>569.56</td>\n",
              "      <td>572.20</td>\n",
              "      <td>564.82</td>\n",
              "      <td>558.02</td>\n",
              "      <td>566.90</td>\n",
              "      <td>580.99</td>\n",
              "      <td>640.81</td>\n",
              "      <td>650.57</td>\n",
              "      <td>780.00</td>\n",
              "    </tr>\n",
              "  </tbody>\n",
              "</table>\n",
              "<p>2356 rows × 61 columns</p>\n",
              "</div>\n",
              "      <button class=\"colab-df-convert\" onclick=\"convertToInteractive('df-2d46f21d-1eca-4727-8c82-e45fcc11d842')\"\n",
              "              title=\"Convert this dataframe to an interactive table.\"\n",
              "              style=\"display:none;\">\n",
              "        \n",
              "  <svg xmlns=\"http://www.w3.org/2000/svg\" height=\"24px\"viewBox=\"0 0 24 24\"\n",
              "       width=\"24px\">\n",
              "    <path d=\"M0 0h24v24H0V0z\" fill=\"none\"/>\n",
              "    <path d=\"M18.56 5.44l.94 2.06.94-2.06 2.06-.94-2.06-.94-.94-2.06-.94 2.06-2.06.94zm-11 1L8.5 8.5l.94-2.06 2.06-.94-2.06-.94L8.5 2.5l-.94 2.06-2.06.94zm10 10l.94 2.06.94-2.06 2.06-.94-2.06-.94-.94-2.06-.94 2.06-2.06.94z\"/><path d=\"M17.41 7.96l-1.37-1.37c-.4-.4-.92-.59-1.43-.59-.52 0-1.04.2-1.43.59L10.3 9.45l-7.72 7.72c-.78.78-.78 2.05 0 2.83L4 21.41c.39.39.9.59 1.41.59.51 0 1.02-.2 1.41-.59l7.78-7.78 2.81-2.81c.8-.78.8-2.07 0-2.86zM5.41 20L4 18.59l7.72-7.72 1.47 1.35L5.41 20z\"/>\n",
              "  </svg>\n",
              "      </button>\n",
              "      \n",
              "  <style>\n",
              "    .colab-df-container {\n",
              "      display:flex;\n",
              "      flex-wrap:wrap;\n",
              "      gap: 12px;\n",
              "    }\n",
              "\n",
              "    .colab-df-convert {\n",
              "      background-color: #E8F0FE;\n",
              "      border: none;\n",
              "      border-radius: 50%;\n",
              "      cursor: pointer;\n",
              "      display: none;\n",
              "      fill: #1967D2;\n",
              "      height: 32px;\n",
              "      padding: 0 0 0 0;\n",
              "      width: 32px;\n",
              "    }\n",
              "\n",
              "    .colab-df-convert:hover {\n",
              "      background-color: #E2EBFA;\n",
              "      box-shadow: 0px 1px 2px rgba(60, 64, 67, 0.3), 0px 1px 3px 1px rgba(60, 64, 67, 0.15);\n",
              "      fill: #174EA6;\n",
              "    }\n",
              "\n",
              "    [theme=dark] .colab-df-convert {\n",
              "      background-color: #3B4455;\n",
              "      fill: #D2E3FC;\n",
              "    }\n",
              "\n",
              "    [theme=dark] .colab-df-convert:hover {\n",
              "      background-color: #434B5C;\n",
              "      box-shadow: 0px 1px 3px 1px rgba(0, 0, 0, 0.15);\n",
              "      filter: drop-shadow(0px 1px 2px rgba(0, 0, 0, 0.3));\n",
              "      fill: #FFFFFF;\n",
              "    }\n",
              "  </style>\n",
              "\n",
              "      <script>\n",
              "        const buttonEl =\n",
              "          document.querySelector('#df-2d46f21d-1eca-4727-8c82-e45fcc11d842 button.colab-df-convert');\n",
              "        buttonEl.style.display =\n",
              "          google.colab.kernel.accessAllowed ? 'block' : 'none';\n",
              "\n",
              "        async function convertToInteractive(key) {\n",
              "          const element = document.querySelector('#df-2d46f21d-1eca-4727-8c82-e45fcc11d842');\n",
              "          const dataTable =\n",
              "            await google.colab.kernel.invokeFunction('convertToInteractive',\n",
              "                                                     [key], {});\n",
              "          if (!dataTable) return;\n",
              "\n",
              "          const docLinkHtml = 'Like what you see? Visit the ' +\n",
              "            '<a target=\"_blank\" href=https://colab.research.google.com/notebooks/data_table.ipynb>data table notebook</a>'\n",
              "            + ' to learn more about interactive tables.';\n",
              "          element.innerHTML = '';\n",
              "          dataTable['output_type'] = 'display_data';\n",
              "          await google.colab.output.renderOutput(dataTable, element);\n",
              "          const docLink = document.createElement('div');\n",
              "          docLink.innerHTML = docLinkHtml;\n",
              "          element.appendChild(docLink);\n",
              "        }\n",
              "      </script>\n",
              "    </div>\n",
              "  </div>\n",
              "  "
            ]
          },
          "metadata": {},
          "execution_count": 375
        }
      ],
      "source": [
        "def create_dataset(dataset, look_back=60):\n",
        "    dataX, dataY = [], []\n",
        "    for i in range(len(dataset) - look_back):\n",
        "        a = dataset[i : (i + look_back), 0]\n",
        "        dataX.append(a)\n",
        "        dataY.append(dataset[i + look_back, 0])\n",
        "    return pd.DataFrame(np.array(dataX)), np.array(dataY)\n",
        "\n",
        "\n",
        "X_close, Y_close = create_dataset(data[[\"Close\"]].values)\n",
        "aux = X_close\n",
        "aux[\"Target\"] = Y_close\n",
        "aux"
      ]
    },
    {
      "cell_type": "code",
      "execution_count": 376,
      "metadata": {
        "id": "GQ1qiR7Da_JF"
      },
      "outputs": [],
      "source": [
        "del aux"
      ]
    },
    {
      "cell_type": "code",
      "execution_count": 377,
      "metadata": {
        "id": "5baAzivLa_JF"
      },
      "outputs": [],
      "source": [
        "def split_dataset(X, Y):\n",
        "    X_train = X[:-100].values\n",
        "    y_train = Y[:-100]\n",
        "\n",
        "    X_test = X[-100:].values\n",
        "    y_test = Y[-100:]\n",
        "    return X_train, y_train, X_test, y_test\n",
        "\n",
        "\n",
        "# Close dataset\n",
        "X_train_close, y_train_close, X_test_close, y_test_close = split_dataset(\n",
        "    X_close, Y_close\n",
        ")"
      ]
    },
    {
      "cell_type": "code",
      "execution_count": 378,
      "metadata": {
        "id": "FqBGPLwpa_JF"
      },
      "outputs": [],
      "source": [
        "from sklearn.preprocessing import MinMaxScaler\n",
        "\n",
        "sc_close_x = MinMaxScaler()\n",
        "sc_close_y = MinMaxScaler()\n",
        "\n",
        "# X Scale\n",
        "X_train_close_scaled = sc_close_x.fit_transform(X_train_close).reshape(\n",
        "    *X_train_close.shape, 1\n",
        ")\n",
        "X_test_close_scaled = sc_close_x.transform(X_test_close).reshape(*X_test_close.shape, 1)\n",
        "\n",
        "# Y Scale\n",
        "y_train_close_scaled = sc_close_y.fit_transform(y_train_close.reshape(-1, 1)).reshape(\n",
        "    -1\n",
        ")\n",
        "y_test_close_scaled = sc_close_y.transform(y_test_close.reshape(-1, 1)).reshape(-1)"
      ]
    },
    {
      "cell_type": "code",
      "execution_count": 379,
      "metadata": {
        "id": "q-taczYka_JF",
        "colab": {
          "base_uri": "https://localhost:8080/"
        },
        "outputId": "f5267aee-dc65-4700-9a7a-929ef906a244"
      },
      "outputs": [
        {
          "output_type": "stream",
          "name": "stdout",
          "text": [
            "(2256, 61, 1)\n",
            "(2256,)\n"
          ]
        }
      ],
      "source": [
        "print(X_train_close_scaled.shape)\n",
        "print(y_train_close_scaled.shape)"
      ]
    },
    {
      "cell_type": "code",
      "execution_count": 380,
      "metadata": {
        "id": "DsqJBp8Pa_JF",
        "colab": {
          "base_uri": "https://localhost:8080/"
        },
        "outputId": "e5211602-7fb6-481a-df1d-6461369a14cb"
      },
      "outputs": [
        {
          "output_type": "stream",
          "name": "stdout",
          "text": [
            "Epoch 1/10\n",
            "71/71 [==============================] - 17s 64ms/step - loss: 0.0292 - val_loss: 0.1094\n",
            "Epoch 2/10\n",
            "71/71 [==============================] - 2s 29ms/step - loss: 0.0066 - val_loss: 0.1309\n",
            "Epoch 3/10\n",
            "71/71 [==============================] - 2s 28ms/step - loss: 0.0067 - val_loss: 0.0897\n",
            "Epoch 4/10\n",
            "71/71 [==============================] - 2s 29ms/step - loss: 0.0064 - val_loss: 0.1453\n",
            "Epoch 5/10\n",
            "71/71 [==============================] - 2s 30ms/step - loss: 0.0057 - val_loss: 0.0625\n",
            "Epoch 6/10\n",
            "71/71 [==============================] - 2s 29ms/step - loss: 0.0059 - val_loss: 0.1015\n",
            "Epoch 7/10\n",
            "71/71 [==============================] - 2s 29ms/step - loss: 0.0051 - val_loss: 0.0520\n",
            "Epoch 8/10\n",
            "71/71 [==============================] - 2s 28ms/step - loss: 0.0051 - val_loss: 0.0633\n",
            "Epoch 9/10\n",
            "71/71 [==============================] - 2s 29ms/step - loss: 0.0043 - val_loss: 0.0478\n",
            "Epoch 10/10\n",
            "71/71 [==============================] - 2s 29ms/step - loss: 0.0043 - val_loss: 0.0666\n",
            "CPU times: user 37.8 s, sys: 1.65 s, total: 39.5 s\n",
            "Wall time: 37.5 s\n"
          ]
        }
      ],
      "source": [
        "%%time \n",
        "\n",
        "import keras\n",
        "from keras.models import Sequential\n",
        "from keras.layers import Dense, LSTM, Dropout\n",
        "\n",
        "def gen_model():\n",
        "    rnn = Sequential()\n",
        "    rnn.add(LSTM(units=20, return_sequences=True, input_shape=(X_train_close_scaled.shape[1], 1)))\n",
        "    rnn.add(Dropout(0.2))\n",
        "    rnn.add(LSTM(units=25, return_sequences=True))\n",
        "    rnn.add(Dropout(0.2))\n",
        "    rnn.add(LSTM(units=30, return_sequences=True))\n",
        "    rnn.add(Dropout(0.2))\n",
        "    rnn.add(LSTM(units=35, return_sequences=True))\n",
        "    rnn.add(Dropout(0.2))\n",
        "    rnn.add(LSTM(units=40, return_sequences=True))\n",
        "    rnn.add(Dropout(0.2))\n",
        "    rnn.add(LSTM(units=45, return_sequences=True))\n",
        "    rnn.add(Dropout(0.2))\n",
        "    rnn.add(LSTM(units=50, return_sequences=True))\n",
        "    rnn.add(Dropout(0.2))\n",
        "    rnn.add(LSTM(units=360))\n",
        "    rnn.add(Dropout(0.2))\n",
        "    rnn.add(Dense(units=1,activation='relu'))\n",
        "    rnn.compile(optimizer=\"adam\", loss=[\"mean_squared_error\",'cosine_similarity'])\n",
        "    callback = keras.callbacks.EarlyStopping(\n",
        "        monitor=\"val_loss\",\n",
        "        min_delta=0,\n",
        "        patience=0,\n",
        "        verbose=False,\n",
        "        mode=\"auto\",\n",
        "        baseline=None,\n",
        "        restore_best_weights=False,\n",
        "    )\n",
        "    return rnn\n",
        "\n",
        "rnn = gen_model()\n",
        "history = rnn.fit(X_train_close_scaled, y_train_close_scaled,validation_data=(X_test_close_scaled,y_test_close_scaled), epochs=10, batch_size=32)"
      ]
    },
    {
      "cell_type": "code",
      "execution_count": 381,
      "metadata": {
        "id": "Ez7sdMeia_JF",
        "colab": {
          "base_uri": "https://localhost:8080/",
          "height": 542
        },
        "outputId": "12dcc70b-10e4-4f9f-e2fb-f8bfeb37aeb5"
      },
      "outputs": [
        {
          "output_type": "display_data",
          "data": {
            "text/html": [
              "<html>\n",
              "<head><meta charset=\"utf-8\" /></head>\n",
              "<body>\n",
              "    <div>            <script src=\"https://cdnjs.cloudflare.com/ajax/libs/mathjax/2.7.5/MathJax.js?config=TeX-AMS-MML_SVG\"></script><script type=\"text/javascript\">if (window.MathJax) {MathJax.Hub.Config({SVG: {font: \"STIX-Web\"}});}</script>                <script type=\"text/javascript\">window.PlotlyConfig = {MathJaxConfig: 'local'};</script>\n",
              "        <script src=\"https://cdn.plot.ly/plotly-2.8.3.min.js\"></script>                <div id=\"8e289798-6250-4624-8505-1d1208cad580\" class=\"plotly-graph-div\" style=\"height:525px; width:100%;\"></div>            <script type=\"text/javascript\">                                    window.PLOTLYENV=window.PLOTLYENV || {};                                    if (document.getElementById(\"8e289798-6250-4624-8505-1d1208cad580\")) {                    Plotly.newPlot(                        \"8e289798-6250-4624-8505-1d1208cad580\",                        [{\"mode\":\"lines\",\"name\":\"Train Loss\",\"x\":[0,1,2,3,4,5,6,7,8,9],\"y\":[0.02924179472029209,0.0065847523510456085,0.006748678162693977,0.006421163212507963,0.005715091247111559,0.0059236204251646996,0.005134350620210171,0.005079308059066534,0.004294680897146463,0.004343301989138126],\"type\":\"scatter\"},{\"mode\":\"lines\",\"name\":\"Validation Loss\",\"x\":[0,1,2,3,4,5,6,7,8,9],\"y\":[0.10940790921449661,0.13085173070430756,0.08973880112171173,0.14534889161586761,0.062468234449625015,0.10150304436683655,0.05201838165521622,0.06331393867731094,0.047765493392944336,0.06662731617689133],\"type\":\"scatter\"}],                        {\"template\":{\"data\":{\"bar\":[{\"error_x\":{\"color\":\"#2a3f5f\"},\"error_y\":{\"color\":\"#2a3f5f\"},\"marker\":{\"line\":{\"color\":\"#E5ECF6\",\"width\":0.5},\"pattern\":{\"fillmode\":\"overlay\",\"size\":10,\"solidity\":0.2}},\"type\":\"bar\"}],\"barpolar\":[{\"marker\":{\"line\":{\"color\":\"#E5ECF6\",\"width\":0.5},\"pattern\":{\"fillmode\":\"overlay\",\"size\":10,\"solidity\":0.2}},\"type\":\"barpolar\"}],\"carpet\":[{\"aaxis\":{\"endlinecolor\":\"#2a3f5f\",\"gridcolor\":\"white\",\"linecolor\":\"white\",\"minorgridcolor\":\"white\",\"startlinecolor\":\"#2a3f5f\"},\"baxis\":{\"endlinecolor\":\"#2a3f5f\",\"gridcolor\":\"white\",\"linecolor\":\"white\",\"minorgridcolor\":\"white\",\"startlinecolor\":\"#2a3f5f\"},\"type\":\"carpet\"}],\"choropleth\":[{\"colorbar\":{\"outlinewidth\":0,\"ticks\":\"\"},\"type\":\"choropleth\"}],\"contour\":[{\"colorbar\":{\"outlinewidth\":0,\"ticks\":\"\"},\"colorscale\":[[0.0,\"#0d0887\"],[0.1111111111111111,\"#46039f\"],[0.2222222222222222,\"#7201a8\"],[0.3333333333333333,\"#9c179e\"],[0.4444444444444444,\"#bd3786\"],[0.5555555555555556,\"#d8576b\"],[0.6666666666666666,\"#ed7953\"],[0.7777777777777778,\"#fb9f3a\"],[0.8888888888888888,\"#fdca26\"],[1.0,\"#f0f921\"]],\"type\":\"contour\"}],\"contourcarpet\":[{\"colorbar\":{\"outlinewidth\":0,\"ticks\":\"\"},\"type\":\"contourcarpet\"}],\"heatmap\":[{\"colorbar\":{\"outlinewidth\":0,\"ticks\":\"\"},\"colorscale\":[[0.0,\"#0d0887\"],[0.1111111111111111,\"#46039f\"],[0.2222222222222222,\"#7201a8\"],[0.3333333333333333,\"#9c179e\"],[0.4444444444444444,\"#bd3786\"],[0.5555555555555556,\"#d8576b\"],[0.6666666666666666,\"#ed7953\"],[0.7777777777777778,\"#fb9f3a\"],[0.8888888888888888,\"#fdca26\"],[1.0,\"#f0f921\"]],\"type\":\"heatmap\"}],\"heatmapgl\":[{\"colorbar\":{\"outlinewidth\":0,\"ticks\":\"\"},\"colorscale\":[[0.0,\"#0d0887\"],[0.1111111111111111,\"#46039f\"],[0.2222222222222222,\"#7201a8\"],[0.3333333333333333,\"#9c179e\"],[0.4444444444444444,\"#bd3786\"],[0.5555555555555556,\"#d8576b\"],[0.6666666666666666,\"#ed7953\"],[0.7777777777777778,\"#fb9f3a\"],[0.8888888888888888,\"#fdca26\"],[1.0,\"#f0f921\"]],\"type\":\"heatmapgl\"}],\"histogram\":[{\"marker\":{\"pattern\":{\"fillmode\":\"overlay\",\"size\":10,\"solidity\":0.2}},\"type\":\"histogram\"}],\"histogram2d\":[{\"colorbar\":{\"outlinewidth\":0,\"ticks\":\"\"},\"colorscale\":[[0.0,\"#0d0887\"],[0.1111111111111111,\"#46039f\"],[0.2222222222222222,\"#7201a8\"],[0.3333333333333333,\"#9c179e\"],[0.4444444444444444,\"#bd3786\"],[0.5555555555555556,\"#d8576b\"],[0.6666666666666666,\"#ed7953\"],[0.7777777777777778,\"#fb9f3a\"],[0.8888888888888888,\"#fdca26\"],[1.0,\"#f0f921\"]],\"type\":\"histogram2d\"}],\"histogram2dcontour\":[{\"colorbar\":{\"outlinewidth\":0,\"ticks\":\"\"},\"colorscale\":[[0.0,\"#0d0887\"],[0.1111111111111111,\"#46039f\"],[0.2222222222222222,\"#7201a8\"],[0.3333333333333333,\"#9c179e\"],[0.4444444444444444,\"#bd3786\"],[0.5555555555555556,\"#d8576b\"],[0.6666666666666666,\"#ed7953\"],[0.7777777777777778,\"#fb9f3a\"],[0.8888888888888888,\"#fdca26\"],[1.0,\"#f0f921\"]],\"type\":\"histogram2dcontour\"}],\"mesh3d\":[{\"colorbar\":{\"outlinewidth\":0,\"ticks\":\"\"},\"type\":\"mesh3d\"}],\"parcoords\":[{\"line\":{\"colorbar\":{\"outlinewidth\":0,\"ticks\":\"\"}},\"type\":\"parcoords\"}],\"pie\":[{\"automargin\":true,\"type\":\"pie\"}],\"scatter\":[{\"marker\":{\"colorbar\":{\"outlinewidth\":0,\"ticks\":\"\"}},\"type\":\"scatter\"}],\"scatter3d\":[{\"line\":{\"colorbar\":{\"outlinewidth\":0,\"ticks\":\"\"}},\"marker\":{\"colorbar\":{\"outlinewidth\":0,\"ticks\":\"\"}},\"type\":\"scatter3d\"}],\"scattercarpet\":[{\"marker\":{\"colorbar\":{\"outlinewidth\":0,\"ticks\":\"\"}},\"type\":\"scattercarpet\"}],\"scattergeo\":[{\"marker\":{\"colorbar\":{\"outlinewidth\":0,\"ticks\":\"\"}},\"type\":\"scattergeo\"}],\"scattergl\":[{\"marker\":{\"colorbar\":{\"outlinewidth\":0,\"ticks\":\"\"}},\"type\":\"scattergl\"}],\"scattermapbox\":[{\"marker\":{\"colorbar\":{\"outlinewidth\":0,\"ticks\":\"\"}},\"type\":\"scattermapbox\"}],\"scatterpolar\":[{\"marker\":{\"colorbar\":{\"outlinewidth\":0,\"ticks\":\"\"}},\"type\":\"scatterpolar\"}],\"scatterpolargl\":[{\"marker\":{\"colorbar\":{\"outlinewidth\":0,\"ticks\":\"\"}},\"type\":\"scatterpolargl\"}],\"scatterternary\":[{\"marker\":{\"colorbar\":{\"outlinewidth\":0,\"ticks\":\"\"}},\"type\":\"scatterternary\"}],\"surface\":[{\"colorbar\":{\"outlinewidth\":0,\"ticks\":\"\"},\"colorscale\":[[0.0,\"#0d0887\"],[0.1111111111111111,\"#46039f\"],[0.2222222222222222,\"#7201a8\"],[0.3333333333333333,\"#9c179e\"],[0.4444444444444444,\"#bd3786\"],[0.5555555555555556,\"#d8576b\"],[0.6666666666666666,\"#ed7953\"],[0.7777777777777778,\"#fb9f3a\"],[0.8888888888888888,\"#fdca26\"],[1.0,\"#f0f921\"]],\"type\":\"surface\"}],\"table\":[{\"cells\":{\"fill\":{\"color\":\"#EBF0F8\"},\"line\":{\"color\":\"white\"}},\"header\":{\"fill\":{\"color\":\"#C8D4E3\"},\"line\":{\"color\":\"white\"}},\"type\":\"table\"}]},\"layout\":{\"annotationdefaults\":{\"arrowcolor\":\"#2a3f5f\",\"arrowhead\":0,\"arrowwidth\":1},\"autotypenumbers\":\"strict\",\"coloraxis\":{\"colorbar\":{\"outlinewidth\":0,\"ticks\":\"\"}},\"colorscale\":{\"diverging\":[[0,\"#8e0152\"],[0.1,\"#c51b7d\"],[0.2,\"#de77ae\"],[0.3,\"#f1b6da\"],[0.4,\"#fde0ef\"],[0.5,\"#f7f7f7\"],[0.6,\"#e6f5d0\"],[0.7,\"#b8e186\"],[0.8,\"#7fbc41\"],[0.9,\"#4d9221\"],[1,\"#276419\"]],\"sequential\":[[0.0,\"#0d0887\"],[0.1111111111111111,\"#46039f\"],[0.2222222222222222,\"#7201a8\"],[0.3333333333333333,\"#9c179e\"],[0.4444444444444444,\"#bd3786\"],[0.5555555555555556,\"#d8576b\"],[0.6666666666666666,\"#ed7953\"],[0.7777777777777778,\"#fb9f3a\"],[0.8888888888888888,\"#fdca26\"],[1.0,\"#f0f921\"]],\"sequentialminus\":[[0.0,\"#0d0887\"],[0.1111111111111111,\"#46039f\"],[0.2222222222222222,\"#7201a8\"],[0.3333333333333333,\"#9c179e\"],[0.4444444444444444,\"#bd3786\"],[0.5555555555555556,\"#d8576b\"],[0.6666666666666666,\"#ed7953\"],[0.7777777777777778,\"#fb9f3a\"],[0.8888888888888888,\"#fdca26\"],[1.0,\"#f0f921\"]]},\"colorway\":[\"#636efa\",\"#EF553B\",\"#00cc96\",\"#ab63fa\",\"#FFA15A\",\"#19d3f3\",\"#FF6692\",\"#B6E880\",\"#FF97FF\",\"#FECB52\"],\"font\":{\"color\":\"#2a3f5f\"},\"geo\":{\"bgcolor\":\"white\",\"lakecolor\":\"white\",\"landcolor\":\"#E5ECF6\",\"showlakes\":true,\"showland\":true,\"subunitcolor\":\"white\"},\"hoverlabel\":{\"align\":\"left\"},\"hovermode\":\"closest\",\"mapbox\":{\"style\":\"light\"},\"paper_bgcolor\":\"white\",\"plot_bgcolor\":\"#E5ECF6\",\"polar\":{\"angularaxis\":{\"gridcolor\":\"white\",\"linecolor\":\"white\",\"ticks\":\"\"},\"bgcolor\":\"#E5ECF6\",\"radialaxis\":{\"gridcolor\":\"white\",\"linecolor\":\"white\",\"ticks\":\"\"}},\"scene\":{\"xaxis\":{\"backgroundcolor\":\"#E5ECF6\",\"gridcolor\":\"white\",\"gridwidth\":2,\"linecolor\":\"white\",\"showbackground\":true,\"ticks\":\"\",\"zerolinecolor\":\"white\"},\"yaxis\":{\"backgroundcolor\":\"#E5ECF6\",\"gridcolor\":\"white\",\"gridwidth\":2,\"linecolor\":\"white\",\"showbackground\":true,\"ticks\":\"\",\"zerolinecolor\":\"white\"},\"zaxis\":{\"backgroundcolor\":\"#E5ECF6\",\"gridcolor\":\"white\",\"gridwidth\":2,\"linecolor\":\"white\",\"showbackground\":true,\"ticks\":\"\",\"zerolinecolor\":\"white\"}},\"shapedefaults\":{\"line\":{\"color\":\"#2a3f5f\"}},\"ternary\":{\"aaxis\":{\"gridcolor\":\"white\",\"linecolor\":\"white\",\"ticks\":\"\"},\"baxis\":{\"gridcolor\":\"white\",\"linecolor\":\"white\",\"ticks\":\"\"},\"bgcolor\":\"#E5ECF6\",\"caxis\":{\"gridcolor\":\"white\",\"linecolor\":\"white\",\"ticks\":\"\"}},\"title\":{\"x\":0.05},\"xaxis\":{\"automargin\":true,\"gridcolor\":\"white\",\"linecolor\":\"white\",\"ticks\":\"\",\"title\":{\"standoff\":15},\"zerolinecolor\":\"white\",\"zerolinewidth\":2},\"yaxis\":{\"automargin\":true,\"gridcolor\":\"white\",\"linecolor\":\"white\",\"ticks\":\"\",\"title\":{\"standoff\":15},\"zerolinecolor\":\"white\",\"zerolinewidth\":2}}},\"title\":{\"text\":\"Train Metrics\"},\"xaxis\":{\"title\":{\"text\":\"Epochs\"}},\"yaxis\":{\"title\":{\"text\":\"Loss\"}}},                        {\"responsive\": true}                    ).then(function(){\n",
              "                            \n",
              "var gd = document.getElementById('8e289798-6250-4624-8505-1d1208cad580');\n",
              "var x = new MutationObserver(function (mutations, observer) {{\n",
              "        var display = window.getComputedStyle(gd).display;\n",
              "        if (!display || display === 'none') {{\n",
              "            console.log([gd, 'removed!']);\n",
              "            Plotly.purge(gd);\n",
              "            observer.disconnect();\n",
              "        }}\n",
              "}});\n",
              "\n",
              "// Listen for the removal of the full notebook cells\n",
              "var notebookContainer = gd.closest('#notebook-container');\n",
              "if (notebookContainer) {{\n",
              "    x.observe(notebookContainer, {childList: true});\n",
              "}}\n",
              "\n",
              "// Listen for the clearing of the current output cell\n",
              "var outputEl = gd.closest('.output');\n",
              "if (outputEl) {{\n",
              "    x.observe(outputEl, {childList: true});\n",
              "}}\n",
              "\n",
              "                        })                };                            </script>        </div>\n",
              "</body>\n",
              "</html>"
            ]
          },
          "metadata": {}
        }
      ],
      "source": [
        "history_df = pd.DataFrame(history.history)\n",
        "go.Figure() \\\n",
        ".add_trace(go.Scatter(x=history_df.index, y=history_df.loss, mode=\"lines\", name=\"Train Loss\")) \\\n",
        ".add_trace(go.Scatter(x=history_df.index, y=history_df.val_loss, mode=\"lines\", name=\"Validation Loss\")) \\\n",
        ".update_layout(\n",
        "    title=\"Train Metrics\",\n",
        "    xaxis_title=\"Epochs\",\n",
        "    yaxis_title=\"Loss\",\n",
        ")\n"
      ]
    },
    {
      "cell_type": "code",
      "execution_count": 382,
      "metadata": {
        "id": "BXk0LwjWa_JG",
        "colab": {
          "base_uri": "https://localhost:8080/"
        },
        "outputId": "542e895a-a114-4c0d-b305-a53f3d2493e3"
      },
      "outputs": [
        {
          "output_type": "stream",
          "name": "stdout",
          "text": [
            "4/4 [==============================] - 3s 19ms/step\n"
          ]
        }
      ],
      "source": [
        "# Model\n",
        "y_pred = rnn.predict(X_test_close_scaled)\n",
        "y_true = y_test_close_scaled\n",
        "test_dates = data.reset_index()[\"Date\"][-100:]\n",
        "\n",
        "# Original values\n",
        "y_pred_original = sc_close_y.inverse_transform(y_pred.reshape(-1, 1)).reshape(-1)\n",
        "y_true_original = sc_close_y.inverse_transform(y_true.reshape(-1, 1)).reshape(-1)"
      ]
    },
    {
      "cell_type": "code",
      "execution_count": 383,
      "metadata": {
        "id": "X-8Objt3a_JG",
        "colab": {
          "base_uri": "https://localhost:8080/",
          "height": 578
        },
        "outputId": "f28d0a10-7893-4439-f3fc-365f3162f354"
      },
      "outputs": [
        {
          "output_type": "display_data",
          "data": {
            "text/html": [
              "<html>\n",
              "<head><meta charset=\"utf-8\" /></head>\n",
              "<body>\n",
              "    <div>            <script src=\"https://cdnjs.cloudflare.com/ajax/libs/mathjax/2.7.5/MathJax.js?config=TeX-AMS-MML_SVG\"></script><script type=\"text/javascript\">if (window.MathJax) {MathJax.Hub.Config({SVG: {font: \"STIX-Web\"}});}</script>                <script type=\"text/javascript\">window.PlotlyConfig = {MathJaxConfig: 'local'};</script>\n",
              "        <script src=\"https://cdn.plot.ly/plotly-2.8.3.min.js\"></script>                <div id=\"482f218a-5dec-42fb-a84e-043013b2b9d6\" class=\"plotly-graph-div\" style=\"height:525px; width:100%;\"></div>            <script type=\"text/javascript\">                                    window.PLOTLYENV=window.PLOTLYENV || {};                                    if (document.getElementById(\"482f218a-5dec-42fb-a84e-043013b2b9d6\")) {                    Plotly.newPlot(                        \"482f218a-5dec-42fb-a84e-043013b2b9d6\",                        [{\"mode\":\"lines\",\"name\":\"Real Close\",\"x\":[\"2019-09-11\",\"2019-09-12\",\"2019-09-13\",\"2019-09-16\",\"2019-09-17\",\"2019-09-18\",\"2019-09-19\",\"2019-09-20\",\"2019-09-23\",\"2019-09-24\",\"2019-09-25\",\"2019-09-26\",\"2019-09-27\",\"2019-09-30\",\"2019-10-01\",\"2019-10-02\",\"2019-10-03\",\"2019-10-04\",\"2019-10-07\",\"2019-10-08\",\"2019-10-09\",\"2019-10-10\",\"2019-10-11\",\"2019-10-14\",\"2019-10-15\",\"2019-10-16\",\"2019-10-17\",\"2019-10-18\",\"2019-10-21\",\"2019-10-22\",\"2019-10-23\",\"2019-10-24\",\"2019-10-25\",\"2019-10-28\",\"2019-10-29\",\"2019-10-30\",\"2019-10-31\",\"2019-11-01\",\"2019-11-04\",\"2019-11-05\",\"2019-11-06\",\"2019-11-07\",\"2019-11-08\",\"2019-11-11\",\"2019-11-12\",\"2019-11-13\",\"2019-11-14\",\"2019-11-15\",\"2019-11-18\",\"2019-11-19\",\"2019-11-20\",\"2019-11-21\",\"2019-11-22\",\"2019-11-25\",\"2019-11-26\",\"2019-11-27\",\"2019-11-29\",\"2019-12-02\",\"2019-12-03\",\"2019-12-04\",\"2019-12-05\",\"2019-12-06\",\"2019-12-09\",\"2019-12-10\",\"2019-12-11\",\"2019-12-12\",\"2019-12-13\",\"2019-12-16\",\"2019-12-17\",\"2019-12-18\",\"2019-12-19\",\"2019-12-20\",\"2019-12-23\",\"2019-12-24\",\"2019-12-26\",\"2019-12-27\",\"2019-12-30\",\"2019-12-31\",\"2020-01-02\",\"2020-01-03\",\"2020-01-06\",\"2020-01-07\",\"2020-01-08\",\"2020-01-09\",\"2020-01-10\",\"2020-01-13\",\"2020-01-14\",\"2020-01-15\",\"2020-01-16\",\"2020-01-17\",\"2020-01-21\",\"2020-01-22\",\"2020-01-23\",\"2020-01-24\",\"2020-01-27\",\"2020-01-28\",\"2020-01-29\",\"2020-01-30\",\"2020-01-31\",\"2020-02-03\"],\"y\":[247.1,245.87,245.19999999999996,242.81000000000003,244.79,243.49,246.6,240.62,241.23,223.21000000000004,228.7,242.56,242.13,240.87000000000003,244.69,243.13,233.02999999999997,231.43000000000004,237.72,240.05,244.53,244.74,247.89,256.96,257.89,259.75,261.97,256.95,253.5,255.58,254.68,299.68,328.13,327.71,316.22,315.01,314.92,313.31,317.47,317.22,326.58,335.54,337.14,345.09,349.93,346.11,349.35,352.17,349.99,359.52,352.22,354.83,333.04,336.34,328.92,331.29,329.94,334.87,336.2,333.03,330.37,335.89,339.53,348.84,352.7,359.68,358.39,381.5,378.99,393.15,404.04,405.5899999999999,419.22,425.24999999999994,430.94,430.38,414.7,418.33,430.26000000000005,443.01,451.53999999999996,469.06,492.14,481.3399999999999,478.15,524.86,537.92,518.5,513.49,510.5,547.2,569.56,572.2,564.82,558.02,566.9,580.99,640.81,650.57,779.9999999999999],\"type\":\"scatter\"},{\"mode\":\"lines\",\"name\":\"Predicted Close\",\"x\":[\"2019-09-11\",\"2019-09-12\",\"2019-09-13\",\"2019-09-16\",\"2019-09-17\",\"2019-09-18\",\"2019-09-19\",\"2019-09-20\",\"2019-09-23\",\"2019-09-24\",\"2019-09-25\",\"2019-09-26\",\"2019-09-27\",\"2019-09-30\",\"2019-10-01\",\"2019-10-02\",\"2019-10-03\",\"2019-10-04\",\"2019-10-07\",\"2019-10-08\",\"2019-10-09\",\"2019-10-10\",\"2019-10-11\",\"2019-10-14\",\"2019-10-15\",\"2019-10-16\",\"2019-10-17\",\"2019-10-18\",\"2019-10-21\",\"2019-10-22\",\"2019-10-23\",\"2019-10-24\",\"2019-10-25\",\"2019-10-28\",\"2019-10-29\",\"2019-10-30\",\"2019-10-31\",\"2019-11-01\",\"2019-11-04\",\"2019-11-05\",\"2019-11-06\",\"2019-11-07\",\"2019-11-08\",\"2019-11-11\",\"2019-11-12\",\"2019-11-13\",\"2019-11-14\",\"2019-11-15\",\"2019-11-18\",\"2019-11-19\",\"2019-11-20\",\"2019-11-21\",\"2019-11-22\",\"2019-11-25\",\"2019-11-26\",\"2019-11-27\",\"2019-11-29\",\"2019-12-02\",\"2019-12-03\",\"2019-12-04\",\"2019-12-05\",\"2019-12-06\",\"2019-12-09\",\"2019-12-10\",\"2019-12-11\",\"2019-12-12\",\"2019-12-13\",\"2019-12-16\",\"2019-12-17\",\"2019-12-18\",\"2019-12-19\",\"2019-12-20\",\"2019-12-23\",\"2019-12-24\",\"2019-12-26\",\"2019-12-27\",\"2019-12-30\",\"2019-12-31\",\"2020-01-02\",\"2020-01-03\",\"2020-01-06\",\"2020-01-07\",\"2020-01-08\",\"2020-01-09\",\"2020-01-10\",\"2020-01-13\",\"2020-01-14\",\"2020-01-15\",\"2020-01-16\",\"2020-01-17\",\"2020-01-21\",\"2020-01-22\",\"2020-01-23\",\"2020-01-24\",\"2020-01-27\",\"2020-01-28\",\"2020-01-29\",\"2020-01-30\",\"2020-01-31\",\"2020-02-03\"],\"y\":[218.187255859375,217.9373779296875,217.87255859375,218.01962280273438,218.3990020751953,219.0260009765625,219.9027862548828,221.01608276367188,222.33934020996094,223.83096313476562,225.43162536621094,227.0719757080078,228.6753387451172,230.17100524902344,231.4951629638672,232.60305786132812,233.47019958496094,234.0919647216797,234.4775848388672,234.64932250976562,234.63739013671875,234.47654724121094,234.2075653076172,233.8734893798828,233.52200317382812,233.202392578125,232.9661407470703,232.86305236816406,232.93173217773438,233.2094268798828,233.71653747558594,234.45718383789062,235.42872619628906,236.63450622558594,238.0948486328125,239.84657287597656,241.94140625,244.43045043945312,247.35000610351562,250.7077178955078,254.47596740722656,258.5935363769531,262.96539306640625,267.4857482910156,272.0462951660156,276.54833984375,280.9094543457031,285.06951904296875,288.99249267578125,292.6586608886719,296.0675048828125,299.22503662109375,302.1409912109375,304.8229064941406,307.26806640625,309.4620666503906,311.3804016113281,312.99725341796875,314.2845764160156,315.2257080078125,315.8166809082031,316.0699768066406,316.01153564453125,315.68646240234375,315.1558532714844,314.4959716796875,313.7929992675781,313.1418762207031,312.639404296875,312.385009765625,312.46905517578125,312.9831237792969,314.00225830078125,315.578125,317.7422180175781,320.5015869140625,323.82745361328125,327.65423583984375,331.8860778808594,336.4008483886719,341.0619201660156,345.7405700683594,350.3308410644531,354.76373291015625,359.0077209472656,363.06280517578125,366.9622802734375,370.7608337402344,374.5182800292969,378.2890319824219,382.110107421875,385.998779296875,389.96588134765625,393.997802734375,398.07061767578125,402.15521240234375,406.22027587890625,410.23577880859375,414.18096923828125,418.0604248046875],\"type\":\"scatter\"}],                        {\"template\":{\"data\":{\"bar\":[{\"error_x\":{\"color\":\"#2a3f5f\"},\"error_y\":{\"color\":\"#2a3f5f\"},\"marker\":{\"line\":{\"color\":\"#E5ECF6\",\"width\":0.5},\"pattern\":{\"fillmode\":\"overlay\",\"size\":10,\"solidity\":0.2}},\"type\":\"bar\"}],\"barpolar\":[{\"marker\":{\"line\":{\"color\":\"#E5ECF6\",\"width\":0.5},\"pattern\":{\"fillmode\":\"overlay\",\"size\":10,\"solidity\":0.2}},\"type\":\"barpolar\"}],\"carpet\":[{\"aaxis\":{\"endlinecolor\":\"#2a3f5f\",\"gridcolor\":\"white\",\"linecolor\":\"white\",\"minorgridcolor\":\"white\",\"startlinecolor\":\"#2a3f5f\"},\"baxis\":{\"endlinecolor\":\"#2a3f5f\",\"gridcolor\":\"white\",\"linecolor\":\"white\",\"minorgridcolor\":\"white\",\"startlinecolor\":\"#2a3f5f\"},\"type\":\"carpet\"}],\"choropleth\":[{\"colorbar\":{\"outlinewidth\":0,\"ticks\":\"\"},\"type\":\"choropleth\"}],\"contour\":[{\"colorbar\":{\"outlinewidth\":0,\"ticks\":\"\"},\"colorscale\":[[0.0,\"#0d0887\"],[0.1111111111111111,\"#46039f\"],[0.2222222222222222,\"#7201a8\"],[0.3333333333333333,\"#9c179e\"],[0.4444444444444444,\"#bd3786\"],[0.5555555555555556,\"#d8576b\"],[0.6666666666666666,\"#ed7953\"],[0.7777777777777778,\"#fb9f3a\"],[0.8888888888888888,\"#fdca26\"],[1.0,\"#f0f921\"]],\"type\":\"contour\"}],\"contourcarpet\":[{\"colorbar\":{\"outlinewidth\":0,\"ticks\":\"\"},\"type\":\"contourcarpet\"}],\"heatmap\":[{\"colorbar\":{\"outlinewidth\":0,\"ticks\":\"\"},\"colorscale\":[[0.0,\"#0d0887\"],[0.1111111111111111,\"#46039f\"],[0.2222222222222222,\"#7201a8\"],[0.3333333333333333,\"#9c179e\"],[0.4444444444444444,\"#bd3786\"],[0.5555555555555556,\"#d8576b\"],[0.6666666666666666,\"#ed7953\"],[0.7777777777777778,\"#fb9f3a\"],[0.8888888888888888,\"#fdca26\"],[1.0,\"#f0f921\"]],\"type\":\"heatmap\"}],\"heatmapgl\":[{\"colorbar\":{\"outlinewidth\":0,\"ticks\":\"\"},\"colorscale\":[[0.0,\"#0d0887\"],[0.1111111111111111,\"#46039f\"],[0.2222222222222222,\"#7201a8\"],[0.3333333333333333,\"#9c179e\"],[0.4444444444444444,\"#bd3786\"],[0.5555555555555556,\"#d8576b\"],[0.6666666666666666,\"#ed7953\"],[0.7777777777777778,\"#fb9f3a\"],[0.8888888888888888,\"#fdca26\"],[1.0,\"#f0f921\"]],\"type\":\"heatmapgl\"}],\"histogram\":[{\"marker\":{\"pattern\":{\"fillmode\":\"overlay\",\"size\":10,\"solidity\":0.2}},\"type\":\"histogram\"}],\"histogram2d\":[{\"colorbar\":{\"outlinewidth\":0,\"ticks\":\"\"},\"colorscale\":[[0.0,\"#0d0887\"],[0.1111111111111111,\"#46039f\"],[0.2222222222222222,\"#7201a8\"],[0.3333333333333333,\"#9c179e\"],[0.4444444444444444,\"#bd3786\"],[0.5555555555555556,\"#d8576b\"],[0.6666666666666666,\"#ed7953\"],[0.7777777777777778,\"#fb9f3a\"],[0.8888888888888888,\"#fdca26\"],[1.0,\"#f0f921\"]],\"type\":\"histogram2d\"}],\"histogram2dcontour\":[{\"colorbar\":{\"outlinewidth\":0,\"ticks\":\"\"},\"colorscale\":[[0.0,\"#0d0887\"],[0.1111111111111111,\"#46039f\"],[0.2222222222222222,\"#7201a8\"],[0.3333333333333333,\"#9c179e\"],[0.4444444444444444,\"#bd3786\"],[0.5555555555555556,\"#d8576b\"],[0.6666666666666666,\"#ed7953\"],[0.7777777777777778,\"#fb9f3a\"],[0.8888888888888888,\"#fdca26\"],[1.0,\"#f0f921\"]],\"type\":\"histogram2dcontour\"}],\"mesh3d\":[{\"colorbar\":{\"outlinewidth\":0,\"ticks\":\"\"},\"type\":\"mesh3d\"}],\"parcoords\":[{\"line\":{\"colorbar\":{\"outlinewidth\":0,\"ticks\":\"\"}},\"type\":\"parcoords\"}],\"pie\":[{\"automargin\":true,\"type\":\"pie\"}],\"scatter\":[{\"marker\":{\"colorbar\":{\"outlinewidth\":0,\"ticks\":\"\"}},\"type\":\"scatter\"}],\"scatter3d\":[{\"line\":{\"colorbar\":{\"outlinewidth\":0,\"ticks\":\"\"}},\"marker\":{\"colorbar\":{\"outlinewidth\":0,\"ticks\":\"\"}},\"type\":\"scatter3d\"}],\"scattercarpet\":[{\"marker\":{\"colorbar\":{\"outlinewidth\":0,\"ticks\":\"\"}},\"type\":\"scattercarpet\"}],\"scattergeo\":[{\"marker\":{\"colorbar\":{\"outlinewidth\":0,\"ticks\":\"\"}},\"type\":\"scattergeo\"}],\"scattergl\":[{\"marker\":{\"colorbar\":{\"outlinewidth\":0,\"ticks\":\"\"}},\"type\":\"scattergl\"}],\"scattermapbox\":[{\"marker\":{\"colorbar\":{\"outlinewidth\":0,\"ticks\":\"\"}},\"type\":\"scattermapbox\"}],\"scatterpolar\":[{\"marker\":{\"colorbar\":{\"outlinewidth\":0,\"ticks\":\"\"}},\"type\":\"scatterpolar\"}],\"scatterpolargl\":[{\"marker\":{\"colorbar\":{\"outlinewidth\":0,\"ticks\":\"\"}},\"type\":\"scatterpolargl\"}],\"scatterternary\":[{\"marker\":{\"colorbar\":{\"outlinewidth\":0,\"ticks\":\"\"}},\"type\":\"scatterternary\"}],\"surface\":[{\"colorbar\":{\"outlinewidth\":0,\"ticks\":\"\"},\"colorscale\":[[0.0,\"#0d0887\"],[0.1111111111111111,\"#46039f\"],[0.2222222222222222,\"#7201a8\"],[0.3333333333333333,\"#9c179e\"],[0.4444444444444444,\"#bd3786\"],[0.5555555555555556,\"#d8576b\"],[0.6666666666666666,\"#ed7953\"],[0.7777777777777778,\"#fb9f3a\"],[0.8888888888888888,\"#fdca26\"],[1.0,\"#f0f921\"]],\"type\":\"surface\"}],\"table\":[{\"cells\":{\"fill\":{\"color\":\"#EBF0F8\"},\"line\":{\"color\":\"white\"}},\"header\":{\"fill\":{\"color\":\"#C8D4E3\"},\"line\":{\"color\":\"white\"}},\"type\":\"table\"}]},\"layout\":{\"annotationdefaults\":{\"arrowcolor\":\"#2a3f5f\",\"arrowhead\":0,\"arrowwidth\":1},\"autotypenumbers\":\"strict\",\"coloraxis\":{\"colorbar\":{\"outlinewidth\":0,\"ticks\":\"\"}},\"colorscale\":{\"diverging\":[[0,\"#8e0152\"],[0.1,\"#c51b7d\"],[0.2,\"#de77ae\"],[0.3,\"#f1b6da\"],[0.4,\"#fde0ef\"],[0.5,\"#f7f7f7\"],[0.6,\"#e6f5d0\"],[0.7,\"#b8e186\"],[0.8,\"#7fbc41\"],[0.9,\"#4d9221\"],[1,\"#276419\"]],\"sequential\":[[0.0,\"#0d0887\"],[0.1111111111111111,\"#46039f\"],[0.2222222222222222,\"#7201a8\"],[0.3333333333333333,\"#9c179e\"],[0.4444444444444444,\"#bd3786\"],[0.5555555555555556,\"#d8576b\"],[0.6666666666666666,\"#ed7953\"],[0.7777777777777778,\"#fb9f3a\"],[0.8888888888888888,\"#fdca26\"],[1.0,\"#f0f921\"]],\"sequentialminus\":[[0.0,\"#0d0887\"],[0.1111111111111111,\"#46039f\"],[0.2222222222222222,\"#7201a8\"],[0.3333333333333333,\"#9c179e\"],[0.4444444444444444,\"#bd3786\"],[0.5555555555555556,\"#d8576b\"],[0.6666666666666666,\"#ed7953\"],[0.7777777777777778,\"#fb9f3a\"],[0.8888888888888888,\"#fdca26\"],[1.0,\"#f0f921\"]]},\"colorway\":[\"#636efa\",\"#EF553B\",\"#00cc96\",\"#ab63fa\",\"#FFA15A\",\"#19d3f3\",\"#FF6692\",\"#B6E880\",\"#FF97FF\",\"#FECB52\"],\"font\":{\"color\":\"#2a3f5f\"},\"geo\":{\"bgcolor\":\"white\",\"lakecolor\":\"white\",\"landcolor\":\"#E5ECF6\",\"showlakes\":true,\"showland\":true,\"subunitcolor\":\"white\"},\"hoverlabel\":{\"align\":\"left\"},\"hovermode\":\"closest\",\"mapbox\":{\"style\":\"light\"},\"paper_bgcolor\":\"white\",\"plot_bgcolor\":\"#E5ECF6\",\"polar\":{\"angularaxis\":{\"gridcolor\":\"white\",\"linecolor\":\"white\",\"ticks\":\"\"},\"bgcolor\":\"#E5ECF6\",\"radialaxis\":{\"gridcolor\":\"white\",\"linecolor\":\"white\",\"ticks\":\"\"}},\"scene\":{\"xaxis\":{\"backgroundcolor\":\"#E5ECF6\",\"gridcolor\":\"white\",\"gridwidth\":2,\"linecolor\":\"white\",\"showbackground\":true,\"ticks\":\"\",\"zerolinecolor\":\"white\"},\"yaxis\":{\"backgroundcolor\":\"#E5ECF6\",\"gridcolor\":\"white\",\"gridwidth\":2,\"linecolor\":\"white\",\"showbackground\":true,\"ticks\":\"\",\"zerolinecolor\":\"white\"},\"zaxis\":{\"backgroundcolor\":\"#E5ECF6\",\"gridcolor\":\"white\",\"gridwidth\":2,\"linecolor\":\"white\",\"showbackground\":true,\"ticks\":\"\",\"zerolinecolor\":\"white\"}},\"shapedefaults\":{\"line\":{\"color\":\"#2a3f5f\"}},\"ternary\":{\"aaxis\":{\"gridcolor\":\"white\",\"linecolor\":\"white\",\"ticks\":\"\"},\"baxis\":{\"gridcolor\":\"white\",\"linecolor\":\"white\",\"ticks\":\"\"},\"bgcolor\":\"#E5ECF6\",\"caxis\":{\"gridcolor\":\"white\",\"linecolor\":\"white\",\"ticks\":\"\"}},\"title\":{\"x\":0.05},\"xaxis\":{\"automargin\":true,\"gridcolor\":\"white\",\"linecolor\":\"white\",\"ticks\":\"\",\"title\":{\"standoff\":15},\"zerolinecolor\":\"white\",\"zerolinewidth\":2},\"yaxis\":{\"automargin\":true,\"gridcolor\":\"white\",\"linecolor\":\"white\",\"ticks\":\"\",\"title\":{\"standoff\":15},\"zerolinecolor\":\"white\",\"zerolinewidth\":2}}},\"title\":{\"text\":\"Stock price - Tesla Motors\"},\"xaxis\":{\"title\":{\"text\":\"Date\"}},\"yaxis\":{\"title\":{\"text\":\"Stock price ($)\"}}},                        {\"responsive\": true}                    ).then(function(){\n",
              "                            \n",
              "var gd = document.getElementById('482f218a-5dec-42fb-a84e-043013b2b9d6');\n",
              "var x = new MutationObserver(function (mutations, observer) {{\n",
              "        var display = window.getComputedStyle(gd).display;\n",
              "        if (!display || display === 'none') {{\n",
              "            console.log([gd, 'removed!']);\n",
              "            Plotly.purge(gd);\n",
              "            observer.disconnect();\n",
              "        }}\n",
              "}});\n",
              "\n",
              "// Listen for the removal of the full notebook cells\n",
              "var notebookContainer = gd.closest('#notebook-container');\n",
              "if (notebookContainer) {{\n",
              "    x.observe(notebookContainer, {childList: true});\n",
              "}}\n",
              "\n",
              "// Listen for the clearing of the current output cell\n",
              "var outputEl = gd.closest('.output');\n",
              "if (outputEl) {{\n",
              "    x.observe(outputEl, {childList: true});\n",
              "}}\n",
              "\n",
              "                        })                };                            </script>        </div>\n",
              "</body>\n",
              "</html>"
            ]
          },
          "metadata": {}
        },
        {
          "output_type": "stream",
          "name": "stdout",
          "text": [
            "r2_score close : 0.3232833812306103\n",
            "mean_squared_error close: 0.06662731272041328\n"
          ]
        }
      ],
      "source": [
        "# Create traces\n",
        "go.Figure().add_trace(\n",
        "    go.Scatter(x=test_dates, y=y_true_original, mode=\"lines\", name=\"Real Close\",)\n",
        ").add_trace(\n",
        "    go.Scatter(x=test_dates, y=y_pred_original, mode=\"lines\", name=\"Predicted Close\",)\n",
        ").update_layout(\n",
        "    title=\"Stock price - Tesla Motors\",\n",
        "    xaxis_title=\"Date\",\n",
        "    yaxis_title=\"Stock price ($)\",\n",
        ").show()\n",
        "\n",
        "print(\"r2_score close :\", r2_score(y_true, y_pred))\n",
        "print(\"mean_squared_error close:\", mean_squared_error(y_true, y_pred))"
      ]
    },
    {
      "cell_type": "markdown",
      "metadata": {
        "id": "iuG8kHVyl4rm"
      },
      "source": [
        "As we can see from all the results from above, T increases the accuracy of the model, and it is also a contributor to overfittind and underfitting of the data."
      ]
    },
    {
      "cell_type": "markdown",
      "metadata": {
        "id": "OzvAt0GrlL04"
      },
      "source": [
        "According to the RNN model result, the mean squared error is arount 6%. Thus, the considered loss of the model is around 6%, and the accuracy is 94% for predicting the Tesla stock price data."
      ]
    },
    {
      "cell_type": "markdown",
      "metadata": {
        "id": "nfgSrsdLa_JG"
      },
      "source": [
        "#Question 4: Dimensionality Reduction and Clustering of Food Items"
      ]
    },
    {
      "cell_type": "code",
      "execution_count": 384,
      "metadata": {
        "id": "Na5Wrv0xa_JG",
        "colab": {
          "base_uri": "https://localhost:8080/",
          "height": 473
        },
        "outputId": "b7ecd943-3f22-42e5-ae80-5256d5fa6d1b"
      },
      "outputs": [
        {
          "output_type": "execute_result",
          "data": {
            "text/plain": [
              "     ID               FoodGroup              ShortDescrip  \\\n",
              "0  1001  Dairy and Egg Products          BUTTER,WITH SALT   \n",
              "1  1002  Dairy and Egg Products  BUTTER,WHIPPED,WITH SALT   \n",
              "2  1003  Dairy and Egg Products      BUTTER OIL,ANHYDROUS   \n",
              "3  1004  Dairy and Egg Products               CHEESE,BLUE   \n",
              "4  1005  Dairy and Egg Products              CHEESE,BRICK   \n",
              "\n",
              "                      Descrip CommonName MfgName ScientificName  Energy_kcal  \\\n",
              "0              Butter, salted        NaN     NaN            NaN        717.0   \n",
              "1  Butter, whipped, with salt        NaN     NaN            NaN        717.0   \n",
              "2       Butter oil, anhydrous        NaN     NaN            NaN        876.0   \n",
              "3                Cheese, blue        NaN     NaN            NaN        353.0   \n",
              "4               Cheese, brick        NaN     NaN            NaN        371.0   \n",
              "\n",
              "   Protein_g  Fat_g  ...  Folate_USRDA  Niacin_USRDA  Riboflavin_USRDA  \\\n",
              "0       0.85  81.11  ...        0.0075      0.002625          0.026154   \n",
              "1       0.85  81.11  ...        0.0075      0.002625          0.026154   \n",
              "2       0.28  99.48  ...        0.0000      0.000188          0.003846   \n",
              "3      21.40  28.74  ...        0.0900      0.063500          0.293846   \n",
              "4      23.24  29.68  ...        0.0500      0.007375          0.270000   \n",
              "\n",
              "   Thiamin_USRDA  Calcium_USRDA  Copper_USRDA  Magnesium_USRDA  \\\n",
              "0       0.004167       0.020000      0.000000         0.004762   \n",
              "1       0.004167       0.020000      0.000018         0.004762   \n",
              "2       0.000833       0.003333      0.000001         0.000000   \n",
              "3       0.024167       0.440000      0.000044         0.054762   \n",
              "4       0.011667       0.561667      0.000027         0.057143   \n",
              "\n",
              "   Phosphorus_USRDA  Selenium_USRDA  Zinc_USRDA  \n",
              "0          0.034286        0.018182    0.008182  \n",
              "1          0.032857        0.018182    0.004545  \n",
              "2          0.004286        0.000000    0.000909  \n",
              "3          0.552857        0.263636    0.241818  \n",
              "4          0.644286        0.263636    0.236364  \n",
              "\n",
              "[5 rows x 45 columns]"
            ],
            "text/html": [
              "\n",
              "  <div id=\"df-04d02bb6-e057-4d44-b027-5a640a501758\">\n",
              "    <div class=\"colab-df-container\">\n",
              "      <div>\n",
              "<style scoped>\n",
              "    .dataframe tbody tr th:only-of-type {\n",
              "        vertical-align: middle;\n",
              "    }\n",
              "\n",
              "    .dataframe tbody tr th {\n",
              "        vertical-align: top;\n",
              "    }\n",
              "\n",
              "    .dataframe thead th {\n",
              "        text-align: right;\n",
              "    }\n",
              "</style>\n",
              "<table border=\"1\" class=\"dataframe\">\n",
              "  <thead>\n",
              "    <tr style=\"text-align: right;\">\n",
              "      <th></th>\n",
              "      <th>ID</th>\n",
              "      <th>FoodGroup</th>\n",
              "      <th>ShortDescrip</th>\n",
              "      <th>Descrip</th>\n",
              "      <th>CommonName</th>\n",
              "      <th>MfgName</th>\n",
              "      <th>ScientificName</th>\n",
              "      <th>Energy_kcal</th>\n",
              "      <th>Protein_g</th>\n",
              "      <th>Fat_g</th>\n",
              "      <th>...</th>\n",
              "      <th>Folate_USRDA</th>\n",
              "      <th>Niacin_USRDA</th>\n",
              "      <th>Riboflavin_USRDA</th>\n",
              "      <th>Thiamin_USRDA</th>\n",
              "      <th>Calcium_USRDA</th>\n",
              "      <th>Copper_USRDA</th>\n",
              "      <th>Magnesium_USRDA</th>\n",
              "      <th>Phosphorus_USRDA</th>\n",
              "      <th>Selenium_USRDA</th>\n",
              "      <th>Zinc_USRDA</th>\n",
              "    </tr>\n",
              "  </thead>\n",
              "  <tbody>\n",
              "    <tr>\n",
              "      <th>0</th>\n",
              "      <td>1001</td>\n",
              "      <td>Dairy and Egg Products</td>\n",
              "      <td>BUTTER,WITH SALT</td>\n",
              "      <td>Butter, salted</td>\n",
              "      <td>NaN</td>\n",
              "      <td>NaN</td>\n",
              "      <td>NaN</td>\n",
              "      <td>717.0</td>\n",
              "      <td>0.85</td>\n",
              "      <td>81.11</td>\n",
              "      <td>...</td>\n",
              "      <td>0.0075</td>\n",
              "      <td>0.002625</td>\n",
              "      <td>0.026154</td>\n",
              "      <td>0.004167</td>\n",
              "      <td>0.020000</td>\n",
              "      <td>0.000000</td>\n",
              "      <td>0.004762</td>\n",
              "      <td>0.034286</td>\n",
              "      <td>0.018182</td>\n",
              "      <td>0.008182</td>\n",
              "    </tr>\n",
              "    <tr>\n",
              "      <th>1</th>\n",
              "      <td>1002</td>\n",
              "      <td>Dairy and Egg Products</td>\n",
              "      <td>BUTTER,WHIPPED,WITH SALT</td>\n",
              "      <td>Butter, whipped, with salt</td>\n",
              "      <td>NaN</td>\n",
              "      <td>NaN</td>\n",
              "      <td>NaN</td>\n",
              "      <td>717.0</td>\n",
              "      <td>0.85</td>\n",
              "      <td>81.11</td>\n",
              "      <td>...</td>\n",
              "      <td>0.0075</td>\n",
              "      <td>0.002625</td>\n",
              "      <td>0.026154</td>\n",
              "      <td>0.004167</td>\n",
              "      <td>0.020000</td>\n",
              "      <td>0.000018</td>\n",
              "      <td>0.004762</td>\n",
              "      <td>0.032857</td>\n",
              "      <td>0.018182</td>\n",
              "      <td>0.004545</td>\n",
              "    </tr>\n",
              "    <tr>\n",
              "      <th>2</th>\n",
              "      <td>1003</td>\n",
              "      <td>Dairy and Egg Products</td>\n",
              "      <td>BUTTER OIL,ANHYDROUS</td>\n",
              "      <td>Butter oil, anhydrous</td>\n",
              "      <td>NaN</td>\n",
              "      <td>NaN</td>\n",
              "      <td>NaN</td>\n",
              "      <td>876.0</td>\n",
              "      <td>0.28</td>\n",
              "      <td>99.48</td>\n",
              "      <td>...</td>\n",
              "      <td>0.0000</td>\n",
              "      <td>0.000188</td>\n",
              "      <td>0.003846</td>\n",
              "      <td>0.000833</td>\n",
              "      <td>0.003333</td>\n",
              "      <td>0.000001</td>\n",
              "      <td>0.000000</td>\n",
              "      <td>0.004286</td>\n",
              "      <td>0.000000</td>\n",
              "      <td>0.000909</td>\n",
              "    </tr>\n",
              "    <tr>\n",
              "      <th>3</th>\n",
              "      <td>1004</td>\n",
              "      <td>Dairy and Egg Products</td>\n",
              "      <td>CHEESE,BLUE</td>\n",
              "      <td>Cheese, blue</td>\n",
              "      <td>NaN</td>\n",
              "      <td>NaN</td>\n",
              "      <td>NaN</td>\n",
              "      <td>353.0</td>\n",
              "      <td>21.40</td>\n",
              "      <td>28.74</td>\n",
              "      <td>...</td>\n",
              "      <td>0.0900</td>\n",
              "      <td>0.063500</td>\n",
              "      <td>0.293846</td>\n",
              "      <td>0.024167</td>\n",
              "      <td>0.440000</td>\n",
              "      <td>0.000044</td>\n",
              "      <td>0.054762</td>\n",
              "      <td>0.552857</td>\n",
              "      <td>0.263636</td>\n",
              "      <td>0.241818</td>\n",
              "    </tr>\n",
              "    <tr>\n",
              "      <th>4</th>\n",
              "      <td>1005</td>\n",
              "      <td>Dairy and Egg Products</td>\n",
              "      <td>CHEESE,BRICK</td>\n",
              "      <td>Cheese, brick</td>\n",
              "      <td>NaN</td>\n",
              "      <td>NaN</td>\n",
              "      <td>NaN</td>\n",
              "      <td>371.0</td>\n",
              "      <td>23.24</td>\n",
              "      <td>29.68</td>\n",
              "      <td>...</td>\n",
              "      <td>0.0500</td>\n",
              "      <td>0.007375</td>\n",
              "      <td>0.270000</td>\n",
              "      <td>0.011667</td>\n",
              "      <td>0.561667</td>\n",
              "      <td>0.000027</td>\n",
              "      <td>0.057143</td>\n",
              "      <td>0.644286</td>\n",
              "      <td>0.263636</td>\n",
              "      <td>0.236364</td>\n",
              "    </tr>\n",
              "  </tbody>\n",
              "</table>\n",
              "<p>5 rows × 45 columns</p>\n",
              "</div>\n",
              "      <button class=\"colab-df-convert\" onclick=\"convertToInteractive('df-04d02bb6-e057-4d44-b027-5a640a501758')\"\n",
              "              title=\"Convert this dataframe to an interactive table.\"\n",
              "              style=\"display:none;\">\n",
              "        \n",
              "  <svg xmlns=\"http://www.w3.org/2000/svg\" height=\"24px\"viewBox=\"0 0 24 24\"\n",
              "       width=\"24px\">\n",
              "    <path d=\"M0 0h24v24H0V0z\" fill=\"none\"/>\n",
              "    <path d=\"M18.56 5.44l.94 2.06.94-2.06 2.06-.94-2.06-.94-.94-2.06-.94 2.06-2.06.94zm-11 1L8.5 8.5l.94-2.06 2.06-.94-2.06-.94L8.5 2.5l-.94 2.06-2.06.94zm10 10l.94 2.06.94-2.06 2.06-.94-2.06-.94-.94-2.06-.94 2.06-2.06.94z\"/><path d=\"M17.41 7.96l-1.37-1.37c-.4-.4-.92-.59-1.43-.59-.52 0-1.04.2-1.43.59L10.3 9.45l-7.72 7.72c-.78.78-.78 2.05 0 2.83L4 21.41c.39.39.9.59 1.41.59.51 0 1.02-.2 1.41-.59l7.78-7.78 2.81-2.81c.8-.78.8-2.07 0-2.86zM5.41 20L4 18.59l7.72-7.72 1.47 1.35L5.41 20z\"/>\n",
              "  </svg>\n",
              "      </button>\n",
              "      \n",
              "  <style>\n",
              "    .colab-df-container {\n",
              "      display:flex;\n",
              "      flex-wrap:wrap;\n",
              "      gap: 12px;\n",
              "    }\n",
              "\n",
              "    .colab-df-convert {\n",
              "      background-color: #E8F0FE;\n",
              "      border: none;\n",
              "      border-radius: 50%;\n",
              "      cursor: pointer;\n",
              "      display: none;\n",
              "      fill: #1967D2;\n",
              "      height: 32px;\n",
              "      padding: 0 0 0 0;\n",
              "      width: 32px;\n",
              "    }\n",
              "\n",
              "    .colab-df-convert:hover {\n",
              "      background-color: #E2EBFA;\n",
              "      box-shadow: 0px 1px 2px rgba(60, 64, 67, 0.3), 0px 1px 3px 1px rgba(60, 64, 67, 0.15);\n",
              "      fill: #174EA6;\n",
              "    }\n",
              "\n",
              "    [theme=dark] .colab-df-convert {\n",
              "      background-color: #3B4455;\n",
              "      fill: #D2E3FC;\n",
              "    }\n",
              "\n",
              "    [theme=dark] .colab-df-convert:hover {\n",
              "      background-color: #434B5C;\n",
              "      box-shadow: 0px 1px 3px 1px rgba(0, 0, 0, 0.15);\n",
              "      filter: drop-shadow(0px 1px 2px rgba(0, 0, 0, 0.3));\n",
              "      fill: #FFFFFF;\n",
              "    }\n",
              "  </style>\n",
              "\n",
              "      <script>\n",
              "        const buttonEl =\n",
              "          document.querySelector('#df-04d02bb6-e057-4d44-b027-5a640a501758 button.colab-df-convert');\n",
              "        buttonEl.style.display =\n",
              "          google.colab.kernel.accessAllowed ? 'block' : 'none';\n",
              "\n",
              "        async function convertToInteractive(key) {\n",
              "          const element = document.querySelector('#df-04d02bb6-e057-4d44-b027-5a640a501758');\n",
              "          const dataTable =\n",
              "            await google.colab.kernel.invokeFunction('convertToInteractive',\n",
              "                                                     [key], {});\n",
              "          if (!dataTable) return;\n",
              "\n",
              "          const docLinkHtml = 'Like what you see? Visit the ' +\n",
              "            '<a target=\"_blank\" href=https://colab.research.google.com/notebooks/data_table.ipynb>data table notebook</a>'\n",
              "            + ' to learn more about interactive tables.';\n",
              "          element.innerHTML = '';\n",
              "          dataTable['output_type'] = 'display_data';\n",
              "          await google.colab.output.renderOutput(dataTable, element);\n",
              "          const docLink = document.createElement('div');\n",
              "          docLink.innerHTML = docLinkHtml;\n",
              "          element.appendChild(docLink);\n",
              "        }\n",
              "      </script>\n",
              "    </div>\n",
              "  </div>\n",
              "  "
            ]
          },
          "metadata": {},
          "execution_count": 384
        }
      ],
      "source": [
        "import numpy as np\n",
        "import pandas as pd\n",
        "df = pd.read_csv(\"https://raw.githubusercontent.com/SravaniRVS/DATA602/main/Homeworks/food-nutrients.csv\") #Data Importing\n",
        "df.head()"
      ]
    },
    {
      "cell_type": "markdown",
      "metadata": {
        "id": "fRty2rwea_JG"
      },
      "source": [
        "Identification and treatment of any Missing Values"
      ]
    },
    {
      "cell_type": "code",
      "execution_count": 385,
      "metadata": {
        "id": "e1QpQdeYa_JG",
        "colab": {
          "base_uri": "https://localhost:8080/"
        },
        "outputId": "65bbdeb3-9753-4b6b-aa7b-791bcd25a5ea"
      },
      "outputs": [
        {
          "output_type": "execute_result",
          "data": {
            "text/plain": [
              "ID                     0\n",
              "FoodGroup              0\n",
              "ShortDescrip           0\n",
              "Descrip                0\n",
              "CommonName          7555\n",
              "MfgName             7058\n",
              "ScientificName      7886\n",
              "Energy_kcal            0\n",
              "Protein_g              0\n",
              "Fat_g                  0\n",
              "Carb_g                 0\n",
              "Sugar_g                0\n",
              "Fiber_g                0\n",
              "VitA_mcg               0\n",
              "VitB6_mg               0\n",
              "VitB12_mcg             0\n",
              "VitC_mg                0\n",
              "VitE_mg                0\n",
              "Folate_mcg             0\n",
              "Niacin_mg              0\n",
              "Riboflavin_mg          0\n",
              "Thiamin_mg             0\n",
              "Calcium_mg             0\n",
              "Copper_mcg             0\n",
              "Iron_mg                0\n",
              "Magnesium_mg           0\n",
              "Manganese_mg           0\n",
              "Phosphorus_mg          0\n",
              "Selenium_mcg           0\n",
              "Zinc_mg                0\n",
              "VitA_USRDA             0\n",
              "VitB6_USRDA            0\n",
              "VitB12_USRDA           0\n",
              "VitC_USRDA             0\n",
              "VitE_USRDA             0\n",
              "Folate_USRDA           0\n",
              "Niacin_USRDA           0\n",
              "Riboflavin_USRDA       0\n",
              "Thiamin_USRDA          0\n",
              "Calcium_USRDA          0\n",
              "Copper_USRDA           0\n",
              "Magnesium_USRDA        0\n",
              "Phosphorus_USRDA       0\n",
              "Selenium_USRDA         0\n",
              "Zinc_USRDA             0\n",
              "dtype: int64"
            ]
          },
          "metadata": {},
          "execution_count": 385
        }
      ],
      "source": [
        "df.isnull().sum()"
      ]
    },
    {
      "cell_type": "markdown",
      "metadata": {
        "id": "SDs1qCaKa_JG"
      },
      "source": [
        "Remove Common Name, Mfg Name, and Scientific Name"
      ]
    },
    {
      "cell_type": "code",
      "execution_count": 386,
      "metadata": {
        "id": "kQlgg6lHa_JG"
      },
      "outputs": [],
      "source": [
        "df1 = df.drop(['CommonName','MfgName','ScientificName'],axis=1)"
      ]
    },
    {
      "cell_type": "code",
      "execution_count": 387,
      "metadata": {
        "id": "kBqIBZKHa_JG",
        "colab": {
          "base_uri": "https://localhost:8080/",
          "height": 473
        },
        "outputId": "dd688f19-da75-4d19-9aff-766e31e22322"
      },
      "outputs": [
        {
          "output_type": "execute_result",
          "data": {
            "text/plain": [
              "     ID               FoodGroup              ShortDescrip  \\\n",
              "0  1001  Dairy and Egg Products          BUTTER,WITH SALT   \n",
              "1  1002  Dairy and Egg Products  BUTTER,WHIPPED,WITH SALT   \n",
              "2  1003  Dairy and Egg Products      BUTTER OIL,ANHYDROUS   \n",
              "3  1004  Dairy and Egg Products               CHEESE,BLUE   \n",
              "4  1005  Dairy and Egg Products              CHEESE,BRICK   \n",
              "\n",
              "                      Descrip  Energy_kcal  Protein_g  Fat_g  Carb_g  Sugar_g  \\\n",
              "0              Butter, salted        717.0       0.85  81.11    0.06     0.06   \n",
              "1  Butter, whipped, with salt        717.0       0.85  81.11    0.06     0.06   \n",
              "2       Butter oil, anhydrous        876.0       0.28  99.48    0.00     0.00   \n",
              "3                Cheese, blue        353.0      21.40  28.74    2.34     0.50   \n",
              "4               Cheese, brick        371.0      23.24  29.68    2.79     0.51   \n",
              "\n",
              "   Fiber_g  ...  Folate_USRDA  Niacin_USRDA  Riboflavin_USRDA  Thiamin_USRDA  \\\n",
              "0      0.0  ...        0.0075      0.002625          0.026154       0.004167   \n",
              "1      0.0  ...        0.0075      0.002625          0.026154       0.004167   \n",
              "2      0.0  ...        0.0000      0.000188          0.003846       0.000833   \n",
              "3      0.0  ...        0.0900      0.063500          0.293846       0.024167   \n",
              "4      0.0  ...        0.0500      0.007375          0.270000       0.011667   \n",
              "\n",
              "   Calcium_USRDA  Copper_USRDA  Magnesium_USRDA  Phosphorus_USRDA  \\\n",
              "0       0.020000      0.000000         0.004762          0.034286   \n",
              "1       0.020000      0.000018         0.004762          0.032857   \n",
              "2       0.003333      0.000001         0.000000          0.004286   \n",
              "3       0.440000      0.000044         0.054762          0.552857   \n",
              "4       0.561667      0.000027         0.057143          0.644286   \n",
              "\n",
              "   Selenium_USRDA  Zinc_USRDA  \n",
              "0        0.018182    0.008182  \n",
              "1        0.018182    0.004545  \n",
              "2        0.000000    0.000909  \n",
              "3        0.263636    0.241818  \n",
              "4        0.263636    0.236364  \n",
              "\n",
              "[5 rows x 42 columns]"
            ],
            "text/html": [
              "\n",
              "  <div id=\"df-14c839a6-e618-4c7c-95a1-96376c8ea71e\">\n",
              "    <div class=\"colab-df-container\">\n",
              "      <div>\n",
              "<style scoped>\n",
              "    .dataframe tbody tr th:only-of-type {\n",
              "        vertical-align: middle;\n",
              "    }\n",
              "\n",
              "    .dataframe tbody tr th {\n",
              "        vertical-align: top;\n",
              "    }\n",
              "\n",
              "    .dataframe thead th {\n",
              "        text-align: right;\n",
              "    }\n",
              "</style>\n",
              "<table border=\"1\" class=\"dataframe\">\n",
              "  <thead>\n",
              "    <tr style=\"text-align: right;\">\n",
              "      <th></th>\n",
              "      <th>ID</th>\n",
              "      <th>FoodGroup</th>\n",
              "      <th>ShortDescrip</th>\n",
              "      <th>Descrip</th>\n",
              "      <th>Energy_kcal</th>\n",
              "      <th>Protein_g</th>\n",
              "      <th>Fat_g</th>\n",
              "      <th>Carb_g</th>\n",
              "      <th>Sugar_g</th>\n",
              "      <th>Fiber_g</th>\n",
              "      <th>...</th>\n",
              "      <th>Folate_USRDA</th>\n",
              "      <th>Niacin_USRDA</th>\n",
              "      <th>Riboflavin_USRDA</th>\n",
              "      <th>Thiamin_USRDA</th>\n",
              "      <th>Calcium_USRDA</th>\n",
              "      <th>Copper_USRDA</th>\n",
              "      <th>Magnesium_USRDA</th>\n",
              "      <th>Phosphorus_USRDA</th>\n",
              "      <th>Selenium_USRDA</th>\n",
              "      <th>Zinc_USRDA</th>\n",
              "    </tr>\n",
              "  </thead>\n",
              "  <tbody>\n",
              "    <tr>\n",
              "      <th>0</th>\n",
              "      <td>1001</td>\n",
              "      <td>Dairy and Egg Products</td>\n",
              "      <td>BUTTER,WITH SALT</td>\n",
              "      <td>Butter, salted</td>\n",
              "      <td>717.0</td>\n",
              "      <td>0.85</td>\n",
              "      <td>81.11</td>\n",
              "      <td>0.06</td>\n",
              "      <td>0.06</td>\n",
              "      <td>0.0</td>\n",
              "      <td>...</td>\n",
              "      <td>0.0075</td>\n",
              "      <td>0.002625</td>\n",
              "      <td>0.026154</td>\n",
              "      <td>0.004167</td>\n",
              "      <td>0.020000</td>\n",
              "      <td>0.000000</td>\n",
              "      <td>0.004762</td>\n",
              "      <td>0.034286</td>\n",
              "      <td>0.018182</td>\n",
              "      <td>0.008182</td>\n",
              "    </tr>\n",
              "    <tr>\n",
              "      <th>1</th>\n",
              "      <td>1002</td>\n",
              "      <td>Dairy and Egg Products</td>\n",
              "      <td>BUTTER,WHIPPED,WITH SALT</td>\n",
              "      <td>Butter, whipped, with salt</td>\n",
              "      <td>717.0</td>\n",
              "      <td>0.85</td>\n",
              "      <td>81.11</td>\n",
              "      <td>0.06</td>\n",
              "      <td>0.06</td>\n",
              "      <td>0.0</td>\n",
              "      <td>...</td>\n",
              "      <td>0.0075</td>\n",
              "      <td>0.002625</td>\n",
              "      <td>0.026154</td>\n",
              "      <td>0.004167</td>\n",
              "      <td>0.020000</td>\n",
              "      <td>0.000018</td>\n",
              "      <td>0.004762</td>\n",
              "      <td>0.032857</td>\n",
              "      <td>0.018182</td>\n",
              "      <td>0.004545</td>\n",
              "    </tr>\n",
              "    <tr>\n",
              "      <th>2</th>\n",
              "      <td>1003</td>\n",
              "      <td>Dairy and Egg Products</td>\n",
              "      <td>BUTTER OIL,ANHYDROUS</td>\n",
              "      <td>Butter oil, anhydrous</td>\n",
              "      <td>876.0</td>\n",
              "      <td>0.28</td>\n",
              "      <td>99.48</td>\n",
              "      <td>0.00</td>\n",
              "      <td>0.00</td>\n",
              "      <td>0.0</td>\n",
              "      <td>...</td>\n",
              "      <td>0.0000</td>\n",
              "      <td>0.000188</td>\n",
              "      <td>0.003846</td>\n",
              "      <td>0.000833</td>\n",
              "      <td>0.003333</td>\n",
              "      <td>0.000001</td>\n",
              "      <td>0.000000</td>\n",
              "      <td>0.004286</td>\n",
              "      <td>0.000000</td>\n",
              "      <td>0.000909</td>\n",
              "    </tr>\n",
              "    <tr>\n",
              "      <th>3</th>\n",
              "      <td>1004</td>\n",
              "      <td>Dairy and Egg Products</td>\n",
              "      <td>CHEESE,BLUE</td>\n",
              "      <td>Cheese, blue</td>\n",
              "      <td>353.0</td>\n",
              "      <td>21.40</td>\n",
              "      <td>28.74</td>\n",
              "      <td>2.34</td>\n",
              "      <td>0.50</td>\n",
              "      <td>0.0</td>\n",
              "      <td>...</td>\n",
              "      <td>0.0900</td>\n",
              "      <td>0.063500</td>\n",
              "      <td>0.293846</td>\n",
              "      <td>0.024167</td>\n",
              "      <td>0.440000</td>\n",
              "      <td>0.000044</td>\n",
              "      <td>0.054762</td>\n",
              "      <td>0.552857</td>\n",
              "      <td>0.263636</td>\n",
              "      <td>0.241818</td>\n",
              "    </tr>\n",
              "    <tr>\n",
              "      <th>4</th>\n",
              "      <td>1005</td>\n",
              "      <td>Dairy and Egg Products</td>\n",
              "      <td>CHEESE,BRICK</td>\n",
              "      <td>Cheese, brick</td>\n",
              "      <td>371.0</td>\n",
              "      <td>23.24</td>\n",
              "      <td>29.68</td>\n",
              "      <td>2.79</td>\n",
              "      <td>0.51</td>\n",
              "      <td>0.0</td>\n",
              "      <td>...</td>\n",
              "      <td>0.0500</td>\n",
              "      <td>0.007375</td>\n",
              "      <td>0.270000</td>\n",
              "      <td>0.011667</td>\n",
              "      <td>0.561667</td>\n",
              "      <td>0.000027</td>\n",
              "      <td>0.057143</td>\n",
              "      <td>0.644286</td>\n",
              "      <td>0.263636</td>\n",
              "      <td>0.236364</td>\n",
              "    </tr>\n",
              "  </tbody>\n",
              "</table>\n",
              "<p>5 rows × 42 columns</p>\n",
              "</div>\n",
              "      <button class=\"colab-df-convert\" onclick=\"convertToInteractive('df-14c839a6-e618-4c7c-95a1-96376c8ea71e')\"\n",
              "              title=\"Convert this dataframe to an interactive table.\"\n",
              "              style=\"display:none;\">\n",
              "        \n",
              "  <svg xmlns=\"http://www.w3.org/2000/svg\" height=\"24px\"viewBox=\"0 0 24 24\"\n",
              "       width=\"24px\">\n",
              "    <path d=\"M0 0h24v24H0V0z\" fill=\"none\"/>\n",
              "    <path d=\"M18.56 5.44l.94 2.06.94-2.06 2.06-.94-2.06-.94-.94-2.06-.94 2.06-2.06.94zm-11 1L8.5 8.5l.94-2.06 2.06-.94-2.06-.94L8.5 2.5l-.94 2.06-2.06.94zm10 10l.94 2.06.94-2.06 2.06-.94-2.06-.94-.94-2.06-.94 2.06-2.06.94z\"/><path d=\"M17.41 7.96l-1.37-1.37c-.4-.4-.92-.59-1.43-.59-.52 0-1.04.2-1.43.59L10.3 9.45l-7.72 7.72c-.78.78-.78 2.05 0 2.83L4 21.41c.39.39.9.59 1.41.59.51 0 1.02-.2 1.41-.59l7.78-7.78 2.81-2.81c.8-.78.8-2.07 0-2.86zM5.41 20L4 18.59l7.72-7.72 1.47 1.35L5.41 20z\"/>\n",
              "  </svg>\n",
              "      </button>\n",
              "      \n",
              "  <style>\n",
              "    .colab-df-container {\n",
              "      display:flex;\n",
              "      flex-wrap:wrap;\n",
              "      gap: 12px;\n",
              "    }\n",
              "\n",
              "    .colab-df-convert {\n",
              "      background-color: #E8F0FE;\n",
              "      border: none;\n",
              "      border-radius: 50%;\n",
              "      cursor: pointer;\n",
              "      display: none;\n",
              "      fill: #1967D2;\n",
              "      height: 32px;\n",
              "      padding: 0 0 0 0;\n",
              "      width: 32px;\n",
              "    }\n",
              "\n",
              "    .colab-df-convert:hover {\n",
              "      background-color: #E2EBFA;\n",
              "      box-shadow: 0px 1px 2px rgba(60, 64, 67, 0.3), 0px 1px 3px 1px rgba(60, 64, 67, 0.15);\n",
              "      fill: #174EA6;\n",
              "    }\n",
              "\n",
              "    [theme=dark] .colab-df-convert {\n",
              "      background-color: #3B4455;\n",
              "      fill: #D2E3FC;\n",
              "    }\n",
              "\n",
              "    [theme=dark] .colab-df-convert:hover {\n",
              "      background-color: #434B5C;\n",
              "      box-shadow: 0px 1px 3px 1px rgba(0, 0, 0, 0.15);\n",
              "      filter: drop-shadow(0px 1px 2px rgba(0, 0, 0, 0.3));\n",
              "      fill: #FFFFFF;\n",
              "    }\n",
              "  </style>\n",
              "\n",
              "      <script>\n",
              "        const buttonEl =\n",
              "          document.querySelector('#df-14c839a6-e618-4c7c-95a1-96376c8ea71e button.colab-df-convert');\n",
              "        buttonEl.style.display =\n",
              "          google.colab.kernel.accessAllowed ? 'block' : 'none';\n",
              "\n",
              "        async function convertToInteractive(key) {\n",
              "          const element = document.querySelector('#df-14c839a6-e618-4c7c-95a1-96376c8ea71e');\n",
              "          const dataTable =\n",
              "            await google.colab.kernel.invokeFunction('convertToInteractive',\n",
              "                                                     [key], {});\n",
              "          if (!dataTable) return;\n",
              "\n",
              "          const docLinkHtml = 'Like what you see? Visit the ' +\n",
              "            '<a target=\"_blank\" href=https://colab.research.google.com/notebooks/data_table.ipynb>data table notebook</a>'\n",
              "            + ' to learn more about interactive tables.';\n",
              "          element.innerHTML = '';\n",
              "          dataTable['output_type'] = 'display_data';\n",
              "          await google.colab.output.renderOutput(dataTable, element);\n",
              "          const docLink = document.createElement('div');\n",
              "          docLink.innerHTML = docLinkHtml;\n",
              "          element.appendChild(docLink);\n",
              "        }\n",
              "      </script>\n",
              "    </div>\n",
              "  </div>\n",
              "  "
            ]
          },
          "metadata": {},
          "execution_count": 387
        }
      ],
      "source": [
        "df1.head()"
      ]
    },
    {
      "cell_type": "markdown",
      "metadata": {
        "id": "i-GR3Lt8a_JG"
      },
      "source": [
        "### b) Automatically Remove USRDA Column Title"
      ]
    },
    {
      "cell_type": "code",
      "execution_count": 388,
      "metadata": {
        "id": "AVr8D35oa_JG",
        "colab": {
          "base_uri": "https://localhost:8080/",
          "height": 870
        },
        "outputId": "241976da-4abf-4be6-89fc-c10954a7e8d5"
      },
      "outputs": [
        {
          "output_type": "execute_result",
          "data": {
            "text/plain": [
              "         ID                       FoodGroup                ShortDescrip  \\\n",
              "0      1001          Dairy and Egg Products            BUTTER,WITH SALT   \n",
              "1      1002          Dairy and Egg Products    BUTTER,WHIPPED,WITH SALT   \n",
              "2      1003          Dairy and Egg Products        BUTTER OIL,ANHYDROUS   \n",
              "3      1004          Dairy and Egg Products                 CHEESE,BLUE   \n",
              "4      1005          Dairy and Egg Products                CHEESE,BRICK   \n",
              "...     ...                             ...                         ...   \n",
              "8613  83110  Finfish and Shellfish Products             MACKEREL,SALTED   \n",
              "8614  90240  Finfish and Shellfish Products  SCALLOP,(BAY&SEA),CKD,STMD   \n",
              "8615  90480                          Sweets                  SYRUP,CANE   \n",
              "8616  90560  Finfish and Shellfish Products                   SNAIL,RAW   \n",
              "8617  93600  Finfish and Shellfish Products            TURTLE,GREEN,RAW   \n",
              "\n",
              "                                                Descrip  Energy_kcal  \\\n",
              "0                                        Butter, salted        717.0   \n",
              "1                            Butter, whipped, with salt        717.0   \n",
              "2                                 Butter oil, anhydrous        876.0   \n",
              "3                                          Cheese, blue        353.0   \n",
              "4                                         Cheese, brick        371.0   \n",
              "...                                                 ...          ...   \n",
              "8613                             Fish, mackerel, salted        305.0   \n",
              "8614  Mollusks, scallop, (bay and sea), cooked, steamed        111.0   \n",
              "8615                                        Syrup, Cane        269.0   \n",
              "8616                               Mollusks, snail, raw         90.0   \n",
              "8617                                 Turtle, green, raw         89.0   \n",
              "\n",
              "      Protein_g  Fat_g  Carb_g  Sugar_g  Fiber_g  ...  Riboflavin_mg  \\\n",
              "0          0.85  81.11    0.06     0.06      0.0  ...          0.034   \n",
              "1          0.85  81.11    0.06     0.06      0.0  ...          0.034   \n",
              "2          0.28  99.48    0.00     0.00      0.0  ...          0.005   \n",
              "3         21.40  28.74    2.34     0.50      0.0  ...          0.382   \n",
              "4         23.24  29.68    2.79     0.51      0.0  ...          0.351   \n",
              "...         ...    ...     ...      ...      ...  ...            ...   \n",
              "8613      18.50  25.10    0.00     0.00      0.0  ...          0.190   \n",
              "8614      20.54   0.84    5.41     0.00      0.0  ...          0.024   \n",
              "8615       0.00   0.00   73.14    73.20      0.0  ...          0.060   \n",
              "8616      16.10   1.40    2.00     0.00      0.0  ...          0.120   \n",
              "8617      19.80   0.50    0.00     0.00      0.0  ...          0.150   \n",
              "\n",
              "      Thiamin_mg  Calcium_mg  Copper_mcg  Iron_mg  Magnesium_mg  Manganese_mg  \\\n",
              "0          0.005        24.0       0.000     0.02           2.0         0.000   \n",
              "1          0.005        24.0       0.016     0.16           2.0         0.004   \n",
              "2          0.001         4.0       0.001     0.00           0.0         0.000   \n",
              "3          0.029       528.0       0.040     0.31          23.0         0.009   \n",
              "4          0.014       674.0       0.024     0.43          24.0         0.012   \n",
              "...          ...         ...         ...      ...           ...           ...   \n",
              "8613       0.020        66.0       0.100     1.40          60.0         0.000   \n",
              "8614       0.012        10.0       0.033     0.58          37.0         0.029   \n",
              "8615       0.130        13.0       0.020     3.60          10.0         0.000   \n",
              "8616       0.010        10.0       0.400     3.50         250.0         0.000   \n",
              "8617       0.120       118.0       0.250     1.40          20.0         0.000   \n",
              "\n",
              "      Phosphorus_mg  Selenium_mcg  Zinc_mg  \n",
              "0              24.0           1.0     0.09  \n",
              "1              23.0           1.0     0.05  \n",
              "2               3.0           0.0     0.01  \n",
              "3             387.0          14.5     2.66  \n",
              "4             451.0          14.5     2.60  \n",
              "...             ...           ...      ...  \n",
              "8613          254.0          73.4     1.10  \n",
              "8614          426.0          21.7     1.55  \n",
              "8615            8.0           0.7     0.19  \n",
              "8616          272.0          27.4     1.00  \n",
              "8617          180.0          16.8     1.00  \n",
              "\n",
              "[8618 rows x 27 columns]"
            ],
            "text/html": [
              "\n",
              "  <div id=\"df-6f782582-0294-44d3-b3b8-25da33435f2c\">\n",
              "    <div class=\"colab-df-container\">\n",
              "      <div>\n",
              "<style scoped>\n",
              "    .dataframe tbody tr th:only-of-type {\n",
              "        vertical-align: middle;\n",
              "    }\n",
              "\n",
              "    .dataframe tbody tr th {\n",
              "        vertical-align: top;\n",
              "    }\n",
              "\n",
              "    .dataframe thead th {\n",
              "        text-align: right;\n",
              "    }\n",
              "</style>\n",
              "<table border=\"1\" class=\"dataframe\">\n",
              "  <thead>\n",
              "    <tr style=\"text-align: right;\">\n",
              "      <th></th>\n",
              "      <th>ID</th>\n",
              "      <th>FoodGroup</th>\n",
              "      <th>ShortDescrip</th>\n",
              "      <th>Descrip</th>\n",
              "      <th>Energy_kcal</th>\n",
              "      <th>Protein_g</th>\n",
              "      <th>Fat_g</th>\n",
              "      <th>Carb_g</th>\n",
              "      <th>Sugar_g</th>\n",
              "      <th>Fiber_g</th>\n",
              "      <th>...</th>\n",
              "      <th>Riboflavin_mg</th>\n",
              "      <th>Thiamin_mg</th>\n",
              "      <th>Calcium_mg</th>\n",
              "      <th>Copper_mcg</th>\n",
              "      <th>Iron_mg</th>\n",
              "      <th>Magnesium_mg</th>\n",
              "      <th>Manganese_mg</th>\n",
              "      <th>Phosphorus_mg</th>\n",
              "      <th>Selenium_mcg</th>\n",
              "      <th>Zinc_mg</th>\n",
              "    </tr>\n",
              "  </thead>\n",
              "  <tbody>\n",
              "    <tr>\n",
              "      <th>0</th>\n",
              "      <td>1001</td>\n",
              "      <td>Dairy and Egg Products</td>\n",
              "      <td>BUTTER,WITH SALT</td>\n",
              "      <td>Butter, salted</td>\n",
              "      <td>717.0</td>\n",
              "      <td>0.85</td>\n",
              "      <td>81.11</td>\n",
              "      <td>0.06</td>\n",
              "      <td>0.06</td>\n",
              "      <td>0.0</td>\n",
              "      <td>...</td>\n",
              "      <td>0.034</td>\n",
              "      <td>0.005</td>\n",
              "      <td>24.0</td>\n",
              "      <td>0.000</td>\n",
              "      <td>0.02</td>\n",
              "      <td>2.0</td>\n",
              "      <td>0.000</td>\n",
              "      <td>24.0</td>\n",
              "      <td>1.0</td>\n",
              "      <td>0.09</td>\n",
              "    </tr>\n",
              "    <tr>\n",
              "      <th>1</th>\n",
              "      <td>1002</td>\n",
              "      <td>Dairy and Egg Products</td>\n",
              "      <td>BUTTER,WHIPPED,WITH SALT</td>\n",
              "      <td>Butter, whipped, with salt</td>\n",
              "      <td>717.0</td>\n",
              "      <td>0.85</td>\n",
              "      <td>81.11</td>\n",
              "      <td>0.06</td>\n",
              "      <td>0.06</td>\n",
              "      <td>0.0</td>\n",
              "      <td>...</td>\n",
              "      <td>0.034</td>\n",
              "      <td>0.005</td>\n",
              "      <td>24.0</td>\n",
              "      <td>0.016</td>\n",
              "      <td>0.16</td>\n",
              "      <td>2.0</td>\n",
              "      <td>0.004</td>\n",
              "      <td>23.0</td>\n",
              "      <td>1.0</td>\n",
              "      <td>0.05</td>\n",
              "    </tr>\n",
              "    <tr>\n",
              "      <th>2</th>\n",
              "      <td>1003</td>\n",
              "      <td>Dairy and Egg Products</td>\n",
              "      <td>BUTTER OIL,ANHYDROUS</td>\n",
              "      <td>Butter oil, anhydrous</td>\n",
              "      <td>876.0</td>\n",
              "      <td>0.28</td>\n",
              "      <td>99.48</td>\n",
              "      <td>0.00</td>\n",
              "      <td>0.00</td>\n",
              "      <td>0.0</td>\n",
              "      <td>...</td>\n",
              "      <td>0.005</td>\n",
              "      <td>0.001</td>\n",
              "      <td>4.0</td>\n",
              "      <td>0.001</td>\n",
              "      <td>0.00</td>\n",
              "      <td>0.0</td>\n",
              "      <td>0.000</td>\n",
              "      <td>3.0</td>\n",
              "      <td>0.0</td>\n",
              "      <td>0.01</td>\n",
              "    </tr>\n",
              "    <tr>\n",
              "      <th>3</th>\n",
              "      <td>1004</td>\n",
              "      <td>Dairy and Egg Products</td>\n",
              "      <td>CHEESE,BLUE</td>\n",
              "      <td>Cheese, blue</td>\n",
              "      <td>353.0</td>\n",
              "      <td>21.40</td>\n",
              "      <td>28.74</td>\n",
              "      <td>2.34</td>\n",
              "      <td>0.50</td>\n",
              "      <td>0.0</td>\n",
              "      <td>...</td>\n",
              "      <td>0.382</td>\n",
              "      <td>0.029</td>\n",
              "      <td>528.0</td>\n",
              "      <td>0.040</td>\n",
              "      <td>0.31</td>\n",
              "      <td>23.0</td>\n",
              "      <td>0.009</td>\n",
              "      <td>387.0</td>\n",
              "      <td>14.5</td>\n",
              "      <td>2.66</td>\n",
              "    </tr>\n",
              "    <tr>\n",
              "      <th>4</th>\n",
              "      <td>1005</td>\n",
              "      <td>Dairy and Egg Products</td>\n",
              "      <td>CHEESE,BRICK</td>\n",
              "      <td>Cheese, brick</td>\n",
              "      <td>371.0</td>\n",
              "      <td>23.24</td>\n",
              "      <td>29.68</td>\n",
              "      <td>2.79</td>\n",
              "      <td>0.51</td>\n",
              "      <td>0.0</td>\n",
              "      <td>...</td>\n",
              "      <td>0.351</td>\n",
              "      <td>0.014</td>\n",
              "      <td>674.0</td>\n",
              "      <td>0.024</td>\n",
              "      <td>0.43</td>\n",
              "      <td>24.0</td>\n",
              "      <td>0.012</td>\n",
              "      <td>451.0</td>\n",
              "      <td>14.5</td>\n",
              "      <td>2.60</td>\n",
              "    </tr>\n",
              "    <tr>\n",
              "      <th>...</th>\n",
              "      <td>...</td>\n",
              "      <td>...</td>\n",
              "      <td>...</td>\n",
              "      <td>...</td>\n",
              "      <td>...</td>\n",
              "      <td>...</td>\n",
              "      <td>...</td>\n",
              "      <td>...</td>\n",
              "      <td>...</td>\n",
              "      <td>...</td>\n",
              "      <td>...</td>\n",
              "      <td>...</td>\n",
              "      <td>...</td>\n",
              "      <td>...</td>\n",
              "      <td>...</td>\n",
              "      <td>...</td>\n",
              "      <td>...</td>\n",
              "      <td>...</td>\n",
              "      <td>...</td>\n",
              "      <td>...</td>\n",
              "      <td>...</td>\n",
              "    </tr>\n",
              "    <tr>\n",
              "      <th>8613</th>\n",
              "      <td>83110</td>\n",
              "      <td>Finfish and Shellfish Products</td>\n",
              "      <td>MACKEREL,SALTED</td>\n",
              "      <td>Fish, mackerel, salted</td>\n",
              "      <td>305.0</td>\n",
              "      <td>18.50</td>\n",
              "      <td>25.10</td>\n",
              "      <td>0.00</td>\n",
              "      <td>0.00</td>\n",
              "      <td>0.0</td>\n",
              "      <td>...</td>\n",
              "      <td>0.190</td>\n",
              "      <td>0.020</td>\n",
              "      <td>66.0</td>\n",
              "      <td>0.100</td>\n",
              "      <td>1.40</td>\n",
              "      <td>60.0</td>\n",
              "      <td>0.000</td>\n",
              "      <td>254.0</td>\n",
              "      <td>73.4</td>\n",
              "      <td>1.10</td>\n",
              "    </tr>\n",
              "    <tr>\n",
              "      <th>8614</th>\n",
              "      <td>90240</td>\n",
              "      <td>Finfish and Shellfish Products</td>\n",
              "      <td>SCALLOP,(BAY&amp;SEA),CKD,STMD</td>\n",
              "      <td>Mollusks, scallop, (bay and sea), cooked, steamed</td>\n",
              "      <td>111.0</td>\n",
              "      <td>20.54</td>\n",
              "      <td>0.84</td>\n",
              "      <td>5.41</td>\n",
              "      <td>0.00</td>\n",
              "      <td>0.0</td>\n",
              "      <td>...</td>\n",
              "      <td>0.024</td>\n",
              "      <td>0.012</td>\n",
              "      <td>10.0</td>\n",
              "      <td>0.033</td>\n",
              "      <td>0.58</td>\n",
              "      <td>37.0</td>\n",
              "      <td>0.029</td>\n",
              "      <td>426.0</td>\n",
              "      <td>21.7</td>\n",
              "      <td>1.55</td>\n",
              "    </tr>\n",
              "    <tr>\n",
              "      <th>8615</th>\n",
              "      <td>90480</td>\n",
              "      <td>Sweets</td>\n",
              "      <td>SYRUP,CANE</td>\n",
              "      <td>Syrup, Cane</td>\n",
              "      <td>269.0</td>\n",
              "      <td>0.00</td>\n",
              "      <td>0.00</td>\n",
              "      <td>73.14</td>\n",
              "      <td>73.20</td>\n",
              "      <td>0.0</td>\n",
              "      <td>...</td>\n",
              "      <td>0.060</td>\n",
              "      <td>0.130</td>\n",
              "      <td>13.0</td>\n",
              "      <td>0.020</td>\n",
              "      <td>3.60</td>\n",
              "      <td>10.0</td>\n",
              "      <td>0.000</td>\n",
              "      <td>8.0</td>\n",
              "      <td>0.7</td>\n",
              "      <td>0.19</td>\n",
              "    </tr>\n",
              "    <tr>\n",
              "      <th>8616</th>\n",
              "      <td>90560</td>\n",
              "      <td>Finfish and Shellfish Products</td>\n",
              "      <td>SNAIL,RAW</td>\n",
              "      <td>Mollusks, snail, raw</td>\n",
              "      <td>90.0</td>\n",
              "      <td>16.10</td>\n",
              "      <td>1.40</td>\n",
              "      <td>2.00</td>\n",
              "      <td>0.00</td>\n",
              "      <td>0.0</td>\n",
              "      <td>...</td>\n",
              "      <td>0.120</td>\n",
              "      <td>0.010</td>\n",
              "      <td>10.0</td>\n",
              "      <td>0.400</td>\n",
              "      <td>3.50</td>\n",
              "      <td>250.0</td>\n",
              "      <td>0.000</td>\n",
              "      <td>272.0</td>\n",
              "      <td>27.4</td>\n",
              "      <td>1.00</td>\n",
              "    </tr>\n",
              "    <tr>\n",
              "      <th>8617</th>\n",
              "      <td>93600</td>\n",
              "      <td>Finfish and Shellfish Products</td>\n",
              "      <td>TURTLE,GREEN,RAW</td>\n",
              "      <td>Turtle, green, raw</td>\n",
              "      <td>89.0</td>\n",
              "      <td>19.80</td>\n",
              "      <td>0.50</td>\n",
              "      <td>0.00</td>\n",
              "      <td>0.00</td>\n",
              "      <td>0.0</td>\n",
              "      <td>...</td>\n",
              "      <td>0.150</td>\n",
              "      <td>0.120</td>\n",
              "      <td>118.0</td>\n",
              "      <td>0.250</td>\n",
              "      <td>1.40</td>\n",
              "      <td>20.0</td>\n",
              "      <td>0.000</td>\n",
              "      <td>180.0</td>\n",
              "      <td>16.8</td>\n",
              "      <td>1.00</td>\n",
              "    </tr>\n",
              "  </tbody>\n",
              "</table>\n",
              "<p>8618 rows × 27 columns</p>\n",
              "</div>\n",
              "      <button class=\"colab-df-convert\" onclick=\"convertToInteractive('df-6f782582-0294-44d3-b3b8-25da33435f2c')\"\n",
              "              title=\"Convert this dataframe to an interactive table.\"\n",
              "              style=\"display:none;\">\n",
              "        \n",
              "  <svg xmlns=\"http://www.w3.org/2000/svg\" height=\"24px\"viewBox=\"0 0 24 24\"\n",
              "       width=\"24px\">\n",
              "    <path d=\"M0 0h24v24H0V0z\" fill=\"none\"/>\n",
              "    <path d=\"M18.56 5.44l.94 2.06.94-2.06 2.06-.94-2.06-.94-.94-2.06-.94 2.06-2.06.94zm-11 1L8.5 8.5l.94-2.06 2.06-.94-2.06-.94L8.5 2.5l-.94 2.06-2.06.94zm10 10l.94 2.06.94-2.06 2.06-.94-2.06-.94-.94-2.06-.94 2.06-2.06.94z\"/><path d=\"M17.41 7.96l-1.37-1.37c-.4-.4-.92-.59-1.43-.59-.52 0-1.04.2-1.43.59L10.3 9.45l-7.72 7.72c-.78.78-.78 2.05 0 2.83L4 21.41c.39.39.9.59 1.41.59.51 0 1.02-.2 1.41-.59l7.78-7.78 2.81-2.81c.8-.78.8-2.07 0-2.86zM5.41 20L4 18.59l7.72-7.72 1.47 1.35L5.41 20z\"/>\n",
              "  </svg>\n",
              "      </button>\n",
              "      \n",
              "  <style>\n",
              "    .colab-df-container {\n",
              "      display:flex;\n",
              "      flex-wrap:wrap;\n",
              "      gap: 12px;\n",
              "    }\n",
              "\n",
              "    .colab-df-convert {\n",
              "      background-color: #E8F0FE;\n",
              "      border: none;\n",
              "      border-radius: 50%;\n",
              "      cursor: pointer;\n",
              "      display: none;\n",
              "      fill: #1967D2;\n",
              "      height: 32px;\n",
              "      padding: 0 0 0 0;\n",
              "      width: 32px;\n",
              "    }\n",
              "\n",
              "    .colab-df-convert:hover {\n",
              "      background-color: #E2EBFA;\n",
              "      box-shadow: 0px 1px 2px rgba(60, 64, 67, 0.3), 0px 1px 3px 1px rgba(60, 64, 67, 0.15);\n",
              "      fill: #174EA6;\n",
              "    }\n",
              "\n",
              "    [theme=dark] .colab-df-convert {\n",
              "      background-color: #3B4455;\n",
              "      fill: #D2E3FC;\n",
              "    }\n",
              "\n",
              "    [theme=dark] .colab-df-convert:hover {\n",
              "      background-color: #434B5C;\n",
              "      box-shadow: 0px 1px 3px 1px rgba(0, 0, 0, 0.15);\n",
              "      filter: drop-shadow(0px 1px 2px rgba(0, 0, 0, 0.3));\n",
              "      fill: #FFFFFF;\n",
              "    }\n",
              "  </style>\n",
              "\n",
              "      <script>\n",
              "        const buttonEl =\n",
              "          document.querySelector('#df-6f782582-0294-44d3-b3b8-25da33435f2c button.colab-df-convert');\n",
              "        buttonEl.style.display =\n",
              "          google.colab.kernel.accessAllowed ? 'block' : 'none';\n",
              "\n",
              "        async function convertToInteractive(key) {\n",
              "          const element = document.querySelector('#df-6f782582-0294-44d3-b3b8-25da33435f2c');\n",
              "          const dataTable =\n",
              "            await google.colab.kernel.invokeFunction('convertToInteractive',\n",
              "                                                     [key], {});\n",
              "          if (!dataTable) return;\n",
              "\n",
              "          const docLinkHtml = 'Like what you see? Visit the ' +\n",
              "            '<a target=\"_blank\" href=https://colab.research.google.com/notebooks/data_table.ipynb>data table notebook</a>'\n",
              "            + ' to learn more about interactive tables.';\n",
              "          element.innerHTML = '';\n",
              "          dataTable['output_type'] = 'display_data';\n",
              "          await google.colab.output.renderOutput(dataTable, element);\n",
              "          const docLink = document.createElement('div');\n",
              "          docLink.innerHTML = docLinkHtml;\n",
              "          element.appendChild(docLink);\n",
              "        }\n",
              "      </script>\n",
              "    </div>\n",
              "  </div>\n",
              "  "
            ]
          },
          "metadata": {},
          "execution_count": 388
        }
      ],
      "source": [
        "for col in df1.columns:\n",
        "    if 'USRDA' in col:\n",
        "        del df1[col]\n",
        "  \n",
        "df1"
      ]
    },
    {
      "cell_type": "markdown",
      "metadata": {
        "id": "X07ssogqa_JG"
      },
      "source": [
        "Make a copy of Data frame"
      ]
    },
    {
      "cell_type": "code",
      "execution_count": 389,
      "metadata": {
        "id": "veAHUiH7a_JG"
      },
      "outputs": [],
      "source": [
        "df5 = df1"
      ]
    },
    {
      "cell_type": "markdown",
      "metadata": {
        "id": "6ghWoDVUTbIP"
      },
      "source": [
        "### c) Standardize the data. After standardization, all the 23 continuous features will be dimensionless."
      ]
    },
    {
      "cell_type": "markdown",
      "metadata": {
        "id": "CDLWLZFqa_JG"
      },
      "source": [
        "Removing String attributes for standarize the data"
      ]
    },
    {
      "cell_type": "code",
      "execution_count": 390,
      "metadata": {
        "id": "Nc4YTVsWa_JG",
        "colab": {
          "base_uri": "https://localhost:8080/",
          "height": 300
        },
        "outputId": "e4257b24-ad1b-4b7b-dd96-dbf832942efb"
      },
      "outputs": [
        {
          "output_type": "execute_result",
          "data": {
            "text/plain": [
              "     ID  Energy_kcal  Protein_g  Fat_g  Carb_g  Sugar_g  Fiber_g  VitA_mcg  \\\n",
              "0  1001        717.0       0.85  81.11    0.06     0.06      0.0     684.0   \n",
              "1  1002        717.0       0.85  81.11    0.06     0.06      0.0     684.0   \n",
              "2  1003        876.0       0.28  99.48    0.00     0.00      0.0     840.0   \n",
              "3  1004        353.0      21.40  28.74    2.34     0.50      0.0     198.0   \n",
              "4  1005        371.0      23.24  29.68    2.79     0.51      0.0     292.0   \n",
              "\n",
              "   VitB6_mg  VitB12_mcg  ...  Riboflavin_mg  Thiamin_mg  Calcium_mg  \\\n",
              "0     0.003        0.17  ...          0.034       0.005        24.0   \n",
              "1     0.003        0.13  ...          0.034       0.005        24.0   \n",
              "2     0.001        0.01  ...          0.005       0.001         4.0   \n",
              "3     0.166        1.22  ...          0.382       0.029       528.0   \n",
              "4     0.065        1.26  ...          0.351       0.014       674.0   \n",
              "\n",
              "   Copper_mcg  Iron_mg  Magnesium_mg  Manganese_mg  Phosphorus_mg  \\\n",
              "0       0.000     0.02           2.0         0.000           24.0   \n",
              "1       0.016     0.16           2.0         0.004           23.0   \n",
              "2       0.001     0.00           0.0         0.000            3.0   \n",
              "3       0.040     0.31          23.0         0.009          387.0   \n",
              "4       0.024     0.43          24.0         0.012          451.0   \n",
              "\n",
              "   Selenium_mcg  Zinc_mg  \n",
              "0           1.0     0.09  \n",
              "1           1.0     0.05  \n",
              "2           0.0     0.01  \n",
              "3          14.5     2.66  \n",
              "4          14.5     2.60  \n",
              "\n",
              "[5 rows x 24 columns]"
            ],
            "text/html": [
              "\n",
              "  <div id=\"df-56add694-839a-4d36-8f0b-809a5d890e72\">\n",
              "    <div class=\"colab-df-container\">\n",
              "      <div>\n",
              "<style scoped>\n",
              "    .dataframe tbody tr th:only-of-type {\n",
              "        vertical-align: middle;\n",
              "    }\n",
              "\n",
              "    .dataframe tbody tr th {\n",
              "        vertical-align: top;\n",
              "    }\n",
              "\n",
              "    .dataframe thead th {\n",
              "        text-align: right;\n",
              "    }\n",
              "</style>\n",
              "<table border=\"1\" class=\"dataframe\">\n",
              "  <thead>\n",
              "    <tr style=\"text-align: right;\">\n",
              "      <th></th>\n",
              "      <th>ID</th>\n",
              "      <th>Energy_kcal</th>\n",
              "      <th>Protein_g</th>\n",
              "      <th>Fat_g</th>\n",
              "      <th>Carb_g</th>\n",
              "      <th>Sugar_g</th>\n",
              "      <th>Fiber_g</th>\n",
              "      <th>VitA_mcg</th>\n",
              "      <th>VitB6_mg</th>\n",
              "      <th>VitB12_mcg</th>\n",
              "      <th>...</th>\n",
              "      <th>Riboflavin_mg</th>\n",
              "      <th>Thiamin_mg</th>\n",
              "      <th>Calcium_mg</th>\n",
              "      <th>Copper_mcg</th>\n",
              "      <th>Iron_mg</th>\n",
              "      <th>Magnesium_mg</th>\n",
              "      <th>Manganese_mg</th>\n",
              "      <th>Phosphorus_mg</th>\n",
              "      <th>Selenium_mcg</th>\n",
              "      <th>Zinc_mg</th>\n",
              "    </tr>\n",
              "  </thead>\n",
              "  <tbody>\n",
              "    <tr>\n",
              "      <th>0</th>\n",
              "      <td>1001</td>\n",
              "      <td>717.0</td>\n",
              "      <td>0.85</td>\n",
              "      <td>81.11</td>\n",
              "      <td>0.06</td>\n",
              "      <td>0.06</td>\n",
              "      <td>0.0</td>\n",
              "      <td>684.0</td>\n",
              "      <td>0.003</td>\n",
              "      <td>0.17</td>\n",
              "      <td>...</td>\n",
              "      <td>0.034</td>\n",
              "      <td>0.005</td>\n",
              "      <td>24.0</td>\n",
              "      <td>0.000</td>\n",
              "      <td>0.02</td>\n",
              "      <td>2.0</td>\n",
              "      <td>0.000</td>\n",
              "      <td>24.0</td>\n",
              "      <td>1.0</td>\n",
              "      <td>0.09</td>\n",
              "    </tr>\n",
              "    <tr>\n",
              "      <th>1</th>\n",
              "      <td>1002</td>\n",
              "      <td>717.0</td>\n",
              "      <td>0.85</td>\n",
              "      <td>81.11</td>\n",
              "      <td>0.06</td>\n",
              "      <td>0.06</td>\n",
              "      <td>0.0</td>\n",
              "      <td>684.0</td>\n",
              "      <td>0.003</td>\n",
              "      <td>0.13</td>\n",
              "      <td>...</td>\n",
              "      <td>0.034</td>\n",
              "      <td>0.005</td>\n",
              "      <td>24.0</td>\n",
              "      <td>0.016</td>\n",
              "      <td>0.16</td>\n",
              "      <td>2.0</td>\n",
              "      <td>0.004</td>\n",
              "      <td>23.0</td>\n",
              "      <td>1.0</td>\n",
              "      <td>0.05</td>\n",
              "    </tr>\n",
              "    <tr>\n",
              "      <th>2</th>\n",
              "      <td>1003</td>\n",
              "      <td>876.0</td>\n",
              "      <td>0.28</td>\n",
              "      <td>99.48</td>\n",
              "      <td>0.00</td>\n",
              "      <td>0.00</td>\n",
              "      <td>0.0</td>\n",
              "      <td>840.0</td>\n",
              "      <td>0.001</td>\n",
              "      <td>0.01</td>\n",
              "      <td>...</td>\n",
              "      <td>0.005</td>\n",
              "      <td>0.001</td>\n",
              "      <td>4.0</td>\n",
              "      <td>0.001</td>\n",
              "      <td>0.00</td>\n",
              "      <td>0.0</td>\n",
              "      <td>0.000</td>\n",
              "      <td>3.0</td>\n",
              "      <td>0.0</td>\n",
              "      <td>0.01</td>\n",
              "    </tr>\n",
              "    <tr>\n",
              "      <th>3</th>\n",
              "      <td>1004</td>\n",
              "      <td>353.0</td>\n",
              "      <td>21.40</td>\n",
              "      <td>28.74</td>\n",
              "      <td>2.34</td>\n",
              "      <td>0.50</td>\n",
              "      <td>0.0</td>\n",
              "      <td>198.0</td>\n",
              "      <td>0.166</td>\n",
              "      <td>1.22</td>\n",
              "      <td>...</td>\n",
              "      <td>0.382</td>\n",
              "      <td>0.029</td>\n",
              "      <td>528.0</td>\n",
              "      <td>0.040</td>\n",
              "      <td>0.31</td>\n",
              "      <td>23.0</td>\n",
              "      <td>0.009</td>\n",
              "      <td>387.0</td>\n",
              "      <td>14.5</td>\n",
              "      <td>2.66</td>\n",
              "    </tr>\n",
              "    <tr>\n",
              "      <th>4</th>\n",
              "      <td>1005</td>\n",
              "      <td>371.0</td>\n",
              "      <td>23.24</td>\n",
              "      <td>29.68</td>\n",
              "      <td>2.79</td>\n",
              "      <td>0.51</td>\n",
              "      <td>0.0</td>\n",
              "      <td>292.0</td>\n",
              "      <td>0.065</td>\n",
              "      <td>1.26</td>\n",
              "      <td>...</td>\n",
              "      <td>0.351</td>\n",
              "      <td>0.014</td>\n",
              "      <td>674.0</td>\n",
              "      <td>0.024</td>\n",
              "      <td>0.43</td>\n",
              "      <td>24.0</td>\n",
              "      <td>0.012</td>\n",
              "      <td>451.0</td>\n",
              "      <td>14.5</td>\n",
              "      <td>2.60</td>\n",
              "    </tr>\n",
              "  </tbody>\n",
              "</table>\n",
              "<p>5 rows × 24 columns</p>\n",
              "</div>\n",
              "      <button class=\"colab-df-convert\" onclick=\"convertToInteractive('df-56add694-839a-4d36-8f0b-809a5d890e72')\"\n",
              "              title=\"Convert this dataframe to an interactive table.\"\n",
              "              style=\"display:none;\">\n",
              "        \n",
              "  <svg xmlns=\"http://www.w3.org/2000/svg\" height=\"24px\"viewBox=\"0 0 24 24\"\n",
              "       width=\"24px\">\n",
              "    <path d=\"M0 0h24v24H0V0z\" fill=\"none\"/>\n",
              "    <path d=\"M18.56 5.44l.94 2.06.94-2.06 2.06-.94-2.06-.94-.94-2.06-.94 2.06-2.06.94zm-11 1L8.5 8.5l.94-2.06 2.06-.94-2.06-.94L8.5 2.5l-.94 2.06-2.06.94zm10 10l.94 2.06.94-2.06 2.06-.94-2.06-.94-.94-2.06-.94 2.06-2.06.94z\"/><path d=\"M17.41 7.96l-1.37-1.37c-.4-.4-.92-.59-1.43-.59-.52 0-1.04.2-1.43.59L10.3 9.45l-7.72 7.72c-.78.78-.78 2.05 0 2.83L4 21.41c.39.39.9.59 1.41.59.51 0 1.02-.2 1.41-.59l7.78-7.78 2.81-2.81c.8-.78.8-2.07 0-2.86zM5.41 20L4 18.59l7.72-7.72 1.47 1.35L5.41 20z\"/>\n",
              "  </svg>\n",
              "      </button>\n",
              "      \n",
              "  <style>\n",
              "    .colab-df-container {\n",
              "      display:flex;\n",
              "      flex-wrap:wrap;\n",
              "      gap: 12px;\n",
              "    }\n",
              "\n",
              "    .colab-df-convert {\n",
              "      background-color: #E8F0FE;\n",
              "      border: none;\n",
              "      border-radius: 50%;\n",
              "      cursor: pointer;\n",
              "      display: none;\n",
              "      fill: #1967D2;\n",
              "      height: 32px;\n",
              "      padding: 0 0 0 0;\n",
              "      width: 32px;\n",
              "    }\n",
              "\n",
              "    .colab-df-convert:hover {\n",
              "      background-color: #E2EBFA;\n",
              "      box-shadow: 0px 1px 2px rgba(60, 64, 67, 0.3), 0px 1px 3px 1px rgba(60, 64, 67, 0.15);\n",
              "      fill: #174EA6;\n",
              "    }\n",
              "\n",
              "    [theme=dark] .colab-df-convert {\n",
              "      background-color: #3B4455;\n",
              "      fill: #D2E3FC;\n",
              "    }\n",
              "\n",
              "    [theme=dark] .colab-df-convert:hover {\n",
              "      background-color: #434B5C;\n",
              "      box-shadow: 0px 1px 3px 1px rgba(0, 0, 0, 0.15);\n",
              "      filter: drop-shadow(0px 1px 2px rgba(0, 0, 0, 0.3));\n",
              "      fill: #FFFFFF;\n",
              "    }\n",
              "  </style>\n",
              "\n",
              "      <script>\n",
              "        const buttonEl =\n",
              "          document.querySelector('#df-56add694-839a-4d36-8f0b-809a5d890e72 button.colab-df-convert');\n",
              "        buttonEl.style.display =\n",
              "          google.colab.kernel.accessAllowed ? 'block' : 'none';\n",
              "\n",
              "        async function convertToInteractive(key) {\n",
              "          const element = document.querySelector('#df-56add694-839a-4d36-8f0b-809a5d890e72');\n",
              "          const dataTable =\n",
              "            await google.colab.kernel.invokeFunction('convertToInteractive',\n",
              "                                                     [key], {});\n",
              "          if (!dataTable) return;\n",
              "\n",
              "          const docLinkHtml = 'Like what you see? Visit the ' +\n",
              "            '<a target=\"_blank\" href=https://colab.research.google.com/notebooks/data_table.ipynb>data table notebook</a>'\n",
              "            + ' to learn more about interactive tables.';\n",
              "          element.innerHTML = '';\n",
              "          dataTable['output_type'] = 'display_data';\n",
              "          await google.colab.output.renderOutput(dataTable, element);\n",
              "          const docLink = document.createElement('div');\n",
              "          docLink.innerHTML = docLinkHtml;\n",
              "          element.appendChild(docLink);\n",
              "        }\n",
              "      </script>\n",
              "    </div>\n",
              "  </div>\n",
              "  "
            ]
          },
          "metadata": {},
          "execution_count": 390
        }
      ],
      "source": [
        "df2 = df1.drop(['FoodGroup','ShortDescrip','Descrip'],axis=1)\n",
        "df2.head()"
      ]
    },
    {
      "cell_type": "markdown",
      "metadata": {
        "id": "4uIzFEaWa_JG"
      },
      "source": [
        "Standarizing the Data"
      ]
    },
    {
      "cell_type": "code",
      "execution_count": 391,
      "metadata": {
        "id": "z1LD_Tawa_JG"
      },
      "outputs": [],
      "source": [
        "# define standard scaler\n",
        "from sklearn.preprocessing import StandardScaler\n",
        "scaler = StandardScaler()\n",
        "  \n",
        "# transform data\n",
        "df3 = scaler.fit_transform(df2)"
      ]
    },
    {
      "cell_type": "code",
      "execution_count": 392,
      "metadata": {
        "id": "Wlsu-06va_JG",
        "colab": {
          "base_uri": "https://localhost:8080/"
        },
        "outputId": "1b39b39a-b3d2-40b4-cbcd-c58b7b78ba9f"
      },
      "outputs": [
        {
          "output_type": "execute_result",
          "data": {
            "text/plain": [
              "array([[-1.56891054,  2.89623357, -1.01174721, ..., -0.64991809,\n",
              "        -0.41055694, -0.55991833],\n",
              "       [-1.56880209,  2.89623357, -1.01174721, ..., -0.65484222,\n",
              "        -0.41055694, -0.57183012],\n",
              "       [-1.56869364,  3.83495634, -1.06577576, ..., -0.75332487,\n",
              "        -0.44590424, -0.58374191],\n",
              "       ...,\n",
              "       [ 8.1350295 ,  0.25127886, -1.0923161 , ..., -0.72870421,\n",
              "        -0.42116113, -0.53013886],\n",
              "       [ 8.14370545, -0.80552224,  0.43375349, ...,  0.57126681,\n",
              "         0.52261173, -0.28892514],\n",
              "       [ 8.4733915 , -0.81142615,  0.78446513, ...,  0.11824661,\n",
              "         0.14793037, -0.28892514]])"
            ]
          },
          "metadata": {},
          "execution_count": 392
        }
      ],
      "source": [
        "df3"
      ]
    },
    {
      "cell_type": "markdown",
      "metadata": {
        "id": "OYFbjJlVa_JG"
      },
      "source": [
        "### d) Apply principal component analysis (PCA) to the standardized data."
      ]
    },
    {
      "cell_type": "code",
      "execution_count": 393,
      "metadata": {
        "id": "dqDpiwECa_JH"
      },
      "outputs": [],
      "source": [
        "\n",
        "from sklearn.decomposition import PCA\n",
        "pca = PCA(n_components=23)\n",
        "principalComponents = pca.fit_transform(df3)\n",
        "principalDf = pd.DataFrame(data = principalComponents\n",
        "             , columns = ['principal component 1', 'principal component 2','principal component 3','principal component 4',\n",
        "                          'principal component 5','principal component 6','principal component 7','principal component 8',\n",
        "                         'principal component 9','principal component 10','principal component 11','principal component 12',\n",
        "                         'principal component 13','principal component 14','principal component 15','principal component 16',\n",
        "                         'principal component 17','principal component 18','principal component 19','principal component 20',\n",
        "                         'principal component 21','principal component 21','principal component 23'])"
      ]
    },
    {
      "cell_type": "markdown",
      "metadata": {
        "id": "EmUCYYDCa_JH"
      },
      "source": [
        "### e) Plot the explained variance ratio by each PCA component. You can use a bar chart for this purpose. Check that the sum of all 23 ratios is indeed 1."
      ]
    },
    {
      "cell_type": "code",
      "execution_count": 394,
      "metadata": {
        "id": "gRZxLqNKa_JH",
        "colab": {
          "base_uri": "https://localhost:8080/"
        },
        "outputId": "a3aa17a2-720d-4f40-dfa3-910937c4c66e"
      },
      "outputs": [
        {
          "output_type": "execute_result",
          "data": {
            "text/plain": [
              "array([0.22705445, 0.10932716, 0.08493999, 0.07831237, 0.06815316,\n",
              "       0.05281024, 0.04430844, 0.0413131 , 0.0373283 , 0.03447439,\n",
              "       0.0341091 , 0.02935337, 0.02446029, 0.02103018, 0.01952495,\n",
              "       0.01684261, 0.01403745, 0.01345928, 0.01313227, 0.01063479,\n",
              "       0.00992057, 0.00869522, 0.0066203 ])"
            ]
          },
          "metadata": {},
          "execution_count": 394
        }
      ],
      "source": [
        "pca.explained_variance_ratio_"
      ]
    },
    {
      "cell_type": "code",
      "execution_count": 395,
      "metadata": {
        "id": "b7s_yvTZa_JH",
        "colab": {
          "base_uri": "https://localhost:8080/",
          "height": 301
        },
        "outputId": "1597a66d-62c3-4169-e132-4ee9e26074a4"
      },
      "outputs": [
        {
          "output_type": "display_data",
          "data": {
            "text/plain": [
              "<Figure size 432x288 with 1 Axes>"
            ],
            "image/png": "[encoded data removed]"
          },
          "metadata": {}
        }
      ],
      "source": [
        "import matplotlib.pyplot as plt \n",
        " \n",
        "from sklearn.decomposition import PCA\n",
        "sns.set()\n",
        "\n",
        "# Bar plot of explained_variance\n",
        "plt.bar(\n",
        "    range(1,len(pca.explained_variance_)+1),\n",
        "    pca.explained_variance_\n",
        "    )\n",
        "plt.xlabel('PCA Feature')\n",
        "plt.ylabel('Explained variance')\n",
        "plt.title('Feature Explained Variance')\n",
        "plt.show()"
      ]
    },
    {
      "cell_type": "markdown",
      "metadata": {
        "id": "qarpEQtza_JH"
      },
      "source": [
        "### f) Plot the cumulative explained variance ratio by PCA components."
      ]
    },
    {
      "cell_type": "code",
      "execution_count": 396,
      "metadata": {
        "id": "NVHqsp4oa_JH",
        "colab": {
          "base_uri": "https://localhost:8080/",
          "height": 301
        },
        "outputId": "d9e54d96-3374-4116-e169-ea9385a69ef1"
      },
      "outputs": [
        {
          "output_type": "display_data",
          "data": {
            "text/plain": [
              "<Figure size 432x288 with 1 Axes>"
            ],
            "image/png": "[encoded data removed]"
          },
          "metadata": {}
        }
      ],
      "source": [
        "# Bar plot of explained_variance\n",
        "plt.bar(\n",
        "    range(1,len(pca.explained_variance_)+1),\n",
        "    pca.explained_variance_\n",
        "    )\n",
        " \n",
        "plt.plot(\n",
        "    range(1,len(pca.explained_variance_ )+1),\n",
        "    np.cumsum(pca.explained_variance_),\n",
        "    c='red',\n",
        "    label='Cumulative Explained Variance')\n",
        " \n",
        "plt.legend(loc='upper left')\n",
        "plt.xlabel('Number of components')\n",
        "plt.ylabel('Explained variance (eignenvalues)')\n",
        "plt.title('Scree plot')\n",
        " \n",
        "plt.show()"
      ]
    },
    {
      "cell_type": "code",
      "execution_count": 397,
      "metadata": {
        "id": "k-2RcqF_a_JH",
        "colab": {
          "base_uri": "https://localhost:8080/",
          "height": 334
        },
        "outputId": "e8d889c8-73d9-4dcf-d140-5efcf186e8a5"
      },
      "outputs": [
        {
          "output_type": "execute_result",
          "data": {
            "text/plain": [
              "   principal component 1  principal component 2  principal component 3  \\\n",
              "0              -1.125071              -1.107756              -3.490540   \n",
              "1              -1.117982              -1.109631              -3.490872   \n",
              "2              -0.998147              -1.505880              -4.517329   \n",
              "3               0.232486               0.646836              -1.761219   \n",
              "4               0.297375               0.615893              -2.160134   \n",
              "\n",
              "   principal component 4  principal component 5  principal component 6  \\\n",
              "0               0.998103              -3.075699               2.096073   \n",
              "1               1.007875              -3.068960               2.098096   \n",
              "2               1.221430              -3.903331               2.273010   \n",
              "3              -0.888398               0.443694               1.159527   \n",
              "4              -0.962541               0.881322               1.178677   \n",
              "\n",
              "   principal component 7  principal component 8  principal component 9  \\\n",
              "0               0.238945              -1.152697              -0.394858   \n",
              "1               0.230866              -1.154354              -0.403860   \n",
              "2               0.287096              -1.172542              -0.454036   \n",
              "3               1.446967              -1.938931               0.049680   \n",
              "4               1.854473              -2.274319               0.165405   \n",
              "\n",
              "   principal component 10  ...  principal component 14  \\\n",
              "0               -1.128504  ...                0.307431   \n",
              "1               -1.136107  ...                0.309071   \n",
              "2               -1.429018  ...                0.337545   \n",
              "3               -0.167048  ...                0.014042   \n",
              "4               -0.225779  ...                0.069082   \n",
              "\n",
              "   principal component 15  principal component 16  principal component 17  \\\n",
              "0                0.718359                0.251799                0.116216   \n",
              "1                0.706867                0.231716                0.118737   \n",
              "2                0.883125                0.296434                0.188174   \n",
              "3                0.418887                0.448210                0.037365   \n",
              "4                0.391710                0.515826                0.117053   \n",
              "\n",
              "   principal component 18  principal component 19  principal component 20  \\\n",
              "0                0.389367               -0.310212                0.210845   \n",
              "1                0.388097               -0.309563                0.211164   \n",
              "2                0.461702               -0.391381                0.285513   \n",
              "3               -0.289182               -0.484458               -0.449736   \n",
              "4               -0.444177               -0.579398               -0.477558   \n",
              "\n",
              "   principal component 21  principal component 21  principal component 23  \n",
              "0                0.333503                0.169248               -0.052782  \n",
              "1                0.312061                0.183227               -0.050352  \n",
              "2                0.355963                0.206811               -0.083684  \n",
              "3               -0.140417               -0.503559                0.352543  \n",
              "4               -0.196406               -0.711416                0.333286  \n",
              "\n",
              "[5 rows x 23 columns]"
            ],
            "text/html": [
              "\n",
              "  <div id=\"df-8136a763-7599-4d95-8daf-38d431e74e80\">\n",
              "    <div class=\"colab-df-container\">\n",
              "      <div>\n",
              "<style scoped>\n",
              "    .dataframe tbody tr th:only-of-type {\n",
              "        vertical-align: middle;\n",
              "    }\n",
              "\n",
              "    .dataframe tbody tr th {\n",
              "        vertical-align: top;\n",
              "    }\n",
              "\n",
              "    .dataframe thead th {\n",
              "        text-align: right;\n",
              "    }\n",
              "</style>\n",
              "<table border=\"1\" class=\"dataframe\">\n",
              "  <thead>\n",
              "    <tr style=\"text-align: right;\">\n",
              "      <th></th>\n",
              "      <th>principal component 1</th>\n",
              "      <th>principal component 2</th>\n",
              "      <th>principal component 3</th>\n",
              "      <th>principal component 4</th>\n",
              "      <th>principal component 5</th>\n",
              "      <th>principal component 6</th>\n",
              "      <th>principal component 7</th>\n",
              "      <th>principal component 8</th>\n",
              "      <th>principal component 9</th>\n",
              "      <th>principal component 10</th>\n",
              "      <th>...</th>\n",
              "      <th>principal component 14</th>\n",
              "      <th>principal component 15</th>\n",
              "      <th>principal component 16</th>\n",
              "      <th>principal component 17</th>\n",
              "      <th>principal component 18</th>\n",
              "      <th>principal component 19</th>\n",
              "      <th>principal component 20</th>\n",
              "      <th>principal component 21</th>\n",
              "      <th>principal component 21</th>\n",
              "      <th>principal component 23</th>\n",
              "    </tr>\n",
              "  </thead>\n",
              "  <tbody>\n",
              "    <tr>\n",
              "      <th>0</th>\n",
              "      <td>-1.125071</td>\n",
              "      <td>-1.107756</td>\n",
              "      <td>-3.490540</td>\n",
              "      <td>0.998103</td>\n",
              "      <td>-3.075699</td>\n",
              "      <td>2.096073</td>\n",
              "      <td>0.238945</td>\n",
              "      <td>-1.152697</td>\n",
              "      <td>-0.394858</td>\n",
              "      <td>-1.128504</td>\n",
              "      <td>...</td>\n",
              "      <td>0.307431</td>\n",
              "      <td>0.718359</td>\n",
              "      <td>0.251799</td>\n",
              "      <td>0.116216</td>\n",
              "      <td>0.389367</td>\n",
              "      <td>-0.310212</td>\n",
              "      <td>0.210845</td>\n",
              "      <td>0.333503</td>\n",
              "      <td>0.169248</td>\n",
              "      <td>-0.052782</td>\n",
              "    </tr>\n",
              "    <tr>\n",
              "      <th>1</th>\n",
              "      <td>-1.117982</td>\n",
              "      <td>-1.109631</td>\n",
              "      <td>-3.490872</td>\n",
              "      <td>1.007875</td>\n",
              "      <td>-3.068960</td>\n",
              "      <td>2.098096</td>\n",
              "      <td>0.230866</td>\n",
              "      <td>-1.154354</td>\n",
              "      <td>-0.403860</td>\n",
              "      <td>-1.136107</td>\n",
              "      <td>...</td>\n",
              "      <td>0.309071</td>\n",
              "      <td>0.706867</td>\n",
              "      <td>0.231716</td>\n",
              "      <td>0.118737</td>\n",
              "      <td>0.388097</td>\n",
              "      <td>-0.309563</td>\n",
              "      <td>0.211164</td>\n",
              "      <td>0.312061</td>\n",
              "      <td>0.183227</td>\n",
              "      <td>-0.050352</td>\n",
              "    </tr>\n",
              "    <tr>\n",
              "      <th>2</th>\n",
              "      <td>-0.998147</td>\n",
              "      <td>-1.505880</td>\n",
              "      <td>-4.517329</td>\n",
              "      <td>1.221430</td>\n",
              "      <td>-3.903331</td>\n",
              "      <td>2.273010</td>\n",
              "      <td>0.287096</td>\n",
              "      <td>-1.172542</td>\n",
              "      <td>-0.454036</td>\n",
              "      <td>-1.429018</td>\n",
              "      <td>...</td>\n",
              "      <td>0.337545</td>\n",
              "      <td>0.883125</td>\n",
              "      <td>0.296434</td>\n",
              "      <td>0.188174</td>\n",
              "      <td>0.461702</td>\n",
              "      <td>-0.391381</td>\n",
              "      <td>0.285513</td>\n",
              "      <td>0.355963</td>\n",
              "      <td>0.206811</td>\n",
              "      <td>-0.083684</td>\n",
              "    </tr>\n",
              "    <tr>\n",
              "      <th>3</th>\n",
              "      <td>0.232486</td>\n",
              "      <td>0.646836</td>\n",
              "      <td>-1.761219</td>\n",
              "      <td>-0.888398</td>\n",
              "      <td>0.443694</td>\n",
              "      <td>1.159527</td>\n",
              "      <td>1.446967</td>\n",
              "      <td>-1.938931</td>\n",
              "      <td>0.049680</td>\n",
              "      <td>-0.167048</td>\n",
              "      <td>...</td>\n",
              "      <td>0.014042</td>\n",
              "      <td>0.418887</td>\n",
              "      <td>0.448210</td>\n",
              "      <td>0.037365</td>\n",
              "      <td>-0.289182</td>\n",
              "      <td>-0.484458</td>\n",
              "      <td>-0.449736</td>\n",
              "      <td>-0.140417</td>\n",
              "      <td>-0.503559</td>\n",
              "      <td>0.352543</td>\n",
              "    </tr>\n",
              "    <tr>\n",
              "      <th>4</th>\n",
              "      <td>0.297375</td>\n",
              "      <td>0.615893</td>\n",
              "      <td>-2.160134</td>\n",
              "      <td>-0.962541</td>\n",
              "      <td>0.881322</td>\n",
              "      <td>1.178677</td>\n",
              "      <td>1.854473</td>\n",
              "      <td>-2.274319</td>\n",
              "      <td>0.165405</td>\n",
              "      <td>-0.225779</td>\n",
              "      <td>...</td>\n",
              "      <td>0.069082</td>\n",
              "      <td>0.391710</td>\n",
              "      <td>0.515826</td>\n",
              "      <td>0.117053</td>\n",
              "      <td>-0.444177</td>\n",
              "      <td>-0.579398</td>\n",
              "      <td>-0.477558</td>\n",
              "      <td>-0.196406</td>\n",
              "      <td>-0.711416</td>\n",
              "      <td>0.333286</td>\n",
              "    </tr>\n",
              "  </tbody>\n",
              "</table>\n",
              "<p>5 rows × 23 columns</p>\n",
              "</div>\n",
              "      <button class=\"colab-df-convert\" onclick=\"convertToInteractive('df-8136a763-7599-4d95-8daf-38d431e74e80')\"\n",
              "              title=\"Convert this dataframe to an interactive table.\"\n",
              "              style=\"display:none;\">\n",
              "        \n",
              "  <svg xmlns=\"http://www.w3.org/2000/svg\" height=\"24px\"viewBox=\"0 0 24 24\"\n",
              "       width=\"24px\">\n",
              "    <path d=\"M0 0h24v24H0V0z\" fill=\"none\"/>\n",
              "    <path d=\"M18.56 5.44l.94 2.06.94-2.06 2.06-.94-2.06-.94-.94-2.06-.94 2.06-2.06.94zm-11 1L8.5 8.5l.94-2.06 2.06-.94-2.06-.94L8.5 2.5l-.94 2.06-2.06.94zm10 10l.94 2.06.94-2.06 2.06-.94-2.06-.94-.94-2.06-.94 2.06-2.06.94z\"/><path d=\"M17.41 7.96l-1.37-1.37c-.4-.4-.92-.59-1.43-.59-.52 0-1.04.2-1.43.59L10.3 9.45l-7.72 7.72c-.78.78-.78 2.05 0 2.83L4 21.41c.39.39.9.59 1.41.59.51 0 1.02-.2 1.41-.59l7.78-7.78 2.81-2.81c.8-.78.8-2.07 0-2.86zM5.41 20L4 18.59l7.72-7.72 1.47 1.35L5.41 20z\"/>\n",
              "  </svg>\n",
              "      </button>\n",
              "      \n",
              "  <style>\n",
              "    .colab-df-container {\n",
              "      display:flex;\n",
              "      flex-wrap:wrap;\n",
              "      gap: 12px;\n",
              "    }\n",
              "\n",
              "    .colab-df-convert {\n",
              "      background-color: #E8F0FE;\n",
              "      border: none;\n",
              "      border-radius: 50%;\n",
              "      cursor: pointer;\n",
              "      display: none;\n",
              "      fill: #1967D2;\n",
              "      height: 32px;\n",
              "      padding: 0 0 0 0;\n",
              "      width: 32px;\n",
              "    }\n",
              "\n",
              "    .colab-df-convert:hover {\n",
              "      background-color: #E2EBFA;\n",
              "      box-shadow: 0px 1px 2px rgba(60, 64, 67, 0.3), 0px 1px 3px 1px rgba(60, 64, 67, 0.15);\n",
              "      fill: #174EA6;\n",
              "    }\n",
              "\n",
              "    [theme=dark] .colab-df-convert {\n",
              "      background-color: #3B4455;\n",
              "      fill: #D2E3FC;\n",
              "    }\n",
              "\n",
              "    [theme=dark] .colab-df-convert:hover {\n",
              "      background-color: #434B5C;\n",
              "      box-shadow: 0px 1px 3px 1px rgba(0, 0, 0, 0.15);\n",
              "      filter: drop-shadow(0px 1px 2px rgba(0, 0, 0, 0.3));\n",
              "      fill: #FFFFFF;\n",
              "    }\n",
              "  </style>\n",
              "\n",
              "      <script>\n",
              "        const buttonEl =\n",
              "          document.querySelector('#df-8136a763-7599-4d95-8daf-38d431e74e80 button.colab-df-convert');\n",
              "        buttonEl.style.display =\n",
              "          google.colab.kernel.accessAllowed ? 'block' : 'none';\n",
              "\n",
              "        async function convertToInteractive(key) {\n",
              "          const element = document.querySelector('#df-8136a763-7599-4d95-8daf-38d431e74e80');\n",
              "          const dataTable =\n",
              "            await google.colab.kernel.invokeFunction('convertToInteractive',\n",
              "                                                     [key], {});\n",
              "          if (!dataTable) return;\n",
              "\n",
              "          const docLinkHtml = 'Like what you see? Visit the ' +\n",
              "            '<a target=\"_blank\" href=https://colab.research.google.com/notebooks/data_table.ipynb>data table notebook</a>'\n",
              "            + ' to learn more about interactive tables.';\n",
              "          element.innerHTML = '';\n",
              "          dataTable['output_type'] = 'display_data';\n",
              "          await google.colab.output.renderOutput(dataTable, element);\n",
              "          const docLink = document.createElement('div');\n",
              "          docLink.innerHTML = docLinkHtml;\n",
              "          element.appendChild(docLink);\n",
              "        }\n",
              "      </script>\n",
              "    </div>\n",
              "  </div>\n",
              "  "
            ]
          },
          "metadata": {},
          "execution_count": 397
        }
      ],
      "source": [
        "principalDf.head()"
      ]
    },
    {
      "cell_type": "markdown",
      "metadata": {
        "id": "qjV-AXL1a_JH"
      },
      "source": [
        "Principal Components 1 will explain the 80% of the whole variance"
      ]
    },
    {
      "cell_type": "code",
      "execution_count": 398,
      "metadata": {
        "id": "GEoAHFQIa_JH"
      },
      "outputs": [],
      "source": [
        "dPCA = pd.DataFrame(principalDf['principal component 1'])\n"
      ]
    },
    {
      "cell_type": "code",
      "execution_count": 399,
      "metadata": {
        "id": "YFhr_0Fha_JH",
        "colab": {
          "base_uri": "https://localhost:8080/",
          "height": 206
        },
        "outputId": "ca89048c-4fad-4620-fa65-1382e7291b09"
      },
      "outputs": [
        {
          "output_type": "execute_result",
          "data": {
            "text/plain": [
              "   principal component 1\n",
              "0              -1.125071\n",
              "1              -1.117982\n",
              "2              -0.998147\n",
              "3               0.232486\n",
              "4               0.297375"
            ],
            "text/html": [
              "\n",
              "  <div id=\"df-328fac96-ed09-4942-b448-a8ebce2ef43a\">\n",
              "    <div class=\"colab-df-container\">\n",
              "      <div>\n",
              "<style scoped>\n",
              "    .dataframe tbody tr th:only-of-type {\n",
              "        vertical-align: middle;\n",
              "    }\n",
              "\n",
              "    .dataframe tbody tr th {\n",
              "        vertical-align: top;\n",
              "    }\n",
              "\n",
              "    .dataframe thead th {\n",
              "        text-align: right;\n",
              "    }\n",
              "</style>\n",
              "<table border=\"1\" class=\"dataframe\">\n",
              "  <thead>\n",
              "    <tr style=\"text-align: right;\">\n",
              "      <th></th>\n",
              "      <th>principal component 1</th>\n",
              "    </tr>\n",
              "  </thead>\n",
              "  <tbody>\n",
              "    <tr>\n",
              "      <th>0</th>\n",
              "      <td>-1.125071</td>\n",
              "    </tr>\n",
              "    <tr>\n",
              "      <th>1</th>\n",
              "      <td>-1.117982</td>\n",
              "    </tr>\n",
              "    <tr>\n",
              "      <th>2</th>\n",
              "      <td>-0.998147</td>\n",
              "    </tr>\n",
              "    <tr>\n",
              "      <th>3</th>\n",
              "      <td>0.232486</td>\n",
              "    </tr>\n",
              "    <tr>\n",
              "      <th>4</th>\n",
              "      <td>0.297375</td>\n",
              "    </tr>\n",
              "  </tbody>\n",
              "</table>\n",
              "</div>\n",
              "      <button class=\"colab-df-convert\" onclick=\"convertToInteractive('df-328fac96-ed09-4942-b448-a8ebce2ef43a')\"\n",
              "              title=\"Convert this dataframe to an interactive table.\"\n",
              "              style=\"display:none;\">\n",
              "        \n",
              "  <svg xmlns=\"http://www.w3.org/2000/svg\" height=\"24px\"viewBox=\"0 0 24 24\"\n",
              "       width=\"24px\">\n",
              "    <path d=\"M0 0h24v24H0V0z\" fill=\"none\"/>\n",
              "    <path d=\"M18.56 5.44l.94 2.06.94-2.06 2.06-.94-2.06-.94-.94-2.06-.94 2.06-2.06.94zm-11 1L8.5 8.5l.94-2.06 2.06-.94-2.06-.94L8.5 2.5l-.94 2.06-2.06.94zm10 10l.94 2.06.94-2.06 2.06-.94-2.06-.94-.94-2.06-.94 2.06-2.06.94z\"/><path d=\"M17.41 7.96l-1.37-1.37c-.4-.4-.92-.59-1.43-.59-.52 0-1.04.2-1.43.59L10.3 9.45l-7.72 7.72c-.78.78-.78 2.05 0 2.83L4 21.41c.39.39.9.59 1.41.59.51 0 1.02-.2 1.41-.59l7.78-7.78 2.81-2.81c.8-.78.8-2.07 0-2.86zM5.41 20L4 18.59l7.72-7.72 1.47 1.35L5.41 20z\"/>\n",
              "  </svg>\n",
              "      </button>\n",
              "      \n",
              "  <style>\n",
              "    .colab-df-container {\n",
              "      display:flex;\n",
              "      flex-wrap:wrap;\n",
              "      gap: 12px;\n",
              "    }\n",
              "\n",
              "    .colab-df-convert {\n",
              "      background-color: #E8F0FE;\n",
              "      border: none;\n",
              "      border-radius: 50%;\n",
              "      cursor: pointer;\n",
              "      display: none;\n",
              "      fill: #1967D2;\n",
              "      height: 32px;\n",
              "      padding: 0 0 0 0;\n",
              "      width: 32px;\n",
              "    }\n",
              "\n",
              "    .colab-df-convert:hover {\n",
              "      background-color: #E2EBFA;\n",
              "      box-shadow: 0px 1px 2px rgba(60, 64, 67, 0.3), 0px 1px 3px 1px rgba(60, 64, 67, 0.15);\n",
              "      fill: #174EA6;\n",
              "    }\n",
              "\n",
              "    [theme=dark] .colab-df-convert {\n",
              "      background-color: #3B4455;\n",
              "      fill: #D2E3FC;\n",
              "    }\n",
              "\n",
              "    [theme=dark] .colab-df-convert:hover {\n",
              "      background-color: #434B5C;\n",
              "      box-shadow: 0px 1px 3px 1px rgba(0, 0, 0, 0.15);\n",
              "      filter: drop-shadow(0px 1px 2px rgba(0, 0, 0, 0.3));\n",
              "      fill: #FFFFFF;\n",
              "    }\n",
              "  </style>\n",
              "\n",
              "      <script>\n",
              "        const buttonEl =\n",
              "          document.querySelector('#df-328fac96-ed09-4942-b448-a8ebce2ef43a button.colab-df-convert');\n",
              "        buttonEl.style.display =\n",
              "          google.colab.kernel.accessAllowed ? 'block' : 'none';\n",
              "\n",
              "        async function convertToInteractive(key) {\n",
              "          const element = document.querySelector('#df-328fac96-ed09-4942-b448-a8ebce2ef43a');\n",
              "          const dataTable =\n",
              "            await google.colab.kernel.invokeFunction('convertToInteractive',\n",
              "                                                     [key], {});\n",
              "          if (!dataTable) return;\n",
              "\n",
              "          const docLinkHtml = 'Like what you see? Visit the ' +\n",
              "            '<a target=\"_blank\" href=https://colab.research.google.com/notebooks/data_table.ipynb>data table notebook</a>'\n",
              "            + ' to learn more about interactive tables.';\n",
              "          element.innerHTML = '';\n",
              "          dataTable['output_type'] = 'display_data';\n",
              "          await google.colab.output.renderOutput(dataTable, element);\n",
              "          const docLink = document.createElement('div');\n",
              "          docLink.innerHTML = docLinkHtml;\n",
              "          element.appendChild(docLink);\n",
              "        }\n",
              "      </script>\n",
              "    </div>\n",
              "  </div>\n",
              "  "
            ]
          },
          "metadata": {},
          "execution_count": 399
        }
      ],
      "source": [
        "pcf_df = pd.DataFrame(dPCA)\n",
        "pcf_df.head()"
      ]
    },
    {
      "cell_type": "markdown",
      "metadata": {
        "id": "orp7ZZgCa_JH"
      },
      "source": [
        "K means Clustering"
      ]
    },
    {
      "cell_type": "code",
      "execution_count": 400,
      "metadata": {
        "id": "84YJ7Xm6a_JH"
      },
      "outputs": [],
      "source": [
        "from sklearn.cluster import KMeans\n",
        "from sklearn import preprocessing\n",
        "import sklearn.cluster as cluster\n",
        "import sklearn.metrics as metrics"
      ]
    },
    {
      "cell_type": "markdown",
      "metadata": {
        "id": "8RaUiwnLa_JH"
      },
      "source": [
        "Optimal Clusterings"
      ]
    },
    {
      "cell_type": "code",
      "execution_count": 401,
      "metadata": {
        "id": "xNOUKB_Ia_JH"
      },
      "outputs": [],
      "source": [
        "K=range(2,12)\n",
        "wss = []\n",
        "\n",
        "for k in K:\n",
        "    kmeans=cluster.KMeans(n_clusters=k)\n",
        "    kmeans=kmeans.fit(pcf_df)\n",
        "    wss_iter = kmeans.inertia_\n",
        "    wss.append(wss_iter)"
      ]
    },
    {
      "cell_type": "code",
      "execution_count": 402,
      "metadata": {
        "id": "N4mjbMXda_JH",
        "colab": {
          "base_uri": "https://localhost:8080/",
          "height": 327
        },
        "outputId": "40947ec2-f97c-47d9-9e7a-a2ec2fdb4bdb"
      },
      "outputs": [
        {
          "output_type": "execute_result",
          "data": {
            "text/plain": [
              "[<matplotlib.lines.Line2D at 0x7f85016d9160>]"
            ]
          },
          "metadata": {},
          "execution_count": 402
        },
        {
          "output_type": "display_data",
          "data": {
            "text/plain": [
              "<Figure size 432x288 with 1 Axes>"
            ],
            "image/png": "[encoded data removed]"
          },
          "metadata": {}
        }
      ],
      "source": [
        "plt.xlabel('K')\n",
        "plt.ylabel('Within-Cluster-Sum of Squared Errors (WSS)')\n",
        "plt.plot(K,wss)"
      ]
    },
    {
      "cell_type": "markdown",
      "metadata": {
        "id": "LCSKFJzZa_JH"
      },
      "source": [
        "Now we will perform K- means clustering on the data set. And since the elbow seems to start from the fifth number, it will be best to choose 5 clusters."
      ]
    },
    {
      "cell_type": "code",
      "execution_count": 403,
      "metadata": {
        "id": "O2aqc0F2a_JH",
        "colab": {
          "base_uri": "https://localhost:8080/"
        },
        "outputId": "91e4a484-929c-49b3-d71e-8c40b75ad968"
      },
      "outputs": [
        {
          "output_type": "execute_result",
          "data": {
            "text/plain": [
              "KMeans(max_iter=1000, n_clusters=5)"
            ]
          },
          "metadata": {},
          "execution_count": 403
        }
      ],
      "source": [
        "from sklearn.cluster import KMeans\n",
        "KM_clust = KMeans(n_clusters= 5, init = 'k-means++',max_iter = 1000)\n",
        "KM_clust.fit(pcf_df)"
      ]
    },
    {
      "cell_type": "code",
      "execution_count": 404,
      "metadata": {
        "id": "91EO4rpJAOR0",
        "colab": {
          "base_uri": "https://localhost:8080/",
          "height": 206
        },
        "outputId": "7ce9e94c-abf1-4290-e24e-3a3ac355f629"
      },
      "outputs": [
        {
          "output_type": "execute_result",
          "data": {
            "text/plain": [
              "   principal component 1   Cluster\n",
              "0              -1.125071  Cluster2\n",
              "1              -1.117982  Cluster2\n",
              "2              -0.998147  Cluster2\n",
              "3               0.232486  Cluster0\n",
              "4               0.297375  Cluster0"
            ],
            "text/html": [
              "\n",
              "  <div id=\"df-389095ae-0efd-4dee-94a8-74bd784b0330\">\n",
              "    <div class=\"colab-df-container\">\n",
              "      <div>\n",
              "<style scoped>\n",
              "    .dataframe tbody tr th:only-of-type {\n",
              "        vertical-align: middle;\n",
              "    }\n",
              "\n",
              "    .dataframe tbody tr th {\n",
              "        vertical-align: top;\n",
              "    }\n",
              "\n",
              "    .dataframe thead th {\n",
              "        text-align: right;\n",
              "    }\n",
              "</style>\n",
              "<table border=\"1\" class=\"dataframe\">\n",
              "  <thead>\n",
              "    <tr style=\"text-align: right;\">\n",
              "      <th></th>\n",
              "      <th>principal component 1</th>\n",
              "      <th>Cluster</th>\n",
              "    </tr>\n",
              "  </thead>\n",
              "  <tbody>\n",
              "    <tr>\n",
              "      <th>0</th>\n",
              "      <td>-1.125071</td>\n",
              "      <td>Cluster2</td>\n",
              "    </tr>\n",
              "    <tr>\n",
              "      <th>1</th>\n",
              "      <td>-1.117982</td>\n",
              "      <td>Cluster2</td>\n",
              "    </tr>\n",
              "    <tr>\n",
              "      <th>2</th>\n",
              "      <td>-0.998147</td>\n",
              "      <td>Cluster2</td>\n",
              "    </tr>\n",
              "    <tr>\n",
              "      <th>3</th>\n",
              "      <td>0.232486</td>\n",
              "      <td>Cluster0</td>\n",
              "    </tr>\n",
              "    <tr>\n",
              "      <th>4</th>\n",
              "      <td>0.297375</td>\n",
              "      <td>Cluster0</td>\n",
              "    </tr>\n",
              "  </tbody>\n",
              "</table>\n",
              "</div>\n",
              "      <button class=\"colab-df-convert\" onclick=\"convertToInteractive('df-389095ae-0efd-4dee-94a8-74bd784b0330')\"\n",
              "              title=\"Convert this dataframe to an interactive table.\"\n",
              "              style=\"display:none;\">\n",
              "        \n",
              "  <svg xmlns=\"http://www.w3.org/2000/svg\" height=\"24px\"viewBox=\"0 0 24 24\"\n",
              "       width=\"24px\">\n",
              "    <path d=\"M0 0h24v24H0V0z\" fill=\"none\"/>\n",
              "    <path d=\"M18.56 5.44l.94 2.06.94-2.06 2.06-.94-2.06-.94-.94-2.06-.94 2.06-2.06.94zm-11 1L8.5 8.5l.94-2.06 2.06-.94-2.06-.94L8.5 2.5l-.94 2.06-2.06.94zm10 10l.94 2.06.94-2.06 2.06-.94-2.06-.94-.94-2.06-.94 2.06-2.06.94z\"/><path d=\"M17.41 7.96l-1.37-1.37c-.4-.4-.92-.59-1.43-.59-.52 0-1.04.2-1.43.59L10.3 9.45l-7.72 7.72c-.78.78-.78 2.05 0 2.83L4 21.41c.39.39.9.59 1.41.59.51 0 1.02-.2 1.41-.59l7.78-7.78 2.81-2.81c.8-.78.8-2.07 0-2.86zM5.41 20L4 18.59l7.72-7.72 1.47 1.35L5.41 20z\"/>\n",
              "  </svg>\n",
              "      </button>\n",
              "      \n",
              "  <style>\n",
              "    .colab-df-container {\n",
              "      display:flex;\n",
              "      flex-wrap:wrap;\n",
              "      gap: 12px;\n",
              "    }\n",
              "\n",
              "    .colab-df-convert {\n",
              "      background-color: #E8F0FE;\n",
              "      border: none;\n",
              "      border-radius: 50%;\n",
              "      cursor: pointer;\n",
              "      display: none;\n",
              "      fill: #1967D2;\n",
              "      height: 32px;\n",
              "      padding: 0 0 0 0;\n",
              "      width: 32px;\n",
              "    }\n",
              "\n",
              "    .colab-df-convert:hover {\n",
              "      background-color: #E2EBFA;\n",
              "      box-shadow: 0px 1px 2px rgba(60, 64, 67, 0.3), 0px 1px 3px 1px rgba(60, 64, 67, 0.15);\n",
              "      fill: #174EA6;\n",
              "    }\n",
              "\n",
              "    [theme=dark] .colab-df-convert {\n",
              "      background-color: #3B4455;\n",
              "      fill: #D2E3FC;\n",
              "    }\n",
              "\n",
              "    [theme=dark] .colab-df-convert:hover {\n",
              "      background-color: #434B5C;\n",
              "      box-shadow: 0px 1px 3px 1px rgba(0, 0, 0, 0.15);\n",
              "      filter: drop-shadow(0px 1px 2px rgba(0, 0, 0, 0.3));\n",
              "      fill: #FFFFFF;\n",
              "    }\n",
              "  </style>\n",
              "\n",
              "      <script>\n",
              "        const buttonEl =\n",
              "          document.querySelector('#df-389095ae-0efd-4dee-94a8-74bd784b0330 button.colab-df-convert');\n",
              "        buttonEl.style.display =\n",
              "          google.colab.kernel.accessAllowed ? 'block' : 'none';\n",
              "\n",
              "        async function convertToInteractive(key) {\n",
              "          const element = document.querySelector('#df-389095ae-0efd-4dee-94a8-74bd784b0330');\n",
              "          const dataTable =\n",
              "            await google.colab.kernel.invokeFunction('convertToInteractive',\n",
              "                                                     [key], {});\n",
              "          if (!dataTable) return;\n",
              "\n",
              "          const docLinkHtml = 'Like what you see? Visit the ' +\n",
              "            '<a target=\"_blank\" href=https://colab.research.google.com/notebooks/data_table.ipynb>data table notebook</a>'\n",
              "            + ' to learn more about interactive tables.';\n",
              "          element.innerHTML = '';\n",
              "          dataTable['output_type'] = 'display_data';\n",
              "          await google.colab.output.renderOutput(dataTable, element);\n",
              "          const docLink = document.createElement('div');\n",
              "          docLink.innerHTML = docLinkHtml;\n",
              "          element.appendChild(docLink);\n",
              "        }\n",
              "      </script>\n",
              "    </div>\n",
              "  </div>\n",
              "  "
            ]
          },
          "metadata": {},
          "execution_count": 404
        }
      ],
      "source": [
        "# Mapping on the data\n",
        "pcf_df['Cluster'] = KM_clust.labels_\n",
        "pcf_df['Cluster'] = 'Cluster' + pcf_df['Cluster'].astype(str)\n",
        "pcf_df.head()"
      ]
    },
    {
      "cell_type": "markdown",
      "metadata": {
        "id": "6Lq-jAjya_JH"
      },
      "source": [
        "Cluster Visualization"
      ]
    },
    {
      "cell_type": "code",
      "execution_count": 405,
      "metadata": {
        "id": "_plg5ywHa_JH",
        "colab": {
          "base_uri": "https://localhost:8080/",
          "height": 629
        },
        "outputId": "464c95ad-6bb1-4572-d3e4-3688bee35aff"
      },
      "outputs": [
        {
          "output_type": "execute_result",
          "data": {
            "text/plain": [
              "<matplotlib.axes._subplots.AxesSubplot at 0x7f85019f0190>"
            ]
          },
          "metadata": {},
          "execution_count": 405
        },
        {
          "output_type": "display_data",
          "data": {
            "text/plain": [
              "<Figure size 720x720 with 1 Axes>"
            ],
            "image/png": "[encoded data removed]"
          },
          "metadata": {}
        }
      ],
      "source": [
        "fig = plt.figure(figsize=(10,10))\n",
        "import seaborn as sns\n",
        "sns.scatterplot(x=\"principal component 1\", y =\"Cluster\",hue = 'Cluster',  data=pcf_df,palette='viridis',s=300)"
      ]
    },
    {
      "cell_type": "markdown",
      "metadata": {
        "id": "Q2GEY6rra_JH"
      },
      "source": [
        "Cluster Size for determining the largest clusters"
      ]
    },
    {
      "cell_type": "code",
      "execution_count": 406,
      "metadata": {
        "id": "w_EcH5A3a_JI",
        "colab": {
          "base_uri": "https://localhost:8080/"
        },
        "outputId": "51452e94-e17b-4440-e91e-e32c89eda2a2"
      },
      "outputs": [
        {
          "output_type": "execute_result",
          "data": {
            "text/plain": [
              "Counter({2: 3515, 0: 4220, 4: 592, 1: 254, 3: 37})"
            ]
          },
          "metadata": {},
          "execution_count": 406
        }
      ],
      "source": [
        "from collections import Counter\n",
        "Counter(KM_clust.labels_)"
      ]
    },
    {
      "cell_type": "code",
      "execution_count": 407,
      "metadata": {
        "id": "CczHITU1CBDb"
      },
      "outputs": [],
      "source": [
        "clust_df = pd.DataFrame.from_dict(Counter(KM_clust.labels_), orient='index')\n",
        "#clust_df"
      ]
    },
    {
      "cell_type": "code",
      "execution_count": 408,
      "metadata": {
        "id": "9hmy-VWYB7FZ",
        "colab": {
          "base_uri": "https://localhost:8080/"
        },
        "outputId": "31ed4ff5-6726-496e-8c22-4770c8445e17"
      },
      "outputs": [
        {
          "output_type": "stream",
          "name": "stdout",
          "text": [
            "According to the result, 2 and 0 are the largest clusters\n"
          ]
        }
      ],
      "source": [
        "print('According to the result,', clust_df.index[0],'and', clust_df.index[1], 'are the largest clusters')"
      ]
    },
    {
      "cell_type": "markdown",
      "metadata": {
        "id": "ceIhfYZ0a_JI"
      },
      "source": [
        "CREATE SUBSET for Food Items"
      ]
    },
    {
      "cell_type": "code",
      "execution_count": 409,
      "metadata": {
        "id": "YbEBA_Lxa_JI",
        "colab": {
          "base_uri": "https://localhost:8080/",
          "height": 424
        },
        "outputId": "96367a6b-2fb0-4213-ed5d-e958a5eb8996"
      },
      "outputs": [
        {
          "output_type": "execute_result",
          "data": {
            "text/plain": [
              "                           FoodGroup\n",
              "0             Dairy and Egg Products\n",
              "1             Dairy and Egg Products\n",
              "2             Dairy and Egg Products\n",
              "3             Dairy and Egg Products\n",
              "4             Dairy and Egg Products\n",
              "...                              ...\n",
              "8613  Finfish and Shellfish Products\n",
              "8614  Finfish and Shellfish Products\n",
              "8615                          Sweets\n",
              "8616  Finfish and Shellfish Products\n",
              "8617  Finfish and Shellfish Products\n",
              "\n",
              "[8618 rows x 1 columns]"
            ],
            "text/html": [
              "\n",
              "  <div id=\"df-cac94f07-14f7-4558-8829-fa2e1c441f49\">\n",
              "    <div class=\"colab-df-container\">\n",
              "      <div>\n",
              "<style scoped>\n",
              "    .dataframe tbody tr th:only-of-type {\n",
              "        vertical-align: middle;\n",
              "    }\n",
              "\n",
              "    .dataframe tbody tr th {\n",
              "        vertical-align: top;\n",
              "    }\n",
              "\n",
              "    .dataframe thead th {\n",
              "        text-align: right;\n",
              "    }\n",
              "</style>\n",
              "<table border=\"1\" class=\"dataframe\">\n",
              "  <thead>\n",
              "    <tr style=\"text-align: right;\">\n",
              "      <th></th>\n",
              "      <th>FoodGroup</th>\n",
              "    </tr>\n",
              "  </thead>\n",
              "  <tbody>\n",
              "    <tr>\n",
              "      <th>0</th>\n",
              "      <td>Dairy and Egg Products</td>\n",
              "    </tr>\n",
              "    <tr>\n",
              "      <th>1</th>\n",
              "      <td>Dairy and Egg Products</td>\n",
              "    </tr>\n",
              "    <tr>\n",
              "      <th>2</th>\n",
              "      <td>Dairy and Egg Products</td>\n",
              "    </tr>\n",
              "    <tr>\n",
              "      <th>3</th>\n",
              "      <td>Dairy and Egg Products</td>\n",
              "    </tr>\n",
              "    <tr>\n",
              "      <th>4</th>\n",
              "      <td>Dairy and Egg Products</td>\n",
              "    </tr>\n",
              "    <tr>\n",
              "      <th>...</th>\n",
              "      <td>...</td>\n",
              "    </tr>\n",
              "    <tr>\n",
              "      <th>8613</th>\n",
              "      <td>Finfish and Shellfish Products</td>\n",
              "    </tr>\n",
              "    <tr>\n",
              "      <th>8614</th>\n",
              "      <td>Finfish and Shellfish Products</td>\n",
              "    </tr>\n",
              "    <tr>\n",
              "      <th>8615</th>\n",
              "      <td>Sweets</td>\n",
              "    </tr>\n",
              "    <tr>\n",
              "      <th>8616</th>\n",
              "      <td>Finfish and Shellfish Products</td>\n",
              "    </tr>\n",
              "    <tr>\n",
              "      <th>8617</th>\n",
              "      <td>Finfish and Shellfish Products</td>\n",
              "    </tr>\n",
              "  </tbody>\n",
              "</table>\n",
              "<p>8618 rows × 1 columns</p>\n",
              "</div>\n",
              "      <button class=\"colab-df-convert\" onclick=\"convertToInteractive('df-cac94f07-14f7-4558-8829-fa2e1c441f49')\"\n",
              "              title=\"Convert this dataframe to an interactive table.\"\n",
              "              style=\"display:none;\">\n",
              "        \n",
              "  <svg xmlns=\"http://www.w3.org/2000/svg\" height=\"24px\"viewBox=\"0 0 24 24\"\n",
              "       width=\"24px\">\n",
              "    <path d=\"M0 0h24v24H0V0z\" fill=\"none\"/>\n",
              "    <path d=\"M18.56 5.44l.94 2.06.94-2.06 2.06-.94-2.06-.94-.94-2.06-.94 2.06-2.06.94zm-11 1L8.5 8.5l.94-2.06 2.06-.94-2.06-.94L8.5 2.5l-.94 2.06-2.06.94zm10 10l.94 2.06.94-2.06 2.06-.94-2.06-.94-.94-2.06-.94 2.06-2.06.94z\"/><path d=\"M17.41 7.96l-1.37-1.37c-.4-.4-.92-.59-1.43-.59-.52 0-1.04.2-1.43.59L10.3 9.45l-7.72 7.72c-.78.78-.78 2.05 0 2.83L4 21.41c.39.39.9.59 1.41.59.51 0 1.02-.2 1.41-.59l7.78-7.78 2.81-2.81c.8-.78.8-2.07 0-2.86zM5.41 20L4 18.59l7.72-7.72 1.47 1.35L5.41 20z\"/>\n",
              "  </svg>\n",
              "      </button>\n",
              "      \n",
              "  <style>\n",
              "    .colab-df-container {\n",
              "      display:flex;\n",
              "      flex-wrap:wrap;\n",
              "      gap: 12px;\n",
              "    }\n",
              "\n",
              "    .colab-df-convert {\n",
              "      background-color: #E8F0FE;\n",
              "      border: none;\n",
              "      border-radius: 50%;\n",
              "      cursor: pointer;\n",
              "      display: none;\n",
              "      fill: #1967D2;\n",
              "      height: 32px;\n",
              "      padding: 0 0 0 0;\n",
              "      width: 32px;\n",
              "    }\n",
              "\n",
              "    .colab-df-convert:hover {\n",
              "      background-color: #E2EBFA;\n",
              "      box-shadow: 0px 1px 2px rgba(60, 64, 67, 0.3), 0px 1px 3px 1px rgba(60, 64, 67, 0.15);\n",
              "      fill: #174EA6;\n",
              "    }\n",
              "\n",
              "    [theme=dark] .colab-df-convert {\n",
              "      background-color: #3B4455;\n",
              "      fill: #D2E3FC;\n",
              "    }\n",
              "\n",
              "    [theme=dark] .colab-df-convert:hover {\n",
              "      background-color: #434B5C;\n",
              "      box-shadow: 0px 1px 3px 1px rgba(0, 0, 0, 0.15);\n",
              "      filter: drop-shadow(0px 1px 2px rgba(0, 0, 0, 0.3));\n",
              "      fill: #FFFFFF;\n",
              "    }\n",
              "  </style>\n",
              "\n",
              "      <script>\n",
              "        const buttonEl =\n",
              "          document.querySelector('#df-cac94f07-14f7-4558-8829-fa2e1c441f49 button.colab-df-convert');\n",
              "        buttonEl.style.display =\n",
              "          google.colab.kernel.accessAllowed ? 'block' : 'none';\n",
              "\n",
              "        async function convertToInteractive(key) {\n",
              "          const element = document.querySelector('#df-cac94f07-14f7-4558-8829-fa2e1c441f49');\n",
              "          const dataTable =\n",
              "            await google.colab.kernel.invokeFunction('convertToInteractive',\n",
              "                                                     [key], {});\n",
              "          if (!dataTable) return;\n",
              "\n",
              "          const docLinkHtml = 'Like what you see? Visit the ' +\n",
              "            '<a target=\"_blank\" href=https://colab.research.google.com/notebooks/data_table.ipynb>data table notebook</a>'\n",
              "            + ' to learn more about interactive tables.';\n",
              "          element.innerHTML = '';\n",
              "          dataTable['output_type'] = 'display_data';\n",
              "          await google.colab.output.renderOutput(dataTable, element);\n",
              "          const docLink = document.createElement('div');\n",
              "          docLink.innerHTML = docLinkHtml;\n",
              "          element.appendChild(docLink);\n",
              "        }\n",
              "      </script>\n",
              "    </div>\n",
              "  </div>\n",
              "  "
            ]
          },
          "metadata": {},
          "execution_count": 409
        }
      ],
      "source": [
        "FoodGroup_subset = df5.filter(['FoodGroup'])\n",
        "FoodGroup_subset"
      ]
    },
    {
      "cell_type": "markdown",
      "metadata": {
        "id": "zPoFaNwva_JI"
      },
      "source": [
        "Total number of Food Items by food Category"
      ]
    },
    {
      "cell_type": "code",
      "execution_count": 410,
      "metadata": {
        "id": "PDsa5huOa_JI",
        "colab": {
          "base_uri": "https://localhost:8080/"
        },
        "outputId": "ec58271f-d801-4b34-ab7e-f2c9d0107d31"
      },
      "outputs": [
        {
          "output_type": "execute_result",
          "data": {
            "text/plain": [
              "Beef Products                          946\n",
              "Vegetables and Vegetable Products      828\n",
              "Baked Products                         797\n",
              "Soups, Sauces, and Gravies             452\n",
              "Lamb, Veal, and Game Products          438\n",
              "Poultry Products                       390\n",
              "Legumes and Legume Products            389\n",
              "Fast Foods                             371\n",
              "Breakfast Cereals                      363\n",
              "Baby Foods                             362\n",
              "Sweets                                 347\n",
              "Fruits and Fruit Juices                346\n",
              "Pork Products                          343\n",
              "Beverages                              315\n",
              "Finfish and Shellfish Products         267\n",
              "Dairy and Egg Products                 264\n",
              "Sausages and Luncheon Meats            244\n",
              "Fats and Oils                          219\n",
              "Cereal Grains and Pasta                183\n",
              "Snacks                                 171\n",
              "American Indian/Alaska Native Foods    165\n",
              "Nut and Seed Products                  133\n",
              "Meals, Entrees, and Side Dishes        113\n",
              "Restaurant Foods                       108\n",
              "Spices and Herbs                        64\n",
              "Name: FoodGroup, dtype: int64"
            ]
          },
          "metadata": {},
          "execution_count": 410
        }
      ],
      "source": [
        "FoodItems = FoodGroup_subset['FoodGroup'].value_counts()\n",
        "FoodItems"
      ]
    },
    {
      "cell_type": "code",
      "execution_count": 411,
      "metadata": {
        "id": "iRPeeX2Qa_JI",
        "colab": {
          "base_uri": "https://localhost:8080/",
          "height": 424
        },
        "outputId": "eb213c2a-8be9-44e0-f04e-c6fac23b0392"
      },
      "outputs": [
        {
          "output_type": "execute_result",
          "data": {
            "text/plain": [
              "      principal component 1   Cluster                       FoodItems\n",
              "0                 -1.125071  Cluster2          Dairy and Egg Products\n",
              "1                 -1.117982  Cluster2          Dairy and Egg Products\n",
              "2                 -0.998147  Cluster2          Dairy and Egg Products\n",
              "3                  0.232486  Cluster0          Dairy and Egg Products\n",
              "4                  0.297375  Cluster0          Dairy and Egg Products\n",
              "...                     ...       ...                             ...\n",
              "8613               0.574453  Cluster0  Finfish and Shellfish Products\n",
              "8614              -0.744474  Cluster2  Finfish and Shellfish Products\n",
              "8615              -0.749539  Cluster2                          Sweets\n",
              "8616               0.373479  Cluster0  Finfish and Shellfish Products\n",
              "8617              -0.848583  Cluster2  Finfish and Shellfish Products\n",
              "\n",
              "[8618 rows x 3 columns]"
            ],
            "text/html": [
              "\n",
              "  <div id=\"df-b31912d6-fe57-4125-a54b-3ae8c38124f7\">\n",
              "    <div class=\"colab-df-container\">\n",
              "      <div>\n",
              "<style scoped>\n",
              "    .dataframe tbody tr th:only-of-type {\n",
              "        vertical-align: middle;\n",
              "    }\n",
              "\n",
              "    .dataframe tbody tr th {\n",
              "        vertical-align: top;\n",
              "    }\n",
              "\n",
              "    .dataframe thead th {\n",
              "        text-align: right;\n",
              "    }\n",
              "</style>\n",
              "<table border=\"1\" class=\"dataframe\">\n",
              "  <thead>\n",
              "    <tr style=\"text-align: right;\">\n",
              "      <th></th>\n",
              "      <th>principal component 1</th>\n",
              "      <th>Cluster</th>\n",
              "      <th>FoodItems</th>\n",
              "    </tr>\n",
              "  </thead>\n",
              "  <tbody>\n",
              "    <tr>\n",
              "      <th>0</th>\n",
              "      <td>-1.125071</td>\n",
              "      <td>Cluster2</td>\n",
              "      <td>Dairy and Egg Products</td>\n",
              "    </tr>\n",
              "    <tr>\n",
              "      <th>1</th>\n",
              "      <td>-1.117982</td>\n",
              "      <td>Cluster2</td>\n",
              "      <td>Dairy and Egg Products</td>\n",
              "    </tr>\n",
              "    <tr>\n",
              "      <th>2</th>\n",
              "      <td>-0.998147</td>\n",
              "      <td>Cluster2</td>\n",
              "      <td>Dairy and Egg Products</td>\n",
              "    </tr>\n",
              "    <tr>\n",
              "      <th>3</th>\n",
              "      <td>0.232486</td>\n",
              "      <td>Cluster0</td>\n",
              "      <td>Dairy and Egg Products</td>\n",
              "    </tr>\n",
              "    <tr>\n",
              "      <th>4</th>\n",
              "      <td>0.297375</td>\n",
              "      <td>Cluster0</td>\n",
              "      <td>Dairy and Egg Products</td>\n",
              "    </tr>\n",
              "    <tr>\n",
              "      <th>...</th>\n",
              "      <td>...</td>\n",
              "      <td>...</td>\n",
              "      <td>...</td>\n",
              "    </tr>\n",
              "    <tr>\n",
              "      <th>8613</th>\n",
              "      <td>0.574453</td>\n",
              "      <td>Cluster0</td>\n",
              "      <td>Finfish and Shellfish Products</td>\n",
              "    </tr>\n",
              "    <tr>\n",
              "      <th>8614</th>\n",
              "      <td>-0.744474</td>\n",
              "      <td>Cluster2</td>\n",
              "      <td>Finfish and Shellfish Products</td>\n",
              "    </tr>\n",
              "    <tr>\n",
              "      <th>8615</th>\n",
              "      <td>-0.749539</td>\n",
              "      <td>Cluster2</td>\n",
              "      <td>Sweets</td>\n",
              "    </tr>\n",
              "    <tr>\n",
              "      <th>8616</th>\n",
              "      <td>0.373479</td>\n",
              "      <td>Cluster0</td>\n",
              "      <td>Finfish and Shellfish Products</td>\n",
              "    </tr>\n",
              "    <tr>\n",
              "      <th>8617</th>\n",
              "      <td>-0.848583</td>\n",
              "      <td>Cluster2</td>\n",
              "      <td>Finfish and Shellfish Products</td>\n",
              "    </tr>\n",
              "  </tbody>\n",
              "</table>\n",
              "<p>8618 rows × 3 columns</p>\n",
              "</div>\n",
              "      <button class=\"colab-df-convert\" onclick=\"convertToInteractive('df-b31912d6-fe57-4125-a54b-3ae8c38124f7')\"\n",
              "              title=\"Convert this dataframe to an interactive table.\"\n",
              "              style=\"display:none;\">\n",
              "        \n",
              "  <svg xmlns=\"http://www.w3.org/2000/svg\" height=\"24px\"viewBox=\"0 0 24 24\"\n",
              "       width=\"24px\">\n",
              "    <path d=\"M0 0h24v24H0V0z\" fill=\"none\"/>\n",
              "    <path d=\"M18.56 5.44l.94 2.06.94-2.06 2.06-.94-2.06-.94-.94-2.06-.94 2.06-2.06.94zm-11 1L8.5 8.5l.94-2.06 2.06-.94-2.06-.94L8.5 2.5l-.94 2.06-2.06.94zm10 10l.94 2.06.94-2.06 2.06-.94-2.06-.94-.94-2.06-.94 2.06-2.06.94z\"/><path d=\"M17.41 7.96l-1.37-1.37c-.4-.4-.92-.59-1.43-.59-.52 0-1.04.2-1.43.59L10.3 9.45l-7.72 7.72c-.78.78-.78 2.05 0 2.83L4 21.41c.39.39.9.59 1.41.59.51 0 1.02-.2 1.41-.59l7.78-7.78 2.81-2.81c.8-.78.8-2.07 0-2.86zM5.41 20L4 18.59l7.72-7.72 1.47 1.35L5.41 20z\"/>\n",
              "  </svg>\n",
              "      </button>\n",
              "      \n",
              "  <style>\n",
              "    .colab-df-container {\n",
              "      display:flex;\n",
              "      flex-wrap:wrap;\n",
              "      gap: 12px;\n",
              "    }\n",
              "\n",
              "    .colab-df-convert {\n",
              "      background-color: #E8F0FE;\n",
              "      border: none;\n",
              "      border-radius: 50%;\n",
              "      cursor: pointer;\n",
              "      display: none;\n",
              "      fill: #1967D2;\n",
              "      height: 32px;\n",
              "      padding: 0 0 0 0;\n",
              "      width: 32px;\n",
              "    }\n",
              "\n",
              "    .colab-df-convert:hover {\n",
              "      background-color: #E2EBFA;\n",
              "      box-shadow: 0px 1px 2px rgba(60, 64, 67, 0.3), 0px 1px 3px 1px rgba(60, 64, 67, 0.15);\n",
              "      fill: #174EA6;\n",
              "    }\n",
              "\n",
              "    [theme=dark] .colab-df-convert {\n",
              "      background-color: #3B4455;\n",
              "      fill: #D2E3FC;\n",
              "    }\n",
              "\n",
              "    [theme=dark] .colab-df-convert:hover {\n",
              "      background-color: #434B5C;\n",
              "      box-shadow: 0px 1px 3px 1px rgba(0, 0, 0, 0.15);\n",
              "      filter: drop-shadow(0px 1px 2px rgba(0, 0, 0, 0.3));\n",
              "      fill: #FFFFFF;\n",
              "    }\n",
              "  </style>\n",
              "\n",
              "      <script>\n",
              "        const buttonEl =\n",
              "          document.querySelector('#df-b31912d6-fe57-4125-a54b-3ae8c38124f7 button.colab-df-convert');\n",
              "        buttonEl.style.display =\n",
              "          google.colab.kernel.accessAllowed ? 'block' : 'none';\n",
              "\n",
              "        async function convertToInteractive(key) {\n",
              "          const element = document.querySelector('#df-b31912d6-fe57-4125-a54b-3ae8c38124f7');\n",
              "          const dataTable =\n",
              "            await google.colab.kernel.invokeFunction('convertToInteractive',\n",
              "                                                     [key], {});\n",
              "          if (!dataTable) return;\n",
              "\n",
              "          const docLinkHtml = 'Like what you see? Visit the ' +\n",
              "            '<a target=\"_blank\" href=https://colab.research.google.com/notebooks/data_table.ipynb>data table notebook</a>'\n",
              "            + ' to learn more about interactive tables.';\n",
              "          element.innerHTML = '';\n",
              "          dataTable['output_type'] = 'display_data';\n",
              "          await google.colab.output.renderOutput(dataTable, element);\n",
              "          const docLink = document.createElement('div');\n",
              "          docLink.innerHTML = docLinkHtml;\n",
              "          element.appendChild(docLink);\n",
              "        }\n",
              "      </script>\n",
              "    </div>\n",
              "  </div>\n",
              "  "
            ]
          },
          "metadata": {},
          "execution_count": 411
        }
      ],
      "source": [
        "pcf_df['FoodItems'] = FoodGroup_subset\n",
        "pcf_df"
      ]
    },
    {
      "cell_type": "markdown",
      "metadata": {
        "id": "aN10pZ7Na_JI"
      },
      "source": [
        "Cluster Based on Food Category"
      ]
    },
    {
      "cell_type": "code",
      "execution_count": 412,
      "metadata": {
        "id": "pYYCMsmga_JI",
        "colab": {
          "base_uri": "https://localhost:8080/",
          "height": 629
        },
        "outputId": "b7565759-b588-48f4-eb68-dd47aed119f2"
      },
      "outputs": [
        {
          "output_type": "execute_result",
          "data": {
            "text/plain": [
              "<matplotlib.axes._subplots.AxesSubplot at 0x7f8501423100>"
            ]
          },
          "metadata": {},
          "execution_count": 412
        },
        {
          "output_type": "display_data",
          "data": {
            "text/plain": [
              "<Figure size 720x720 with 1 Axes>"
            ],
            "image/png": "[encoded data removed]"
          },
          "metadata": {}
        }
      ],
      "source": [
        "from matplotlib import pyplot as plt\n",
        "fig = plt.figure(figsize=(10,10))\n",
        "import seaborn as sns\n",
        "sns.scatterplot(x= \"principal component 1\", y =\"FoodItems\",hue = 'Cluster',  data= pcf_df, palette='viridis',s=300)"
      ]
    },
    {
      "cell_type": "markdown",
      "metadata": {
        "id": "zek5Yhy5V5dH"
      },
      "source": [
        "The largest two food items based on clusters are:\n",
        "\n",
        "\n",
        "*   Beef Products\n",
        "*   Vegetables and Vegetable Products\n",
        "\n"
      ]
    },
    {
      "cell_type": "code",
      "execution_count": 412,
      "metadata": {
        "id": "qcH9tNPda_JI"
      },
      "outputs": [],
      "source": []
    }
  ],
  "metadata": {
    "accelerator": "GPU",
    "colab": {
      "provenance": []
    },
    "gpuClass": "standard",
    "kernelspec": {
      "display_name": "Python 3 (ipykernel)",
      "language": "python",
      "name": "python3"
    },
    "language_info": {
      "codemirror_mode": {
        "name": "ipython",
        "version": 3
      },
      "file_extension": ".py",
      "mimetype": "text/x-python",
      "name": "python",
      "nbconvert_exporter": "python",
      "pygments_lexer": "ipython3",
      "version": "3.9.12"
    }
  },
  "nbformat": 4,
  "nbformat_minor": 0
}