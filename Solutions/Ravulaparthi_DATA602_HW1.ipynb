{
  "cells": [
    {
      "cell_type": "markdown",
      "id": "0431853c",
      "metadata": {
        "id": "0431853c"
      },
      "source": [
        "# Question 1\n",
        "\n"
      ]
    },
    {
      "cell_type": "markdown",
      "source": [
        "## (a). What are the major similarities and di erences between the cost functions J (ω) and J˜(ω)\n",
        "\n",
        "  \n",
        "\n",
        "\n"
      ],
      "metadata": {
        "id": "1DgTLkHg6oXt"
      },
      "id": "1DgTLkHg6oXt"
    },
    {
      "cell_type": "markdown",
      "source": [
        "###Smilarities:\n",
        "\n",
        "*   Both functions are used as metrics to measure the accuracy of the continuous variables.\n",
        "*   They both show the average model prediction error in the case where there is interest in the variable units.\n",
        "\n",
        "*    They also both have a scale range of  0 to ∞ and are usually indifferent to the error directions.\n",
        "\n",
        "\n",
        "\n",
        "\n",
        "\n",
        "\n",
        " "
      ],
      "metadata": {
        "id": "Z-wQrjXj7yh6"
      },
      "id": "Z-wQrjXj7yh6"
    },
    {
      "cell_type": "markdown",
      "source": [
        "### Differences:\n",
        " \n",
        "* Since J (ω) function relates to MSE, it gives relatively higher accuracy to large errors as compared to J˜(ω).\n",
        "*  Therefore, J (ω) is more useful when dealing with large errors which are undesirable.\n",
        "\n",
        "\n",
        "*    The results of J (ω) will always be above or equal to the result of J˜(ω) and in any case where the magnitude of the error is the same then J (ω)= J˜(ω). \n",
        "*    Another difference shown by Villalobos, (2019), is when the error of prediction comes from a single sample test.\n",
        "\n",
        "\n",
        "*   In terms of upper bound J (ω) usually increases more than J˜(ω) as the sample size test is increasing.\n",
        "*   J (ω) does not usually describe the average error alone and therefore usually more difficult to understand as opposed to J˜(ω) which can describe the average error alone.\n",
        "\n",
        "\n",
        "\n",
        "\n",
        "\n",
        "\n"
      ],
      "metadata": {
        "id": "No5HAvF56oOF"
      },
      "id": "No5HAvF56oOF"
    },
    {
      "cell_type": "markdown",
      "source": [
        "##(b). Under what circumstances, would it be more appropriate to use each of the above cost functions?\n",
        "\n"
      ],
      "metadata": {
        "id": "SCNpe3_26oGG"
      },
      "id": "SCNpe3_26oGG"
    },
    {
      "cell_type": "markdown",
      "source": [
        "J (ω) is most useful when the data has a lot of outliers that are too high or too low values. This function is much useful in a case where there are large errors that are affecting the performance of the model. J˜(ω) is useful in a scenario where continuous variable data is involved to ascertain the performance of the model. \n"
      ],
      "metadata": {
        "id": "NWl-nPai8f_3"
      },
      "id": "NWl-nPai8f_3"
    },
    {
      "cell_type": "markdown",
      "id": "bb995f79",
      "metadata": {
        "id": "bb995f79"
      },
      "source": [
        "# Question 2\n",
        "**Collinearity:** Suppose you are conducting a linear regression with multiple features. You find out that some of the features you have considered in your problem are highly correlated.\n",
        "\n",
        "\n"
      ]
    },
    {
      "cell_type": "markdown",
      "source": [
        "##(a) How will the result of the regression be a ected? What would happen to the coe cients of linear regression?\n"
      ],
      "metadata": {
        "id": "ebyLDvSL8pUn"
      },
      "id": "ebyLDvSL8pUn"
    },
    {
      "cell_type": "markdown",
      "source": [
        "In the case of multicollinearity, the coefficient becomes so much detective to any small changes done on it.  The multicollinearity also minimizes the preciseness of the projected coefficients, this reduces the statistical power of the linear regression. It also leads to mistrust of p-values that will prove statistical significance. This means interpreting the coefficient will be very difficult and the ability of the model to show independent variables that are statistically significant will be minimized. Multicollinearity makes the result of the model significantly fluctuate because a change in one variable would definitely lead to a change in the other."
      ],
      "metadata": {
        "id": "-6MnYMGp84ql"
      },
      "id": "-6MnYMGp84ql"
    },
    {
      "cell_type": "markdown",
      "source": [
        "##(b) How will you handle the linear regression in this case?"
      ],
      "metadata": {
        "id": "is0gyfco86kr"
      },
      "id": "is0gyfco86kr"
    },
    {
      "cell_type": "markdown",
      "source": [
        "\n",
        "The problem of multicollinearity can be reduced by centering the variables. It involves standardizing the variables where the mean is subtracted. In articulating this approach the process starts with calculating the mean of every continuous independent variable, and then it is subtracted from all available variable values. The centered variable model is efficient in conducting this process because the coefficient interpretation remains the same and doesn’t change. Some other methods of reducing this problem are; removing the highly correlated variables, combining the independent variables through addition, performing the principal component analysis or partial least squares regression, and also linear least squares regression."
      ],
      "metadata": {
        "id": "3cugEJOw86hh"
      },
      "id": "3cugEJOw86hh"
    },
    {
      "cell_type": "markdown",
      "id": "4179fe1b",
      "metadata": {
        "id": "4179fe1b"
      },
      "source": [
        "# Question 3"
      ]
    },
    {
      "cell_type": "markdown",
      "source": [
        "###**Occam’s Razor:** Occam’s razor is a philosophical principle about simplicity that was for¬mulated in 13th-century by the theologian William of Ockham. Do some research and very briefly explain what Occam’s razor states. How can Occam’s razor be practiced in the context of statistical learning? Is there any relationship between Occam’s razor and notions of bias and/or variance in machine learning?"
      ],
      "metadata": {
        "id": "-X9l5Hcc9jq2"
      },
      "id": "-X9l5Hcc9jq2"
    },
    {
      "cell_type": "markdown",
      "source": [
        "Occam’s razor states that for a phenomenon that requires solutions and has two competing ideas, the simpler one should be chosen. This means that, with everything else being equal, simpler solutions to a scenario are to be preferred or considered instead of more complex ones. Ockham stated that “entities must not be multiplied beyond necessity.\n",
        "\n",
        "\n",
        "\n",
        "In the context of statistical learning, Occam’s razor is justified by probability theory. Occam’s razor directly impacts the theory of probability. In direction of assumption, more theories entail a lot of assumptions which shows the greater probability of the assumptions being incorrect, thus, the more inaccuracy the entire probability is the more the study becomes wrong. \n",
        "\n",
        "\n",
        "\n",
        "The notion of bias and/or variance in machine learning is well linked with Occam’s Razor as it is a universal optimization problem. In a scenario where a model is to be selected to solve a problem, the model which is complex enough that avoids underfitting and also very simple that it avoids overfitting is chosen. Therefore, when selecting the best model, the simpler model will only be selected if its generalization error is equal to or below the complex model.\n",
        "\n"
      ],
      "metadata": {
        "id": "Vxb9TKaG9jlH"
      },
      "id": "Vxb9TKaG9jlH"
    },
    {
      "cell_type": "markdown",
      "source": [
        "**References:**\n",
        "Mavuduru, A. (2022, August 9). What Occam’s Razor Means in Machine Learning. Medium. https://towardsdatascience.com/what-occams-razor-means-in-machine-learning-53f07effc97c\n"
      ],
      "metadata": {
        "id": "G1-O81uq9jft"
      },
      "id": "G1-O81uq9jft"
    },
    {
      "cell_type": "code",
      "execution_count": 1,
      "id": "5a10d1d3",
      "metadata": {
        "id": "5a10d1d3"
      },
      "outputs": [],
      "source": [
        "# Import library\n",
        "import pandas  as pd #Data manipulation\n",
        "import numpy as np #Data manipulation\n",
        "import matplotlib.pyplot as plt # Visualization\n",
        "import seaborn as sns #Visualization\n",
        "from sklearn.model_selection import train_test_split"
      ]
    },
    {
      "cell_type": "markdown",
      "source": [
        "#Question 4"
      ],
      "metadata": {
        "id": "aKmFXwjIwvN_"
      },
      "id": "aKmFXwjIwvN_"
    },
    {
      "cell_type": "markdown",
      "source": [
        "## (a).Perform a correlation analysis, and identify the most signi cant features for the target variable AverageGateArrivalDelay."
      ],
      "metadata": {
        "id": "RqtroE97w_Kj"
      },
      "id": "RqtroE97w_Kj"
    },
    {
      "cell_type": "code",
      "execution_count": 2,
      "id": "cab27759",
      "metadata": {
        "colab": {
          "base_uri": "https://localhost:8080/",
          "height": 631
        },
        "id": "cab27759",
        "outputId": "faa7fbc0-ca46-4786-c918-287bb49a3b48"
      },
      "outputs": [
        {
          "output_type": "display_data",
          "data": {
            "text/plain": [
              "<Figure size 720x576 with 2 Axes>"
            ],
            "image/png": "[encoded data removed]"
          },
          "metadata": {
            "needs_background": "light"
          }
        }
      ],
      "source": [
        "df = pd.read_csv(r'https://raw.githubusercontent.com/SravaniRVS/DATA602/main/Homeworks/GateArrivalDelay.csv')\n",
        "plt.figure(figsize = (10,8))\n",
        "corr=df.corr()\n",
        "sns.heatmap(corr, cmap = 'Spectral', annot= True);"
      ]
    },
    {
      "cell_type": "markdown",
      "id": "bb6d753a",
      "metadata": {
        "id": "bb6d753a"
      },
      "source": [
        "From the correlation matrix shown in the figure, it is observed that variables that are strongly correlated with the average gate arrival delay are average block delay (correl=0.78), average airborne delay (correl=0.65) and average airport departure delay (correl=0.55). Only these variables are used as the indipendent variables"
      ]
    },
    {
      "cell_type": "markdown",
      "source": [
        "## (b) Split your dataset into train and test subsets (test size=0.3)."
      ],
      "metadata": {
        "id": "ylAPvP2NxIEw"
      },
      "id": "ylAPvP2NxIEw"
    },
    {
      "cell_type": "code",
      "execution_count": 3,
      "id": "f21f5c50",
      "metadata": {
        "id": "f21f5c50"
      },
      "outputs": [],
      "source": [
        "# Splitting the data into training and validation set\n",
        "y = df['AverageGateArrivalDelay'] \n",
        "X = df.drop(['Date_Time','AverageGateArrivalDelay','% On-TimeGateArrivals','AverageTaxiInDelay','AverageGateDepartureDelay'],axis=1) # Independet variable\n",
        "X_train, X_test, y_train, y_test = train_test_split(X,y,test_size=0.3,random_state=23)"
      ]
    },
    {
      "cell_type": "markdown",
      "source": [
        "## (c) Perform linear regression on the identi ed features and predict the target."
      ],
      "metadata": {
        "id": "4QJAKnoExYMO"
      },
      "id": "4QJAKnoExYMO"
    },
    {
      "cell_type": "code",
      "execution_count": 4,
      "id": "9929f180",
      "metadata": {
        "id": "9929f180"
      },
      "outputs": [],
      "source": [
        "# Step 1: add x0 =1 to dataset\n",
        "X_train_0 = np.c_[np.ones((X_train.shape[0],1)),X_train]\n",
        "X_test_0 = np.c_[np.ones((X_test.shape[0],1)),X_test]\n",
        "\n",
        "# Step2: build model\n",
        "theta = np.matmul(np.linalg.inv( np.matmul(X_train_0.T,X_train_0) ), np.matmul(X_train_0.T,y_train)) "
      ]
    },
    {
      "cell_type": "code",
      "execution_count": 5,
      "id": "922eeb4b",
      "metadata": {
        "id": "922eeb4b"
      },
      "outputs": [],
      "source": [
        "# The parameters for linear regression model\n",
        "parameter = ['theta_'+str(i) for i in range(X_train_0.shape[1])]\n",
        "columns = ['intersect:x_0=1'] + list(X.columns.values)\n",
        "parameter_df = pd.DataFrame({'Parameter':parameter,'Columns':columns,'theta':theta})"
      ]
    },
    {
      "cell_type": "code",
      "execution_count": 6,
      "id": "172f4d54",
      "metadata": {
        "colab": {
          "base_uri": "https://localhost:8080/",
          "height": 175
        },
        "id": "172f4d54",
        "outputId": "14acd666-0e89-4a43-8006-b80337f3b80b"
      },
      "outputs": [
        {
          "output_type": "execute_result",
          "data": {
            "text/plain": [
              "  Parameter                       Columns     theta  Sklearn_theta\n",
              "0   theta_0               intersect:x_0=1  0.107073       0.107073\n",
              "1   theta_1             AverageBlockDelay  1.826780       1.826780\n",
              "2   theta_2          AverageAirborneDelay -0.564761      -0.564761\n",
              "3   theta_3  AverageAirportDepartureDelay  0.234206       0.234206"
            ],
            "text/html": [
              "\n",
              "  <div id=\"df-a8e40e18-798c-4e59-9abb-f2a5179ff0db\">\n",
              "    <div class=\"colab-df-container\">\n",
              "      <div>\n",
              "<style scoped>\n",
              "    .dataframe tbody tr th:only-of-type {\n",
              "        vertical-align: middle;\n",
              "    }\n",
              "\n",
              "    .dataframe tbody tr th {\n",
              "        vertical-align: top;\n",
              "    }\n",
              "\n",
              "    .dataframe thead th {\n",
              "        text-align: right;\n",
              "    }\n",
              "</style>\n",
              "<table border=\"1\" class=\"dataframe\">\n",
              "  <thead>\n",
              "    <tr style=\"text-align: right;\">\n",
              "      <th></th>\n",
              "      <th>Parameter</th>\n",
              "      <th>Columns</th>\n",
              "      <th>theta</th>\n",
              "      <th>Sklearn_theta</th>\n",
              "    </tr>\n",
              "  </thead>\n",
              "  <tbody>\n",
              "    <tr>\n",
              "      <th>0</th>\n",
              "      <td>theta_0</td>\n",
              "      <td>intersect:x_0=1</td>\n",
              "      <td>0.107073</td>\n",
              "      <td>0.107073</td>\n",
              "    </tr>\n",
              "    <tr>\n",
              "      <th>1</th>\n",
              "      <td>theta_1</td>\n",
              "      <td>AverageBlockDelay</td>\n",
              "      <td>1.826780</td>\n",
              "      <td>1.826780</td>\n",
              "    </tr>\n",
              "    <tr>\n",
              "      <th>2</th>\n",
              "      <td>theta_2</td>\n",
              "      <td>AverageAirborneDelay</td>\n",
              "      <td>-0.564761</td>\n",
              "      <td>-0.564761</td>\n",
              "    </tr>\n",
              "    <tr>\n",
              "      <th>3</th>\n",
              "      <td>theta_3</td>\n",
              "      <td>AverageAirportDepartureDelay</td>\n",
              "      <td>0.234206</td>\n",
              "      <td>0.234206</td>\n",
              "    </tr>\n",
              "  </tbody>\n",
              "</table>\n",
              "</div>\n",
              "      <button class=\"colab-df-convert\" onclick=\"convertToInteractive('df-a8e40e18-798c-4e59-9abb-f2a5179ff0db')\"\n",
              "              title=\"Convert this dataframe to an interactive table.\"\n",
              "              style=\"display:none;\">\n",
              "        \n",
              "  <svg xmlns=\"http://www.w3.org/2000/svg\" height=\"24px\"viewBox=\"0 0 24 24\"\n",
              "       width=\"24px\">\n",
              "    <path d=\"M0 0h24v24H0V0z\" fill=\"none\"/>\n",
              "    <path d=\"M18.56 5.44l.94 2.06.94-2.06 2.06-.94-2.06-.94-.94-2.06-.94 2.06-2.06.94zm-11 1L8.5 8.5l.94-2.06 2.06-.94-2.06-.94L8.5 2.5l-.94 2.06-2.06.94zm10 10l.94 2.06.94-2.06 2.06-.94-2.06-.94-.94-2.06-.94 2.06-2.06.94z\"/><path d=\"M17.41 7.96l-1.37-1.37c-.4-.4-.92-.59-1.43-.59-.52 0-1.04.2-1.43.59L10.3 9.45l-7.72 7.72c-.78.78-.78 2.05 0 2.83L4 21.41c.39.39.9.59 1.41.59.51 0 1.02-.2 1.41-.59l7.78-7.78 2.81-2.81c.8-.78.8-2.07 0-2.86zM5.41 20L4 18.59l7.72-7.72 1.47 1.35L5.41 20z\"/>\n",
              "  </svg>\n",
              "      </button>\n",
              "      \n",
              "  <style>\n",
              "    .colab-df-container {\n",
              "      display:flex;\n",
              "      flex-wrap:wrap;\n",
              "      gap: 12px;\n",
              "    }\n",
              "\n",
              "    .colab-df-convert {\n",
              "      background-color: #E8F0FE;\n",
              "      border: none;\n",
              "      border-radius: 50%;\n",
              "      cursor: pointer;\n",
              "      display: none;\n",
              "      fill: #1967D2;\n",
              "      height: 32px;\n",
              "      padding: 0 0 0 0;\n",
              "      width: 32px;\n",
              "    }\n",
              "\n",
              "    .colab-df-convert:hover {\n",
              "      background-color: #E2EBFA;\n",
              "      box-shadow: 0px 1px 2px rgba(60, 64, 67, 0.3), 0px 1px 3px 1px rgba(60, 64, 67, 0.15);\n",
              "      fill: #174EA6;\n",
              "    }\n",
              "\n",
              "    [theme=dark] .colab-df-convert {\n",
              "      background-color: #3B4455;\n",
              "      fill: #D2E3FC;\n",
              "    }\n",
              "\n",
              "    [theme=dark] .colab-df-convert:hover {\n",
              "      background-color: #434B5C;\n",
              "      box-shadow: 0px 1px 3px 1px rgba(0, 0, 0, 0.15);\n",
              "      filter: drop-shadow(0px 1px 2px rgba(0, 0, 0, 0.3));\n",
              "      fill: #FFFFFF;\n",
              "    }\n",
              "  </style>\n",
              "\n",
              "      <script>\n",
              "        const buttonEl =\n",
              "          document.querySelector('#df-a8e40e18-798c-4e59-9abb-f2a5179ff0db button.colab-df-convert');\n",
              "        buttonEl.style.display =\n",
              "          google.colab.kernel.accessAllowed ? 'block' : 'none';\n",
              "\n",
              "        async function convertToInteractive(key) {\n",
              "          const element = document.querySelector('#df-a8e40e18-798c-4e59-9abb-f2a5179ff0db');\n",
              "          const dataTable =\n",
              "            await google.colab.kernel.invokeFunction('convertToInteractive',\n",
              "                                                     [key], {});\n",
              "          if (!dataTable) return;\n",
              "\n",
              "          const docLinkHtml = 'Like what you see? Visit the ' +\n",
              "            '<a target=\"_blank\" href=https://colab.research.google.com/notebooks/data_table.ipynb>data table notebook</a>'\n",
              "            + ' to learn more about interactive tables.';\n",
              "          element.innerHTML = '';\n",
              "          dataTable['output_type'] = 'display_data';\n",
              "          await google.colab.output.renderOutput(dataTable, element);\n",
              "          const docLink = document.createElement('div');\n",
              "          docLink.innerHTML = docLinkHtml;\n",
              "          element.appendChild(docLink);\n",
              "        }\n",
              "      </script>\n",
              "    </div>\n",
              "  </div>\n",
              "  "
            ]
          },
          "metadata": {},
          "execution_count": 6
        }
      ],
      "source": [
        "# Scikit Learn module\n",
        "from sklearn.linear_model import LinearRegression\n",
        "lin_reg = LinearRegression()\n",
        "lin_reg.fit(X_train,y_train) # Note: x_0 =1 is no need to add, sklearn will take care of it.\n",
        "\n",
        "#Parameter\n",
        "sk_theta = [lin_reg.intercept_]+list(lin_reg.coef_)\n",
        "parameter_df = parameter_df.join(pd.Series(sk_theta, name='Sklearn_theta'))\n",
        "parameter_df"
      ]
    },
    {
      "cell_type": "markdown",
      "source": [
        "## (d) Specify the R2-score for both train and test subsets."
      ],
      "metadata": {
        "id": "fuSp8vIZxeDv"
      },
      "id": "fuSp8vIZxeDv"
    },
    {
      "cell_type": "code",
      "execution_count": 7,
      "id": "118c08c9",
      "metadata": {
        "colab": {
          "base_uri": "https://localhost:8080/"
        },
        "id": "118c08c9",
        "outputId": "8e3e26e9-4d17-4f94-8de6-614d11acbdc3"
      },
      "outputs": [
        {
          "output_type": "stream",
          "name": "stdout",
          "text": [
            "The Mean Square Error(MSE) or J(theta) is:  112.06659412466564\n",
            "R square obtain for normal equation method is : 0.6899330669481494\n"
          ]
        }
      ],
      "source": [
        "# Normal equation\n",
        "y_pred_norm =  np.matmul(X_test_0,theta)\n",
        "\n",
        "#Evaluvation: MSE\n",
        "J_mse = np.sum((y_pred_norm - y_test)**2)/ X_test_0.shape[0]\n",
        "\n",
        "# R_square \n",
        "sse = np.sum((y_pred_norm - y_test)**2)\n",
        "sst = np.sum((y_test - y_test.mean())**2)\n",
        "R_square = 1 - (sse/sst)\n",
        "print('The Mean Square Error(MSE) or J(theta) is: ',J_mse)\n",
        "print('R square obtain for normal equation method is :',R_square)"
      ]
    },
    {
      "cell_type": "code",
      "execution_count": 8,
      "id": "ed3b01f0",
      "metadata": {
        "colab": {
          "base_uri": "https://localhost:8080/"
        },
        "id": "ed3b01f0",
        "outputId": "fe48db8c-c98e-4e8a-a64c-2c00a6320ade"
      },
      "outputs": [
        {
          "output_type": "stream",
          "name": "stdout",
          "text": [
            "The Mean Square Error(MSE) or J(theta) is:  86.27438631433075\n",
            "R square obtain for scikit learn library is : 0.629448136314647\n"
          ]
        }
      ],
      "source": [
        "# sklearn regression module\n",
        "y_pred_sk = lin_reg.predict(X_train)\n",
        "\n",
        "#Evaluvation: MSE\n",
        "from sklearn.metrics import mean_squared_error\n",
        "J_mse_sk = mean_squared_error(y_pred_sk, y_train)\n",
        "\n",
        "# R_square\n",
        "R_square_sk = lin_reg.score(X_train,y_train)\n",
        "print('The Mean Square Error(MSE) or J(theta) is: ',J_mse_sk)\n",
        "print('R square obtain for scikit learn library is :',R_square_sk)"
      ]
    },
    {
      "cell_type": "markdown",
      "source": [
        "## (e) How do you assess the performance of the model? Do you observe signs of high bias? Do you observe signs of high variance?"
      ],
      "metadata": {
        "id": "H_KrYXDtxjtp"
      },
      "id": "H_KrYXDtxjtp"
    },
    {
      "cell_type": "markdown",
      "id": "04099691",
      "metadata": {
        "id": "04099691"
      },
      "source": [
        "\n",
        "The performance of the model is assessed by coefficient of determinant R^2. The signs of high variance is observed from by interpreting MSE. From the output, the model explains 68.99% of the variance in the dependent variables for testing dataset and 86.27 for the training set. "
      ]
    },
    {
      "cell_type": "markdown",
      "source": [
        "## (f) Try to implement the linear regression using the exact formula we found in the lecture. Is the exact result in agreement with your result obtained above?"
      ],
      "metadata": {
        "id": "3cdZKikSx6fd"
      },
      "id": "3cdZKikSx6fd"
    },
    {
      "cell_type": "code",
      "execution_count": 9,
      "id": "c4f153a2",
      "metadata": {
        "colab": {
          "base_uri": "https://localhost:8080/"
        },
        "id": "c4f153a2",
        "outputId": "58e90f2a-3ec8-474f-f03e-4500a157c30e"
      },
      "outputs": [
        {
          "output_type": "stream",
          "name": "stdout",
          "text": [
            "coefficient of determination for training set: 0.629448136314647\n"
          ]
        }
      ],
      "source": [
        "model = LinearRegression()\n",
        "model.fit(X_train,y_train)\n",
        "r_sq = model.score(X_train,y_train)\n",
        "print(f\"coefficient of determination for training set: {r_sq}\")\n"
      ]
    },
    {
      "cell_type": "markdown",
      "id": "e9d6c1b5",
      "metadata": {
        "id": "e9d6c1b5"
      },
      "source": [
        "**The coefficient of determinant is slightly different**"
      ]
    },
    {
      "cell_type": "markdown",
      "source": [
        "##(g) In this part, you will perform a quadratic regression analysis. To do this, proceed as follows:"
      ],
      "metadata": {
        "id": "0N-WocglyNqR"
      },
      "id": "0N-WocglyNqR"
    },
    {
      "cell_type": "code",
      "source": [
        "# i. Rename the features. Call the features x1, x2, ...\n",
        "x1=df['AverageBlockDelay']\n",
        "x2=df['AverageAirborneDelay']\n",
        "x3=df['AverageAirportDepartureDelay']"
      ],
      "metadata": {
        "id": "RZWFt5Hu919q"
      },
      "id": "RZWFt5Hu919q",
      "execution_count": 10,
      "outputs": []
    },
    {
      "cell_type": "code",
      "execution_count": 11,
      "id": "bec0f5ac",
      "metadata": {
        "id": "bec0f5ac",
        "colab": {
          "base_uri": "https://localhost:8080/",
          "height": 424
        },
        "outputId": "10de22f9-c706-42b8-907e-981c15fd0ef8"
      },
      "outputs": [
        {
          "output_type": "execute_result",
          "data": {
            "text/plain": [
              "      AverageBlockDelay  AverageBlockDelay^2  AverageAirborneDelay  \\\n",
              "0                  7.70              59.2900                  0.60   \n",
              "1                  0.91               0.8281                  0.00   \n",
              "2                  1.00               1.0000                  0.00   \n",
              "3                  1.50               2.2500                  3.00   \n",
              "4                  0.64               0.4096                  1.27   \n",
              "...                 ...                  ...                   ...   \n",
              "2202              16.29             265.3641                  1.81   \n",
              "2203              10.29             105.8841                  3.00   \n",
              "2204               4.59              21.0681                  2.18   \n",
              "2205               2.55               6.5025                  2.14   \n",
              "2206               1.27               1.6129                  0.86   \n",
              "\n",
              "      AverageAirborneDelay^2  AverageAirportDepartureDelay  \\\n",
              "0                     0.3600                         13.67   \n",
              "1                     0.0000                         13.17   \n",
              "2                     0.0000                         25.50   \n",
              "3                     9.0000                         26.75   \n",
              "4                     1.6129                         15.00   \n",
              "...                      ...                           ...   \n",
              "2202                  3.2761                         32.00   \n",
              "2203                  9.0000                         71.17   \n",
              "2204                  4.7524                         11.83   \n",
              "2205                  4.5796                         25.75   \n",
              "2206                  0.7396                         21.50   \n",
              "\n",
              "      AverageAirportDepartureDelay^2  \n",
              "0                           186.8689  \n",
              "1                           173.4489  \n",
              "2                           650.2500  \n",
              "3                           715.5625  \n",
              "4                           225.0000  \n",
              "...                              ...  \n",
              "2202                       1024.0000  \n",
              "2203                       5065.1689  \n",
              "2204                        139.9489  \n",
              "2205                        663.0625  \n",
              "2206                        462.2500  \n",
              "\n",
              "[2207 rows x 6 columns]"
            ],
            "text/html": [
              "\n",
              "  <div id=\"df-c46c7620-5f4a-4a4f-a0e7-5c029403c139\">\n",
              "    <div class=\"colab-df-container\">\n",
              "      <div>\n",
              "<style scoped>\n",
              "    .dataframe tbody tr th:only-of-type {\n",
              "        vertical-align: middle;\n",
              "    }\n",
              "\n",
              "    .dataframe tbody tr th {\n",
              "        vertical-align: top;\n",
              "    }\n",
              "\n",
              "    .dataframe thead th {\n",
              "        text-align: right;\n",
              "    }\n",
              "</style>\n",
              "<table border=\"1\" class=\"dataframe\">\n",
              "  <thead>\n",
              "    <tr style=\"text-align: right;\">\n",
              "      <th></th>\n",
              "      <th>AverageBlockDelay</th>\n",
              "      <th>AverageBlockDelay^2</th>\n",
              "      <th>AverageAirborneDelay</th>\n",
              "      <th>AverageAirborneDelay^2</th>\n",
              "      <th>AverageAirportDepartureDelay</th>\n",
              "      <th>AverageAirportDepartureDelay^2</th>\n",
              "    </tr>\n",
              "  </thead>\n",
              "  <tbody>\n",
              "    <tr>\n",
              "      <th>0</th>\n",
              "      <td>7.70</td>\n",
              "      <td>59.2900</td>\n",
              "      <td>0.60</td>\n",
              "      <td>0.3600</td>\n",
              "      <td>13.67</td>\n",
              "      <td>186.8689</td>\n",
              "    </tr>\n",
              "    <tr>\n",
              "      <th>1</th>\n",
              "      <td>0.91</td>\n",
              "      <td>0.8281</td>\n",
              "      <td>0.00</td>\n",
              "      <td>0.0000</td>\n",
              "      <td>13.17</td>\n",
              "      <td>173.4489</td>\n",
              "    </tr>\n",
              "    <tr>\n",
              "      <th>2</th>\n",
              "      <td>1.00</td>\n",
              "      <td>1.0000</td>\n",
              "      <td>0.00</td>\n",
              "      <td>0.0000</td>\n",
              "      <td>25.50</td>\n",
              "      <td>650.2500</td>\n",
              "    </tr>\n",
              "    <tr>\n",
              "      <th>3</th>\n",
              "      <td>1.50</td>\n",
              "      <td>2.2500</td>\n",
              "      <td>3.00</td>\n",
              "      <td>9.0000</td>\n",
              "      <td>26.75</td>\n",
              "      <td>715.5625</td>\n",
              "    </tr>\n",
              "    <tr>\n",
              "      <th>4</th>\n",
              "      <td>0.64</td>\n",
              "      <td>0.4096</td>\n",
              "      <td>1.27</td>\n",
              "      <td>1.6129</td>\n",
              "      <td>15.00</td>\n",
              "      <td>225.0000</td>\n",
              "    </tr>\n",
              "    <tr>\n",
              "      <th>...</th>\n",
              "      <td>...</td>\n",
              "      <td>...</td>\n",
              "      <td>...</td>\n",
              "      <td>...</td>\n",
              "      <td>...</td>\n",
              "      <td>...</td>\n",
              "    </tr>\n",
              "    <tr>\n",
              "      <th>2202</th>\n",
              "      <td>16.29</td>\n",
              "      <td>265.3641</td>\n",
              "      <td>1.81</td>\n",
              "      <td>3.2761</td>\n",
              "      <td>32.00</td>\n",
              "      <td>1024.0000</td>\n",
              "    </tr>\n",
              "    <tr>\n",
              "      <th>2203</th>\n",
              "      <td>10.29</td>\n",
              "      <td>105.8841</td>\n",
              "      <td>3.00</td>\n",
              "      <td>9.0000</td>\n",
              "      <td>71.17</td>\n",
              "      <td>5065.1689</td>\n",
              "    </tr>\n",
              "    <tr>\n",
              "      <th>2204</th>\n",
              "      <td>4.59</td>\n",
              "      <td>21.0681</td>\n",
              "      <td>2.18</td>\n",
              "      <td>4.7524</td>\n",
              "      <td>11.83</td>\n",
              "      <td>139.9489</td>\n",
              "    </tr>\n",
              "    <tr>\n",
              "      <th>2205</th>\n",
              "      <td>2.55</td>\n",
              "      <td>6.5025</td>\n",
              "      <td>2.14</td>\n",
              "      <td>4.5796</td>\n",
              "      <td>25.75</td>\n",
              "      <td>663.0625</td>\n",
              "    </tr>\n",
              "    <tr>\n",
              "      <th>2206</th>\n",
              "      <td>1.27</td>\n",
              "      <td>1.6129</td>\n",
              "      <td>0.86</td>\n",
              "      <td>0.7396</td>\n",
              "      <td>21.50</td>\n",
              "      <td>462.2500</td>\n",
              "    </tr>\n",
              "  </tbody>\n",
              "</table>\n",
              "<p>2207 rows × 6 columns</p>\n",
              "</div>\n",
              "      <button class=\"colab-df-convert\" onclick=\"convertToInteractive('df-c46c7620-5f4a-4a4f-a0e7-5c029403c139')\"\n",
              "              title=\"Convert this dataframe to an interactive table.\"\n",
              "              style=\"display:none;\">\n",
              "        \n",
              "  <svg xmlns=\"http://www.w3.org/2000/svg\" height=\"24px\"viewBox=\"0 0 24 24\"\n",
              "       width=\"24px\">\n",
              "    <path d=\"M0 0h24v24H0V0z\" fill=\"none\"/>\n",
              "    <path d=\"M18.56 5.44l.94 2.06.94-2.06 2.06-.94-2.06-.94-.94-2.06-.94 2.06-2.06.94zm-11 1L8.5 8.5l.94-2.06 2.06-.94-2.06-.94L8.5 2.5l-.94 2.06-2.06.94zm10 10l.94 2.06.94-2.06 2.06-.94-2.06-.94-.94-2.06-.94 2.06-2.06.94z\"/><path d=\"M17.41 7.96l-1.37-1.37c-.4-.4-.92-.59-1.43-.59-.52 0-1.04.2-1.43.59L10.3 9.45l-7.72 7.72c-.78.78-.78 2.05 0 2.83L4 21.41c.39.39.9.59 1.41.59.51 0 1.02-.2 1.41-.59l7.78-7.78 2.81-2.81c.8-.78.8-2.07 0-2.86zM5.41 20L4 18.59l7.72-7.72 1.47 1.35L5.41 20z\"/>\n",
              "  </svg>\n",
              "      </button>\n",
              "      \n",
              "  <style>\n",
              "    .colab-df-container {\n",
              "      display:flex;\n",
              "      flex-wrap:wrap;\n",
              "      gap: 12px;\n",
              "    }\n",
              "\n",
              "    .colab-df-convert {\n",
              "      background-color: #E8F0FE;\n",
              "      border: none;\n",
              "      border-radius: 50%;\n",
              "      cursor: pointer;\n",
              "      display: none;\n",
              "      fill: #1967D2;\n",
              "      height: 32px;\n",
              "      padding: 0 0 0 0;\n",
              "      width: 32px;\n",
              "    }\n",
              "\n",
              "    .colab-df-convert:hover {\n",
              "      background-color: #E2EBFA;\n",
              "      box-shadow: 0px 1px 2px rgba(60, 64, 67, 0.3), 0px 1px 3px 1px rgba(60, 64, 67, 0.15);\n",
              "      fill: #174EA6;\n",
              "    }\n",
              "\n",
              "    [theme=dark] .colab-df-convert {\n",
              "      background-color: #3B4455;\n",
              "      fill: #D2E3FC;\n",
              "    }\n",
              "\n",
              "    [theme=dark] .colab-df-convert:hover {\n",
              "      background-color: #434B5C;\n",
              "      box-shadow: 0px 1px 3px 1px rgba(0, 0, 0, 0.15);\n",
              "      filter: drop-shadow(0px 1px 2px rgba(0, 0, 0, 0.3));\n",
              "      fill: #FFFFFF;\n",
              "    }\n",
              "  </style>\n",
              "\n",
              "      <script>\n",
              "        const buttonEl =\n",
              "          document.querySelector('#df-c46c7620-5f4a-4a4f-a0e7-5c029403c139 button.colab-df-convert');\n",
              "        buttonEl.style.display =\n",
              "          google.colab.kernel.accessAllowed ? 'block' : 'none';\n",
              "\n",
              "        async function convertToInteractive(key) {\n",
              "          const element = document.querySelector('#df-c46c7620-5f4a-4a4f-a0e7-5c029403c139');\n",
              "          const dataTable =\n",
              "            await google.colab.kernel.invokeFunction('convertToInteractive',\n",
              "                                                     [key], {});\n",
              "          if (!dataTable) return;\n",
              "\n",
              "          const docLinkHtml = 'Like what you see? Visit the ' +\n",
              "            '<a target=\"_blank\" href=https://colab.research.google.com/notebooks/data_table.ipynb>data table notebook</a>'\n",
              "            + ' to learn more about interactive tables.';\n",
              "          element.innerHTML = '';\n",
              "          dataTable['output_type'] = 'display_data';\n",
              "          await google.colab.output.renderOutput(dataTable, element);\n",
              "          const docLink = document.createElement('div');\n",
              "          docLink.innerHTML = docLinkHtml;\n",
              "          element.appendChild(docLink);\n",
              "        }\n",
              "      </script>\n",
              "    </div>\n",
              "  </div>\n",
              "  "
            ]
          },
          "metadata": {},
          "execution_count": 11
        }
      ],
      "source": [
        "#Defining monomial function\n",
        "#Python function to automatically construction monomial to the third power\n",
        "\n",
        "def mon(x):\n",
        "    p1=x\n",
        "    p2=x**2\n",
        "    out1=pd.DataFrame([p1,p2],index=['p1','p2'])\n",
        "    out=out1.T\n",
        "    return out\n",
        "#Defining quadratic regression variables \n",
        "x1mon=mon(x1)\n",
        "x2mon=mon(x2)\n",
        "x3mon=mon(x3)\n",
        "i11=x1mon['p1']\n",
        "i12=x1mon['p2']\n",
        "i21=x2mon['p1']\n",
        "i22=x2mon['p2']\n",
        "i31=x3mon['p1']\n",
        "i32=x3mon['p2']\n",
        "out2=pd.DataFrame([i11,i12,i21,i22,i31,i32],index=['AverageBlockDelay','AverageBlockDelay^2','AverageAirborneDelay','AverageAirborneDelay^2','AverageAirportDepartureDelay','AverageAirportDepartureDelay^2'])\n",
        "xq=out2.T\n",
        "xq"
      ]
    },
    {
      "cell_type": "code",
      "execution_count": 14,
      "id": "09967ba5",
      "metadata": {
        "id": "09967ba5"
      },
      "outputs": [],
      "source": [
        "X_train1, X_test1, y_train1, y_test1 = train_test_split(xq,y,test_size=0.3,random_state=23)"
      ]
    },
    {
      "cell_type": "code",
      "execution_count": 15,
      "id": "a17393c1",
      "metadata": {
        "colab": {
          "base_uri": "https://localhost:8080/"
        },
        "id": "a17393c1",
        "outputId": "fb40d66c-ea85-46c9-c25b-17b40001ce01"
      },
      "outputs": [
        {
          "output_type": "stream",
          "name": "stdout",
          "text": [
            "coefficient of determination for training set: 0.6416476286202897\n"
          ]
        }
      ],
      "source": [
        "# R-square for training set\n",
        "from sklearn.linear_model import LinearRegression\n",
        "model = LinearRegression()\n",
        "model.fit(X_train1,y_train1)\n",
        "r_sq = model.score(X_train1,y_train1)\n",
        "print(f\"coefficient of determination for training set: {r_sq}\")"
      ]
    },
    {
      "cell_type": "code",
      "execution_count": 16,
      "id": "62d95aea",
      "metadata": {
        "colab": {
          "base_uri": "https://localhost:8080/"
        },
        "id": "62d95aea",
        "outputId": "108471c8-1573-4396-d3f1-441a5b672b75"
      },
      "outputs": [
        {
          "output_type": "stream",
          "name": "stdout",
          "text": [
            "coefficient of determination for testing set: 0.7027936972866281\n"
          ]
        }
      ],
      "source": [
        "# R-square for testing set\n",
        "R_sqs = model.score(X_test1,y_test1)\n",
        "print(f\"coefficient of determination for testing set: {R_sqs}\")"
      ]
    },
    {
      "cell_type": "markdown",
      "source": [
        "### (v). Present your assessment of the performance of the quadratic regression.\n",
        "\n",
        "**Assessment of Bias:**\n",
        "There no signs of high bias from the results of the above R2_scores of the quadratic regression model.\n",
        "\n",
        "\n",
        "**Assessment of Variance:**\n",
        "The quadratic regression model has lower R2_score for both the training and testing subsets compared to the linear regresssion model. But there no signs of high variance.\n"
      ],
      "metadata": {
        "id": "LTcS4y8fxpJl"
      },
      "id": "LTcS4y8fxpJl"
    },
    {
      "cell_type": "markdown",
      "source": [
        "# Question 5\n"
      ],
      "metadata": {
        "id": "NkFCyhzvzBdq"
      },
      "id": "NkFCyhzvzBdq"
    },
    {
      "cell_type": "markdown",
      "source": [
        "##(a) Pick at least 50 sample points from the interval [0; 5]. For the sample points, add some random noise - chosen from a normal distribution - to the target y = f(x). Record the values of x and y in a data-frame."
      ],
      "metadata": {
        "id": "N_fXkFjVzKqj"
      },
      "id": "N_fXkFjVzKqj"
    },
    {
      "cell_type": "code",
      "execution_count": 17,
      "id": "3bcb759d",
      "metadata": {
        "id": "3bcb759d"
      },
      "outputs": [],
      "source": [
        "#Defining the function\n",
        "data = pd.read_csv('https://raw.githubusercontent.com/SravaniRVS/DATA602/main/Homeworks/Data.csv')"
      ]
    },
    {
      "cell_type": "code",
      "execution_count": 18,
      "id": "0373b2d8",
      "metadata": {
        "id": "0373b2d8"
      },
      "outputs": [],
      "source": [
        "data.head()\n",
        "# Adding random noise \n",
        "x=data['x']\n",
        "f=data['f']\n",
        "noise=np. random. normal(0, .1, f. shape)# Defining random noise"
      ]
    },
    {
      "cell_type": "code",
      "execution_count": 19,
      "id": "4f483d0c",
      "metadata": {
        "id": "4f483d0c"
      },
      "outputs": [],
      "source": [
        "y=noise+f# adding noise to the function\n"
      ]
    },
    {
      "cell_type": "markdown",
      "source": [
        "## (b) Construct all monomials of x up to power 11."
      ],
      "metadata": {
        "id": "IA0JNHi409h1"
      },
      "id": "IA0JNHi409h1"
    },
    {
      "cell_type": "code",
      "execution_count": 20,
      "id": "c6b1c0fc",
      "metadata": {
        "id": "c6b1c0fc"
      },
      "outputs": [],
      "source": [
        "x2=x**2\n",
        "x3=x**3\n",
        "x4=x**4\n",
        "x5=x**5\n",
        "x6=x**6\n",
        "x7=x**7\n",
        "x8=x**8\n",
        "x9=x**9\n",
        "x10=x**10\n",
        "x11=x**11\n",
        "xq5=pd.DataFrame([x,x2,x3,x4,x5,x6,x7,x8,x9,x10,x11],index=['x','x^2','x^3','x^4','x^5','x^6','x^7','x^8','x9','x^10','x^11'])\n",
        "xq5=xq5.T"
      ]
    },
    {
      "cell_type": "markdown",
      "source": [
        "## (c) Perform the ordinary polynomial regression (up to order 11) to predict y. Present the coeffcients of regression for all monomials."
      ],
      "metadata": {
        "id": "hnV6vzBr1D2v"
      },
      "id": "hnV6vzBr1D2v"
    },
    {
      "cell_type": "code",
      "execution_count": 21,
      "id": "1d6c855e",
      "metadata": {
        "colab": {
          "base_uri": "https://localhost:8080/"
        },
        "id": "1d6c855e",
        "outputId": "a22a88b5-6f95-42f3-82c8-07f481b684d3"
      },
      "outputs": [
        {
          "output_type": "stream",
          "name": "stdout",
          "text": [
            "coefficient of determination for training set: 0.995291150987987\n"
          ]
        },
        {
          "output_type": "execute_result",
          "data": {
            "text/plain": [
              "array([ 1.55521963e+00, -1.02260613e+01,  2.72928376e+01, -3.89682727e+01,\n",
              "        3.28825473e+01, -1.77139965e+01,  6.25477693e+00, -1.43739131e+00,\n",
              "        2.06684303e-01, -1.68728828e-02,  5.96678438e-04])"
            ]
          },
          "metadata": {},
          "execution_count": 21
        }
      ],
      "source": [
        "model = LinearRegression()\n",
        "model.fit(xq5,y)\n",
        "r_sq = model.score(xq5,y)\n",
        "print(f\"coefficient of determination for training set: {r_sq}\")\n",
        "model.coef_"
      ]
    },
    {
      "cell_type": "markdown",
      "source": [
        "## (d) Repeat part (c) with the Ridge regression. What value would you consider for the penalty factor? Present the coe cients of regression for all monomials and compare them to coe cients obtained in part (c)."
      ],
      "metadata": {
        "id": "ega5mNxd1K7g"
      },
      "id": "ega5mNxd1K7g"
    },
    {
      "cell_type": "code",
      "execution_count": 22,
      "id": "ca0fb353",
      "metadata": {
        "colab": {
          "base_uri": "https://localhost:8080/"
        },
        "id": "ca0fb353",
        "outputId": "e035e534-249d-4b56-c31f-ec5ad78a043b"
      },
      "outputs": [
        {
          "output_type": "stream",
          "name": "stdout",
          "text": [
            "coefficient of determination for training set: 0.9952274242532811\n"
          ]
        },
        {
          "output_type": "stream",
          "name": "stderr",
          "text": [
            "/usr/local/lib/python3.7/dist-packages/sklearn/linear_model/_ridge.py:157: LinAlgWarning: Ill-conditioned matrix (rcond=2.12496e-17): result may not be accurate.\n",
            "  return linalg.solve(A, Xy, sym_pos=True, overwrite_a=True).T\n"
          ]
        },
        {
          "output_type": "execute_result",
          "data": {
            "text/plain": [
              "array([-1.25129018e-02, -2.82745223e-02, -6.58217671e-02, -9.48685530e-02,\n",
              "       -7.44305683e-02,  3.43723818e-03,  5.61795795e-02, -2.94648996e-02,\n",
              "        6.40267398e-03, -6.58822180e-04,  2.65401872e-05])"
            ]
          },
          "metadata": {},
          "execution_count": 22
        }
      ],
      "source": [
        "from sklearn.linear_model import Ridge\n",
        "model = Ridge(alpha=1.0)\n",
        "model.fit(xq5, y)\n",
        "r_sq = model.score(xq5,y)\n",
        "print(f\"coefficient of determination for training set: {r_sq}\")\n",
        "model.coef_"
      ]
    },
    {
      "cell_type": "markdown",
      "source": [
        "## (e) Repeat part (c) with the LASSO regression. What value would you consider for the penalty factor? Present the coe cients of regression for all monomials and compare them to coe cients obtained in parts (c) and (d)."
      ],
      "metadata": {
        "id": "YpdJoyS81SVA"
      },
      "id": "YpdJoyS81SVA"
    },
    {
      "cell_type": "code",
      "execution_count": 23,
      "id": "76e7ab24",
      "metadata": {
        "colab": {
          "base_uri": "https://localhost:8080/"
        },
        "id": "76e7ab24",
        "outputId": "d9ad2c55-54d2-4549-e26e-1743ee1f2f01"
      },
      "outputs": [
        {
          "output_type": "stream",
          "name": "stdout",
          "text": [
            "coefficient of determination for training set: 0.9440577689216677\n"
          ]
        },
        {
          "output_type": "stream",
          "name": "stderr",
          "text": [
            "/usr/local/lib/python3.7/dist-packages/sklearn/linear_model/_coordinate_descent.py:648: ConvergenceWarning: Objective did not converge. You might want to increase the number of iterations, check the scale of the features or consider increasing regularisation. Duality gap: 6.577e+01, tolerance: 5.155e-02\n",
            "  coef_, l1_reg, l2_reg, X, y, max_iter, tol, rng, random, positive\n"
          ]
        },
        {
          "output_type": "execute_result",
          "data": {
            "text/plain": [
              "array([-0.00000000e+00, -0.00000000e+00, -1.71614305e-01, -2.29975526e-02,\n",
              "        9.06472452e-03,  1.48773525e-03,  8.17648546e-05, -4.48187956e-06,\n",
              "       -3.01061875e-06, -7.61260884e-07, -1.57889488e-07])"
            ]
          },
          "metadata": {},
          "execution_count": 23
        }
      ],
      "source": [
        "from sklearn.linear_model import Lasso\n",
        "lasso = Lasso(alpha=1.0)\n",
        "lasso.fit(xq5,y)\n",
        "r_sq = lasso.score(xq5,y)\n",
        "print(f\"coefficient of determination for training set: {r_sq}\")\n",
        "lasso.coef_"
      ]
    },
    {
      "cell_type": "markdown",
      "id": "eac5982b",
      "metadata": {
        "id": "eac5982b"
      },
      "source": [
        "#f and g\n",
        "From the the coefficient output, it is observed that the most important monomial is the first monomial "
      ]
    },
    {
      "cell_type": "code",
      "execution_count": 23,
      "id": "e760046d",
      "metadata": {
        "id": "e760046d"
      },
      "outputs": [],
      "source": []
    }
  ],
  "metadata": {
    "kernelspec": {
      "display_name": "Python 3 (ipykernel)",
      "language": "python",
      "name": "python3"
    },
    "language_info": {
      "codemirror_mode": {
        "name": "ipython",
        "version": 3
      },
      "file_extension": ".py",
      "mimetype": "text/x-python",
      "name": "python",
      "nbconvert_exporter": "python",
      "pygments_lexer": "ipython3",
      "version": "3.9.12"
    },
    "colab": {
      "provenance": [],
      "collapsed_sections": []
    }
  },
  "nbformat": 4,
  "nbformat_minor": 5
}