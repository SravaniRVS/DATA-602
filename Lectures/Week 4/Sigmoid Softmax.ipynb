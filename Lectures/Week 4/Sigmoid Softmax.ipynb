{
 "cells": [
  {
   "cell_type": "markdown",
   "metadata": {},
   "source": [
    "# $\\color{ForestGreen}{\\text{Sigmoid + Softmax}}$\n",
    "\n",
    "## $\\color{ForestGreen}{\\text{Sigmoid Function}}$"
   ]
  },
  {
   "cell_type": "code",
   "execution_count": 1,
   "metadata": {},
   "outputs": [
    {
     "data": {
      "image/png": "[encoded data removed]",
      "text/plain": [
       "<Figure size 576x360 with 1 Axes>"
      ]
     },
     "metadata": {
      "needs_background": "light"
     },
     "output_type": "display_data"
    }
   ],
   "source": [
    "import numpy as np\n",
    "import matplotlib.pyplot as plt\n",
    "import seaborn as sns\n",
    "\n",
    "def sigmoid(z):                   # Define sigmoid function \n",
    "    return 1/(1 + np.exp(-z))    \n",
    "\n",
    "x_vals = np.linspace(-6, 6, 200)\n",
    "y_vals = sigmoid(x_vals)\n",
    "\n",
    "sig_plot = sns.lineplot(x=x_vals, y=y_vals, label='Sigmoid')\n",
    "sig_plot.set_xlabel(\"x-axis\", fontsize=12)\n",
    "sig_plot.set_ylabel(\"y-axis\", fontsize=12)\n",
    "sig_plot.set_title(\"Graph of the Sigmoid Function\", fontsize=15)\n",
    "plt.gcf().set_size_inches(8, 5)\n",
    "plt.show()"
   ]
  },
  {
   "cell_type": "markdown",
   "metadata": {},
   "source": [
    "## $\\color{ForestGreen}{\\text{Softmax Function}}$"
   ]
  },
  {
   "cell_type": "code",
   "execution_count": 2,
   "metadata": {},
   "outputs": [
    {
     "name": "stdout",
     "output_type": "stream",
     "text": [
      "Softmax([100, 100])=[0.5 0.5]\n",
      "\n",
      "Softmax([7, 5])=[0.88079708 0.11920292]\n",
      "\n",
      "Softmax([1, 2, 0])=[0.24472847 0.66524096 0.09003057]\n",
      "\n",
      "Softmax([4, 2, -100])=[8.80797078e-01 1.19202922e-01 6.00136094e-46]\n",
      "\n",
      "Softmax([1, 2, 3, 4, 5])=[0.01165623 0.03168492 0.08612854 0.23412166 0.63640865]\n",
      "\n",
      "Softmax([-1, 2, 0, 1, -1, 3])=[0.01152193 0.23142412 0.03131985 0.08513618 0.01152193 0.62907599]\n",
      "\n"
     ]
    }
   ],
   "source": [
    "def softmax(x):                  # Define softmax function \n",
    "    e = np.exp(x)\n",
    "    return e/e.sum()\n",
    "\n",
    "examples = [[100, 100], [7, 5], [1, 2, 0], [4, 2, -100], [1, 2, 3, 4, 5], [-1, 2, 0, 1, -1, 3]]\n",
    "\n",
    "for x in examples:\n",
    "    print('Softmax(%s)=%s\\n' %(x, softmax(x)))"
   ]
  },
  {
   "cell_type": "code",
   "execution_count": 3,
   "metadata": {},
   "outputs": [
    {
     "name": "stdout",
     "output_type": "stream",
     "text": [
      "Softmax([3, 5, 6, 8])=[0.0056533  0.04177257 0.11354962 0.83902451]\n",
      "\n",
      "Softmax([3.5, 5.5, 6.5, 8.5])=[0.0056533  0.04177257 0.11354962 0.83902451]\n",
      "\n",
      "Softmax([-2, 0, 1, 3])=[0.0056533  0.04177257 0.11354962 0.83902451]\n",
      "\n",
      "Softmax([5, 7, 8, 10])=[0.0056533  0.04177257 0.11354962 0.83902451]\n",
      "\n"
     ]
    }
   ],
   "source": [
    "four_tuples = [[3, 5, 6, 8], [3.5, 5.5, 6.5, 8.5], [-2, 0, 1, 3], [5, 7, 8, 10]]\n",
    "\n",
    "for x in four_tuples:   # Calculating the softmax for above 4-tuples\n",
    "    print('Softmax(%s)=%s\\n' %(x, softmax(x)))"
   ]
  },
  {
   "cell_type": "code",
   "execution_count": null,
   "metadata": {},
   "outputs": [],
   "source": []
  }
 ],
 "metadata": {
  "kernelspec": {
   "display_name": "Python 3",
   "language": "python",
   "name": "python3"
  },
  "language_info": {
   "codemirror_mode": {
    "name": "ipython",
    "version": 3
   },
   "file_extension": ".py",
   "mimetype": "text/x-python",
   "name": "python",
   "nbconvert_exporter": "python",
   "pygments_lexer": "ipython3",
   "version": "3.9.1"
  }
 },
 "nbformat": 4,
 "nbformat_minor": 4
}
