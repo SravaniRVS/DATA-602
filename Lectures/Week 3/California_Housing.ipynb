{
 "cells": [
  {
   "cell_type": "markdown",
   "metadata": {},
   "source": [
    "# $\\color{ForestGreen}{\\text{California Housing Dataset}}$\n",
    "\n",
    "In here, we consider a more realistic example where we apply regularization. The following dataset contains the housing data of the state of California."
   ]
  },
  {
   "cell_type": "code",
   "execution_count": 1,
   "metadata": {},
   "outputs": [],
   "source": [
    "# Loading California housing dataset\n",
    "\n",
    "from sklearn.datasets import fetch_california_housing\n",
    "\n",
    "california_housing = fetch_california_housing(as_frame=True)"
   ]
  },
  {
   "cell_type": "code",
   "execution_count": 2,
   "metadata": {},
   "outputs": [
    {
     "name": "stdout",
     "output_type": "stream",
     "text": [
      ".. _california_housing_dataset:\n",
      "\n",
      "California Housing dataset\n",
      "--------------------------\n",
      "\n",
      "**Data Set Characteristics:**\n",
      "\n",
      "    :Number of Instances: 20640\n",
      "\n",
      "    :Number of Attributes: 8 numeric, predictive attributes and the target\n",
      "\n",
      "    :Attribute Information:\n",
      "        - MedInc        median income in block\n",
      "        - HouseAge      median house age in block\n",
      "        - AveRooms      average number of rooms\n",
      "        - AveBedrms     average number of bedrooms\n",
      "        - Population    block population\n",
      "        - AveOccup      average house occupancy\n",
      "        - Latitude      house block latitude\n",
      "        - Longitude     house block longitude\n",
      "\n",
      "    :Missing Attribute Values: None\n",
      "\n",
      "This dataset was obtained from the StatLib repository.\n",
      "http://lib.stat.cmu.edu/datasets/\n",
      "\n",
      "The target variable is the median house value for California districts.\n",
      "\n",
      "This dataset was derived from the 1990 U.S. census, using one row per census\n",
      "block group. A block group is the smallest geographical unit for which the U.S.\n",
      "Census Bureau publishes sample data (a block group typically has a population\n",
      "of 600 to 3,000 people).\n",
      "\n",
      "It can be downloaded/loaded using the\n",
      ":func:`sklearn.datasets.fetch_california_housing` function.\n",
      "\n",
      ".. topic:: References\n",
      "\n",
      "    - Pace, R. Kelley and Ronald Barry, Sparse Spatial Autoregressions,\n",
      "      Statistics and Probability Letters, 33 (1997) 291-297\n",
      "\n"
     ]
    }
   ],
   "source": [
    "# Finding the description of the involved variables\n",
    "\n",
    "print(california_housing.DESCR)"
   ]
  },
  {
   "cell_type": "code",
   "execution_count": 3,
   "metadata": {},
   "outputs": [],
   "source": [
    "# Defining a dataframe for the California housing dataset\n",
    "\n",
    "import numpy as np\n",
    "import pandas as pd\n",
    "\n",
    "ca_df = pd.DataFrame(california_housing.data)       # Defining dataframe ca_df \n",
    "ca_df.columns = california_housing.feature_names    # Defining the headers of the dataframe\n",
    "ca_df['Price'] = california_housing.target          # Adding Price column"
   ]
  },
  {
   "cell_type": "code",
   "execution_count": 4,
   "metadata": {},
   "outputs": [
    {
     "data": {
      "text/plain": [
       "(20640, 9)"
      ]
     },
     "execution_count": 4,
     "metadata": {},
     "output_type": "execute_result"
    }
   ],
   "source": [
    "ca_df.shape   # Shape of 'ca_df'"
   ]
  },
  {
   "cell_type": "code",
   "execution_count": 5,
   "metadata": {},
   "outputs": [
    {
     "data": {
      "text/html": [
       "<div>\n",
       "<style scoped>\n",
       "    .dataframe tbody tr th:only-of-type {\n",
       "        vertical-align: middle;\n",
       "    }\n",
       "\n",
       "    .dataframe tbody tr th {\n",
       "        vertical-align: top;\n",
       "    }\n",
       "\n",
       "    .dataframe thead th {\n",
       "        text-align: right;\n",
       "    }\n",
       "</style>\n",
       "<table border=\"1\" class=\"dataframe\">\n",
       "  <thead>\n",
       "    <tr style=\"text-align: right;\">\n",
       "      <th></th>\n",
       "      <th>MedInc</th>\n",
       "      <th>HouseAge</th>\n",
       "      <th>AveRooms</th>\n",
       "      <th>AveBedrms</th>\n",
       "      <th>Population</th>\n",
       "      <th>AveOccup</th>\n",
       "      <th>Latitude</th>\n",
       "      <th>Longitude</th>\n",
       "      <th>Price</th>\n",
       "    </tr>\n",
       "  </thead>\n",
       "  <tbody>\n",
       "    <tr>\n",
       "      <th>0</th>\n",
       "      <td>8.3252</td>\n",
       "      <td>41.0</td>\n",
       "      <td>6.984127</td>\n",
       "      <td>1.023810</td>\n",
       "      <td>322.0</td>\n",
       "      <td>2.555556</td>\n",
       "      <td>37.88</td>\n",
       "      <td>-122.23</td>\n",
       "      <td>4.526</td>\n",
       "    </tr>\n",
       "    <tr>\n",
       "      <th>1</th>\n",
       "      <td>8.3014</td>\n",
       "      <td>21.0</td>\n",
       "      <td>6.238137</td>\n",
       "      <td>0.971880</td>\n",
       "      <td>2401.0</td>\n",
       "      <td>2.109842</td>\n",
       "      <td>37.86</td>\n",
       "      <td>-122.22</td>\n",
       "      <td>3.585</td>\n",
       "    </tr>\n",
       "    <tr>\n",
       "      <th>2</th>\n",
       "      <td>7.2574</td>\n",
       "      <td>52.0</td>\n",
       "      <td>8.288136</td>\n",
       "      <td>1.073446</td>\n",
       "      <td>496.0</td>\n",
       "      <td>2.802260</td>\n",
       "      <td>37.85</td>\n",
       "      <td>-122.24</td>\n",
       "      <td>3.521</td>\n",
       "    </tr>\n",
       "    <tr>\n",
       "      <th>3</th>\n",
       "      <td>5.6431</td>\n",
       "      <td>52.0</td>\n",
       "      <td>5.817352</td>\n",
       "      <td>1.073059</td>\n",
       "      <td>558.0</td>\n",
       "      <td>2.547945</td>\n",
       "      <td>37.85</td>\n",
       "      <td>-122.25</td>\n",
       "      <td>3.413</td>\n",
       "    </tr>\n",
       "    <tr>\n",
       "      <th>4</th>\n",
       "      <td>3.8462</td>\n",
       "      <td>52.0</td>\n",
       "      <td>6.281853</td>\n",
       "      <td>1.081081</td>\n",
       "      <td>565.0</td>\n",
       "      <td>2.181467</td>\n",
       "      <td>37.85</td>\n",
       "      <td>-122.25</td>\n",
       "      <td>3.422</td>\n",
       "    </tr>\n",
       "  </tbody>\n",
       "</table>\n",
       "</div>"
      ],
      "text/plain": [
       "   MedInc  HouseAge  AveRooms  AveBedrms  Population  AveOccup  Latitude  \\\n",
       "0  8.3252      41.0  6.984127   1.023810       322.0  2.555556     37.88   \n",
       "1  8.3014      21.0  6.238137   0.971880      2401.0  2.109842     37.86   \n",
       "2  7.2574      52.0  8.288136   1.073446       496.0  2.802260     37.85   \n",
       "3  5.6431      52.0  5.817352   1.073059       558.0  2.547945     37.85   \n",
       "4  3.8462      52.0  6.281853   1.081081       565.0  2.181467     37.85   \n",
       "\n",
       "   Longitude  Price  \n",
       "0    -122.23  4.526  \n",
       "1    -122.22  3.585  \n",
       "2    -122.24  3.521  \n",
       "3    -122.25  3.413  \n",
       "4    -122.25  3.422  "
      ]
     },
     "execution_count": 5,
     "metadata": {},
     "output_type": "execute_result"
    }
   ],
   "source": [
    "ca_df.head()"
   ]
  },
  {
   "cell_type": "markdown",
   "metadata": {},
   "source": [
    "This time, we do not perform a correlation analysis. Instead, we use regularized regression. In particular, we use Lasso regression as a feature selection method."
   ]
  },
  {
   "cell_type": "code",
   "execution_count": 6,
   "metadata": {},
   "outputs": [],
   "source": [
    "# Defining the features and the target of the model\n",
    "\n",
    "features = ca_df.columns[:-1]      # Feature names \n",
    "target = ca_df.columns[-1]         # Target name\n",
    "\n",
    "X = ca_df[features].values         # Features\n",
    "y = ca_df[target].values           # Target "
   ]
  },
  {
   "cell_type": "code",
   "execution_count": 7,
   "metadata": {},
   "outputs": [],
   "source": [
    "# Breaking the data into train and test subsets\n",
    "\n",
    "from sklearn.model_selection import train_test_split\n",
    "\n",
    "X_train, X_test, y_train, y_test = train_test_split(X, y, test_size=0.3, random_state=3)"
   ]
  },
  {
   "cell_type": "markdown",
   "metadata": {},
   "source": [
    "## $\\color{ForestGreen}{\\text{Linear Regression without Regularization}}$"
   ]
  },
  {
   "cell_type": "code",
   "execution_count": 8,
   "metadata": {},
   "outputs": [
    {
     "name": "stdout",
     "output_type": "stream",
     "text": [
      "R^2 score for train dataset =  0.6097 \n",
      "\n",
      "Coefficients of Linear Model: [ 4.53053771e-01  1.01139824e-02 -1.30682277e-01  8.47640845e-01\n",
      " -3.48804147e-06 -3.35207458e-03 -4.23235312e-01 -4.37132608e-01] \n",
      "\n",
      "Intercept: -37.3622661064085\n"
     ]
    }
   ],
   "source": [
    "# Importing 'LinearRegression' through linear_model module\n",
    "\n",
    "from sklearn.linear_model import LinearRegression  \n",
    "\n",
    "reg = LinearRegression()         # Instantiate linear regression\n",
    "reg.fit(X_train, y_train)        # Fit the train data\n",
    "\n",
    "r2_train_score = reg.score(X_train, y_train)   # Calculating R^2 score for train data\n",
    "\n",
    "print('R^2 score for train dataset = ', round(r2_train_score, 4), '\\n')\n",
    "print('Coefficients of Linear Model:', reg.coef_, '\\n')\n",
    "print('Intercept:', reg.intercept_)"
   ]
  },
  {
   "cell_type": "code",
   "execution_count": 9,
   "metadata": {},
   "outputs": [
    {
     "name": "stdout",
     "output_type": "stream",
     "text": [
      "R^2 score for test dataset =  0.591 \n",
      "\n"
     ]
    }
   ],
   "source": [
    "# Finding the predictions of the model for test dataset\n",
    "\n",
    "y_pred = reg.predict(X_test)\n",
    "\n",
    "# Evaluating the performance of the model on the test dataset\n",
    "\n",
    "r2_test_score = reg.score(X_test, y_test)   # Calculating R^2 score for train\n",
    "\n",
    "print('R^2 score for test dataset = ', round(r2_test_score, 4), '\\n')"
   ]
  },
  {
   "cell_type": "markdown",
   "metadata": {},
   "source": [
    "## $\\color{ForestGreen}{\\text{Lasso Regression as a Feature Selection Method}}$"
   ]
  },
  {
   "cell_type": "code",
   "execution_count": 10,
   "metadata": {},
   "outputs": [
    {
     "name": "stdout",
     "output_type": "stream",
     "text": [
      "Penalty Factor: 0.0001\n",
      "R^2 score for train dataset =  0.6038 \n",
      "\n",
      "R^2 score for test dataset =  0.591 \n",
      "\n",
      "Coefficients of Linear Model: [ 0.41899438  0.01062602 -0.0643584   0.47283896 -0.         -0.00237304\n",
      " -0.36287832 -0.36864814] \n",
      "\n",
      "Intercept: -31.16400615808835 \n",
      "******************************\n",
      "Penalty Factor: 0.0002\n",
      "R^2 score for train dataset =  0.5866 \n",
      "\n",
      "R^2 score for test dataset =  0.591 \n",
      "\n",
      "Coefficients of Linear Model: [ 0.38581058  0.01102402 -0.          0.10660339 -0.         -0.00137014\n",
      " -0.30254781 -0.30014893] \n",
      "\n",
      "Intercept: -24.95696456533762 \n",
      "******************************\n",
      "Penalty Factor: 0.0004\n",
      "R^2 score for train dataset =  0.5464 \n",
      "\n",
      "R^2 score for test dataset =  0.591 \n",
      "\n",
      "Coefficients of Linear Model: [ 0.3890422   0.01152146 -0.          0.         -0.         -0.\n",
      " -0.13680877 -0.12416842] \n",
      "\n",
      "Intercept: -9.734187700554518 \n",
      "******************************\n",
      "Penalty Factor: 0.0005\n",
      "R^2 score for train dataset =  0.5206 \n",
      "\n",
      "R^2 score for test dataset =  0.591 \n",
      "\n",
      "Coefficients of Linear Model: [ 0.39110984  0.01185677 -0.          0.          0.         -0.\n",
      " -0.05968579 -0.04198419] \n",
      "\n",
      "Intercept: -2.67275447720176 \n",
      "******************************\n",
      "Penalty Factor: 0.001\n",
      "R^2 score for train dataset =  0.4829 \n",
      "\n",
      "R^2 score for test dataset =  0.591 \n",
      "\n",
      "Coefficients of Linear Model: [ 0.3616773   0.00713597 -0.          0.         -0.         -0.\n",
      " -0.         -0.        ] \n",
      "\n",
      "Intercept: 0.47017136998675 \n",
      "******************************\n",
      "Penalty Factor: 0.01\n",
      "R^2 score for train dataset =  0.0 \n",
      "\n",
      "R^2 score for test dataset =  0.591 \n",
      "\n",
      "Coefficients of Linear Model: [ 0.  0.  0. -0. -0. -0. -0. -0.] \n",
      "\n",
      "Intercept: 2.0751977311738647 \n",
      "******************************\n"
     ]
    }
   ],
   "source": [
    "# Importing 'LinearRegression' through linear_model module\n",
    "\n",
    "from sklearn.linear_model import Lasso  \n",
    "\n",
    "penalty_factor = [0.0001, 0.0002, 0.0004, 0.0005, 0.001, 0.01]\n",
    "\n",
    "for a in penalty_factor:\n",
    "    lasso = Lasso(alpha=a, max_iter=10e5, normalize=True, tol=1e-4)   # Instantiate lasso regression\n",
    "    lasso.fit(X_train, y_train)        # Fit the train data\n",
    "\n",
    "    r2_train_score = lasso.score(X_train, y_train)   # Calculating R^2 score for train dataset\n",
    "    y_pred = reg.predict(X_test)       # Finding predictions of the model for test dataset\n",
    "    r2_test_score = reg.score(X_test, y_test)        # Calculating R^2 score for test dataset\n",
    "\n",
    "    print('Penalty Factor:', a)\n",
    "    print('R^2 score for train dataset = ', round(r2_train_score, 4), '\\n')\n",
    "    print('R^2 score for test dataset = ', round(r2_test_score, 4), '\\n')\n",
    "    print('Coefficients of Linear Model:', lasso.coef_, '\\n')\n",
    "    print('Intercept:', lasso.intercept_, '\\n******************************')"
   ]
  },
  {
   "cell_type": "markdown",
   "metadata": {},
   "source": [
    "### $\\color{ForestGreen}{\\text{Comparing the Regularization Method and Correlation Results}}$\n",
    "\n",
    "In here, it would be appropriate to compare the results of the Lasso regression on feature selection with those of the Pearson correlation."
   ]
  },
  {
   "cell_type": "code",
   "execution_count": 11,
   "metadata": {},
   "outputs": [
    {
     "data": {
      "image/png": "[encoded data removed]",
      "text/plain": [
       "<Figure size 504x504 with 2 Axes>"
      ]
     },
     "metadata": {
      "needs_background": "light"
     },
     "output_type": "display_data"
    }
   ],
   "source": [
    "import matplotlib.pyplot as plt\n",
    "import seaborn as sns \n",
    "import mlxtend\n",
    "from mlxtend.plotting import heatmap\n",
    "\n",
    "cols = ca_df.columns     # List of colmuns of dataframe ca_df\n",
    "\n",
    "cm = np.corrcoef(ca_df[cols].values.T)     # Calculate Pearson correlation\n",
    "hm = heatmap(cm, figsize=(7,7), row_names=cols, column_names=cols)  # Represent correlation by a heat map\n",
    "plt.show()"
   ]
  },
  {
   "cell_type": "markdown",
   "metadata": {},
   "source": [
    "There are a couple of comments in order:\n",
    "\n",
    "- $\\textsf{MedInc}$ is by far the most significant feature for the target $\\textsf{Price}$.\n",
    "\n",
    "\n",
    "- The rest of the feature have little correlation with $\\textsf{Price}$. The next most significant feature is $\\textsf{AveRooms}$. Note that $\\textsf{AveRooms}$ and $\\textsf{AveBedrms}$ are *highly correlated*! Therefore, one should not consider both features independently. The same holds for $\\textsf{Latitude}$ and $\\textsf{Longitude}$ features.\n",
    "\n",
    "\n",
    "- It should be noted that although Lasso regression works with a different mechanism, it gives $\\textsf{MedInc}$ the greatest weight. \n",
    "\n",
    "\n",
    "- Lasso regularization (with appropriate penalty factor) sets the weights of $4$ features *exactly zero*. The rest of the nonzero weights (other than $\\textsf{MedInc}$) are small weights which shows that these features are relatively insignificant.\n",
    "\n",
    "As is observed from above the findings of Lasso regularization are in agreement with the results of Pearson correlation analysis."
   ]
  },
  {
   "cell_type": "code",
   "execution_count": null,
   "metadata": {},
   "outputs": [],
   "source": []
  }
 ],
 "metadata": {
  "kernelspec": {
   "display_name": "Python 3",
   "language": "python",
   "name": "python3"
  },
  "language_info": {
   "codemirror_mode": {
    "name": "ipython",
    "version": 3
   },
   "file_extension": ".py",
   "mimetype": "text/x-python",
   "name": "python",
   "nbconvert_exporter": "python",
   "pygments_lexer": "ipython3",
   "version": "3.9.1"
  }
 },
 "nbformat": 4,
 "nbformat_minor": 4
}
