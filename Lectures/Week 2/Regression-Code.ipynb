{
 "cells": [
  {
   "cell_type": "markdown",
   "metadata": {},
   "source": [
    "# $\\color{ForestGreen}{\\text{Coding for Regression Analysis}}$"
   ]
  },
  {
   "cell_type": "code",
   "execution_count": 1,
   "metadata": {},
   "outputs": [],
   "source": [
    "# Loading Boston housing dataset\n",
    "\n",
    "from sklearn.datasets import load_boston"
   ]
  },
  {
   "cell_type": "code",
   "execution_count": 2,
   "metadata": {},
   "outputs": [
    {
     "name": "stdout",
     "output_type": "stream",
     "text": [
      ".. _boston_dataset:\n",
      "\n",
      "Boston house prices dataset\n",
      "---------------------------\n",
      "\n",
      "**Data Set Characteristics:**  \n",
      "\n",
      "    :Number of Instances: 506 \n",
      "\n",
      "    :Number of Attributes: 13 numeric/categorical predictive. Median Value (attribute 14) is usually the target.\n",
      "\n",
      "    :Attribute Information (in order):\n",
      "        - CRIM     per capita crime rate by town\n",
      "        - ZN       proportion of residential land zoned for lots over 25,000 sq.ft.\n",
      "        - INDUS    proportion of non-retail business acres per town\n",
      "        - CHAS     Charles River dummy variable (= 1 if tract bounds river; 0 otherwise)\n",
      "        - NOX      nitric oxides concentration (parts per 10 million)\n",
      "        - RM       average number of rooms per dwelling\n",
      "        - AGE      proportion of owner-occupied units built prior to 1940\n",
      "        - DIS      weighted distances to five Boston employment centres\n",
      "        - RAD      index of accessibility to radial highways\n",
      "        - TAX      full-value property-tax rate per $10,000\n",
      "        - PTRATIO  pupil-teacher ratio by town\n",
      "        - B        1000(Bk - 0.63)^2 where Bk is the proportion of black people by town\n",
      "        - LSTAT    % lower status of the population\n",
      "        - MEDV     Median value of owner-occupied homes in $1000's\n",
      "\n",
      "    :Missing Attribute Values: None\n",
      "\n",
      "    :Creator: Harrison, D. and Rubinfeld, D.L.\n",
      "\n",
      "This is a copy of UCI ML housing dataset.\n",
      "https://archive.ics.uci.edu/ml/machine-learning-databases/housing/\n",
      "\n",
      "\n",
      "This dataset was taken from the StatLib library which is maintained at Carnegie Mellon University.\n",
      "\n",
      "The Boston house-price data of Harrison, D. and Rubinfeld, D.L. 'Hedonic\n",
      "prices and the demand for clean air', J. Environ. Economics & Management,\n",
      "vol.5, 81-102, 1978.   Used in Belsley, Kuh & Welsch, 'Regression diagnostics\n",
      "...', Wiley, 1980.   N.B. Various transformations are used in the table on\n",
      "pages 244-261 of the latter.\n",
      "\n",
      "The Boston house-price data has been used in many machine learning papers that address regression\n",
      "problems.   \n",
      "     \n",
      ".. topic:: References\n",
      "\n",
      "   - Belsley, Kuh & Welsch, 'Regression diagnostics: Identifying Influential Data and Sources of Collinearity', Wiley, 1980. 244-261.\n",
      "   - Quinlan,R. (1993). Combining Instance-Based and Model-Based Learning. In Proceedings on the Tenth International Conference of Machine Learning, 236-243, University of Massachusetts, Amherst. Morgan Kaufmann.\n",
      "\n"
     ]
    }
   ],
   "source": [
    "# Finding the description of the involved variables\n",
    "\n",
    "boston = load_boston()\n",
    "print(boston.DESCR)"
   ]
  },
  {
   "cell_type": "code",
   "execution_count": 3,
   "metadata": {},
   "outputs": [
    {
     "data": {
      "text/html": [
       "<div>\n",
       "<style scoped>\n",
       "    .dataframe tbody tr th:only-of-type {\n",
       "        vertical-align: middle;\n",
       "    }\n",
       "\n",
       "    .dataframe tbody tr th {\n",
       "        vertical-align: top;\n",
       "    }\n",
       "\n",
       "    .dataframe thead th {\n",
       "        text-align: right;\n",
       "    }\n",
       "</style>\n",
       "<table border=\"1\" class=\"dataframe\">\n",
       "  <thead>\n",
       "    <tr style=\"text-align: right;\">\n",
       "      <th></th>\n",
       "      <th>CRIM</th>\n",
       "      <th>ZN</th>\n",
       "      <th>INDUS</th>\n",
       "      <th>CHAS</th>\n",
       "      <th>NOX</th>\n",
       "      <th>RM</th>\n",
       "      <th>AGE</th>\n",
       "      <th>DIS</th>\n",
       "      <th>RAD</th>\n",
       "      <th>TAX</th>\n",
       "      <th>PTRATIO</th>\n",
       "      <th>B</th>\n",
       "      <th>LSTAT</th>\n",
       "      <th>PRICE</th>\n",
       "    </tr>\n",
       "  </thead>\n",
       "  <tbody>\n",
       "    <tr>\n",
       "      <th>0</th>\n",
       "      <td>0.00632</td>\n",
       "      <td>18.0</td>\n",
       "      <td>2.31</td>\n",
       "      <td>0.0</td>\n",
       "      <td>0.538</td>\n",
       "      <td>6.575</td>\n",
       "      <td>65.2</td>\n",
       "      <td>4.0900</td>\n",
       "      <td>1.0</td>\n",
       "      <td>296.0</td>\n",
       "      <td>15.3</td>\n",
       "      <td>396.90</td>\n",
       "      <td>4.98</td>\n",
       "      <td>24.0</td>\n",
       "    </tr>\n",
       "    <tr>\n",
       "      <th>1</th>\n",
       "      <td>0.02731</td>\n",
       "      <td>0.0</td>\n",
       "      <td>7.07</td>\n",
       "      <td>0.0</td>\n",
       "      <td>0.469</td>\n",
       "      <td>6.421</td>\n",
       "      <td>78.9</td>\n",
       "      <td>4.9671</td>\n",
       "      <td>2.0</td>\n",
       "      <td>242.0</td>\n",
       "      <td>17.8</td>\n",
       "      <td>396.90</td>\n",
       "      <td>9.14</td>\n",
       "      <td>21.6</td>\n",
       "    </tr>\n",
       "    <tr>\n",
       "      <th>2</th>\n",
       "      <td>0.02729</td>\n",
       "      <td>0.0</td>\n",
       "      <td>7.07</td>\n",
       "      <td>0.0</td>\n",
       "      <td>0.469</td>\n",
       "      <td>7.185</td>\n",
       "      <td>61.1</td>\n",
       "      <td>4.9671</td>\n",
       "      <td>2.0</td>\n",
       "      <td>242.0</td>\n",
       "      <td>17.8</td>\n",
       "      <td>392.83</td>\n",
       "      <td>4.03</td>\n",
       "      <td>34.7</td>\n",
       "    </tr>\n",
       "    <tr>\n",
       "      <th>3</th>\n",
       "      <td>0.03237</td>\n",
       "      <td>0.0</td>\n",
       "      <td>2.18</td>\n",
       "      <td>0.0</td>\n",
       "      <td>0.458</td>\n",
       "      <td>6.998</td>\n",
       "      <td>45.8</td>\n",
       "      <td>6.0622</td>\n",
       "      <td>3.0</td>\n",
       "      <td>222.0</td>\n",
       "      <td>18.7</td>\n",
       "      <td>394.63</td>\n",
       "      <td>2.94</td>\n",
       "      <td>33.4</td>\n",
       "    </tr>\n",
       "    <tr>\n",
       "      <th>4</th>\n",
       "      <td>0.06905</td>\n",
       "      <td>0.0</td>\n",
       "      <td>2.18</td>\n",
       "      <td>0.0</td>\n",
       "      <td>0.458</td>\n",
       "      <td>7.147</td>\n",
       "      <td>54.2</td>\n",
       "      <td>6.0622</td>\n",
       "      <td>3.0</td>\n",
       "      <td>222.0</td>\n",
       "      <td>18.7</td>\n",
       "      <td>396.90</td>\n",
       "      <td>5.33</td>\n",
       "      <td>36.2</td>\n",
       "    </tr>\n",
       "  </tbody>\n",
       "</table>\n",
       "</div>"
      ],
      "text/plain": [
       "      CRIM    ZN  INDUS  CHAS    NOX     RM   AGE     DIS  RAD    TAX  \\\n",
       "0  0.00632  18.0   2.31   0.0  0.538  6.575  65.2  4.0900  1.0  296.0   \n",
       "1  0.02731   0.0   7.07   0.0  0.469  6.421  78.9  4.9671  2.0  242.0   \n",
       "2  0.02729   0.0   7.07   0.0  0.469  7.185  61.1  4.9671  2.0  242.0   \n",
       "3  0.03237   0.0   2.18   0.0  0.458  6.998  45.8  6.0622  3.0  222.0   \n",
       "4  0.06905   0.0   2.18   0.0  0.458  7.147  54.2  6.0622  3.0  222.0   \n",
       "\n",
       "   PTRATIO       B  LSTAT  PRICE  \n",
       "0     15.3  396.90   4.98   24.0  \n",
       "1     17.8  396.90   9.14   21.6  \n",
       "2     17.8  392.83   4.03   34.7  \n",
       "3     18.7  394.63   2.94   33.4  \n",
       "4     18.7  396.90   5.33   36.2  "
      ]
     },
     "execution_count": 3,
     "metadata": {},
     "output_type": "execute_result"
    }
   ],
   "source": [
    "# Defining a dataframe for the Boston housing dataset\n",
    "\n",
    "import numpy as np\n",
    "import pandas as pd\n",
    "\n",
    "boston_df = pd.DataFrame(boston.data)       # Defining dataframe boston_df \n",
    "boston_df.columns = boston.feature_names    # Defining the headers of the dataframe\n",
    "boston_df['PRICE'] = boston.target          # Adding Price column\n",
    "\n",
    "boston_df.head()                            # Viewing the first few rows of dataframe"
   ]
  },
  {
   "cell_type": "markdown",
   "metadata": {},
   "source": [
    "$\\color{ForestGreen}{\\text{Calculating Pearson Correlation between Variables}}$\n",
    "\n",
    "Note that `CHAS` is a categorical variable, and we do not include it in the regression analysis. "
   ]
  },
  {
   "cell_type": "code",
   "execution_count": 4,
   "metadata": {},
   "outputs": [
    {
     "data": {
      "text/html": [
       "<div>\n",
       "<style scoped>\n",
       "    .dataframe tbody tr th:only-of-type {\n",
       "        vertical-align: middle;\n",
       "    }\n",
       "\n",
       "    .dataframe tbody tr th {\n",
       "        vertical-align: top;\n",
       "    }\n",
       "\n",
       "    .dataframe thead th {\n",
       "        text-align: right;\n",
       "    }\n",
       "</style>\n",
       "<table border=\"1\" class=\"dataframe\">\n",
       "  <thead>\n",
       "    <tr style=\"text-align: right;\">\n",
       "      <th></th>\n",
       "      <th>CRIM</th>\n",
       "      <th>ZN</th>\n",
       "      <th>INDUS</th>\n",
       "      <th>NOX</th>\n",
       "      <th>RM</th>\n",
       "      <th>AGE</th>\n",
       "      <th>DIS</th>\n",
       "      <th>RAD</th>\n",
       "      <th>TAX</th>\n",
       "      <th>PTRATIO</th>\n",
       "      <th>B</th>\n",
       "      <th>LSTAT</th>\n",
       "      <th>PRICE</th>\n",
       "    </tr>\n",
       "  </thead>\n",
       "  <tbody>\n",
       "    <tr>\n",
       "      <th>0</th>\n",
       "      <td>0.00632</td>\n",
       "      <td>18.0</td>\n",
       "      <td>2.31</td>\n",
       "      <td>0.538</td>\n",
       "      <td>6.575</td>\n",
       "      <td>65.2</td>\n",
       "      <td>4.0900</td>\n",
       "      <td>1.0</td>\n",
       "      <td>296.0</td>\n",
       "      <td>15.3</td>\n",
       "      <td>396.90</td>\n",
       "      <td>4.98</td>\n",
       "      <td>24.0</td>\n",
       "    </tr>\n",
       "    <tr>\n",
       "      <th>1</th>\n",
       "      <td>0.02731</td>\n",
       "      <td>0.0</td>\n",
       "      <td>7.07</td>\n",
       "      <td>0.469</td>\n",
       "      <td>6.421</td>\n",
       "      <td>78.9</td>\n",
       "      <td>4.9671</td>\n",
       "      <td>2.0</td>\n",
       "      <td>242.0</td>\n",
       "      <td>17.8</td>\n",
       "      <td>396.90</td>\n",
       "      <td>9.14</td>\n",
       "      <td>21.6</td>\n",
       "    </tr>\n",
       "    <tr>\n",
       "      <th>2</th>\n",
       "      <td>0.02729</td>\n",
       "      <td>0.0</td>\n",
       "      <td>7.07</td>\n",
       "      <td>0.469</td>\n",
       "      <td>7.185</td>\n",
       "      <td>61.1</td>\n",
       "      <td>4.9671</td>\n",
       "      <td>2.0</td>\n",
       "      <td>242.0</td>\n",
       "      <td>17.8</td>\n",
       "      <td>392.83</td>\n",
       "      <td>4.03</td>\n",
       "      <td>34.7</td>\n",
       "    </tr>\n",
       "    <tr>\n",
       "      <th>3</th>\n",
       "      <td>0.03237</td>\n",
       "      <td>0.0</td>\n",
       "      <td>2.18</td>\n",
       "      <td>0.458</td>\n",
       "      <td>6.998</td>\n",
       "      <td>45.8</td>\n",
       "      <td>6.0622</td>\n",
       "      <td>3.0</td>\n",
       "      <td>222.0</td>\n",
       "      <td>18.7</td>\n",
       "      <td>394.63</td>\n",
       "      <td>2.94</td>\n",
       "      <td>33.4</td>\n",
       "    </tr>\n",
       "    <tr>\n",
       "      <th>4</th>\n",
       "      <td>0.06905</td>\n",
       "      <td>0.0</td>\n",
       "      <td>2.18</td>\n",
       "      <td>0.458</td>\n",
       "      <td>7.147</td>\n",
       "      <td>54.2</td>\n",
       "      <td>6.0622</td>\n",
       "      <td>3.0</td>\n",
       "      <td>222.0</td>\n",
       "      <td>18.7</td>\n",
       "      <td>396.90</td>\n",
       "      <td>5.33</td>\n",
       "      <td>36.2</td>\n",
       "    </tr>\n",
       "  </tbody>\n",
       "</table>\n",
       "</div>"
      ],
      "text/plain": [
       "      CRIM    ZN  INDUS    NOX     RM   AGE     DIS  RAD    TAX  PTRATIO  \\\n",
       "0  0.00632  18.0   2.31  0.538  6.575  65.2  4.0900  1.0  296.0     15.3   \n",
       "1  0.02731   0.0   7.07  0.469  6.421  78.9  4.9671  2.0  242.0     17.8   \n",
       "2  0.02729   0.0   7.07  0.469  7.185  61.1  4.9671  2.0  242.0     17.8   \n",
       "3  0.03237   0.0   2.18  0.458  6.998  45.8  6.0622  3.0  222.0     18.7   \n",
       "4  0.06905   0.0   2.18  0.458  7.147  54.2  6.0622  3.0  222.0     18.7   \n",
       "\n",
       "        B  LSTAT  PRICE  \n",
       "0  396.90   4.98   24.0  \n",
       "1  396.90   9.14   21.6  \n",
       "2  392.83   4.03   34.7  \n",
       "3  394.63   2.94   33.4  \n",
       "4  396.90   5.33   36.2  "
      ]
     },
     "execution_count": 4,
     "metadata": {},
     "output_type": "execute_result"
    }
   ],
   "source": [
    "# Dropping 'CHAS' column\n",
    "\n",
    "boston_df = boston_df.drop(['CHAS'], axis=1)\n",
    "\n",
    "boston_df.head()"
   ]
  },
  {
   "cell_type": "code",
   "execution_count": 5,
   "metadata": {},
   "outputs": [
    {
     "data": {
      "image/png": "[encoded data removed]",
      "text/plain": [
       "<Figure size 720x720 with 2 Axes>"
      ]
     },
     "metadata": {
      "needs_background": "light"
     },
     "output_type": "display_data"
    }
   ],
   "source": [
    "import matplotlib.pyplot as plt\n",
    "import seaborn as sns \n",
    "import mlxtend\n",
    "from mlxtend.plotting import heatmap\n",
    "\n",
    "cols = boston_df.columns     # List of colmuns of dataframe boston_df\n",
    "\n",
    "cm = np.corrcoef(boston_df[cols].values.T)     # Calculate Pearson correlation\n",
    "hm = heatmap(cm, figsize=(10,10), row_names=cols, column_names=cols)  # Represent correlation by a heat map\n",
    "plt.show()"
   ]
  },
  {
   "cell_type": "markdown",
   "metadata": {},
   "source": [
    "The above matrix shows that `LSTAT` and `RM` have the highest correlations with the target variable `PRICE`. Therefore, as our first step in our regression, we identify `LSTAT` and `RM` as the two features to explain the target `PRICE`. Now, let's check the Spearman correlation. This is a cross check to make sure that we have not missed any inluential variable (on `PRICE`) that Pearson correlation hasn't been able to detect."
   ]
  },
  {
   "cell_type": "code",
   "execution_count": 6,
   "metadata": {},
   "outputs": [
    {
     "name": "stdout",
     "output_type": "stream",
     "text": [
      "Spearman correlation between PRICE and CRIM is -0.5589\n",
      "Spearman correlation between PRICE and ZN is 0.4382\n",
      "Spearman correlation between PRICE and INDUS is -0.5783\n",
      "Spearman correlation between PRICE and NOX is -0.5626\n",
      "Spearman correlation between PRICE and RM is 0.6336\n",
      "Spearman correlation between PRICE and AGE is -0.5476\n",
      "Spearman correlation between PRICE and DIS is 0.4459\n",
      "Spearman correlation between PRICE and RAD is -0.3468\n",
      "Spearman correlation between PRICE and TAX is -0.5624\n",
      "Spearman correlation between PRICE and PTRATIO is -0.5559\n",
      "Spearman correlation between PRICE and B is 0.1857\n",
      "Spearman correlation between PRICE and LSTAT is -0.8529\n"
     ]
    }
   ],
   "source": [
    "# Calculate Spearman correlation coefficient between 'PRICE' and each feature \n",
    "\n",
    "from scipy.stats import spearmanr    # For Spearman correlation\n",
    "\n",
    "for col in cols[:-1]:\n",
    "    rho, p = spearmanr(boston_df[col].values, boston_df['PRICE'].values)\n",
    "    print('Spearman correlation between PRICE and %s is %s' %(col, round(rho, 4)))"
   ]
  },
  {
   "cell_type": "markdown",
   "metadata": {},
   "source": [
    "It is again observed that the dominant effect comes from the two variables `LSTAT` (with $\\rho=-0.8529$) and `RM` (with $\\rho=0.6336$). The Pearson and Spearman correlations agree on the role of the dominant variables."
   ]
  },
  {
   "cell_type": "markdown",
   "metadata": {},
   "source": [
    "$\\color{ForestGreen}{\\text{Defining the Variables of the Model}}$"
   ]
  },
  {
   "cell_type": "code",
   "execution_count": 7,
   "metadata": {},
   "outputs": [],
   "source": [
    "# Defining the features and the target of the model\n",
    "\n",
    "X = boston_df[['LSTAT', 'RM']]     # Features\n",
    "y = boston_df.PRICE                # Target "
   ]
  },
  {
   "cell_type": "markdown",
   "metadata": {},
   "source": [
    "The linear model is now $y = \\omega_1 X_1 + \\omega_2 X_2 + \\omega_0$, where $X_1$ and $X_2$ refer to `LSTAT` and `RM`, respectively. $\\omega_1$ and $\\omega_2$ are the coefficients of regression, and the constant $\\omega_0$ is the intercept (*i.e.* bias term)."
   ]
  },
  {
   "cell_type": "code",
   "execution_count": 8,
   "metadata": {},
   "outputs": [],
   "source": [
    "# Breaking the data into train and test subsets\n",
    "\n",
    "from sklearn.model_selection import train_test_split\n",
    "\n",
    "X_train, X_test, y_train, y_test = train_test_split(X, y, test_size=0.3, random_state=3)"
   ]
  },
  {
   "cell_type": "markdown",
   "metadata": {},
   "source": [
    "## $\\color{ForestGreen}{\\text{Performing Regression through }\\textsf{scikit-learn}}$"
   ]
  },
  {
   "cell_type": "code",
   "execution_count": 9,
   "metadata": {},
   "outputs": [
    {
     "name": "stdout",
     "output_type": "stream",
     "text": [
      "R^2 score for train dataset =  0.6469 \n",
      "\n",
      "Coefficients of Linear Model: [-0.6965145  4.8839348] \n",
      "\n",
      "Intercept: 0.79005520961854\n"
     ]
    }
   ],
   "source": [
    "# Importing 'LinearRegression' through linear_model module\n",
    "\n",
    "from sklearn.linear_model import LinearRegression  \n",
    "\n",
    "reg = LinearRegression()         # Instantiate\n",
    "reg.fit(X_train, y_train)        # Fit the train data\n",
    "\n",
    "r2_train_score = reg.score(X_train, y_train)   # Calculating R^2 score for train\n",
    "\n",
    "print('R^2 score for train dataset = ', round(r2_train_score, 4), '\\n')\n",
    "print('Coefficients of Linear Model:', reg.coef_, '\\n')\n",
    "print('Intercept:', reg.intercept_)"
   ]
  },
  {
   "cell_type": "code",
   "execution_count": 10,
   "metadata": {},
   "outputs": [
    {
     "data": {
      "text/plain": [
       "array([38.27709025, 22.14882389, 25.23733249, 31.50462753, 26.04502872,\n",
       "       23.25264165, 19.60807021,  8.13929916, 25.19314285, 10.80728302])"
      ]
     },
     "execution_count": 10,
     "metadata": {},
     "output_type": "execute_result"
    }
   ],
   "source": [
    "# Finding the predictions of the model for test dataset\n",
    "\n",
    "y_pred = reg.predict(X_test)\n",
    "\n",
    "y_pred[:10]  # Representing the price prediction for the first 10 data points in test dataset"
   ]
  },
  {
   "cell_type": "code",
   "execution_count": 11,
   "metadata": {},
   "outputs": [
    {
     "name": "stdout",
     "output_type": "stream",
     "text": [
      "R^2 score for test dataset =  0.6117 \n",
      "\n"
     ]
    }
   ],
   "source": [
    "# Evaluating the performance of the model on the test dataset\n",
    "\n",
    "r2_test_score = reg.score(X_test, y_test)   # Calculating R^2 score for train\n",
    "\n",
    "print('R^2 score for test dataset = ', round(r2_test_score, 4), '\\n')"
   ]
  },
  {
   "cell_type": "code",
   "execution_count": 12,
   "metadata": {},
   "outputs": [
    {
     "data": {
      "image/png": "[encoded data removed]",
      "text/plain": [
       "<Figure size 576x360 with 1 Axes>"
      ]
     },
     "metadata": {
      "needs_background": "light"
     },
     "output_type": "display_data"
    }
   ],
   "source": [
    "# Let's plot predictions vs ground truth for 'PRICE'\n",
    "\n",
    "fig, ax = plt.subplots(figsize=(8,5))\n",
    "\n",
    "ax.scatter(y_test, y_pred, edgecolors=(0.3, 0.2, 0.7))  # Scatter plot for predictions vs truth\n",
    "ax.plot([y_test.min(), y_test.max()], [y_test.min(), y_test.max()], 'k--', lw=4)  # Draw line y=x\n",
    "\n",
    "ax.set_xlabel('Real Price')\n",
    "ax.set_ylabel('Predicted Price')\n",
    "plt.title('Prediction vs Ground Truth', fontdict=None, loc='center')\n",
    "plt.show()"
   ]
  },
  {
   "cell_type": "markdown",
   "metadata": {},
   "source": [
    "The closer a point in above plot is to the $y=x$ line, the more realistic the prediction for the `PRICE` is. "
   ]
  },
  {
   "cell_type": "markdown",
   "metadata": {},
   "source": [
    "## $\\color{ForestGreen}{\\text{Performing Regression through }\\textsf{StatsModels}}$\n",
    "\n",
    "An alternative to $\\textsf{scikit-learn}$ library is $\\textsf{StatsModels}$. We now solve the same problem using $\\textsf{StatsModels}$."
   ]
  },
  {
   "cell_type": "code",
   "execution_count": 13,
   "metadata": {},
   "outputs": [],
   "source": [
    "# Importing the statsmodels api\n",
    "\n",
    "import statsmodels.api as sm"
   ]
  },
  {
   "cell_type": "code",
   "execution_count": 14,
   "metadata": {},
   "outputs": [
    {
     "name": "stdout",
     "output_type": "stream",
     "text": [
      "Summary:\n",
      "                             OLS Regression Results                            \n",
      "==============================================================================\n",
      "Dep. Variable:                  PRICE   R-squared:                       0.647\n",
      "Model:                            OLS   Adj. R-squared:                  0.645\n",
      "Method:                 Least Squares   F-statistic:                     321.5\n",
      "Date:                Sat, 25 Jun 2022   Prob (F-statistic):           4.56e-80\n",
      "Time:                        13:17:43   Log-Likelihood:                -1108.2\n",
      "No. Observations:                 354   AIC:                             2222.\n",
      "Df Residuals:                     351   BIC:                             2234.\n",
      "Df Model:                           2                                         \n",
      "Covariance Type:            nonrobust                                         \n",
      "==============================================================================\n",
      "                 coef    std err          t      P>|t|      [0.025      0.975]\n",
      "------------------------------------------------------------------------------\n",
      "const          0.7901      3.855      0.205      0.838      -6.793       8.373\n",
      "LSTAT         -0.6965      0.052    -13.412      0.000      -0.799      -0.594\n",
      "RM             4.8839      0.543      8.994      0.000       3.816       5.952\n",
      "==============================================================================\n",
      "Omnibus:                      122.682   Durbin-Watson:                   1.746\n",
      "Prob(Omnibus):                  0.000   Jarque-Bera (JB):              425.653\n",
      "Skew:                           1.530   Prob(JB):                     3.72e-93\n",
      "Kurtosis:                       7.416   Cond. No.                         205.\n",
      "==============================================================================\n",
      "\n",
      "Notes:\n",
      "[1] Standard Errors assume that the covariance matrix of the errors is correctly specified.\n"
     ]
    }
   ],
   "source": [
    "XC_train = sm.add_constant(X_train)     # Creating the bias term omega_0\n",
    "model = sm.OLS(y_train, XC_train)       # Defining model and the data into the model\n",
    "results = model.fit()                   # Fitting the data into the model\n",
    "\n",
    "print('Summary:\\n', results.summary())  # Printing the summary of results"
   ]
  },
  {
   "cell_type": "code",
   "execution_count": 15,
   "metadata": {},
   "outputs": [
    {
     "name": "stdout",
     "output_type": "stream",
     "text": [
      "[38.27709025 22.14882389 25.23733249 31.50462753 26.04502872 23.25264165\n",
      " 19.60807021  8.13929916 25.19314285 10.80728302] \n",
      "\n",
      "[0. 0. 0. 0. 0. 0. 0. 0. 0. 0. 0. 0. 0. 0. 0. 0. 0. 0. 0. 0.]\n"
     ]
    }
   ],
   "source": [
    "XC_test = sm.add_constant(X_test)      # Adding bias for the test set\n",
    "y_pred_sm = results.predict(XC_test)   # Finding the predictions for the test set\n",
    "\n",
    "print(y_pred_sm.values[:10], '\\n')     # Printing the predictions for the test set\n",
    "\n",
    "# Let us compare the predictions of StatsModels with Scikit-learn\n",
    "\n",
    "rd_array = np.vectorize(round)                            # Rounding numpy arrays\n",
    "print(rd_array(y_pred[:20] - y_pred_sm.values[:20], 6))   # Subtract predictions of StatModels from Scikit-learn"
   ]
  },
  {
   "cell_type": "markdown",
   "metadata": {},
   "source": [
    "The above results show that the predictions of the $\\textsf{StatsModels}$ are in perfect agreement with those of $\\textsf{scikit-learn}$, as they should!"
   ]
  },
  {
   "cell_type": "markdown",
   "metadata": {},
   "source": [
    "## $\\color{ForestGreen}{\\text{Performing Regression using the Exact Formula}}$\n",
    "\n",
    "As you noticed, this dataset is not that big in size. Hence, we may find the *exact result* of regression through the exact formula we derived in the lecture: $\\omega^{\\mathsf{T}}=\\big(\\mathbb{X}^{\\mathsf{T}}\\mathbb{X}\\big)^{-1}\\,\\mathbb{X}^{\\mathsf{T}}\\mathbb{Y}$. We can easily implement this formula into code using $\\textsf{numpy}$."
   ]
  },
  {
   "cell_type": "code",
   "execution_count": 16,
   "metadata": {},
   "outputs": [],
   "source": [
    "# Defining a function to calculate omega from X and Y\n",
    "\n",
    "from numpy.linalg import inv     # Import 'inv' to calculate inverse matrix\n",
    "\n",
    "def exact_reg(X, Y):\n",
    "    X = np.insert(X, 0, np.ones(X.shape[0]), axis=1)               # Adding a column of 1's\n",
    "    OmegaT = np.matmul(inv(np.matmul(X.T, X)), np.matmul(X.T, Y))  # Using the exact formula\n",
    "    Y_hat = np.matmul(X, OmegaT)                                   # Predicted values of y\n",
    "    return OmegaT, Y_hat"
   ]
  },
  {
   "cell_type": "code",
   "execution_count": 17,
   "metadata": {},
   "outputs": [
    {
     "name": "stdout",
     "output_type": "stream",
     "text": [
      "The intercept and coefficients from exact formula: [ 0.79005521 -0.6965145   4.8839348 ] \n",
      "\n",
      "The intercept and coefficients from scikit-learn: [ 0.79005521 -0.6965145   4.8839348 ]\n"
     ]
    }
   ],
   "source": [
    "# Let's compare the exact results for coefficients and intercept with the results of scikit-learn\n",
    "\n",
    "print('The intercept and coefficients from exact formula:', exact_reg(X_train.values, y_train.values)[0],'\\n')\n",
    "\n",
    "print('The intercept and coefficients from scikit-learn:', np.insert(reg.coef_, 0, reg.intercept_))"
   ]
  },
  {
   "cell_type": "code",
   "execution_count": 18,
   "metadata": {},
   "outputs": [
    {
     "name": "stdout",
     "output_type": "stream",
     "text": [
      "Exact train R^2 score =  0.646888 \n",
      "\n",
      "Exact test R^2 score =  0.629446\n"
     ]
    }
   ],
   "source": [
    "# Calculate the exact R^2 scores\n",
    "\n",
    "y_hat_train = exact_reg(X_train.values, y_train.values)[1]    # Calculating predictions for train data\n",
    "y_hat_test = exact_reg(X_test.values, y_test.values)[1]       # Calculating predictions for test data\n",
    "\n",
    "from sklearn.metrics import r2_score                          # Importing r2_score from metrics module\n",
    "\n",
    "print('Exact train R^2 score = ', round(r2_score(y_train.values, y_hat_train), 6), '\\n')\n",
    "print('Exact test R^2 score = ', round(r2_score(y_test.values, y_hat_test), 6))"
   ]
  },
  {
   "cell_type": "markdown",
   "metadata": {},
   "source": [
    "The above $R^2$ scores are in perfect agreement with those obtained by $\\textsf{scikit-learn}$!"
   ]
  },
  {
   "cell_type": "code",
   "execution_count": null,
   "metadata": {},
   "outputs": [],
   "source": []
  }
 ],
 "metadata": {
  "kernelspec": {
   "display_name": "Python 3",
   "language": "python",
   "name": "python3"
  },
  "language_info": {
   "codemirror_mode": {
    "name": "ipython",
    "version": 3
   },
   "file_extension": ".py",
   "mimetype": "text/x-python",
   "name": "python",
   "nbconvert_exporter": "python",
   "pygments_lexer": "ipython3",
   "version": "3.9.1"
  }
 },
 "nbformat": 4,
 "nbformat_minor": 4
}
