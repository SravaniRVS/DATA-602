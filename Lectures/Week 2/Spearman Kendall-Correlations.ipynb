{
 "cells": [
  {
   "cell_type": "markdown",
   "metadata": {},
   "source": [
    "# $\\color{ForestGreen}{\\text{Spearman Rank Correlation Coefficient in }\\textsf{scipy}}$"
   ]
  },
  {
   "cell_type": "code",
   "execution_count": 1,
   "metadata": {},
   "outputs": [
    {
     "name": "stdout",
     "output_type": "stream",
     "text": [
      "Spearmans correlation coefficient rho = 0.9734 \n",
      "\n",
      "Spearmans correlation p-value = 0.00000 \n",
      "\n",
      "Kendall correlation coefficient tau = 0.8495 \n",
      "\n",
      "Kendall correlation p-value = 0.00000\n"
     ]
    }
   ],
   "source": [
    "# Import the necessary libraries\n",
    "\n",
    "from numpy.random import rand\n",
    "from scipy.stats import spearmanr    # For Spearman correlation\n",
    "from scipy.stats import kendalltau   # For Kendall correlation\n",
    "\n",
    "# Create a toy dataset\n",
    "\n",
    "x = rand(1000) * 20          # create a feature x as numpy array\n",
    "\n",
    "y = x + (rand(1000) * 5)     # creat a target y by adding some noise to x \n",
    "\n",
    "# Calculate the coefficient rho and its associated p-value\n",
    "\n",
    "rho, p = spearmanr(x, y)\n",
    "\n",
    "print('Spearmans correlation coefficient rho = %.4f' % rho, '\\n')\n",
    "print('Spearmans correlation p-value = %.5f' % p, '\\n')\n",
    "\n",
    "# If p-value < alpha (level of significance) H_0 is rejected --> There is correlation between x and y.\n",
    "\n",
    "# Note H_0: There is no correlation between x and y.\n",
    "# Note H_1: x and y are correlated.\n",
    "\n",
    "# Similarly, you can calculate the Kendall correlation\n",
    "\n",
    "tau, p = kendalltau(x, y)\n",
    "\n",
    "print('Kendall correlation coefficient tau = %.4f' % tau, '\\n')\n",
    "print('Kendall correlation p-value = %.5f' % p)"
   ]
  },
  {
   "cell_type": "code",
   "execution_count": null,
   "metadata": {},
   "outputs": [],
   "source": []
  }
 ],
 "metadata": {
  "kernelspec": {
   "display_name": "Python 3",
   "language": "python",
   "name": "python3"
  },
  "language_info": {
   "codemirror_mode": {
    "name": "ipython",
    "version": 3
   },
   "file_extension": ".py",
   "mimetype": "text/x-python",
   "name": "python",
   "nbconvert_exporter": "python",
   "pygments_lexer": "ipython3",
   "version": "3.9.1"
  }
 },
 "nbformat": 4,
 "nbformat_minor": 4
}
