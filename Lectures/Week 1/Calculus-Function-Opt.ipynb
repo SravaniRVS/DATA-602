{
 "cells": [
  {
   "cell_type": "markdown",
   "metadata": {},
   "source": [
    "# $\\color{ForestGreen}{\\text{Function Optimization in Calculus}}$"
   ]
  },
  {
   "cell_type": "markdown",
   "metadata": {},
   "source": [
    "## $\\color{ForestGreen}{\\text{Single Variable Functions}}$"
   ]
  },
  {
   "cell_type": "code",
   "execution_count": 1,
   "metadata": {},
   "outputs": [
    {
     "data": {
      "text/latex": [
       "$\\displaystyle x^{3} - 12 x$"
      ],
      "text/plain": [
       "x**3 - 12*x"
      ]
     },
     "execution_count": 1,
     "metadata": {},
     "output_type": "execute_result"
    }
   ],
   "source": [
    "# Import sympy library\n",
    "\n",
    "from sympy import * \n",
    "\n",
    "x = symbols('x')           # Define 'x' as a symbol\n",
    "f = Function('f')('x')     # Define function 'f' with variable 'x'\n",
    "\n",
    "f = x**3 - 12*x            # Replacing the example's expression for 'f' \n",
    "\n",
    "f                          # Display 'f'"
   ]
  },
  {
   "cell_type": "code",
   "execution_count": 2,
   "metadata": {},
   "outputs": [
    {
     "data": {
      "image/png": "[encoded data removed]",
      "text/plain": [
       "<Figure size 432x288 with 1 Axes>"
      ]
     },
     "metadata": {
      "needs_background": "light"
     },
     "output_type": "display_data"
    }
   ],
   "source": [
    "p1 = plot(f, (x, -5, 5), show=True)  # Plot graph of function 'f'"
   ]
  },
  {
   "cell_type": "code",
   "execution_count": 3,
   "metadata": {},
   "outputs": [
    {
     "data": {
      "text/latex": [
       "$\\displaystyle 3 x^{2} - 12$"
      ],
      "text/plain": [
       "3*x**2 - 12"
      ]
     },
     "execution_count": 3,
     "metadata": {},
     "output_type": "execute_result"
    }
   ],
   "source": [
    "fp = f.diff(x)   # Take derivative of 'f' by 'function_name.diff(variable_name)'\n",
    "fp               # Display the first derivative of 'f'"
   ]
  },
  {
   "cell_type": "code",
   "execution_count": 4,
   "metadata": {},
   "outputs": [
    {
     "data": {
      "text/plain": [
       "[-2, 2]"
      ]
     },
     "execution_count": 4,
     "metadata": {},
     "output_type": "execute_result"
    }
   ],
   "source": [
    "eq1 = Eq(fp, 0)     # Define an equation by 'Eq(left_side, right_side)'\n",
    "sol1 = solve(eq1)   # Solve an equation by 'solve(equation_name)'\n",
    "\n",
    "sol1                # Display the solution set "
   ]
  },
  {
   "cell_type": "code",
   "execution_count": 5,
   "metadata": {},
   "outputs": [
    {
     "data": {
      "text/latex": [
       "$\\displaystyle -12$"
      ],
      "text/plain": [
       "-12"
      ]
     },
     "metadata": {},
     "output_type": "display_data"
    },
    {
     "data": {
      "text/latex": [
       "$\\displaystyle 12$"
      ],
      "text/plain": [
       "12"
      ]
     },
     "metadata": {},
     "output_type": "display_data"
    }
   ],
   "source": [
    "fpp = f.diff(x, 2)    # Find the second derivative of 'f'\n",
    "\n",
    "display(fpp.subs(x, sol1[0]))  # Evaluate the second derivative of 'f' at first critical point\n",
    "display(fpp.subs(x, sol1[1]))  # Evaluate the second derivative of 'f' at second critical point"
   ]
  },
  {
   "cell_type": "code",
   "execution_count": 6,
   "metadata": {},
   "outputs": [],
   "source": [
    "# Define a function to decide about the nature of a given critical point of a given function\n",
    "\n",
    "def critical_point_type(cr_pt, f, var):\n",
    "    cr_pt = {var: cr_pt}\n",
    "    fxx = diff(f, var, 2).subs(cr_pt)   # Evaluating second derivative at a critical point\n",
    "    if fxx > 0:                         # Applying the second derivative test\n",
    "        string = 'local minimum'\n",
    "    elif fxx < 0:\n",
    "        string = 'local maximum'\n",
    "    else:\n",
    "        string = 'inconclusive!'\n",
    "    return string"
   ]
  },
  {
   "cell_type": "code",
   "execution_count": 7,
   "metadata": {},
   "outputs": [
    {
     "name": "stdout",
     "output_type": "stream",
     "text": [
      "Critical point x=-2 is a local maximum.\n",
      "\n",
      "Critical point x=2 is a local minimum.\n"
     ]
    }
   ],
   "source": [
    "# Displaying the nature of the two critical points\n",
    "\n",
    "print('Critical point x=%s is a %s.\\n' %(sol1[0], critical_point_type(sol1[0], f, x)))\n",
    "print('Critical point x=%s is a %s.' %(sol1[1], critical_point_type(sol1[1], f, x)))"
   ]
  },
  {
   "cell_type": "markdown",
   "metadata": {},
   "source": [
    "## $\\color{ForestGreen}{\\text{Multivariable Functions}}$"
   ]
  },
  {
   "cell_type": "code",
   "execution_count": 8,
   "metadata": {},
   "outputs": [
    {
     "data": {
      "text/latex": [
       "$\\displaystyle 3 x^{2} y^{2} + x^{2} - 12 x y + 2 x + 15$"
      ],
      "text/plain": [
       "3*x**2*y**2 + x**2 - 12*x*y + 2*x + 15"
      ]
     },
     "metadata": {},
     "output_type": "display_data"
    }
   ],
   "source": [
    "x, y = symbols('x y')           # Define 'x' and 'y' as symbols\n",
    "g = Function('g')(x, y)         # Define function 'g' with variables 'x' and 'y'\n",
    "\n",
    "g = 3*x**2*y**2 + x**2 - 12*x*y + 2*x + 15  # Specifying the defining expresion for 'g'\n",
    "\n",
    "display(g)                      # Display the function"
   ]
  },
  {
   "cell_type": "code",
   "execution_count": 9,
   "metadata": {},
   "outputs": [
    {
     "data": {
      "text/latex": [
       "$\\displaystyle 6 x y^{2} + 2 x - 12 y + 2$"
      ],
      "text/plain": [
       "6*x*y**2 + 2*x - 12*y + 2"
      ]
     },
     "metadata": {},
     "output_type": "display_data"
    },
    {
     "data": {
      "text/latex": [
       "$\\displaystyle 6 x^{2} y - 12 x$"
      ],
      "text/plain": [
       "6*x**2*y - 12*x"
      ]
     },
     "metadata": {},
     "output_type": "display_data"
    }
   ],
   "source": [
    "gx = diff(g, x)  # Differentiate 'g' with respect to 'x'\n",
    "gy = diff(g, y)  # Differentiate 'g' with respect to 'x'\n",
    "\n",
    "display(gx, gy)  # Display partial derivatives of 'g'"
   ]
  },
  {
   "cell_type": "code",
   "execution_count": 10,
   "metadata": {},
   "outputs": [
    {
     "data": {
      "text/plain": [
       "[{x: -1, y: -2}, {x: 0, y: 1/6}]"
      ]
     },
     "metadata": {},
     "output_type": "display_data"
    },
    {
     "name": "stdout",
     "output_type": "stream",
     "text": [
      "Number of critical points: 2\n"
     ]
    }
   ],
   "source": [
    "eqs = [Eq(gx, 0), Eq(gy, 0)]   # Define two equations for the two partial derivatives\n",
    "sol = solve(eqs)               # Solve the partial derivative equations to find critical points of 'g'\n",
    "\n",
    "display(sol)                   # Display the solution set (i.e. critical points)\n",
    "\n",
    "print('Number of critical points:', len(sol))   # Find number of critical points"
   ]
  },
  {
   "cell_type": "code",
   "execution_count": 11,
   "metadata": {},
   "outputs": [],
   "source": [
    "# Define a function to calculate the Hessian matrix\n",
    "\n",
    "def hessian(f, var):\n",
    "    return Matrix([[simplify(diff(f, var[i], var[j])) for j in range(len(var))] for i in range(len(var))])"
   ]
  },
  {
   "cell_type": "code",
   "execution_count": 12,
   "metadata": {},
   "outputs": [
    {
     "data": {
      "text/latex": [
       "$\\displaystyle \\left[\\begin{matrix}6 y^{2} + 2 & 12 x y - 12\\\\12 x y - 12 & 6 x^{2}\\end{matrix}\\right]$"
      ],
      "text/plain": [
       "Matrix([\n",
       "[ 6*y**2 + 2, 12*x*y - 12],\n",
       "[12*x*y - 12,      6*x**2]])"
      ]
     },
     "metadata": {},
     "output_type": "display_data"
    }
   ],
   "source": [
    "var = [x, y]            # Set of variables\n",
    "\n",
    "hess = hessian(g, var)  # Calculate Hessian of 'g'\n",
    "\n",
    "display(hess)           # Display Hessian matrix"
   ]
  },
  {
   "cell_type": "code",
   "execution_count": 13,
   "metadata": {},
   "outputs": [
    {
     "data": {
      "text/latex": [
       "$\\displaystyle \\left[\\begin{matrix}26 & 12\\\\12 & 6\\end{matrix}\\right]$"
      ],
      "text/plain": [
       "Matrix([\n",
       "[26, 12],\n",
       "[12,  6]])"
      ]
     },
     "metadata": {},
     "output_type": "display_data"
    },
    {
     "data": {
      "text/latex": [
       "$\\displaystyle \\left[\\begin{matrix}\\frac{13}{6} & -12\\\\-12 & 0\\end{matrix}\\right]$"
      ],
      "text/plain": [
       "Matrix([\n",
       "[13/6, -12],\n",
       "[ -12,   0]])"
      ]
     },
     "metadata": {},
     "output_type": "display_data"
    }
   ],
   "source": [
    "hess0 = hess.subs(sol[0])  # Evalute Hessian at 1st critical point\n",
    "hess1 = hess.subs(sol[1])  # Evalute Hessian at 2nd critical point\n",
    "\n",
    "display(hess0, hess1)      # Display Hessian at the two critical points"
   ]
  },
  {
   "cell_type": "code",
   "execution_count": 14,
   "metadata": {},
   "outputs": [
    {
     "name": "stdout",
     "output_type": "stream",
     "text": [
      "[16 - 2*sqrt(61), 2*sqrt(61) + 16] [13/12 - sqrt(20905)/12, 13/12 + sqrt(20905)/12] \n",
      "\n",
      "Eigenvalues of Hessian at critical point {x: -1, y: -2} are [0.380, 31.6]\n",
      "Eigenvalues of Hessian at critical point {x: 0, y: 1/6} are [-11.0, 13.1]\n"
     ]
    }
   ],
   "source": [
    "l0 = list(hess0.eigenvals().keys())   # Calculate the eigenvalues of Hessian at 1st critical point\n",
    "l1 = list(hess1.eigenvals().keys())   # Calculate the eigenvalues of Hessian at 2nd critical point\n",
    "\n",
    "print(l0, l1, '\\n')                   # Show the exact eigenvalues\n",
    "\n",
    "l0 = [l0[i].evalf(3) for i in range(len(l0))]   # Convert eigenvalues to float \n",
    "l1 = [l1[i].evalf(3) for i in range(len(l1))]   # Convert eigenvalues to float\n",
    "\n",
    "print('Eigenvalues of Hessian at critical point %s are %s' %(sol[0], l0))   # Show the results\n",
    "print('Eigenvalues of Hessian at critical point %s are %s' %(sol[1], l1))"
   ]
  },
  {
   "cell_type": "code",
   "execution_count": 15,
   "metadata": {},
   "outputs": [],
   "source": [
    "# Define a function to decide about the nature of a given critical point of a given function\n",
    "\n",
    "def critical_point_type(cr_pt, f, var):\n",
    "    hess = hessian(f, var).subs(cr_pt)   # Evalating Hessian at the critical point\n",
    "    l = list(hess.eigenvals().keys())    # Finding eigenvalues of the Hessian\n",
    "    count = 0                            # Setting a counter\n",
    "    for k in l:\n",
    "        if k>0:\n",
    "            count += 1                   # Counting the number of positive eigenvalues \n",
    "    if 0 in l:                           # Applying the second derivative test (multivariable case)\n",
    "        string = 'The second derivative test is inconclusive'\n",
    "    else:\n",
    "        if count == 0:\n",
    "            string = 'local maximum'\n",
    "        elif count == len(l):\n",
    "            string = 'local minimum'\n",
    "        else:\n",
    "            string = 'saddle point'\n",
    "    return string"
   ]
  },
  {
   "cell_type": "code",
   "execution_count": 16,
   "metadata": {},
   "outputs": [
    {
     "name": "stdout",
     "output_type": "stream",
     "text": [
      "Critical point {x: -1, y: -2} is a local minimum.\n",
      "\n",
      "Critical point {x: 0, y: 1/6} is a saddle point.\n"
     ]
    }
   ],
   "source": [
    "# Displaying the nature of the two critical points\n",
    "\n",
    "print('Critical point %s is a %s.\\n' %(sol[0], critical_point_type(sol[0], g, var)))\n",
    "print('Critical point %s is a %s.' %(sol[1], critical_point_type(sol[1], g, var)))"
   ]
  },
  {
   "cell_type": "code",
   "execution_count": null,
   "metadata": {},
   "outputs": [],
   "source": []
  }
 ],
 "metadata": {
  "kernelspec": {
   "display_name": "Python 3",
   "language": "python",
   "name": "python3"
  },
  "language_info": {
   "codemirror_mode": {
    "name": "ipython",
    "version": 3
   },
   "file_extension": ".py",
   "mimetype": "text/x-python",
   "name": "python",
   "nbconvert_exporter": "python",
   "pygments_lexer": "ipython3",
   "version": "3.9.1"
  }
 },
 "nbformat": 4,
 "nbformat_minor": 4
}
