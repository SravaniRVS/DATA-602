{
 "cells": [
  {
   "cell_type": "markdown",
   "metadata": {},
   "source": [
    "# $\\color{ForestGreen}{\\text{Eigenvalue Problems in Linear Algebra}}$"
   ]
  },
  {
   "cell_type": "markdown",
   "metadata": {},
   "source": [
    "## $\\color{ForestGreen}{\\text{Matrix Multiplication}}$"
   ]
  },
  {
   "cell_type": "code",
   "execution_count": 1,
   "metadata": {},
   "outputs": [
    {
     "data": {
      "text/plain": [
       "array([[ 13,  -5,  29,  12],\n",
       "       [-13,   2,  -5,   9]])"
      ]
     },
     "execution_count": 1,
     "metadata": {},
     "output_type": "execute_result"
    }
   ],
   "source": [
    "# Import 'numpy' library\n",
    "\n",
    "import numpy as np\n",
    "\n",
    "A = np.array([[1, 3, 4], [2, -1, -2]])      # Define matrix 'A' as a numpy array\n",
    "B = np.array([[-2, -1, 4, 5], [-3, 4, -1, 5], [6, -4, 7, -2]])     # Define matrix 'B' as a numpy array\n",
    "\n",
    "np.matmul(A, B)       # Calculate matrix 'AB' through 'matmul' "
   ]
  },
  {
   "cell_type": "code",
   "execution_count": 2,
   "metadata": {},
   "outputs": [
    {
     "data": {
      "text/latex": [
       "$\\displaystyle \\left[\\begin{matrix}1 & 3 & 4\\\\2 & -1 & -2\\end{matrix}\\right]$"
      ],
      "text/plain": [
       "Matrix([\n",
       "[1,  3,  4],\n",
       "[2, -1, -2]])"
      ]
     },
     "metadata": {},
     "output_type": "display_data"
    },
    {
     "data": {
      "text/latex": [
       "$\\displaystyle \\left[\\begin{matrix}-2 & -1 & 4 & 5\\\\-3 & 4 & -1 & 5\\\\6 & -4 & 7 & -2\\end{matrix}\\right]$"
      ],
      "text/plain": [
       "Matrix([\n",
       "[-2, -1,  4,  5],\n",
       "[-3,  4, -1,  5],\n",
       "[ 6, -4,  7, -2]])"
      ]
     },
     "metadata": {},
     "output_type": "display_data"
    }
   ],
   "source": [
    "# Import 'sympy' library\n",
    "\n",
    "from sympy import *\n",
    "\n",
    "mat_A = Matrix(A)    # Define matrix 'A'\n",
    "mat_B = Matrix(B)    # Define matrix 'B'\n",
    "\n",
    "display(mat_A, mat_B)  # Display matrices 'A' and 'B'"
   ]
  },
  {
   "cell_type": "code",
   "execution_count": 3,
   "metadata": {},
   "outputs": [
    {
     "data": {
      "text/latex": [
       "$\\displaystyle \\left[\\begin{matrix}13 & -5 & 29 & 12\\\\-13 & 2 & -5 & 9\\end{matrix}\\right]$"
      ],
      "text/plain": [
       "Matrix([\n",
       "[ 13, -5, 29, 12],\n",
       "[-13,  2, -5,  9]])"
      ]
     },
     "metadata": {},
     "output_type": "display_data"
    }
   ],
   "source": [
    "mat_AB = mat_A*mat_B   # Matrix multiplication in sympy is done by '*'\n",
    "\n",
    "display(mat_AB)        # Display the result of multiplication"
   ]
  },
  {
   "cell_type": "markdown",
   "metadata": {},
   "source": [
    "## $\\color{ForestGreen}{\\text{Determinants and Inverse Matrix}}$"
   ]
  },
  {
   "cell_type": "code",
   "execution_count": 4,
   "metadata": {},
   "outputs": [
    {
     "data": {
      "text/plain": [
       "12.000000000000048"
      ]
     },
     "execution_count": 4,
     "metadata": {},
     "output_type": "execute_result"
    }
   ],
   "source": [
    "A = np.array([[3, 2, -1, 4], [-2, 3, 5, -3], [1, 2, -3, 5], [4, -3, 1, -2]])  # Define matrix 'A' as a numpy array\n",
    "\n",
    "np.linalg.det(A)  # To calculate determinant, you need to call the 'linalg' module of numpy"
   ]
  },
  {
   "cell_type": "code",
   "execution_count": 5,
   "metadata": {},
   "outputs": [
    {
     "data": {
      "text/latex": [
       "$\\displaystyle 12$"
      ],
      "text/plain": [
       "12"
      ]
     },
     "execution_count": 5,
     "metadata": {},
     "output_type": "execute_result"
    }
   ],
   "source": [
    "mat_A = Matrix(A)   # Define matrix 'A'\n",
    "\n",
    "mat_A.det()         # calculate the determinant simply by joining '.det()' to the name of matrix"
   ]
  },
  {
   "cell_type": "code",
   "execution_count": 6,
   "metadata": {},
   "outputs": [
    {
     "data": {
      "text/plain": [
       "2.9999999999999996"
      ]
     },
     "execution_count": 6,
     "metadata": {},
     "output_type": "execute_result"
    }
   ],
   "source": [
    "B = np.array([[1, -2, 2, -1], [2, -2, 2, 1], [2, -1, 2, -1], [1, -1, 1, 2]]) # Define matrix 'B' as a numpy array\n",
    "\n",
    "np.linalg.det(B)    # Calculate determinant of 'B'"
   ]
  },
  {
   "cell_type": "code",
   "execution_count": 7,
   "metadata": {},
   "outputs": [
    {
     "data": {
      "text/plain": [
       "array([[-1.        ,  1.66666667,  0.        , -1.33333333],\n",
       "       [-0.        , -1.66666667,  1.        ,  1.33333333],\n",
       "       [ 1.        , -2.66666667,  1.        ,  2.33333333],\n",
       "       [ 0.        , -0.33333333,  0.        ,  0.66666667]])"
      ]
     },
     "execution_count": 7,
     "metadata": {},
     "output_type": "execute_result"
    }
   ],
   "source": [
    "np.linalg.inv(B)    # Calculate inverse of 'B' through '.inv(matrix name)'"
   ]
  },
  {
   "cell_type": "code",
   "execution_count": 8,
   "metadata": {},
   "outputs": [
    {
     "data": {
      "text/latex": [
       "$\\displaystyle 3$"
      ],
      "text/plain": [
       "3"
      ]
     },
     "execution_count": 8,
     "metadata": {},
     "output_type": "execute_result"
    }
   ],
   "source": [
    "mat_B = Matrix(B)  # Define matrix 'B'\n",
    "\n",
    "mat_B.det()        # Calculate determinant of 'B'"
   ]
  },
  {
   "cell_type": "code",
   "execution_count": 9,
   "metadata": {},
   "outputs": [
    {
     "data": {
      "text/latex": [
       "$\\displaystyle \\left[\\begin{matrix}-1 & \\frac{5}{3} & 0 & - \\frac{4}{3}\\\\0 & - \\frac{5}{3} & 1 & \\frac{4}{3}\\\\1 & - \\frac{8}{3} & 1 & \\frac{7}{3}\\\\0 & - \\frac{1}{3} & 0 & \\frac{2}{3}\\end{matrix}\\right]$"
      ],
      "text/plain": [
       "Matrix([\n",
       "[-1,  5/3, 0, -4/3],\n",
       "[ 0, -5/3, 1,  4/3],\n",
       "[ 1, -8/3, 1,  7/3],\n",
       "[ 0, -1/3, 0,  2/3]])"
      ]
     },
     "metadata": {},
     "output_type": "display_data"
    }
   ],
   "source": [
    "Binv = mat_B.inv()   # Calculate inverse of 'B' through 'matrix_name.inv()'\n",
    "\n",
    "display(Binv)        # Display inverse of 'B'"
   ]
  },
  {
   "cell_type": "code",
   "execution_count": 10,
   "metadata": {},
   "outputs": [
    {
     "data": {
      "text/latex": [
       "$\\displaystyle \\left[\\begin{matrix}1 & 0 & 0 & 0\\\\0 & 1 & 0 & 0\\\\0 & 0 & 1 & 0\\\\0 & 0 & 0 & 1\\end{matrix}\\right]$"
      ],
      "text/plain": [
       "Matrix([\n",
       "[1, 0, 0, 0],\n",
       "[0, 1, 0, 0],\n",
       "[0, 0, 1, 0],\n",
       "[0, 0, 0, 1]])"
      ]
     },
     "metadata": {},
     "output_type": "display_data"
    },
    {
     "data": {
      "text/latex": [
       "$\\displaystyle \\left[\\begin{matrix}1 & 0 & 0 & 0\\\\0 & 1 & 0 & 0\\\\0 & 0 & 1 & 0\\\\0 & 0 & 0 & 1\\end{matrix}\\right]$"
      ],
      "text/plain": [
       "Matrix([\n",
       "[1, 0, 0, 0],\n",
       "[0, 1, 0, 0],\n",
       "[0, 0, 1, 0],\n",
       "[0, 0, 0, 1]])"
      ]
     },
     "metadata": {},
     "output_type": "display_data"
    }
   ],
   "source": [
    "display(B*Binv, Binv*B)  # Multiply 'B' with 'B^{-1}' in both orders and display the result"
   ]
  },
  {
   "cell_type": "markdown",
   "metadata": {},
   "source": [
    "## $\\color{ForestGreen}{\\text{Eigenvalues and Eigenvectors}}$"
   ]
  },
  {
   "cell_type": "code",
   "execution_count": 11,
   "metadata": {},
   "outputs": [
    {
     "name": "stdout",
     "output_type": "stream",
     "text": [
      "Eigenvalues of A: [2.         0.26794919 3.73205081] \n",
      "\n",
      "Eigenvectors of A:\n",
      " [[ 0.         -0.52544259 -0.57310042]\n",
      " [ 1.         -0.82880701 -0.24222074]\n",
      " [ 0.          0.19232534 -0.78286973]]\n"
     ]
    }
   ],
   "source": [
    "A = np.array([[1, 0, 2], [-2, 2, 2], [1, 0, 3]])   # Define matrix 'A'\n",
    "\n",
    "# 'linalg.eig(matrix_name)' calculates both eigenvalues and eigenvectors: \n",
    "\n",
    "print('Eigenvalues of A:', np.linalg.eig(A)[0], '\\n')    # 'linalg.eig(A)[0]' gives eigenvalues\n",
    "print('Eigenvectors of A:\\n', np.linalg.eig(A)[1])       # 'linalg.eig(A)[1]' gives eigenvectors "
   ]
  },
  {
   "cell_type": "code",
   "execution_count": 12,
   "metadata": {},
   "outputs": [
    {
     "data": {
      "text/plain": [
       "array([2.        , 0.26794919, 3.73205081])"
      ]
     },
     "execution_count": 12,
     "metadata": {},
     "output_type": "execute_result"
    }
   ],
   "source": [
    "# You can also use '.eigenvals(matrix_name)' in numpy to calculate eigenvalues\n",
    "\n",
    "np.linalg.eigvals(A)"
   ]
  },
  {
   "cell_type": "code",
   "execution_count": 13,
   "metadata": {},
   "outputs": [
    {
     "data": {
      "text/plain": [
       "{2: 1, 2 - sqrt(3): 1, sqrt(3) + 2: 1}"
      ]
     },
     "execution_count": 13,
     "metadata": {},
     "output_type": "execute_result"
    }
   ],
   "source": [
    "# Through 'sympy'\n",
    "\n",
    "mat_A = Matrix(A)   # Define matrix A\n",
    "\n",
    "mat_A.eigenvals()   # Calculating eigenvalues through 'sympy'"
   ]
  },
  {
   "cell_type": "code",
   "execution_count": 14,
   "metadata": {},
   "outputs": [
    {
     "data": {
      "text/plain": [
       "[(2,\n",
       "  1,\n",
       "  [Matrix([\n",
       "   [0],\n",
       "   [1],\n",
       "   [0]])]),\n",
       " (2 - sqrt(3),\n",
       "  1,\n",
       "  [Matrix([\n",
       "   [               -2/(-1 + sqrt(3))],\n",
       "   [-(-2*sqrt(3) - 2)/(-3 + sqrt(3))],\n",
       "   [                               1]])]),\n",
       " (sqrt(3) + 2,\n",
       "  1,\n",
       "  [Matrix([\n",
       "   [             -2/(-sqrt(3) - 1)],\n",
       "   [-(2 - 2*sqrt(3))/(sqrt(3) + 3)],\n",
       "   [                             1]])])]"
      ]
     },
     "execution_count": 14,
     "metadata": {},
     "output_type": "execute_result"
    }
   ],
   "source": [
    "mat_A.eigenvects()  # Calculating eigenvalues and eigenvectors simultaneously in 'sympy' "
   ]
  },
  {
   "cell_type": "code",
   "execution_count": null,
   "metadata": {},
   "outputs": [],
   "source": []
  }
 ],
 "metadata": {
  "kernelspec": {
   "display_name": "Python 3",
   "language": "python",
   "name": "python3"
  },
  "language_info": {
   "codemirror_mode": {
    "name": "ipython",
    "version": 3
   },
   "file_extension": ".py",
   "mimetype": "text/x-python",
   "name": "python",
   "nbconvert_exporter": "python",
   "pygments_lexer": "ipython3",
   "version": "3.9.1"
  }
 },
 "nbformat": 4,
 "nbformat_minor": 4
}
